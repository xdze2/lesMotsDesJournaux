{
 "metadata": {
  "name": "",
  "signature": "sha256:9d007cb12f46cc6e032db5fb111480baf696005a0bc18eef6db0f826ae779813"
 },
 "nbformat": 3,
 "nbformat_minor": 0,
 "worksheets": [
  {
   "cells": [
    {
     "cell_type": "code",
     "collapsed": false,
     "input": [
      "import json\n",
      "import re"
     ],
     "language": "python",
     "metadata": {},
     "outputs": [],
     "prompt_number": 527
    },
    {
     "cell_type": "code",
     "collapsed": false,
     "input": [
      "def printSorted(dico, n = 200 ):\n",
      "    myDico_sorted = sorted(dico.iteritems(), key = lambda x:x[1], reverse=True)\n",
      "    for m, c in myDico_sorted[:n]:\n",
      "        print '%s (%0.2f) ' % (m, c),"
     ],
     "language": "python",
     "metadata": {},
     "outputs": [],
     "prompt_number": 528
    },
    {
     "cell_type": "code",
     "collapsed": false,
     "input": [
      "from HTMLParser import HTMLParser\n",
      "\n",
      "class MLStripper(HTMLParser):\n",
      "    def __init__(self):\n",
      "        self.reset()\n",
      "        self.fed = []\n",
      "    def handle_data(self, d):\n",
      "        self.fed.append(d)\n",
      "    def get_data(self):\n",
      "        return ''.join(self.fed)\n",
      "\n",
      "def strip_tags(html):\n",
      "    s = MLStripper()\n",
      "    s.feed(html)\n",
      "    return s.get_data()"
     ],
     "language": "python",
     "metadata": {},
     "outputs": [],
     "prompt_number": 529
    },
    {
     "cell_type": "code",
     "collapsed": false,
     "input": [
      "# Load \"liste des mots\"\n",
      "import codecs\n",
      "\n",
      "filename = './data_dico/liste_mots_utf8.txt'\n",
      "# cf: http://www.lexique.org/listes/liste_mots.txt\n",
      "# load\n",
      "with codecs.open(filename, encoding='utf-8') as f:\n",
      "    listemots = f.readlines()\n",
      "  \n",
      "for i, mot in enumerate( listemots ):\n",
      "    a = mot.split('\\t')\n",
      "    freq = float(a[1])\n",
      "    word = a[0]\n",
      "    listemots[i] = (word, freq)\n",
      "\n",
      "dicoFr = { x[0]:x[1] for x in listemots }"
     ],
     "language": "python",
     "metadata": {},
     "outputs": [],
     "prompt_number": 530
    },
    {
     "cell_type": "code",
     "collapsed": false,
     "input": [
      "def cleanAndSplit( texte ):\n",
      "    #texte = texte.lower()\n",
      "\n",
      "    myRe = u\"[:\u2019',.\u00ab\u00bb?! ()\\[\\]\u2026\u201d\\\"0-9]+\"\n",
      "    texte = re.sub(myRe, u' ', texte)\n",
      "    texte = texte.replace(u'\\xa0', u' ')\n",
      "    texte = texte.replace(u'-', u' ')\n",
      "    L = texte.split(' ')\n",
      "    \n",
      "    for i, mot in enumerate( L ):\n",
      "        if mot.lower() in dicoFr:\n",
      "            L[i] = mot.lower()   \n",
      "            \n",
      "    return L"
     ],
     "language": "python",
     "metadata": {},
     "outputs": [],
     "prompt_number": 531
    },
    {
     "cell_type": "code",
     "collapsed": false,
     "input": [
      "# load\n",
      "filename = './data_rss/rss_save_leMonde.json'\n",
      "\n",
      "loaded_data = json.loads(open(filename).read())\n",
      "print 'nbr articles: ', len( loaded_data )\n",
      "\n",
      "# Work with DATE\n",
      "from datetime import datetime\n",
      "\n",
      "def jour_de_la_semaine(i):\n",
      "    d = ['lundi', 'mardi', 'mercredi', 'jeudi', 'vendredi', 'samedi', 'dimanche']\n",
      "    return d[i]\n",
      "    \n",
      "for k, post in loaded_data.iteritems():\n",
      "    txt_date = post['pubDate']\n",
      "    txt_date = txt_date.replace(u'GMT', u'')\n",
      "    txt_date = re.sub('\\+[0-9]{4}', u'', txt_date) # !! not the real hour ..\n",
      "    txt_date = re.sub(r'\\s+$', '', txt_date)\n",
      "    \n",
      "    date = datetime.strptime(txt_date, '%a,  %d %b %Y %H:%M:%S')\n",
      "    loaded_data[k]['date'] = date"
     ],
     "language": "python",
     "metadata": {},
     "outputs": [
      {
       "output_type": "stream",
       "stream": "stdout",
       "text": [
        "nbr articles:  642\n"
       ]
      }
     ],
     "prompt_number": 532
    },
    {
     "cell_type": "code",
     "collapsed": false,
     "input": [
      "words_count = {}\n",
      "\n",
      "for post in loaded_data.itervalues():\n",
      "    title = post['title']\n",
      "    description = post['description']\n",
      "    if description:\n",
      "        description = strip_tags( description )\n",
      "    else:\n",
      "        description = ''\n",
      "        \n",
      "    L = cleanAndSplit( title+' '+description ) \n",
      "    \n",
      "    for mot in L:\n",
      "        if words_count.has_key( mot ):\n",
      "            words_count[mot ] += 1\n",
      "        elif len( mot ) > 2:\n",
      "            words_count[mot ] = 1\n",
      "\n",
      "n_mots_globaux = len( words_count )\n",
      "\n",
      "print 'nbr mots: ', n_mots_globaux"
     ],
     "language": "python",
     "metadata": {},
     "outputs": [
      {
       "output_type": "stream",
       "stream": "stdout",
       "text": [
        "nbr mots:  5487\n"
       ]
      }
     ],
     "prompt_number": 533
    },
    {
     "cell_type": "code",
     "collapsed": false,
     "input": [
      "printSorted(words_count, 100)"
     ],
     "language": "python",
     "metadata": {},
     "outputs": [
      {
       "output_type": "stream",
       "stream": "stdout",
       "text": [
        "les (489.00)  des (439.00)  une (242.00)  pour (231.00)  dans (210.00)  sur (159.00)  est (150.00)  par (138.00)  qui (137.00)  que (99.00)  son (92.00)  apr\u00e8s (76.00)  ans (76.00)  ont (72.00)  \u00e9t\u00e9 (70.00)  contre (70.00)  pas (66.00)  mars (63.00)  France (62.00)  aux (59.00)  plus (59.00)  avec (56.00)  deux (55.00)  travail (54.00)  monde (53.00)  pr\u00e9sident (47.00)  entre (47.00)  ministre (46.00)  loi (45.00)  lors (42.00)  sont (42.00)  fran\u00e7ais (41.00)  ses (39.00)  fait (37.00)  pays (37.00)  projet (34.00)  avoir (34.00)  premier (33.00)  migrants (32.00)  selon (31.00)  \u00eatre (31.00)  paris (31.00)  avait (30.00)  cette (30.00)  cinq (30.00)  leur (29.00)  dimanche (29.00)  ancien (29.00)  ligue (29.00)  mort (28.00)  depuis (27.00)  Turquie (27.00)  r\u00e9fugi\u00e9s (27.00)  guerre (26.00)  face (26.00)  Syrie (26.00)  Etat (26.00)  moins (23.00)  mardi (23.00)  sans (22.00)  vendredi (22.00)  Etats (22.00)  Abdeslam (21.00)  nord (21.00)  premi\u00e8re (21.00)  \u00e9tait (21.00)  avant (21.00)  lundi (20.00)  attentats (20.00)  politique (20.00)  mais (20.00)  nouveau (20.00)  quatre (20.00)  journ\u00e9e (20.00)  mercredi (20.00)  trois (20.00)  justice (19.00)  d\u00e9but (19.00)  elle (19.00)  fran\u00e7aise (19.00)  six (19.00)  novembre (18.00)  samedi (18.00)  Bruxelles (18.00)  homme (18.00)  Khomri (18.00)  attaque (18.00)  jeudi (18.00)  conflit (17.00)  pr\u00e8s (17.00)  attentat (17.00)  r\u00e9forme (17.00)  am\u00e9ricaine (17.00)  jean (17.00)  groupe (17.00)  finale (17.00)  Salah (17.00)  syriens (16.00)  fin (16.00)  toujours (16.00) \n"
       ]
      }
     ],
     "prompt_number": 534
    },
    {
     "cell_type": "heading",
     "level": 2,
     "metadata": {},
     "source": [
      "Norme avec DicoFr"
     ]
    },
    {
     "cell_type": "code",
     "collapsed": false,
     "input": [
      "black_liste =  ['lundi', 'mardi', 'mercredi', 'jeudi', 'vendredi' ]\n",
      "black_liste.extend( ['samedi', 'dimanche', 'jusqu', 'aujourd', 'France', 'mars', 'week', 'end', 'Etat', 'Etats'] )"
     ],
     "language": "python",
     "metadata": {},
     "outputs": [],
     "prompt_number": 535
    },
    {
     "cell_type": "code",
     "collapsed": false,
     "input": [
      "words_count_dicoFr = {}\n",
      "notInDicoFr = {}\n",
      "for m, c in words_count.iteritems():\n",
      "    if m in black_liste :\n",
      "        continue\n",
      "    elif m in dicoFr : # and c*n_mots > 1:\n",
      "        score = float( c )/float( n_mots_globaux )  / (dicoFr[m]*1e-6)\n",
      "        words_count_dicoFr[m] = score\n",
      "    else:\n",
      "        score =  c \n",
      "        notInDicoFr[m] = score\n",
      "        \n",
      "words_sorted_dicoFr = sorted(words_count_dicoFr.iteritems(), key = lambda x:x[1], reverse=True)\n",
      "notInDicoFr_sorted = sorted(notInDicoFr.iteritems(), key = lambda x:x[1], reverse=True)"
     ],
     "language": "python",
     "metadata": {},
     "outputs": [],
     "prompt_number": 536
    },
    {
     "cell_type": "code",
     "collapsed": false,
     "input": [
      "printSorted(words_count_dicoFr, 100)"
     ],
     "language": "python",
     "metadata": {},
     "outputs": [
      {
       "output_type": "stream",
       "stream": "stdout",
       "text": [
        "dopage (30374.83)  perquisitionn\u00e9 (24299.86)  migratoire (18224.90)  crash (18224.90)  ivoirienne (12149.93)  mails (12149.93)  airbus (12149.93)  chiffrement (12149.93)  migrants (10055.11)  extradition (9112.45)  affronteront (9112.45)  dessinatrice (8632.85)  p\u00e9dophilie (8411.49)  technologies (7289.96)  s\u00e9lectionneur (7289.96)  interceptions (6074.97)  embauches (6074.97)  islamistes (6074.97)  attractivit\u00e9 (6074.97)  bazookas (6074.97)  limogeage (6074.97)  dysfonctionnements (6074.97)  escape (6074.97)  soignants (6074.97)  politiser (6074.97)  opposante (6074.97)  centristes (6074.97)  r\u00e9cusent (6074.97)  relanc\u00e9es (6074.97)  b\u00e9atifi\u00e9e (6074.97)  shows (6074.97)  impuls\u00e9 (6074.97)  pal\u00e9ontologue (6074.97)  axa (6074.97)  microc\u00e9phalie (6074.97)  vulgarisent (6074.97)  transalpins (6074.97)  dop\u00e9es (6074.97)  start (6074.97)  centriste (6074.97)  questionnements (6074.97)  exemplarit\u00e9 (6074.97)  astrophysicien (6074.97)  remisent (6074.97)  interpell\u00e9es (6074.97)  dopant (6074.97)  buteur (6074.97)  p\u00e9naux (6074.97)  r\u00e9trop\u00e9dalage (6074.97)  isra\u00e9liennes (6074.97)  cumulable (6074.97)  voteront (6074.97)  revivez (6074.97)  volleyeurs (6074.97)  spiegel (6074.97)  interbancaire (6074.97)  r\u00e9\u00e9criture (6074.97)  saoudiennes (6074.97)  sponsors (6074.97)  sexistes (6074.97)  pl\u00e9biscitent (6074.97)  quinquennat (6074.97)  zooms (6074.97)  pesticides (3836.82)  surf (3836.82)  tch\u00e9tch\u00e8ne (3644.98)  congolais (3644.98)  pris\u00e9s (3037.48)  ill\u00e9gaux (3037.48)  ivoirien (3037.48)  requalification (3037.48)  talonneur (3037.48)  triplex (3037.48)  cibl\u00e9s (3037.48)  arrangeur (3037.48)  repoussantes (3037.48)  miniaturiser (3037.48)  r\u00e9alisatrice (3037.48)  d\u00e9rapent (3037.48)  cor\u00e9enne (3037.48)  h\u00e9berg\u00e9es (3037.48)  consommons (3037.48)  schizophr\u00e9nique (3037.48)  pi\u00e9tonne (3037.48)  tutrice (3037.48)  realpolitik (3037.48)  libyenne (3037.48)  infertilit\u00e9 (3037.48)  derby (3037.48)  affrontera (3037.48)  affid\u00e9 (3037.48)  investitures (3037.48)  conforte (3037.48)  birmane (3037.48)  \u00e9ventration (3037.48)  concerneront (3037.48)  blanchiment (2877.62)  cor\u00e9en (2803.83)  officialis\u00e9 (2803.83)  palestiniens (2803.83) \n"
       ]
      }
     ],
     "prompt_number": 537
    },
    {
     "cell_type": "code",
     "collapsed": true,
     "input": [
      "printSorted(notInDicoFr)"
     ],
     "language": "python",
     "metadata": {},
     "outputs": [
      {
       "output_type": "stream",
       "stream": "stdout",
       "text": [
        "Turquie (27.00)  Syrie (26.00)  Abdeslam (21.00)  Khomri (18.00)  Bruxelles (18.00)  Salah (17.00)  euros (15.00)  Valls (13.00)  djihadistes (13.00)  PSG (13.00)  djihadiste (11.00)  Lyon (10.00)  Trump (10.00)  Ankara (10.00)  Merkel (9.00)  Mandel (9.00)  Cor\u00e9e (8.00)  Allemagne (8.00)  Marseille (8.00)  Madrid (8.00)  Bouagga (8.00)  Yasmine (8.00)  Michel (8.00)  Lula (8.00)  Bassam (7.00)  Europe (7.00)  Google (7.00)  Synthe (7.00)  SNCF (7.00)  Tunisie (7.00)  Macron (6.00)  Russie (6.00)  #Syrie (6.00)  Clinton (6.00)  Gen\u00e8ve (6.00)  Apple (6.00)  Fran\u00e7ois (6.00)  Bayern (6.00)  Atletico (6.00)  Barbarin (6.00)  Donald (6.00)  Manchester (6.00)  City (6.00)  c\u0153ur (6.00)  Ecosse (6.00)  Sedol (5.00)  biodiversit\u00e9 (5.00)  Benzema (5.00)  Alg\u00e9rie (5.00)  Rousseff (5.00)  Gr\u00e8ce (5.00)  Nicolas (5.00)  FIFA (5.00)  drones (5.00)  Bardo (5.00)  Angela (5.00)  internautes (5.00)  Lagard\u00e8re (5.00)  Bernard (5.00)  Washington (5.00)  Twitter (5.00)  Pen (5.00)  Info (5.00)  Floride (5.00)  Lee (5.00)  SXSW (5.00)  post (5.00)  Burundi (5.00)  Espagne (4.00)  chanceli\u00e8re (4.00)  George (4.00)  Libye (4.00)  Australie (4.00)  Savtchenko (4.00)  Sharapova (4.00)  Denis (4.00)  Kampf (4.00)  San (4.00)  Emmanuel (4.00)  Barack (4.00)  Barcelone (4.00)  Lille (4.00)  Rio (4.00)  Nadejda (4.00)  Forest (4.00)  Vincent (4.00)  CDD (4.00)  Molenbeek (4.00)  Internet (4.00)  Sarkozy (4.00)  Juventus (4.00)  Italie (4.00)  \u0153uvre (4.00)  Facebook (4.00)  Dilma (4.00)  Zaman (4.00)  Irlande (4.00)  Chelsea (4.00)  ONU (4.00)  FBI (4.00)  meldonium (4.00)  Isra\u00ebl (4.00)  Gardane (4.00)  Obama (4.00)  Ecole (3.00)  Euro (3.00)  Brexit (3.00)  Zinsou (3.00)  Istanbul (3.00)  Sanders (3.00)  Loire (3.00)  Toulouse (3.00)  CFDT (3.00)  ONG (3.00)  Zika (3.00)  Alphago (3.00)  DJI (3.00)  traders (3.00)  Afrique (3.00)  Sao (3.00)  AlphaGo (3.00)  Yvelines (3.00)  Capgemini (3.00)  Birmanie (3.00)  Foll (3.00)  Niger (3.00)  ExoMars (3.00)  Volkswagen (3.00)  Myriam (3.00)  Qaida (3.00)  Paulo (3.00)  CRIF (3.00)  Htin (3.00)  n\u00e9onicotino\u00efdes (3.00)  Guy (3.00)  Idlib (3.00)  antidopage (3.00)  Biathlon (3.00)  PSV (3.00)  Mohamed (3.00)  Kyaw (3.00)  Turin (3.00)  Hillary (3.00)  Erasmus (3.00)  Arnaud (3.00)  Aviv (3.00)  St\u00e9phane (3.00)  Tuesday (3.00)  Merah (3.00)  drone (3.00)  Texas (3.00)  Wikip\u00e9dia (3.00)  Ayrault (3.00)  Austin (3.00)  Beatles (3.00)  Tunis (3.00)  D\u00e9mare (3.00)  Edouard (3.00)  informatiques (3.00)  Garland (3.00)  Delphine (2.00)  EDF (2.00)  Riadh (2.00)  Kyi (2.00)  Novak (2.00)  PlayStation (2.00)  Didier (2.00)  Oslo (2.00)  Mossoul (2.00)  Balkans (2.00)  Eindhoven (2.00)  Centrafrique (2.00)  finaliser (2.00)  Issoufou (2.00)  Antilles (2.00)  Arabie (2.00)  Filiu (2.00)  Jong (2.00)  Nigeria (2.00)  York (2.00)  Editorial (2.00)  Egypte (2.00)  Kurdistan (2.00)  Phantom (2.00)  Preynat (2.00)  Nguesso (2.00)  XIXe (2.00)  Alexis (2.00)  Abdelkader (2.00)  Saidnaya (2.00)  Bastia (2.00)  Fukushima (2.00)  Breivik (2.00)  UDI (2.00)  McLaren (2.00)  Ivoiriens (2.00)  Essonne (2.00)  Chabab (2.00)  tweets (2.00)  Michael (2.00) \n"
       ]
      }
     ],
     "prompt_number": 538
    },
    {
     "cell_type": "code",
     "collapsed": false,
     "input": [
      "#\u00a0norme: max not in dico = max in dico\n",
      "\n",
      "max_notInDico = notInDicoFr_sorted[0][1] \n",
      "max_inDico = words_sorted_dicoFr[0][1] \n",
      "\n",
      "print max_notInDico, max_inDico"
     ],
     "language": "python",
     "metadata": {},
     "outputs": [
      {
       "output_type": "stream",
       "stream": "stdout",
       "text": [
        "27 30374.8253448\n"
       ]
      }
     ],
     "prompt_number": 539
    },
    {
     "cell_type": "code",
     "collapsed": false,
     "input": [
      "#\u00a0Merge\n",
      "myDico = {}\n",
      "\n",
      "for mot, c in notInDicoFr.iteritems():\n",
      "    myDico[mot] = float(c) / float( max_notInDico *3  )\n",
      "    \n",
      "for mot, c in words_count_dicoFr.iteritems():\n",
      "    myDico[mot] = float(c) / float( max_inDico )"
     ],
     "language": "python",
     "metadata": {},
     "outputs": [],
     "prompt_number": 540
    },
    {
     "cell_type": "code",
     "collapsed": false,
     "input": [
      "printSorted( myDico )"
     ],
     "language": "python",
     "metadata": {},
     "outputs": [
      {
       "output_type": "stream",
       "stream": "stdout",
       "text": [
        "dopage (1.00)  perquisitionn\u00e9 (0.80)  migratoire (0.60)  crash (0.60)  chiffrement (0.40)  mails (0.40)  ivoirienne (0.40)  airbus (0.40)  Turquie (0.33)  migrants (0.33)  Syrie (0.32)  extradition (0.30)  affronteront (0.30)  dessinatrice (0.28)  p\u00e9dophilie (0.28)  Abdeslam (0.26)  technologies (0.24)  s\u00e9lectionneur (0.24)  Bruxelles (0.22)  Khomri (0.22)  Salah (0.21)  limogeage (0.20)  r\u00e9cusent (0.20)  pal\u00e9ontologue (0.20)  transalpins (0.20)  questionnements (0.20)  astrophysicien (0.20)  interpell\u00e9es (0.20)  p\u00e9naux (0.20)  cumulable (0.20)  start (0.20)  saoudiennes (0.20)  islamistes (0.20)  centristes (0.20)  shows (0.20)  vulgarisent (0.20)  dop\u00e9es (0.20)  centriste (0.20)  relanc\u00e9es (0.20)  impuls\u00e9 (0.20)  sexistes (0.20)  isra\u00e9liennes (0.20)  interbancaire (0.20)  quinquennat (0.20)  soignants (0.20)  politiser (0.20)  b\u00e9atifi\u00e9e (0.20)  embauches (0.20)  volleyeurs (0.20)  buteur (0.20)  voteront (0.20)  revivez (0.20)  interceptions (0.20)  spiegel (0.20)  r\u00e9trop\u00e9dalage (0.20)  zooms (0.20)  r\u00e9\u00e9criture (0.20)  bazookas (0.20)  escape (0.20)  opposante (0.20)  pl\u00e9biscitent (0.20)  axa (0.20)  attractivit\u00e9 (0.20)  microc\u00e9phalie (0.20)  exemplarit\u00e9 (0.20)  dysfonctionnements (0.20)  sponsors (0.20)  remisent (0.20)  dopant (0.20)  euros (0.19)  Valls (0.16)  PSG (0.16)  djihadistes (0.16)  djihadiste (0.14)  pesticides (0.13)  surf (0.13)  Trump (0.12)  Lyon (0.12)  Ankara (0.12)  congolais (0.12)  tch\u00e9tch\u00e8ne (0.12)  Mandel (0.11)  Merkel (0.11)  cibl\u00e9s (0.10)  arrangeur (0.10)  r\u00e9alisatrice (0.10)  libyenne (0.10)  infertilit\u00e9 (0.10)  derby (0.10)  affrontera (0.10)  \u00e9ventration (0.10)  triplex (0.10)  requalification (0.10)  talonneur (0.10)  repoussantes (0.10)  consommons (0.10)  schizophr\u00e9nique (0.10)  conforte (0.10)  concerneront (0.10)  investitures (0.10)  miniaturiser (0.10)  pi\u00e9tonne (0.10)  tutrice (0.10)  pris\u00e9s (0.10)  ill\u00e9gaux (0.10)  ivoirien (0.10)  affid\u00e9 (0.10)  h\u00e9berg\u00e9es (0.10)  d\u00e9rapent (0.10)  cor\u00e9enne (0.10)  realpolitik (0.10)  birmane (0.10)  Lula (0.10)  Michel (0.10)  Allemagne (0.10)  Bouagga (0.10)  Marseille (0.10)  Madrid (0.10)  Yasmine (0.10)  Cor\u00e9e (0.10)  blanchiment (0.09)  palestiniens (0.09)  antiterroriste (0.09)  cor\u00e9en (0.09)  officialis\u00e9 (0.09)  d\u00e9cryptage (0.09)  Bassam (0.09)  Google (0.09)  SNCF (0.09)  Europe (0.09)  Tunisie (0.09)  Synthe (0.09)  syriens (0.08)  embauchent (0.07)  surtaxe (0.07)  palestinienne (0.07)  kurde (0.07)  kurdes (0.07)  Barbarin (0.07)  Manchester (0.07)  Apple (0.07)  Macron (0.07)  Atletico (0.07)  Ecosse (0.07)  Clinton (0.07)  c\u0153ur (0.07)  Donald (0.07)  Bayern (0.07)  Fran\u00e7ois (0.07)  #Syrie (0.07)  Gen\u00e8ve (0.07)  City (0.07)  Russie (0.07)  pr\u00e9sidentielle (0.07)  invincibilit\u00e9 (0.06)  Angela (0.06)  Floride (0.06)  biodiversit\u00e9 (0.06)  drones (0.06)  Lee (0.06)  post (0.06)  internautes (0.06)  Bernard (0.06)  SXSW (0.06)  Twitter (0.06)  Sedol (0.06)  Alg\u00e9rie (0.06)  Lagard\u00e8re (0.06)  Washington (0.06)  Rousseff (0.06)  FIFA (0.06)  Benzema (0.06)  Nicolas (0.06)  Bardo (0.06)  Pen (0.06)  Info (0.06)  Burundi (0.06)  Gr\u00e8ce (0.06)  controvers\u00e9 (0.06)  islamique (0.06)  lift (0.06)  d\u00e9connect\u00e9 (0.06)  p\u00e9renne (0.06)  th\u00e9matiques (0.06)  d\u00e9verrouiller (0.06)  protestataires (0.06)  contournement (0.06)  expulsions (0.06)  anticapitaliste (0.06)  annulations (0.06)  rallong\u00e9e (0.06)  connect\u00e9es (0.06)  accompagneront (0.06)  rachats (0.06)  patronats (0.06)  extrad\u00e9 (0.06)  soudanaise (0.06)  enlumineur (0.06)  gaza (0.06)  t\u00e9l\u00e9visions (0.06) \n"
       ]
      }
     ],
     "prompt_number": 541
    },
    {
     "cell_type": "heading",
     "level": 3,
     "metadata": {},
     "source": [
      "jour par jour"
     ]
    },
    {
     "cell_type": "code",
     "collapsed": false,
     "input": [
      "mois = u'janvier f\u00e9vrier mars avril mai juin juillet ao\u00fbt septembre octobre novembre d\u00e9cembre'\n",
      "mois = mois.split(' ')\n",
      "def writeDay( d ):\n",
      "    i = d.weekday()\n",
      "    jour = str( d.day )\n",
      "    if jour == '1': jour = '1er'\n",
      "    return jour_de_la_semaine(i)+' '+jour+' '+mois[d.month]"
     ],
     "language": "python",
     "metadata": {},
     "outputs": [],
     "prompt_number": 542
    },
    {
     "cell_type": "code",
     "collapsed": false,
     "input": [
      "posts_by_day = {}\n",
      "for post in loaded_data.itervalues():\n",
      "    d = post['date'].date()\n",
      "   \n",
      "    title = post['title']\n",
      "    description = post['description']\n",
      "    if description:\n",
      "        description = strip_tags( description )\n",
      "    else:\n",
      "        description = ''\n",
      "    texte = title+' '+description\n",
      "    \n",
      "    if d not in posts_by_day:\n",
      "        posts_by_day[d] = [ texte ]\n",
      "    else:\n",
      "        posts_by_day[d].append( texte )"
     ],
     "language": "python",
     "metadata": {},
     "outputs": [],
     "prompt_number": 543
    },
    {
     "cell_type": "markdown",
     "metadata": {},
     "source": [
      "le nombre de mot par jour est pas trop significatif ..."
     ]
    },
    {
     "cell_type": "code",
     "collapsed": false,
     "input": [
      "count_by_days = {}\n",
      "for day, textes in posts_by_day.iteritems():\n",
      "    count_day = {}\n",
      "    for titre in textes:\n",
      "        L = cleanAndSplit( titre ) \n",
      "\n",
      "        for mot in L:\n",
      "            if mot in myDico:\n",
      "                count_day[mot] = myDico[mot]\n",
      "                \n",
      "    count_by_days[day] = count_day"
     ],
     "language": "python",
     "metadata": {},
     "outputs": [],
     "prompt_number": 544
    },
    {
     "cell_type": "code",
     "collapsed": false,
     "input": [
      "for k in count_by_days.iterkeys():\n",
      "    print '\\n// '+writeDay( k )+' //'\n",
      "    printSorted( count_by_days[k], 30 )"
     ],
     "language": "python",
     "metadata": {},
     "outputs": [
      {
       "output_type": "stream",
       "stream": "stdout",
       "text": [
        "\n",
        "// jeudi 10 avril //\n",
        "dopage (1.00)  Turquie (0.33)  migrants (0.33)  dessinatrice (0.28)  Khomri (0.22)  volleyeurs (0.20)  buteur (0.20)  embauches (0.20)  opposante (0.20)  euros (0.19)  Valls (0.16)  PSG (0.16)  djihadistes (0.16)  djihadiste (0.14)  tch\u00e9tch\u00e8ne (0.12)  Merkel (0.11)  Mandel (0.11)  repoussantes (0.10)  triplex (0.10)  d\u00e9rapent (0.10)  tutrice (0.10)  birmane (0.10)  Cor\u00e9e (0.10)  Michel (0.10)  Lula (0.10)  blanchiment (0.09)  Google (0.09)  Synthe (0.09)  syriens (0.08)  surtaxe (0.07)  \n",
        "// mercredi 16 avril //\n",
        "dopage (1.00)  migratoire (0.60)  chiffrement (0.40)  Turquie (0.33)  migrants (0.33)  Syrie (0.32)  dessinatrice (0.28)  p\u00e9dophilie (0.28)  technologies (0.24)  Bruxelles (0.22)  Khomri (0.22)  sponsors (0.20)  pl\u00e9biscitent (0.20)  start (0.20)  interpell\u00e9es (0.20)  islamistes (0.20)  limogeage (0.20)  zooms (0.20)  euros (0.19)  Lyon (0.12)  Ankara (0.12)  Trump (0.12)  Mandel (0.11)  Merkel (0.11)  \u00e9ventration (0.10)  consommons (0.10)  Allemagne (0.10)  Bouagga (0.10)  Yasmine (0.10)  Michel (0.10)  \n",
        "// vendredi 11 avril //\n",
        "migrants (0.33)  Syrie (0.32)  dessinatrice (0.28)  s\u00e9lectionneur (0.24)  Khomri (0.22)  voteront (0.20)  astrophysicien (0.20)  remisent (0.20)  politiser (0.20)  centriste (0.20)  Valls (0.16)  Trump (0.12)  Mandel (0.11)  realpolitik (0.10)  h\u00e9berg\u00e9es (0.10)  concerneront (0.10)  Cor\u00e9e (0.10)  Allemagne (0.10)  Lula (0.10)  Bouagga (0.10)  Yasmine (0.10)  Europe (0.09)  Synthe (0.09)  Apple (0.07)  Gen\u00e8ve (0.07)  Donald (0.07)  Ecosse (0.07)  pr\u00e9sidentielle (0.07)  Benzema (0.06)  drones (0.06)  \n",
        "// jeudi 17 avril //\n",
        "Turquie (0.33)  migrants (0.33)  dessinatrice (0.28)  p\u00e9dophilie (0.28)  s\u00e9lectionneur (0.24)  Bruxelles (0.22)  impuls\u00e9 (0.20)  spiegel (0.20)  euros (0.19)  Valls (0.16)  surf (0.13)  Lyon (0.12)  Trump (0.12)  Ankara (0.12)  Merkel (0.11)  Mandel (0.11)  cor\u00e9enne (0.10)  Bouagga (0.10)  Yasmine (0.10)  Lula (0.10)  Marseille (0.10)  blanchiment (0.09)  palestiniens (0.09)  kurde (0.07)  Macron (0.07)  Barbarin (0.07)  Clinton (0.07)  Donald (0.07)  Ecosse (0.07)  Russie (0.07)  \n",
        "// lundi 7 avril //\n",
        "dopage (1.00)  crash (0.60)  Turquie (0.33)  Bruxelles (0.22)  Khomri (0.22)  cumulable (0.20)  r\u00e9\u00e9criture (0.20)  dopant (0.20)  euros (0.19)  Valls (0.16)  djihadistes (0.16)  Trump (0.12)  Merkel (0.11)  libyenne (0.10)  Marseille (0.10)  Michel (0.10)  officialis\u00e9 (0.09)  d\u00e9cryptage (0.09)  Google (0.09)  Synthe (0.09)  SNCF (0.09)  Tunisie (0.09)  syriens (0.08)  c\u0153ur (0.07)  Gen\u00e8ve (0.07)  Ecosse (0.07)  Gr\u00e8ce (0.06)  islamique (0.06)  participera (0.06)  syrienne (0.05)  \n",
        "// vendredi 18 avril //\n",
        "perquisitionn\u00e9 (0.80)  migratoire (0.60)  mails (0.40)  Turquie (0.33)  migrants (0.33)  Syrie (0.32)  extradition (0.30)  dessinatrice (0.28)  Abdeslam (0.26)  Bruxelles (0.22)  Salah (0.21)  exemplarit\u00e9 (0.20)  dop\u00e9es (0.20)  centristes (0.20)  Valls (0.16)  PSG (0.16)  djihadiste (0.14)  pesticides (0.13)  Trump (0.12)  Ankara (0.12)  Merkel (0.11)  Mandel (0.11)  infertilit\u00e9 (0.10)  affrontera (0.10)  Yasmine (0.10)  Marseille (0.10)  Madrid (0.10)  Bouagga (0.10)  Lula (0.10)  blanchiment (0.09)  \n",
        "// dimanche 13 avril //\n",
        "chiffrement (0.40)  affronteront (0.30)  Lyon (0.12)  Ankara (0.12)  Merkel (0.11)  Allemagne (0.10)  Bassam (0.09)  c\u0153ur (0.07)  Apple (0.07)  SXSW (0.06)  islamique (0.06)  FBI (0.05)  revendiqu\u00e9 (0.05)  ligue (0.04)  Wikip\u00e9dia (0.04)  Qaida (0.04)  Yvelines (0.04)  scrutins (0.03)  attentat (0.03)  Abidjan (0.02)  AfD (0.02)  Aisne (0.02)  baln\u00e9aire (0.02)  terroriste (0.02)  r\u00e9fugi\u00e9s (0.02)  scores (0.02)  rugby (0.02)  Magdebourg (0.01)  Anhalt (0.01)  F\u00e8vre (0.01)  \n",
        "// samedi 19 avril //\n",
        "perquisitionn\u00e9 (0.80)  crash (0.60)  airbus (0.40)  ivoirienne (0.40)  Turquie (0.33)  migrants (0.33)  Abdeslam (0.26)  technologies (0.24)  Bruxelles (0.22)  Salah (0.21)  questionnements (0.20)  transalpins (0.20)  Ankara (0.12)  pi\u00e9tonne (0.10)  Allemagne (0.10)  Marseille (0.10)  Europe (0.09)  Russie (0.07)  Ecosse (0.07)  Gr\u00e8ce (0.06)  Alg\u00e9rie (0.06)  drones (0.06)  Lagard\u00e8re (0.06)  post (0.06)  controvers\u00e9 (0.06)  islamique (0.06)  lift (0.06)  participera (0.06)  attentats (0.05)  sensibiliser (0.05)  \n",
        "// lundi 14 avril //\n",
        "dopage (1.00)  migrants (0.33)  Syrie (0.32)  dessinatrice (0.28)  s\u00e9lectionneur (0.24)  Bruxelles (0.22)  attractivit\u00e9 (0.20)  dysfonctionnements (0.20)  shows (0.20)  interceptions (0.20)  pal\u00e9ontologue (0.20)  bazookas (0.20)  escape (0.20)  start (0.20)  r\u00e9trop\u00e9dalage (0.20)  Valls (0.16)  PSG (0.16)  Lyon (0.12)  Merkel (0.11)  Mandel (0.11)  schizophr\u00e9nique (0.10)  Bouagga (0.10)  Yasmine (0.10)  Michel (0.10)  officialis\u00e9 (0.09)  palestiniens (0.09)  Bassam (0.09)  Google (0.09)  syriens (0.08)  palestinienne (0.07)  \n",
        "// dimanche 20 avril //\n",
        "Turquie (0.33)  Syrie (0.32)  p\u00e9dophilie (0.28)  Abdeslam (0.26)  Bruxelles (0.22)  Salah (0.21)  p\u00e9naux (0.20)  vulgarisent (0.20)  centriste (0.20)  PSG (0.16)  djihadistes (0.16)  djihadiste (0.14)  Lyon (0.12)  congolais (0.12)  pris\u00e9s (0.10)  derby (0.10)  talonneur (0.10)  conforte (0.10)  Allemagne (0.10)  Marseille (0.10)  c\u0153ur (0.07)  Barbarin (0.07)  Manchester (0.07)  City (0.07)  pr\u00e9sidentielle (0.07)  controvers\u00e9 (0.06)  islamique (0.06)  anticapitaliste (0.06)  attentats (0.05)  Espagne (0.05)  \n",
        "// mercredi 7 novembre //\n",
        "interbancaire (0.20)  \u0153uvre (0.05)  traders (0.04)  Libor (0.01)  anciers (0.01)  interbancaires (0.01)  manipul\u00e9 (0.01)  poursuites (0.01)  courtiers (0.01)  fraude (0.00)  proc\u00e8s (0.00)  prison (0.00)  manipulation (0.00)  taux (0.00)  condamn\u00e9s (0.00)  montrent (0.00)  britanniques (0.00)  successives (0.00)  peines (0.00)  \u00e9t\u00e9 (0.00)  ont (0.00)  pour (0.00)  v\u00e9ritable (0.00)  deux (0.00)  des (0.00)  les (0.00)  syst\u00e8me (0.00)  pourquoi (0.00)  \u00e9tait (0.00)  \n",
        "// lundi 21 avril //\n",
        "airbus (0.40)  ivoirienne (0.40)  Turquie (0.33)  migrants (0.33)  Syrie (0.32)  dessinatrice (0.28)  Abdeslam (0.26)  s\u00e9lectionneur (0.24)  Salah (0.21)  r\u00e9cusent (0.20)  axa (0.20)  euros (0.19)  djihadistes (0.16)  Lyon (0.12)  congolais (0.12)  Mandel (0.11)  Cor\u00e9e (0.10)  Allemagne (0.10)  Bouagga (0.10)  Yasmine (0.10)  cor\u00e9en (0.09)  Bassam (0.09)  kurdes (0.07)  Macron (0.07)  Russie (0.07)  Fran\u00e7ois (0.07)  pr\u00e9sidentielle (0.07)  invincibilit\u00e9 (0.06)  Alg\u00e9rie (0.06)  Lagard\u00e8re (0.06)  \n",
        "// mardi 27 novembre //\n",
        "Syrie (0.32)  sanglante (0.00)  combats (0.00)  cinq (0.00)  civile (0.00)  apr\u00e8s (0.00)  territoire (0.00)  guerre (0.00)  comprendre (0.00)  minutes (0.00)  devenue (0.00)  sur (0.00)  situation (0.00)  th\u00e9\u00e2tre (0.00)  son (0.00)  une (0.00)  ann\u00e9es (0.00)  est (0.00)  plus (0.00)  que (0.00)  bien (0.00)  \n",
        "// mardi 15 avril //\n",
        "Turquie (0.33)  migrants (0.33)  Syrie (0.32)  affronteront (0.30)  dessinatrice (0.28)  p\u00e9dophilie (0.28)  technologies (0.24)  Bruxelles (0.22)  b\u00e9atifi\u00e9e (0.20)  microc\u00e9phalie (0.20)  soignants (0.20)  euros (0.19)  Valls (0.16)  djihadistes (0.16)  djihadiste (0.14)  pesticides (0.13)  surf (0.13)  Lyon (0.12)  Trump (0.12)  Mandel (0.11)  ill\u00e9gaux (0.10)  Madrid (0.10)  Bouagga (0.10)  Yasmine (0.10)  cor\u00e9en (0.09)  Bassam (0.09)  Europe (0.09)  syriens (0.08)  Macron (0.07)  Atletico (0.07)  \n",
        "// mardi 8 avril //\n",
        "migratoire (0.60)  mails (0.40)  Turquie (0.33)  migrants (0.33)  affronteront (0.30)  dessinatrice (0.28)  Khomri (0.22)  islamistes (0.20)  sexistes (0.20)  isra\u00e9liennes (0.20)  euros (0.19)  Valls (0.16)  djihadiste (0.14)  Trump (0.12)  Ankara (0.12)  Merkel (0.11)  Mandel (0.11)  ivoirien (0.10)  requalification (0.10)  affid\u00e9 (0.10)  cibl\u00e9s (0.10)  Cor\u00e9e (0.10)  Madrid (0.10)  Bouagga (0.10)  Yasmine (0.10)  cor\u00e9en (0.09)  palestiniens (0.09)  Europe (0.09)  SNCF (0.09)  Synthe (0.09)  \n",
        "// jeudi 3 avril //\n",
        "p\u00e9pite (0.04)  footballeurs (0.02)  football (0.01)  universit\u00e9s (0.00)  saison (0.00)  am\u00e9ricains (0.00)  cherchent (0.00)  apprentis (0.00)  fran\u00e7aise (0.00)  parviennent (0.00)  percer (0.00)  unis (0.00)  reprendre (0.00)  offrent (0.00)  les (0.00)  aux (0.00)  une (0.00)  seconde (0.00)  vient (0.00)  qui (0.00)  chance (0.00)  pas (0.00)  quand (0.00)  \n",
        "// mercredi 9 avril //\n",
        "migrants (0.33)  Syrie (0.32)  Bruxelles (0.22)  Khomri (0.22)  relanc\u00e9es (0.20)  revivez (0.20)  quinquennat (0.20)  saoudiennes (0.20)  voteront (0.20)  euros (0.19)  PSG (0.16)  djihadistes (0.16)  djihadiste (0.14)  surf (0.13)  pesticides (0.13)  Lyon (0.12)  Trump (0.12)  tch\u00e9tch\u00e8ne (0.12)  Merkel (0.11)  investitures (0.10)  miniaturiser (0.10)  r\u00e9alisatrice (0.10)  arrangeur (0.10)  Cor\u00e9e (0.10)  Marseille (0.10)  Michel (0.10)  cor\u00e9en (0.09)  palestiniens (0.09)  Google (0.09)  Synthe (0.09)  \n",
        "// vendredi 4 avril //\n",
        "Michel (0.10)  licenciement (0.02)  confront\u00e9 (0.01)  changerait (0.00)  r\u00e9forme (0.00)  vot\u00e9e (0.00)  version (0.00)  suivons (0.00)  salari\u00e9 (0.00)  loi (0.00)  travail (0.00)  ans (0.00)  cong\u00e9s (0.00)  actuelle (0.00)  pour (0.00)  aux (0.00)  dans (0.00)  droit (0.00)  dispositions (0.00)  que (0.00)  temps (0.00)  \u00e9tait (0.00)  elle (0.00)  exemple (0.00) \n"
       ]
      }
     ],
     "prompt_number": 545
    },
    {
     "cell_type": "code",
     "collapsed": false,
     "input": [
      "#norme by day"
     ],
     "language": "python",
     "metadata": {},
     "outputs": [],
     "prompt_number": 546
    },
    {
     "cell_type": "code",
     "collapsed": false,
     "input": [
      "sizeMax = 6\n",
      "data_json = []\n",
      "count_by_days_sorted = sorted( count_by_days.iteritems(), key=lambda x:x[0] )\n",
      "for k, mots_day in count_by_days_sorted:\n",
      "    day_sorted = sorted( mots_day.iteritems(), key= lambda x:x[1], reverse=True )[:20]\n",
      "    maxScore = day_sorted[0][1]\n",
      "    minScore = day_sorted[-1][1]\n",
      "    \n",
      "    liste_day = []\n",
      "    for mot, score in day_sorted:    \n",
      "        score_layout = 1 + round( float(sizeMax-1)/float(maxScore-minScore)*(score-minScore)   )\n",
      "        node = {'label':mot, 'size':score_layout}\n",
      "        liste_day.append( node )\n",
      "    \n",
      "    data_json.append({ 'mots':liste_day, 'day':writeDay( k )  })"
     ],
     "language": "python",
     "metadata": {},
     "outputs": [],
     "prompt_number": 547
    },
    {
     "cell_type": "code",
     "collapsed": false,
     "input": [
      "# save JSON\n",
      "json_file = './web/data.json'\n",
      "with open(json_file, 'w') as outfile:\n",
      "    json.dump(data_json, outfile)"
     ],
     "language": "python",
     "metadata": {},
     "outputs": [],
     "prompt_number": 548
    },
    {
     "cell_type": "code",
     "collapsed": false,
     "input": [],
     "language": "python",
     "metadata": {},
     "outputs": [],
     "prompt_number": 548
    },
    {
     "cell_type": "code",
     "collapsed": false,
     "input": [],
     "language": "python",
     "metadata": {},
     "outputs": [],
     "prompt_number": 548
    }
   ],
   "metadata": {}
  }
 ]
}