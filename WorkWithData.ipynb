{
 "metadata": {
  "name": "",
  "signature": "sha256:e85f71dde78f11d01a29f2a73e0e57469d84fd9c18be077f0a6ac5300cef1a97"
 },
 "nbformat": 3,
 "nbformat_minor": 0,
 "worksheets": [
  {
   "cells": [
    {
     "cell_type": "code",
     "collapsed": false,
     "input": [
      "import json\n",
      "import re"
     ],
     "language": "python",
     "metadata": {},
     "outputs": []
    },
    {
     "cell_type": "code",
     "collapsed": false,
     "input": [
      "def printSorted(dico, n = 200 ):\n",
      "    myDico_sorted = sorted(dico.iteritems(), key = lambda x:x[1], reverse=True)\n",
      "    for m, c in myDico_sorted[:n]:\n",
      "        print '%s (%0.2f) ' % (m, c),"
     ],
     "language": "python",
     "metadata": {},
     "outputs": []
    },
    {
     "cell_type": "code",
     "collapsed": false,
     "input": [
      "from HTMLParser import HTMLParser\n",
      "\n",
      "class MLStripper(HTMLParser):\n",
      "    def __init__(self):\n",
      "        self.reset()\n",
      "        self.fed = []\n",
      "    def handle_data(self, d):\n",
      "        self.fed.append(d)\n",
      "    def get_data(self):\n",
      "        return ''.join(self.fed)\n",
      "\n",
      "def strip_tags(html):\n",
      "    s = MLStripper()\n",
      "    s.feed(html)\n",
      "    return s.get_data()"
     ],
     "language": "python",
     "metadata": {},
     "outputs": []
    },
    {
     "cell_type": "code",
     "collapsed": false,
     "input": [
      "# Load \"liste des mots\"\n",
      "import codecs\n",
      "\n",
      "filename = './data_dico/liste_mots_utf8.txt'\n",
      "# cf: http://www.lexique.org/listes/liste_mots.txt\n",
      "# load\n",
      "with codecs.open(filename, encoding='utf-8') as f:\n",
      "    listemots = f.readlines()\n",
      "  \n",
      "for i, mot in enumerate( listemots ):\n",
      "    a = mot.split('\\t')\n",
      "    freq = float(a[1])\n",
      "    word = a[0]\n",
      "    listemots[i] = (word, freq)\n",
      "\n",
      "dicoFr = { x[0]:x[1] for x in listemots }"
     ],
     "language": "python",
     "metadata": {},
     "outputs": []
    },
    {
     "cell_type": "code",
     "collapsed": false,
     "input": [
      "def cleanAndSplit( texte ):\n",
      "    #texte = texte.lower()\n",
      "\n",
      "    myRe = u\"[:\u2019',.\u00ab\u00bb?! ()\\[\\]\u2026\u201d\\\"0-9]+\"\n",
      "    texte = re.sub(myRe, u' ', texte)\n",
      "    texte = texte.replace(u'\\xa0', u' ')\n",
      "    texte = texte.replace(u'-', u' ')\n",
      "    L = texte.split(' ')\n",
      "    \n",
      "    for i, mot in enumerate( L ):\n",
      "        if mot.lower() in dicoFr:\n",
      "            L[i] = mot.lower()   \n",
      "            \n",
      "    return L"
     ],
     "language": "python",
     "metadata": {},
     "outputs": []
    },
    {
     "cell_type": "code",
     "collapsed": false,
     "input": [
      "# load\n",
      "filename = './data_rss/rss_save_leMonde.json'\n",
      "\n",
      "loaded_data = json.loads(open(filename).read())\n",
      "print 'nbr articles: ', len( loaded_data )\n",
      "\n",
      "# Work with DATE\n",
      "from datetime import datetime\n",
      "\n",
      "def jour_de_la_semaine(i):\n",
      "    d = ['lundi', 'mardi', 'mercredi', 'jeudi', 'vendredi', 'samedi', 'dimanche']\n",
      "    return d[i]\n",
      "    \n",
      "for k, post in loaded_data.iteritems():\n",
      "    txt_date = post['pubDate']\n",
      "    txt_date = txt_date.replace(u'GMT', u'')\n",
      "    txt_date = re.sub('\\+[0-9]{4}', u'', txt_date) # !! not the real hour ..\n",
      "    txt_date = re.sub(r'\\s+$', '', txt_date)\n",
      "    \n",
      "    date = datetime.strptime(txt_date, '%a,  %d %b %Y %H:%M:%S')\n",
      "    loaded_data[k]['date'] = date"
     ],
     "language": "python",
     "metadata": {},
     "outputs": []
    },
    {
     "cell_type": "code",
     "collapsed": false,
     "input": [
      "words_count = {}\n",
      "\n",
      "for post in loaded_data.itervalues():\n",
      "    title = post['title']\n",
      "    description = post['description']\n",
      "    if description:\n",
      "        description = strip_tags( description )\n",
      "    else:\n",
      "        description = ''\n",
      "        \n",
      "    L = cleanAndSplit( title+' '+description ) \n",
      "    \n",
      "    for mot in L:\n",
      "        if words_count.has_key( mot ):\n",
      "            words_count[mot ] += 1\n",
      "        elif len( mot ) > 2:\n",
      "            words_count[mot ] = 1\n",
      "\n",
      "n_mots_globaux = len( words_count )\n",
      "\n",
      "print 'nbr mots: ', n_mots_globaux"
     ],
     "language": "python",
     "metadata": {},
     "outputs": []
    },
    {
     "cell_type": "code",
     "collapsed": false,
     "input": [
      "printSorted(words_count, 100)"
     ],
     "language": "python",
     "metadata": {},
     "outputs": []
    },
    {
     "cell_type": "heading",
     "level": 2,
     "metadata": {},
     "source": [
      "Norme avec DicoFr"
     ]
    },
    {
     "cell_type": "code",
     "collapsed": false,
     "input": [
      "black_liste =  ['lundi', 'mardi', 'mercredi', 'jeudi', 'vendredi' ]\n",
      "black_liste.extend( ['samedi', 'dimanche', 'jusqu', 'aujourd', 'France', 'mars', 'week', 'end', 'Etat', 'Etats'] )"
     ],
     "language": "python",
     "metadata": {},
     "outputs": []
    },
    {
     "cell_type": "code",
     "collapsed": false,
     "input": [
      "words_count_dicoFr = {}\n",
      "notInDicoFr = {}\n",
      "for m, c in words_count.iteritems():\n",
      "    if m in black_liste :\n",
      "        continue\n",
      "    elif m in dicoFr : # and c*n_mots > 1:\n",
      "        score = float( c )/float( n_mots_globaux )  / (dicoFr[m]*1e-6)\n",
      "        words_count_dicoFr[m] = score\n",
      "    else:\n",
      "        score =  c \n",
      "        notInDicoFr[m] = score\n",
      "        \n",
      "words_sorted_dicoFr = sorted(words_count_dicoFr.iteritems(), key = lambda x:x[1], reverse=True)\n",
      "notInDicoFr_sorted = sorted(notInDicoFr.iteritems(), key = lambda x:x[1], reverse=True)"
     ],
     "language": "python",
     "metadata": {},
     "outputs": []
    },
    {
     "cell_type": "code",
     "collapsed": false,
     "input": [
      "printSorted(words_count_dicoFr, 100)"
     ],
     "language": "python",
     "metadata": {},
     "outputs": []
    },
    {
     "cell_type": "code",
     "collapsed": true,
     "input": [
      "printSorted(notInDicoFr)"
     ],
     "language": "python",
     "metadata": {},
     "outputs": []
    },
    {
     "cell_type": "code",
     "collapsed": false,
     "input": [
      "#\u00a0norme: max not in dico = max in dico\n",
      "\n",
      "max_notInDico = notInDicoFr_sorted[0][1] \n",
      "max_inDico = words_sorted_dicoFr[0][1] \n",
      "\n",
      "print max_notInDico, max_inDico"
     ],
     "language": "python",
     "metadata": {},
     "outputs": []
    },
    {
     "cell_type": "code",
     "collapsed": false,
     "input": [
      "#\u00a0Merge\n",
      "myDico = {}\n",
      "\n",
      "for mot, c in notInDicoFr.iteritems():\n",
      "    myDico[mot] = float(c) / float( max_notInDico *3  )\n",
      "    \n",
      "for mot, c in words_count_dicoFr.iteritems():\n",
      "    myDico[mot] = float(c) / float( max_inDico )"
     ],
     "language": "python",
     "metadata": {},
     "outputs": []
    },
    {
     "cell_type": "code",
     "collapsed": false,
     "input": [
      "printSorted( myDico )"
     ],
     "language": "python",
     "metadata": {},
     "outputs": []
    },
    {
     "cell_type": "heading",
     "level": 3,
     "metadata": {},
     "source": [
      "jour par jour"
     ]
    },
    {
     "cell_type": "code",
     "collapsed": false,
     "input": [
      "mois = u'janvier f\u00e9vrier mars avril mai juin juillet ao\u00fbt septembre octobre novembre d\u00e9cembre'\n",
      "mois = mois.split(' ')\n",
      "def writeDay( d ):\n",
      "    i = d.weekday()\n",
      "    jour = str( d.day )\n",
      "    if jour == '1': jour = '1er'\n",
      "    return jour_de_la_semaine(i)+' '+jour+' '+mois[d.month]"
     ],
     "language": "python",
     "metadata": {},
     "outputs": []
    },
    {
     "cell_type": "code",
     "collapsed": false,
     "input": [
      "posts_by_day = {}\n",
      "for post in loaded_data.itervalues():\n",
      "    d = post['date'].date()\n",
      "   \n",
      "    title = post['title']\n",
      "    description = post['description']\n",
      "    if description:\n",
      "        description = strip_tags( description )\n",
      "    else:\n",
      "        description = ''\n",
      "    texte = title+' '+description\n",
      "    \n",
      "    if d not in posts_by_day:\n",
      "        posts_by_day[d] = [ texte ]\n",
      "    else:\n",
      "        posts_by_day[d].append( texte )"
     ],
     "language": "python",
     "metadata": {},
     "outputs": []
    },
    {
     "cell_type": "markdown",
     "metadata": {},
     "source": [
      "le nombre de mot par jour est pas trop significatif ..."
     ]
    },
    {
     "cell_type": "code",
     "collapsed": false,
     "input": [
      "count_by_days = {}\n",
      "for day, textes in posts_by_day.iteritems():\n",
      "    count_day = {}\n",
      "    for titre in textes:\n",
      "        L = cleanAndSplit( titre ) \n",
      "\n",
      "        for mot in L:\n",
      "            if mot in myDico:\n",
      "                count_day[mot] = myDico[mot]\n",
      "                \n",
      "    count_by_days[day] = count_day"
     ],
     "language": "python",
     "metadata": {},
     "outputs": []
    },
    {
     "cell_type": "code",
     "collapsed": false,
     "input": [
      "for k in count_by_days.iterkeys():\n",
      "    print '\\n// '+writeDay( k )+' //'\n",
      "    printSorted( count_by_days[k], 30 )"
     ],
     "language": "python",
     "metadata": {},
     "outputs": []
    },
    {
     "cell_type": "code",
     "collapsed": false,
     "input": [
      "#norme by day"
     ],
     "language": "python",
     "metadata": {},
     "outputs": []
    },
    {
     "cell_type": "code",
     "collapsed": false,
     "input": [
      "sizeMax = 6\n",
      "data_json = []\n",
      "count_by_days_sorted = sorted( count_by_days.iteritems(), key=lambda x:x[0] )\n",
      "for k, mots_day in count_by_days_sorted:\n",
      "    day_sorted = sorted( mots_day.iteritems(), key= lambda x:x[1], reverse=True )[:20]\n",
      "    maxScore = day_sorted[0][1]\n",
      "    minScore = day_sorted[-1][1]\n",
      "    \n",
      "    liste_day = []\n",
      "    for mot, score in day_sorted:    \n",
      "        score_layout = 1 + round( float(sizeMax-1)/float(maxScore-minScore)*(score-minScore)   )\n",
      "        node = {'label':mot, 'size':score_layout}\n",
      "        liste_day.append( node )\n",
      "    \n",
      "    data_json.append({ 'mots':liste_day, 'day':writeDay( k )  })"
     ],
     "language": "python",
     "metadata": {},
     "outputs": []
    },
    {
     "cell_type": "code",
     "collapsed": false,
     "input": [
      "# save JSON\n",
      "json_file = './web/data.json'\n",
      "with open(json_file, 'w') as outfile:\n",
      "    json.dump(data_json, outfile)"
     ],
     "language": "python",
     "metadata": {},
     "outputs": []
    },
    {
     "cell_type": "code",
     "collapsed": false,
     "input": [],
     "language": "python",
     "metadata": {},
     "outputs": []
    },
    {
     "cell_type": "code",
     "collapsed": false,
     "input": [],
     "language": "python",
     "metadata": {},
     "outputs": []
    }
   ],
   "metadata": {}
  }
 ]
}