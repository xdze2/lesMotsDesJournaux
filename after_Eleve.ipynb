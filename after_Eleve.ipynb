{
 "metadata": {
  "name": "",
  "signature": "sha256:b11d00e6b1e2e4939371630c753635b53d70fa9a4d2ea2a88eb345cd76672c77"
 },
 "nbformat": 3,
 "nbformat_minor": 0,
 "worksheets": [
  {
   "cells": [
    {
     "cell_type": "code",
     "collapsed": false,
     "input": [
      "import json\n",
      "import re"
     ],
     "language": "python",
     "metadata": {},
     "outputs": [],
     "prompt_number": 321
    },
    {
     "cell_type": "code",
     "collapsed": false,
     "input": [
      "def getStopWords():\n",
      "    # Load \"liste des mots\"\n",
      "    import codecs\n",
      "    import re\n",
      "    filename = './data_dico/stop_words_fr.txt'\n",
      "\n",
      "    # load\n",
      "    with codecs.open(filename, encoding='utf-8') as f:\n",
      "        stopwords_data = f.readlines()\n",
      "    stopwords = []\n",
      "\n",
      "    for line in stopwords_data:\n",
      "        line = line.split('|')[0]\n",
      "        line = re.sub(r'\\s', '', line )\n",
      "        if line:\n",
      "            stopwords.append(  line )\n",
      "            \n",
      "    return stopwords\n",
      "\n",
      "stopWords = getStopWords()"
     ],
     "language": "python",
     "metadata": {},
     "outputs": [],
     "prompt_number": 322
    },
    {
     "cell_type": "code",
     "collapsed": false,
     "input": [
      "def printSorted(dico, n = 200 ):\n",
      "    myDico_sorted = sorted(dico.iteritems(), key = lambda x:x[1], reverse=True)\n",
      "    for m, c in myDico_sorted[:n]:\n",
      "        print '%s (%0.2f) ' % (m, c),"
     ],
     "language": "python",
     "metadata": {},
     "outputs": [],
     "prompt_number": 323
    },
    {
     "cell_type": "code",
     "collapsed": false,
     "input": [
      "filename = './Eleve/data_nuplets.json'"
     ],
     "language": "python",
     "metadata": {},
     "outputs": [],
     "prompt_number": 324
    },
    {
     "cell_type": "code",
     "collapsed": false,
     "input": [
      "nuplets_count = json.loads(open(filename).read())\n",
      "\n",
      "print( 'nombre de nuplets: %i ' % len( nuplets_count ) )"
     ],
     "language": "python",
     "metadata": {},
     "outputs": [
      {
       "output_type": "stream",
       "stream": "stdout",
       "text": [
        "nombre de nuplets: 2343 \n"
       ]
      }
     ],
     "prompt_number": 325
    },
    {
     "cell_type": "code",
     "collapsed": false,
     "input": [
      "filename = './Eleve/data4eleve.json'\n",
      "allposts = json.loads(open(filename).read())"
     ],
     "language": "python",
     "metadata": {},
     "outputs": [],
     "prompt_number": 326
    },
    {
     "cell_type": "code",
     "collapsed": false,
     "input": [
      "bigTexte = ' '.join( allposts )"
     ],
     "language": "python",
     "metadata": {},
     "outputs": [],
     "prompt_number": 327
    },
    {
     "cell_type": "code",
     "collapsed": false,
     "input": [
      "bigTexte.count( 't')"
     ],
     "language": "python",
     "metadata": {},
     "outputs": [
      {
       "metadata": {},
       "output_type": "pyout",
       "prompt_number": 328,
       "text": [
        "39107"
       ]
      }
     ],
     "prompt_number": 328
    },
    {
     "cell_type": "code",
     "collapsed": false,
     "input": [
      "w = sorted_nuplets[10][0]\n",
      "print w\n",
      "print bigTexte.count(w), bigTexte.count(w.lower())"
     ],
     "language": "python",
     "metadata": {},
     "outputs": [
      {
       "output_type": "stream",
       "stream": "stdout",
       "text": [
        "Top 14\n",
        "16 0\n"
       ]
      }
     ],
     "prompt_number": 329
    },
    {
     "cell_type": "code",
     "collapsed": false,
     "input": [
      "sorted_nuplets = sorted( nuplets_count.items(), key=lambda x:x[1], reverse=True )\n",
      "\n",
      "output = [ x[0]+' (%i)'%bigTexte.count( x[0] ) for x in sorted_nuplets if bigTexte.count( x[0] ) > 1 ]\n",
      "print( '; '.join( output ) )"
     ],
     "language": "python",
     "metadata": {},
     "outputs": [
      {
       "output_type": "stream",
       "stream": "stdout",
       "text": [
        "Salah Abdeslam (112); 13 novembre (65); Barack Obama (39); Manuel Valls (38); Donald Trump (29); Dilma Rousseff (21); r\u00e9seaux sociaux (21); New York (19); loi El Khomri (33); Emmanuel Macron (20); Top 14 (16); vache folle (16); CAC 40 (16); cardinal Barbarin (14); la loi El Khomri (14); Indian Wells (15); Six nations (14); El Khomri (53); GP d'Australie (13); St Moritz (13); Johan Cruyff (13); \u00e9lection pr\u00e9sidentielle (11); Patrice Talon (11); \u00c9tat islamique (16); Ted Cruz (11); bande dessin\u00e9e (11); C\u00f4te d'Ivoire (11); La dessinatrice Lisa Mandel (11); chiffre d'affaires (10); intelligence artificielle (11); Front national (10); Hillary Clinton (11); point d'indice (10); El Bakraoui (13); r\u00e9vision constitutionnelle (10); Batman v Superman (10); Sven Mary (10); Affaires \u00e9trang\u00e8res (9); Guerre d'Alg\u00e9rie (9); C\u00f4te d\u2019Ivoire (9); Manchester City (10); Jeanne d'Arc (9); conseil d'administration (8); Bouygues Telecom (9); Bernard Cazeneuve (8); Xavier Bertrand (8); Abdelkader Merah (8); contr\u00f4leurs a\u00e9riens (8); San Suu Kyi (8); zone euro (8); Najim Laachraoui (10); spongiforme bovine (8); Edouard Louis (8); Etat islamique (24); R\u00e9forme constitutionnelle (7); Lionel Zinsou (7); sexe neutre (7); on sait (9); Myriam El Khomri (7); Serge Dassault (7); Cour supr\u00eame (7); Karim Benzema (7); Serge Kampf (7); Buenos Aires (7); French Tech (7); agressions sexuelles (9); Raul Castro (6); \u00e9tat d\u2019urgence (7); appartement perquisitionn\u00e9 (6); 13 Novembre (6); \u00eeles grecques (6); Arnaud D\u00e9mare (6); Kamel Daoud (6); Angela Merkel (8); r\u00e9alit\u00e9 virtuelle (6); Formule 1 (6); Marion Mar\u00e9chal-Le Pen (6); Rob Ford (6); made in (6); d\u00e9tention provisoire (6); mandat d'arr\u00eat europ\u00e9en (6); Cr\u00e9dit Mutuel (7); Bruno Biais (5); commission d'enqu\u00eate parlementaire (5); Jean-Christophe Lagarde (5); Real Madrid (5); San Antonio (5); Star Wars (5); Nations unies (5); Bayern Munich (6); Soufiane Kayal (5); voiture pi\u00e9g\u00e9e (5); S\u00e9gol\u00e8ne Royal (5); entre eux (6); Krzysztof Warlikowski (5); n\u2019est \u00e9pargn\u00e9 (5); Charlie Hebdo (5); perp\u00e9tuit\u00e9 r\u00e9elle (5); raids a\u00e9riens (5); Accord UE-Turquie (5); bande organis\u00e9e (5); L\u00e9gislatives partielles (5); Wall Street (5); Tribunal p\u00e9nal (5); Hinkley Point (6); Jean Lassalle (5); Jeb Bush (5); Du soul\u00e8vement populaire (5); \u00e9mission diesel (5); low cost (5); Radovan Karadzic (5); mati\u00e8res premi\u00e8res (5); organisation Etat islamique (7); Sassou Nguesso (5); Lee Sedol (5); Zack Snyder (5); Arabie saoudite (7); Jean-Luc M\u00e9lenchon (4); auteurs d'actes terroristes (4); t\u00e9moin assist\u00e9 (4); Val\u00e9rie P\u00e9cresse (4); SNCF R\u00e9seau (4); projet d'accord (4); cour d'appel d'Orl\u00e9ans (4); Fonction publique (4); French Blue (4); Nouvelles limites UE (4); Meurtre d'Aur\u00e9lie Ch\u00e2telain (4); farines animales (4); Renaud Lavillenie (4); Maria Sharapova (4); French Touch (4); Vache folle (4); Philippe Poutou (7); Thomas Buberl (4); pr\u00e9somption d\u2019innocence (4); traitement inhumain (4); Boko Haram (4); l\u00e9gislatives partielles (4); George Martin (5); insecticides n\u00e9onicotino\u00efdes (4); spectacles itin\u00e9rants (4); Nadejda Savtchenko (4); Credit Suisse (4); iPad Pro (4); Htin Kyaw (4); R\u00e9serve f\u00e9d\u00e9rale (4); R\u00e9mi Fraisse (4); Golden State (4); stopper l'afflux (4); XIXe si\u00e8cle (4); Sylvie Leclerc (4); vols annul\u00e9s (4); Drawing after (4); Jacques-Antoine Granjon (4); \u00e9tablissement d'une r\u00e9gion f\u00e9d\u00e9rale (4); changement climatique (4); Sophie Marceau (4); Sid Ahmed Ghlam (4); Atletico Madrid (6); vos connaissances (4); extr\u00eame droite (11); Europa League (4); \u00e9coute t\u00e9l\u00e9phonique (4); meilleure baguette (4); taxe Nutella (4);  \u00e9trangleur (4); investiture r\u00e9publicaine (4); Milan-San Remo (4); t\u00eates d\u2019affiche (3); Eric Dupond-Moretti (3); Jeux olympiques (3); l\u00e9g\u00e8re baisse (3); y compris (3); Merrick Garland (3); plaque tournante (3); soldat isra\u00e9lien (3); Mohamed Belka\u00efd (3); Mario Greco (3); Tour d\u2019horizon (3); constructeur automobile (3); Farouk Ben Abbes (3); David Bowie (3); tension monte (3); \u00e9lections r\u00e9gionales (3); agences immobili\u00e8res (3); moteurs truqu\u00e9s (3); Recep Tayyip (3); Marcel Desailly (3); Julia Roberts (3); salon horloger (3); Rafael Nadal (3); Birmanie Aung (3); attentats perp\u00e9tr\u00e9s (3); station Maelbeek (3); da Silva (3); meilleurs joueurs (3); volume d'\u00e9changes (3); BHF Kleinwort (3); activement recherch\u00e9 (4); Jean-Marc Ayrault (4); Bernie Sanders (4); 50e pole (3); treize \u00e9tudiantes (3); Lewis Hamilton (3); appris l'AFP (3); Mondial 2006 (3); Brahim Abdeslam (3); assembl\u00e9e g\u00e9n\u00e9rale (3); Anthony Dubois (3); Munich R\u00e9 (3); Denis Duverne (3); mariage gay (3); Sao Paulo (3); chronique Open (3); demandeurs d\u2019asile (3); business angels (3); courte port\u00e9e (3); r\u00e9f\u00e9rendum local (3); Eagles of Death Metal (3); CRS Alpes (3); tribunal correctionnel (3); mission ExoMars (3); SOS M\u00e9diterran\u00e9e (3); Rokhaya Diallo (3); pr\u00eatres p\u00e9dophiles (3); Ben Guerdane (3); pr\u00e9somption d'innocence (3); Ibrahim El Bakraoui (5); lyc\u00e9es bloqu\u00e9s (3); Super Tuesday (3); Champions League (3); missiles balistiques (3); couples homosexuels (3); St\u00e9phane H. (3); reconnue coupable (5); Poutou d\u00e9sign\u00e9 (3); Zurich Insurance (3); parc d'attractions (3); salle Gaveau (3); d\u00e9parts volontaires (4); FC Barcelone (3); geste significatif (3); March Madness (3); projet d'a\u00e9roport (3); chanceli\u00e8re allemande (3); Alain Marsaud (3); Plac\u00e9 appellera (3); Admission post-bac (3); Ra\u00fal Castro (3); Isabelle Huppert (3); J. J. Abrams (3); Anne Hidalgo (3); Angelina Jolie (3); UFC-Que Choisir (3); je n\u2019ai (3); \u00e9nergies renouvelables (3); listes \u00e9lectorales (3); Thierry Foucault (3); engin explosif (3); Donald Tusk (3); Meir Dagan (3); CGT FO FSU (3); Telecom Italia (3); Bon Coin (3); Dominique Strauss-Kahn (3); Abdelhamid Abaaoud (4); Emmanuelle Cosse (3); trading haute fr\u00e9quence (3); Guy Nov\u00e8s (3); d\u00e9bris trouv\u00e9s (3); seuls binationaux (3); accident d'autocar (4); perte nette (3); Los Angeles (3); Mariah Carey (3); travaux forc\u00e9s (3); gaz naturel (3); perp\u00e9tuit\u00e9 effective (3); Denis Sassou-Nguesso (3); Silicon Valley (3); Jean-Pierre Farandou (4); Guillaume Musso (3); Galeries Lafayette (3); d\u00e9but d'ann\u00e9e (3); ski alpin (3); Julien Lepers (3); Maison Blanche (3); cr\u00e9dits d\u2019imp\u00f4t (2); Nijni Novgorod (2); pilotage automatique (2); Est s\u00e9paratiste (2); trading ultrarapide (2); Coupe d\u2019Europe (2); Jack Dorsey (2); effets sp\u00e9ciaux (2); Victoria Vanneau (2); Lincoln (Ford) (2); M\u00e9lanie Thierry (2); Laurent Berger (2); Cyclisme D\u00e9mare (2); retir\u00e9 510 (2); m\u00e9decin c\u00e8de (2); Dany Boon (2); agent triple (2); \u00e9patant duo (2); Johan Leman (2); un d\u2019eux (2); Mireille Mathieu (2); organisations patronales (3); ports d\u00e9partementaux (2); Steve McQueen (2); Bondy Blog (2); pr\u00e9sident sortant Mahamadou Issoufou (2); + 06 (2); relations diplomatiques (2); (ESB) d\u00e9tect\u00e9 (2); 36e \u00e9dition (2); chasseur alpin (2); fronti\u00e8re libyenne (2); propre agence (2); Arizona Cruz (2); P'tit Lib\u00e9 (2); AMC Network (2); indice vedette (2); causes profondes (2); islamistes arm\u00e9s (2); tu as (2); love parade (2); dos Santos (2); radios priv\u00e9es (2); h\u00e9licopt\u00e8re ukrainienne (2); revue trimestrielle (2); \u00c9quipe rouvre (2); Courrier international (2); hors norme (2); g\u00e9ographique prot\u00e9g\u00e9e (IGP) (2); couple franco-allemand (2); raid a\u00e9rien (2); zone touristique (2); Great Place to Work (2); d\u00e9claration d'utilit\u00e9 (2); capsule Cygnus (2); big bang (2); recapitaliser EDF (2); Pesticides tueurs (2); creuse l'\u00e9cart (2); Yvelines l'Aisne (2); Croissance bleue (2); Nadia Savtchenko (4); but magnifique (2); Tiffany p\u00e9nalis\u00e9 par (2); Eddy Bellegueule (2); Nouvel An (2); restrictions commerciales (2); 1000 beacons (2); heureusement achev\u00e9 (2); plan quinquennal (2); laiss\u00e9 prosp\u00e9rer (2); justice reporte (2); vaches salers (2); Eric Woerth (2); think tank (2); Euror\u00e9gion Aquitaine (2); freinage automatique (2); Daniel Cohn-Bendit (2); violences polici\u00e8res (2); nombre insuffisant (2); Soci\u00e9t\u00e9 G\u00e9n\u00e9rale (2); CCM Benchmark (2); Vu d\u2019ailleurs (2); Ukrainienne Nadia Savtchenko (2); marketing digital (2); Toyota Prius (2); Cassius vs (2); Caisse d'Epargne (2); crimes sexuels (2); investiture d\u00e9mocrate (3); Pierre Vermeren (2); Didier Quillot (2); exposition Carambolages (2); Jean-Pierre Filiu (2); Andreas Lubitz (2); Missiles nord-cor\u00e9ens (2); Thomas Lilti (2); principes Badinter (2); certainement issus (2); Porsche relax\u00e9s (2); Wolfgang Sch\u00e4uble (2); Savtchenko reconnue coupable (3); Claude B\u00e9b\u00e9ar (2); Bertrand Badie (2); gare Saint-Jean (2); Ana\u00efs Bescond (2); robot livreur (2); Edouard Fourcade (2); homologue cubain (2); Martine Aubry (2); Hama Amadou (2); Roselyne Bachelot (2); cam\u00e9ra cach\u00e9e (2); Hulk Hogan (2); Plan\u00e8te rouge (2); Darty pr\u00e9f\u00e8re (2); Mercedes Classe E (2); stade V\u00e9lodrome (2); Franck Rib\u00e9ry (2); safety check (2); d\u00e9p\u00f4ts bancaires (2); successifs n\u2019ont (2); Lagard\u00e8re Active (2); meilleurs avocats (2); h\u00f4pitaux accordent (2); joueurs Xbox (2); thriller psychologique (2); M. Molins (2); Apo Chantzis (2); vivement critiqu\u00e9 (2); contradictions Victime (2); Jess Glynne (2); BNP Paribas (2); p\u00e8re Bernard P. (2); voie ferr\u00e9e (2); milieux d'affaires (2); arabes unis (2); Ferguson coupables (2); lignes rouges (2); Quiz connaissez-vous (2); Grande Seconde (2); d\u00e9passent ceux (2); Belle Equipe (2); Notre maquis (2); seins nus (2); Ne pouvant (2); Miss Univers (2); Franz Beckenbauer (2); grande rue pi\u00e9tonne (2); personnel d'activit\u00e9 (2); essai nucl\u00e9aire nord-cor\u00e9en (2); Royal Orchestra (2); Les Rolling Stones promettent (2); Chelsea (2-1) (2); \u00c9glise russe (3); Fettah Malki (2); ayant appartenu (2); Boni Yayi (2); plaies ouvertes (2); Nouveau Parti anticapitaliste (2); Que changerait (2); Dick Annegarn (2); Isabelle Giordano (2); pr\u00e9judice \u00e9cologique (2); p\u00e9nal international (7); taxe additionnelle (2); Laurent Ruquier (2); LE CARDINAL BARBARIN (2); c\u00f4tes turques (2); Guido Westerwelle (2); Festival S\u00e9ries Mania (2); m\u00e8tres d'altitude (2); rares licornes (2); virus Ebola (3); Fran\u00e7ois Cluzet (2); pourront proc\u00e9der (2); (ou pas) (2); Laurent Wauquiez (2); Prix Nobel (2); \u00e9crivain alg\u00e9rien (2); Jean-Claude Gaudin (2); cit\u00e9 antique (2); Aur\u00e9lie Fouquet (2); BK Event (2); taux interbancaire (3); Coral Biome (2); Ahmet Davutoglu (2); Fabien Galthi\u00e9 (2); dividende sp\u00e9cial (2); Retraites compl\u00e9mentaires (2); mauvaise blague (2); complaisance envers la r\u00e9bellion (2); affronter l\u2019Ecosse (2); Margarita Louis-Dreyfus (2); bailleur social Logirep (2); Jacques Rapoport (2); Jean-Patrick Gille (2); Royal Bank of Scotland (2); stocks g\u00e9r\u00e9s (2); Gilles Kepel (2); Big Data (2); am\u00e9ricain General Electric (GE) (2); Gaspar No\u00e9 (2); pour pratique commerciale trompeuse (2); Morceaux choisis (2); Delphine Batho (2); robots humano\u00efdes (2); Joachim Wenning (2); interdiction brutale (2); Vladimir Poutine (2); Charbonnier 53 (2); Ladislas Ntaganzwa remis (2); retomb\u00e9es commerciales (2); gagn\u00e9e d\u2019avance (2); Bang & Olufsen (2); Financial Times (3); \u200999 Homes\u2009 (2); Fr\u00e9d\u00e9ric Van (2); XXIe si\u00e8cle (2); Lofoten tr\u00e9sor (2); substances chimiques (2); Paul Bismuth (2); c\u00f4tes grecques (2); Riadh B alias Reda (2); L\u00e9a Salam\u00e9 (2); Douglas Flint (2); 600 experts (2); Mohamed Abrini Najim Laachraoui (2); J\u00e9r\u00f4me Cahuzac (2); Action directe (4); sursis requis (2); Premier League (2); cellules dormantes (2); Athl\u00e9tisme Eaton (2); quadruple champion (2); petites phrases (2); Pierre Cardin (2); Fran\u00e7ois-Xavier Bellamy (2); cirques venus (2); M\u00e9tropole Aix-Marseille (2); Violences polici\u00e8res (2); attractions touristiques (2); Nicolas Charbonnier (4); Amedy Coulibaly (3); festival South by Southwest (2); interceptions judiciaires (2); Agathe Bousquet Twitter (2); communautariste d'organisation (2); MX-5 RF (2); Joe Biden (2); (Les R\u00e9publicains) (2); Beno\u00eet XVI (2); fans zone (4); commission d'enqu\u00eate (7); textes actuels (2); frappes a\u00e9riennes (2); g\u00e2teau sec (2); 125e anniversaire (2); Jean-Pierre Bemba (2); Andy Grove (2); Sophie Moinas (3); Primaires r\u00e9publicaines (2); Vous avez (2); Jawad Bendaoud (2); cigarettes neutres (2); General Motors (2); son enseigne Carrefour Bio (2); tri s\u00e9lectif (2); Carlton trois Femen relax\u00e9es (2); Federica Mogherini (2); Iggy Pop (2); verser 500000 (2); violeur pr\u00e9sum\u00e9 (2); reconnaissent avoir aid\u00e9 (2); d\u00f4me central (2); Juliette Gr\u00e9co hospitalis\u00e9e (2); plaintes pleuvent (2); Pragma Capital (2); e\u00fbt cru (2); exhibition sexuelle (2); militante antiraciste (2); Marie Dorin-Habert (2); imaginaire collectif (2); transactions transfrontali\u00e8res (2); attitude inacceptable (2); facs ferm\u00e9es (2); d\u00e9but d'apr\u00e8s-midi (2); Atl\u00e9tico Madrid (2); soldats isra\u00e9liens (2); commission d\u2019enqu\u00eate (2); Grand Chelem (2); Bell & Ross (2); d\u00e9grade Casino (2); Rosberg d\u00e9marre (2); Zodiac Aerospace (2); sept Italiennes (2); indigne opposition (2); salut nazi (2); essais libres (2); James Bond (2); id\u00e9al f\u00e9d\u00e9ral (2); Proc\u00e8s Fouquet (2); Kurdes proclament (2); Jos\u00e9 Eduardo (2); m\u00e8tres carr\u00e9s (2); Tom Hayes (2); assaillant palestinien (2); pr\u00eatre p\u00e9dophile (2); Samy Naceri (2); missile balistique (2); propri\u00e9taire d'Air Cara\u00efbes (2); mandat d\u2019arr\u00eat (2); Sky News (2); \u00c9douard Louis (2); Maison Standards (2); Air Coca\u00efne (2); h\u00e9patite B (2); S\u00e9bastien Bazin (2); MBO Partenaires (2); Planet Ocean (2); Reconnu coupable (2); b\u00e2timent officiel (2); village roumain (2); Steven Spielberg (2); Andr\u00e9 Santini (2); Miley Cyrus (2); 328 M EUR (2); / MILLIONS DE DOLLARS (2); redevient s\u00e9lectionnable (2); majoritairement oppos\u00e9s (2); ancienne PAC (2); Amours interdites (2); % / FONDS ACTIONS (2); suffrages exprim\u00e9s (2); Sophie Bellon (2); spectaculaire accident (2); gens heureux (2); Juha Sipila (2); anneau attribu\u00e9 (2); L\u00e9gion d\u2019honneur (2); structure management (2); Douanier Rousseau (2); quelle raison (2); Enda Kenny (2); contr\u00f4l\u00e9s positifs (2); bulbe dor\u00e9 (2); \u00bfQue bol\u00e1 (2); Match Reims-Bastia (2); applications mobiles (3); Festival d'Avignon (2); beau palmar\u00e8s (2); f\u00eates traditionnelles (2); retard technologique consid\u00e9rable (2); paquet neutre (2); ultime proposition (2); op\u00e9rateurs boursiers (2); T\u00e9l\u00e9 7 Jours (2); Aur\u00e9lie Ch\u00e2telain (6); er consommateur (2); Juventus Turin (2);  effrayant (2); to B (3); pari fou (2); vs Superman (2); cour d'appel (5); ont emport\u00e9 (2); Anne Frank (2); Pierre Joxe (2); bailleur social (3); Antoine Griezmann (2); un d'eux (2); on chante (2); T\u00e9l\u00e9 7 (3); Savtchenko condamn\u00e9e (2); explosif pr\u00e9f\u00e9r\u00e9 (2); Anglais Marler (2); robotique rachet\u00e9 (2); Pen lie (2); Novak Djokovic (2); Mike Wells (2); vingt-cinq si\u00e8cles (2); Mondiaux d'athl\u00e9tisme (2); Cassius 1999 (2); assises sp\u00e9ciale (2); sud-cor\u00e9en Lee (2); Jean-S\u00e9bastien Jacques (2); Apple Watch (2); Kim Jong-un (2); Filippetti accuse (2); grands crus (2); Atlantique Aucun (2); Jean-Vincent Plac\u00e9 (2); Am\u00e9rique latine (2); a sauv\u00e9 (2); 50 prochaines (2); pilote d'h\u00e9licopt\u00e8re (3); \u00eele grecque (2); circuit pro (2); zones d'ombre (3); Afrique subsaharienne (2); Vincent Lambert (2); Ben Abbes (4); Abdeslam inflexible (2); Thierry Herzog (2); Rio Tinto (2); Suu Kyi (9); 950000 euros contre Aviva (2); livres sterling (2); optimisation fiscale (4); Jean-Marc Janaillac (2); m\u00e9daille d\u2019or (2); est s\u00e9paratiste (2); Robert Fico (2); neutres obligatoires (2); chefs d'\u00e9tablissement (2); arriv\u00e9e d'Obama (2); administrateur d\u00e9l\u00e9gu\u00e9 (2); Nouvelles limites (5); PSV Eindhoven (2); Gaye Pete (2); Mohamed Abrini (3); Standard & (2); Catalogne Bouhanni (2)\n"
       ]
      }
     ],
     "prompt_number": 330
    },
    {
     "cell_type": "code",
     "collapsed": false,
     "input": [
      "# Load \"liste des mots\"\n",
      "import codecs\n",
      "\n",
      "filename = './data_dico/liste_mots_utf8.txt'\n",
      "# cf: http://www.lexique.org/listes/liste_mots.txt\n",
      "# load\n",
      "with codecs.open(filename, encoding='utf-8') as f:\n",
      "    listemots = f.readlines()\n",
      "  \n",
      "for i, mot in enumerate( listemots ):\n",
      "    a = mot.split('\\t')\n",
      "    freq = float(a[1])\n",
      "    word = a[0]\n",
      "    listemots[i] = (word, freq)\n",
      "\n",
      "dicoFr = { x[0]:x[1] for x in listemots }"
     ],
     "language": "python",
     "metadata": {},
     "outputs": [],
     "prompt_number": 331
    },
    {
     "cell_type": "code",
     "collapsed": false,
     "input": [
      "bigTexte_single = bigTexte\n",
      "for nuplet in nuplets_count.iterkeys():\n",
      "    bigTexte_single = bigTexte_single.replace(nuplet, ' ')\n",
      "    \n",
      "print len( bigTexte ), len( bigTexte_single )"
     ],
     "language": "python",
     "metadata": {},
     "outputs": [
      {
       "output_type": "stream",
       "stream": "stdout",
       "text": [
        "754696 694105\n"
       ]
      }
     ],
     "prompt_number": 332
    },
    {
     "cell_type": "code",
     "collapsed": false,
     "input": [
      "blacklist = ['etat', 'etats', 'euros', 'est-il' 'actu', u'a-t-il', 'axa', u'apr\u00e8s-midi']\n",
      "\n",
      "words_count = {}\n",
      "\n",
      "for mot in bigTexte_single.split(' '):\n",
      "\n",
      "    mot = re.sub(u\"[Aa]ujourd.hui\",  '', mot)\n",
      "    mot = re.sub(u\"jusqu.[\u00e0a]\",  '', mot)\n",
      "    \n",
      "    mot = re.sub(u\"(^|\\s)[LldDsSnNcC]['`\u2019]\", \"\", mot)\n",
      "    mot = re.sub(u\"(^|\\s)qu['`\u2019]\", \"\", mot)\n",
      "    mot = re.sub(r\"[0-9\\.\\(\\)]\", u'', mot) \n",
      "    mot = re.sub(r\"\\s\", u'', mot)\n",
      "\n",
      "    if mot.lower() in dicoFr:\n",
      "        mot = mot.lower()     \n",
      "        \n",
      "    #if mot.endswith( 's' ) and mot[0:-1] in dicoFr:\n",
      "    #    mot = mot[:-1]      ... pas une bonne idee dans>dan\n",
      "        \n",
      "    if len( mot )>2 and mot.lower() not in blacklist:       \n",
      "        if mot in words_count:\n",
      "            words_count[mot ] += 1\n",
      "        elif mot:\n",
      "            words_count[mot ] = 1\n",
      "  \n",
      "\n",
      "n_mots_globaux = len( words_count )\n",
      "\n",
      "print 'nbr mots: ', n_mots_globaux"
     ],
     "language": "python",
     "metadata": {},
     "outputs": [
      {
       "output_type": "stream",
       "stream": "stdout",
       "text": [
        "nbr mots:  15348\n"
       ]
      }
     ],
     "prompt_number": 417
    },
    {
     "cell_type": "code",
     "collapsed": false,
     "input": [
      "nMots = sum( [x for x in words_count.itervalues()] )\n",
      "print nMots"
     ],
     "language": "python",
     "metadata": {},
     "outputs": [
      {
       "output_type": "stream",
       "stream": "stdout",
       "text": [
        "78969\n"
       ]
      }
     ],
     "prompt_number": 418
    },
    {
     "cell_type": "code",
     "collapsed": false,
     "input": [
      "printSorted( words_count , 10)"
     ],
     "language": "python",
     "metadata": {},
     "outputs": [
      {
       "output_type": "stream",
       "stream": "stdout",
       "text": [
        "les (2631.00)  des (2125.00)  une (1279.00)  pour (1178.00)  dans (1094.00)  sur (910.00)  est (823.00)  qui (708.00)  par (657.00)  son (527.00) \n"
       ]
      }
     ],
     "prompt_number": 419
    },
    {
     "cell_type": "code",
     "collapsed": false,
     "input": [
      "words_count_dicoFr = {}\n",
      "notInDicoFr = {}\n",
      "for m, c in words_count.iteritems():\n",
      "\n",
      "    if m in dicoFr : # and c*n_mots > 1:\n",
      "        score = float( c )/float( nMots )  / (dicoFr[m]*1e-6)\n",
      "        words_count_dicoFr[m] = score\n",
      "    else:\n",
      "        score =  c /float( nMots )*1e3\n",
      "        notInDicoFr[m] = score\n",
      "        \n",
      "words_sorted_dicoFr = sorted(words_count_dicoFr.iteritems(), key = lambda x:x[1], reverse=True)\n",
      "notInDicoFr_sorted = sorted(notInDicoFr.iteritems(), key = lambda x:x[1], reverse=True)"
     ],
     "language": "python",
     "metadata": {},
     "outputs": [],
     "prompt_number": 420
    },
    {
     "cell_type": "code",
     "collapsed": false,
     "input": [
      "printSorted(words_count_dicoFr, 100)\n",
      "print '\\n'\n",
      "printSorted(notInDicoFr, 100)"
     ],
     "language": "python",
     "metadata": {},
     "outputs": [
      {
       "output_type": "stream",
       "stream": "stdout",
       "text": [
        "crash (8442.13)  dopage (6331.60)  airbus (4643.17)  partenariat (3798.96)  d\u00e9crypte (2954.75)  migratoire (2954.75)  extradition (2954.75)  migrants (2161.48)  quinquennat (2110.53)  attractivit\u00e9 (2110.53)  attentats (1809.83)  p\u00e9dophilie (1753.37)  volatilit\u00e9 (1688.43)  trisomie (1688.43)  palpations (1688.43)  vid\u00e9o (1547.72)  technologies (1392.95)  radicalisation (1363.73)  antiterroriste (1363.73)  piratage (1266.32)  interpell\u00e9es (1266.32)  islamistes (1266.32)  centristes (1266.32)  fragilis\u00e9 (1266.32)  enc\u00e9phalopathie (1266.32)  revivez (1266.32)  microc\u00e9phalie (1266.32)  exemplarit\u00e9 (1266.32)  kurdes (1266.32)  centriste (1055.27)  spiegel (1055.27)  \u00e9mergents (1055.27)  cubains (1013.06)  s\u00e9lectionneur (1013.06)  blanchiment (866.43)  connectent (844.21)  chiffrement (844.21)  shows (844.21)  castriste (844.21)  buralistes (844.21)  sexistes (844.21)  g\u00e9n\u00e9rer (844.21)  qu\u00e9b\u00e9cois (844.21)  logiciel (844.21)  aiguilleurs (844.21)  bruxelloise (844.21)  chiite (844.21)  fustige (844.21)  f\u00e9miniser (844.21)  r\u00e9\u00e9criture (844.21)  opposante (844.21)  b\u00e9n\u00e9volat (844.21)  affronteront (844.21)  bi\u00e8vres (844.21)  dysfonctionnements (844.21)  sponsors (844.21)  transf\u00e8rement (633.16)  ill\u00e9gaux (633.16)  kurde (633.16)  incontournable (554.01)  pr\u00e9sidentielle (518.04)  \u00e9cologiste (487.05)  d\u00e9cryptage (487.05)  harkis (487.05)  pesticides (466.54)  missiles (438.34)  photomontage (422.11)  divas (422.11)  limogeage (422.11)  improvisatrice (422.11)  horlog\u00e8res (422.11)  r\u00e9cusent (422.11)  d\u00e9clinera (422.11)  d\u00e9poussi\u00e8re (422.11)  plombent (422.11)  \u00e9lectoraliste (422.11)  pal\u00e9ontologue (422.11)  r\u00e9trop\u00e9dalage (422.11)  codirecteur (422.11)  booster (422.11)  transalpins (422.11)  d\u00e9sorganis\u00e9e (422.11)  meneau (422.11)  astrophysicien (422.11)  p\u00e9naux (422.11)  derby (422.11)  affranchissent (422.11)  y\u00e9m\u00e9nites (422.11)  emboutissage (422.11)  tyrannosaure (422.11)  cumulable (422.11)  a\u00e9rogares (422.11)  caritative (422.11)  d\u00e9sertification (422.11)  pilot\u00e9e (422.11)  n\u00e9gocierait (422.11)  d\u00e9localise (422.11)  polluante (422.11)  panda (422.11)  \u00e9pinglent (422.11)  \n",
        "\n",
        "France (4.57)  Bruxelles (3.89)  Europe (1.48)  Turquie (1.18)  Syrie (1.04)  Etats-Unis (0.79)  Fran\u00e7ois (0.66)  Sarkozy (0.63)  Nicolas (0.52)  Twitter (0.52)  Russie (0.48)  Allemagne (0.48)  Abdeslam (0.47)  Lula (0.46)  djihadiste (0.43)  Apple (0.43)  Molenbeek (0.43)  Valls (0.42)  start-up (0.42)  Lyon (0.39)  Michel (0.39)  djihadistes (0.39)  Royaume-Uni (0.38)  Pen (0.38)  Obama (0.38)  Espagne (0.34)  Fifa (0.34)  Gr\u00e8ce (0.34)  Euro (0.32)  Marseille (0.32)  Trump (0.32)  Ankara (0.32)  Cor\u00e9e (0.32)  PSG (0.30)  PDG (0.29)  iPhone (0.29)  Washington (0.27)  Philippe (0.27)  Volkswagen (0.27)  Macron (0.25)  week-end (0.25)  Afrique (0.25)  Internet (0.25)  Tunisie (0.25)  Isra\u00ebl (0.24)  Benzema (0.24)  Italie (0.23)  SNCF (0.23)  Alg\u00e9rie (0.23)  Google (0.23)  #Baselworld (0.23)  Toulouse (0.22)  internautes (0.22)  Pays-Bas (0.20)  Gen\u00e8ve (0.20)  Clinton (0.20)  Rio (0.20)  Facebook (0.20)  ONU (0.20)  Zaventem (0.20)  Jupp\u00e9 (0.20)  Ardennes (0.20)  Strasbourg (0.19)  Bruno (0.19)  Henri (0.19)  Palmyre (0.19)  Istanbul (0.19)  Moscou (0.19)  AFP (0.19)  Merah (0.19)  c\u0153ur (0.19)  EDF (0.18)  Mohamed (0.18)  Libye (0.18)  Ukraine (0.18)  Lille (0.18)  plate-forme (0.18)  Montpellier (0.18)  Castries (0.18)  \u00c9tats-Unis (0.16)  Barcelone (0.16)  FBI (0.16)  actu (0.16)  UDI (0.16)  Irak (0.16)  Ile-de-France (0.16)  Germanwings (0.16)  Y\u00e9men (0.15)  Renault (0.15)  SFR (0.15)  Hand (0.15)  est-il (0.15)  Foll (0.15)  CGT (0.15)  Zika (0.14)  BCE (0.14)  UE-Turquie (0.14)  Brexit (0.14)  NBA (0.14)  Grand-Bassam (0.14) \n"
       ]
      }
     ],
     "prompt_number": 421
    },
    {
     "cell_type": "code",
     "collapsed": false,
     "input": [
      "dicoFr[ 'axa' ]"
     ],
     "language": "python",
     "metadata": {},
     "outputs": [
      {
       "metadata": {},
       "output_type": "pyout",
       "prompt_number": 422,
       "text": [
        "0.03"
       ]
      }
     ],
     "prompt_number": 422
    },
    {
     "cell_type": "code",
     "collapsed": false,
     "input": [],
     "language": "python",
     "metadata": {},
     "outputs": [],
     "prompt_number": 338
    }
   ],
   "metadata": {}
  }
 ]
}