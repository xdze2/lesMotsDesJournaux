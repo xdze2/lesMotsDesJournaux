{
 "metadata": {
  "name": "",
  "signature": "sha256:faff9a88ef2ca03e5f59aa474a296d3a330b289561cf056ca7bc019a0bba786a"
 },
 "nbformat": 3,
 "nbformat_minor": 0,
 "worksheets": [
  {
   "cells": [
    {
     "cell_type": "code",
     "collapsed": false,
     "input": [
      "import json\n",
      "import re"
     ],
     "language": "python",
     "metadata": {},
     "outputs": [],
     "prompt_number": 212
    },
    {
     "cell_type": "code",
     "collapsed": false,
     "input": [
      "# Load \"liste des mots\"\n",
      "import codecs\n",
      "\n",
      "filename = './data_dico/liste_mots_utf8.txt'\n",
      "# cf: http://www.lexique.org/listes/liste_mots.txt\n",
      "# load\n",
      "with codecs.open(filename, encoding='utf-8') as f:\n",
      "    listemots = f.readlines()\n",
      "  \n",
      "for i, mot in enumerate( listemots ):\n",
      "    a = mot.split('\\t')\n",
      "    freq = float(a[1])\n",
      "    word = a[0]\n",
      "    listemots[i] = (word, freq)\n",
      "\n",
      "dicoFr = { x[0]:x[1] for x in listemots }"
     ],
     "language": "python",
     "metadata": {},
     "outputs": [],
     "prompt_number": 213
    },
    {
     "cell_type": "code",
     "collapsed": false,
     "input": [
      "def printSorted(dico, n = 200 ):\n",
      "    myDico_sorted = sorted(dico.iteritems(), key = lambda x:x[1], reverse=True)\n",
      "    for m, c in myDico_sorted[:n]:\n",
      "        print '%s (%0.2f) ' % (m, c),"
     ],
     "language": "python",
     "metadata": {},
     "outputs": [],
     "prompt_number": 214
    },
    {
     "cell_type": "code",
     "collapsed": false,
     "input": [
      "#\u00a0-- Load nUplets from Eleve --\n",
      "filename = './Eleve/data_nuplets.json'\n",
      "nuplets_count = json.loads(open(filename).read())\n",
      "\n",
      "print( 'nombre de nuplets: %i ' % len( nuplets_count ) )"
     ],
     "language": "python",
     "metadata": {},
     "outputs": [
      {
       "output_type": "stream",
       "stream": "stdout",
       "text": [
        "nombre de nuplets: 390 \n"
       ]
      }
     ],
     "prompt_number": 215
    },
    {
     "cell_type": "code",
     "collapsed": false,
     "input": [
      "sorted_nuplets = sorted( nuplets_count.items(), key=lambda x:x[1], reverse=True )\n",
      "\n",
      "output = [ x[0]+' (%i)'%x[1] for x in sorted_nuplets  ]\n",
      "print( '; '.join( output ) )"
     ],
     "language": "python",
     "metadata": {},
     "outputs": [
      {
       "output_type": "stream",
       "stream": "stdout",
       "text": [
        "Salah Abdeslam (120); 13 novembre (81); El Khomri (57); Manuel Valls (43); Barack Obama (41); Etat islamique (39); Donald Trump (37); loi El Khomri (36); Johan Cruyff (31); Top 14 (30); r\u00e9seaux sociaux (28); New York (24); Dilma Rousseff (23); \u00c9tat islamique (21); Emmanuel Macron (21); CAC 40 (17); El Bakraoui (17); vache folle (17); intelligence artificielle (16); Rolling Stones (15); la loi El Khomri (15); Indian Wells (15); cardinal Barbarin (14); extr\u00eame droite (14); Ted Cruz (14); Six nations (14); GP d'Australie (13); C\u00f4te d'Ivoire (13); Najim Laachraoui (13); Batman v Superman (13); St Moritz (13); R\u00e9mi Fraisse (13); \u00e9tat d\u2019urgence (13); Hillary Clinton (13); \u00e9lection pr\u00e9sidentielle (13); chiffre d'affaires (12); Front national (12); point d'indice (11); Patrice Talon (11); Projet d'attentat (11); bande dessin\u00e9e (11); Bernard Cazeneuve (11); r\u00e9vision constitutionnelle (11); organisation Etat islamique (11); Sven Mary (11); La dessinatrice Lisa Mandel (11); Suu Kyi (11); French Tech (11); Reda Kriket (10); Manchester City (10); conseil d'administration (10); perp\u00e9tuit\u00e9 r\u00e9elle (10); Bouygues Telecom (10); agressions sexuelles (10); p\u00e9nal international (10); Arabie saoudite (10); Guerre d'Alg\u00e9rie (9); Affaires \u00e9trang\u00e8res (9); Karim Benzema (9); Jeanne d'Arc (9); C\u00f4te d\u2019Ivoire (9); zone euro (9); spongiforme bovine (9); San Suu Kyi (9); Aung San Suu Kyi (9); entre eux (9); commission d'enqu\u00eate (9); Radovan Karadzic (8); Alain Decaux (8); Xavier Bertrand (8); Abdelkader Merah (8); contr\u00f4leurs a\u00e9riens (8); Tribunal p\u00e9nal (8); Fay\u00e7al Cheffou (8); Angela Merkel (8); Buenos Aires (8); cit\u00e9 antique (8); Edouard Louis (8); iPhone SE (8); Sylvie Leclerc (8); \u00eeles grecques (7); Myriam El Khomri (7); Serge Dassault (7); Cr\u00e9dit Mutuel (7); voiture pi\u00e9g\u00e9e (7); R\u00e9forme constitutionnelle (7); Serge Kampf (7); Patrick Kanner (7); Lionel Zinsou (7); sexe neutre (7); Los Angeles (7); San Antonio (7); Sassou Nguesso (7); commission d'enqu\u00eate parlementaire (7); Ibrahim El Bakraoui (7); r\u00e9alit\u00e9 virtuelle (7); Cour supr\u00eame (7); 13 Novembre (7); Nadia Savtchenko (7); R\u00e9publique dominicaine (7); Boko Haram (7); Bayern Munich (6); mandat d'arr\u00eat europ\u00e9en (6); Aur\u00e9lie Ch\u00e2telain (6); Real Madrid (6); soldat isra\u00e9lien (6); low cost (6); Formule 1 (6); Bernie Sanders (6); Carlos Ghosn (6); auteurs d'actes terroristes (6); Atletico Madrid (6); t\u00e9moin assist\u00e9 (6); Val\u00e9rie P\u00e9cresse (6); Jean-Marc Rouillan (6); 0 h (6); Florence Hartmann (6); Rob Ford (6); Jean-Christophe Lagarde (6); S\u00e9gol\u00e8ne Royal (6); Kamel Daoud (6); Raul Castro (6); Golden State (6); Charlie Hebdo (6); made in (6); Hinkley Point (6); personnellement pardon aux victimes (6); poids lourd (6); Antoine Demoiti\u00e9 (6); appartement perquisitionn\u00e9 (6); est \u00e9pargn\u00e9 (6); Marion Mar\u00e9chal-Le Pen (6); Zack Snyder (6); investiture r\u00e9publicaine (6); Nations unies (6); Action directe (5); Du soul\u00e8vement populaire (5); L\u00e9gislatives partielles (5); mati\u00e8res premi\u00e8res (5); Dominique Strauss-Kahn (5); Wall Street (5); Bruno Biais (5); cour d'appel (5); \u00e9mission diesel (5); Abdelhamid Abaaoud (5); Krzysztof Warlikowski (5); d\u00e9parts volontaires (5); transaction p\u00e9nale (5); Soufiane Kayal (5); March Madness (5); projet d'a\u00e9roport (5); Carlos Tavares (5); raids a\u00e9riens (5); Jean Lassalle (5); Accord UE-Turquie (5); Jim Harrison (5); Bison fut\u00e9 (5); Juliette Gr\u00e9co (5); BNP Paribas (5); SNCF R\u00e9seau (5); reconnue coupable (5); Lee Sedol (5); Vache folle (5); Jeb Bush (5); Guillaume Musso (5); Star Wars (5); militant \u00e9cologiste (5); bande organis\u00e9e (5); Maison Blanche (5); Laurent Ruquier (4); Jean-Luc M\u00e9lenchon (4); R\u00e9serve f\u00e9d\u00e9rale (4); Jean-Marc Ayrault (4); l\u00e9gislatives partielles (4); Festival S\u00e9ries Mania (4); pilote ukrainienne Savtchenko (4); pr\u00eatres p\u00e9dophiles (4); investiture d\u00e9mocrate (4); Laurent Berger (4); activement recherch\u00e9 (4); Sophie Marceau (4); Beno\u00eet XVI (4); pr\u00e9somption d\u2019innocence (4); Crit\u00e9rium international (4); optimisation fiscale (4); traitement inhumain (4); Sid Ahmed Ghlam (4); vos connaissances (4); tournoi final (4); Giulio Regeni (4); Christian Estrosi (4); Gilles Kepel (4); Big Data (4); assaillant palestinien (4); assembl\u00e9e g\u00e9n\u00e9rale (4); \u00e9coute t\u00e9l\u00e9phonique (4); cour d'appel d'Orl\u00e9ans (4); Renaud Lavillenie (4); ancienne porte-parole (4); salle Gaveau (4); meilleure baguette (4); taxe Nutella (4); projet d\u2019attentat (4); accident d'autocar (4); French Blue (4); insecticides n\u00e9onicotino\u00efdes (4); UE d'\u00e9mission (4); stopper l'afflux (4); vols annul\u00e9s (4); Ben Abbes (4); Air Coca\u00efne (4); moteurs truqu\u00e9s (4); Mariah Carey (4); raid a\u00e9rien (4); Meurtre d'Aur\u00e9lie Ch\u00e2telain (4); Jeux olympiques (4); farines animales (4); Maria Sharapova (4); French Touch (4); spectacles itin\u00e9rants (4); volume d'\u00e9changes (4); appris l'AFP (4); Jacqueline Sauvage (4); c\u00e9r\u00e9monie d\u2019hommage (4); Denis Sassou-Nguesso (4); John Kerry (4); Fidel Castro (4);  \u00e9trangleur (4); changement climatique (4); Nicolas Charbonnier (4); Milan-San Remo (4); Europa League (4); Nadejda Savtchenko (4); Thomas Buberl (4); Jean-Pierre Farandou (4); Drawing after (4); Credit Suisse (4); \u00e9nergies renouvelables (4); Mohamed Abrini (4); Jacques-Antoine Granjon (4); \u00e9tablissement d'une r\u00e9gion f\u00e9d\u00e9rale (4); iPad Pro (4); fans zone (4); conseil r\u00e9gional (4); Galeries Lafayette (4); d\u00e9but d'ann\u00e9e (4); XIXe si\u00e8cle (4); Htin Kyaw (4); Sophie Moinas (3); CRS Alpes (3); tribunal correctionnel (3); SOS M\u00e9diterran\u00e9e (3); t\u00eates d\u2019affiche (3); mariage homosexuel (3); virus Ebola (3); attentats perp\u00e9tr\u00e9s (3); station Maelbeek (3); Abderamane A. (3); Bang & Olufsen (3); trading haute fr\u00e9quence (3); geste significatif (3); Donald Tusk (3); Laurent Wauquiez (3); Prix Nobel (3); da Silva (3); a sauv\u00e9 (3); Plac\u00e9 appellera (3); Cour p\u00e9nale internationale (3); Meir Dagan (3); CGT FO FSU (3); BHF Kleinwort (3); Ben Guerdane (3); Jeux Olympiques (3); attractions touristiques (3); pr\u00e9somption d'innocence (3); commotions c\u00e9r\u00e9brales (3); pop star (3); Hong Kong (3); Telecom Italia (3); taux interbancaire (3); Super Tuesday (3); treize \u00e9tudiantes (3); Savtchenko reconnue coupable (3); Emmanuelle Cosse (3); Merrick Garland (3); 50e pole (3); pilote d'h\u00e9licopt\u00e8re (3); missiles balistiques (3); applications mobiles (3); Iggy Pop (3); Ban Ki-moon (3); St\u00e9phane H. (3); plaque tournante (3); grandes m\u00e9tropoles (3); Lewis Hamilton (3); logements neufs (3); Sao Paulo (3); enc\u00e9phalopathie spongiforme bovine (ESB) (3); Mohamed Belka\u00efd (3); Miley Cyrus (3); Johan Leman (3); Mario Greco (3); Mondial 2006 (3); organisations patronales (3); Rokhaya Diallo (3); 70e \u00e9dition (3); Marcel Desailly (3); fins personnelles (3); heure d\u2019\u00e9t\u00e9 (3); couples homosexuels (3); engin explosif (3); Bachar Al-Assad (3); Tour d\u2019horizon (3); to B (3); indice vedette (3); Atl\u00e9tico Madrid (3); Morceaux choisis (3); Farouk Ben Abbes (3); manifestants nationalistes (3); Jeremie Berrebi (3); Poutou d\u00e9sign\u00e9 (3); David Bowie (3); Rafael Nadal (3); Anthony Dubois (3); zones d'ombre (3); perte nette (3); Zurich Insurance (3); Isabelle Huppert (3); Vladimir Poutine (3); bailleur social (3); pape \u00e9m\u00e9rite (3); \u00e9lections r\u00e9gionales (3); Munich R\u00e9 (3); d\u00e9bris trouv\u00e9s (3); Financial Times (3); Bon Coin (3); Axa Henri (3); FC Barcelone (3); seuls binationaux (3); mariage gay (3); Bank of (3); agences immobili\u00e8res (3); Manchester United (3); Guy Nov\u00e8s (3); talibans pakistanais (3); Mgr Barbarin (3); Denis Duverne (3); nationalit\u00e9s diff\u00e9rentes (3); Belgique 13 nouvelles perquisitions (3); chanceli\u00e8re allemande (3); Alain Marsaud (3); Admission post-bac (3); Banco Popolare (3); Ra\u00fal Castro (3); hors norme (3); chronique Open (3); travaux forc\u00e9s (3); masse salariale (3); Recep Tayyip (3); business angels (3); Julia Roberts (3); gaz naturel (3); J. J. Abrams (3); frappes a\u00e9riennes (3); Champions League (3); Anne Hidalgo (3); heure d'\u00e9t\u00e9 (3); membres d'\u00e9quipage (3); Angelina Jolie (3); salon horloger (3); parc d'attractions (3); perp\u00e9tuit\u00e9 effective (3); creuse l'\u00e9cart (3); Silicon Valley (3); je n\u2019ai (3); UFC-Que Choisir (3); Rahmane al-Qadouli (3); demandeurs d\u2019asile (3); Amedy Coulibaly (3); contr\u00f4l\u00e9s positifs (3); listes \u00e9lectorales (3); Brahim Abdeslam (3); Qui l'e\u00fbt cru (3); The Economist (3); demandeurs d'emploi (3); Thierry Foucault (3); Eagles of Death Metal (3); ski alpin (3); Julien Lepers (3); Daniel Cohn-Bendit (3)\n"
       ]
      }
     ],
     "prompt_number": 216
    },
    {
     "cell_type": "code",
     "collapsed": false,
     "input": [
      "# -- Load data4eleve --\n",
      "filename = './Eleve/data4eleve.json'\n",
      "data4eleve = json.loads(open(filename).read())"
     ],
     "language": "python",
     "metadata": {},
     "outputs": [],
     "prompt_number": 217
    },
    {
     "cell_type": "code",
     "collapsed": false,
     "input": [
      "#\u00a0count and remove nuplet from formatted text\n",
      "for post in data4eleve:\n",
      "    post['count'] = {}\n",
      "    for nuplet in nuplets_count.iterkeys():\n",
      "        c = 0\n",
      "        while nuplet in post['formatedtext']:\n",
      "            c += 1\n",
      "            post['formatedtext'] = post['formatedtext'].replace(  nuplet, u'' )\n",
      "        if c > 0:\n",
      "            post['count'].update( {nuplet:c} )"
     ],
     "language": "python",
     "metadata": {},
     "outputs": [],
     "prompt_number": 218
    },
    {
     "cell_type": "code",
     "collapsed": false,
     "input": [
      "blacklist = ['etat', 'etats', 'euros', u'est-il', 'actu', u'a-t-il']\n",
      "blacklist.extend( ['axa', u'apr\u00e8s-midi', 'a-t-elle', 'faut-il', u'peut-\u00eatre', 'the', 'sont-elles'] )\n",
      "blacklist.extend(['week-end', u'lui-m\u00eame', u\"qu'on\", 'celle-ci', 'celui-ci', u'au-del\u00e0', 'est-elle', 'sont-ils'])\n",
      "blacklist.extend([u'Lib\u00e9', u'\u0153il', u'\u0153uvre'])\n",
      "# stopwords\n",
      "blacklist.extend(['les', 'des', u'est', u\"\u00e9t\u00e9\", 'pour', 'contre', u'pas', 'dans', 'qui', 'que', 'lui', 'ses', 'une']) \n",
      "blacklist.extend(['avait', 'sur', 'voici', 'avec', 'comme', 'cela', 'aux', 'cette', 'par', 'selon', u'apr\u00e8s', 'fait', 'faire'])\n",
      "blacklist.extend(['nous', 'vous', 'ils', 'elle', 'elles', 'eux', 'ont', 'avez', 'avons','plus', 'ainsi', 'leur', u'\u00eatre'])\n",
      "blacklist.extend(['tout', 'tous', 'toutes', 'depuis', 'moins', 'plus'])\n",
      "\n",
      "\n",
      "\n",
      "# count words\n",
      "words_count = {}\n",
      "for post in data4eleve:\n",
      "    mots = post['formatedtext'].split(' ')\n",
      "    \n",
      "    for mot in mots:\n",
      "        mot = re.sub(u\"[Aa]ujourd.hui\",  '', mot)\n",
      "        mot = re.sub(u\"jusqu.([\u00e0a]|en)\",  '', mot)\n",
      "\n",
      "        mot = re.sub(u\"(^|\\s)[LldDsSnNcC]['`\u2019]\", \"\", mot)\n",
      "        mot = re.sub(u\"(^|\\s)qu['`\u2019]\", \"\", mot)\n",
      "        mot = re.sub(r\"[0-9\\.\\(\\)]\", u'', mot)\n",
      "        mot = re.sub(r\"-$\", u'', mot) \n",
      "        mot = re.sub(r\"\\s\", u'', mot)\n",
      "\n",
      "        if mot.lower() in dicoFr:\n",
      "            mot = mot.lower()     \n",
      "\n",
      "        #if mot.endswith( 's' ) and mot[0:-1] in dicoFr:\n",
      "        #    mot = mot[:-1]      ... pas une bonne idee dans>dan\n",
      "\n",
      "        if len( mot )>2 and mot.lower() not in blacklist:       \n",
      "            if mot in words_count:\n",
      "                words_count[ mot ] += 1\n",
      "            elif mot:\n",
      "                words_count[ mot ] = 1\n",
      "                \n",
      "            if mot in post['count']:\n",
      "                post['count'][ mot ] += 1\n",
      "            elif mot:\n",
      "                post['count'][ mot ] = 1"
     ],
     "language": "python",
     "metadata": {},
     "outputs": [],
     "prompt_number": 234
    },
    {
     "cell_type": "code",
     "collapsed": false,
     "input": [
      "data4eleve[139]"
     ],
     "language": "python",
     "metadata": {},
     "outputs": [
      {
       "metadata": {},
       "output_type": "pyout",
       "prompt_number": 233,
       "text": [
        "{'count': {u'Europe': 1,\n",
        "  u'Gr\\xe8ce': 1,\n",
        "  u'Turquie': 3,\n",
        "  u'accorde': 1,\n",
        "  u'arriv\\xe9s': 1,\n",
        "  u'compris': 1,\n",
        "  u'doivent': 1,\n",
        "  u'd\\xe8s': 1,\n",
        "  u'd\\xe9triment': 1,\n",
        "  u'finaliser': 1,\n",
        "  u'jeudi': 1,\n",
        "  u'mars': 1,\n",
        "  u'migrants': 1,\n",
        "  u'projet': 1,\n",
        "  u'pr\\xe9voit': 1,\n",
        "  u'quand': 1,\n",
        "  u'renvoi': 1,\n",
        "  u'r\\xe9fugi\\xe9s': 1,\n",
        "  u'syriens': 1,\n",
        "  u'valeurs': 1,\n",
        "  u'\\xe9labor\\xe9': 1},\n",
        " u'date': u'2016-03-16T13:03:09',\n",
        " u'description': u'D\\xe8s jeudi, l\\u2019UE et la Turquie doivent finaliser le projet \\xe9labor\\xe9 le 7 mars qui pr\\xe9voit le renvoi en Turquie de tous les migrants, y compris les r\\xe9fugi\\xe9s syriens arriv\\xe9s en Gr\\xe8ce.',\n",
        " u'formatedtext': u'Quand l\\u2019Europe s\\u2019accorde avec la Turquie au d\\xe9triment de ses valeurs D\\xe8s jeudi l\\u2019UE et la Turquie doivent finaliser le projet \\xe9labor\\xe9 le 7 mars qui pr\\xe9voit le renvoi en Turquie de tous les migrants y compris les r\\xe9fugi\\xe9s syriens arriv\\xe9s en Gr\\xe8ce',\n",
        " u'source': u'leMonde',\n",
        " u'title': u'Quand l\\u2019Europe s\\u2019accorde avec la Turquie au d\\xe9triment de ses valeurs'}"
       ]
      }
     ],
     "prompt_number": 233
    },
    {
     "cell_type": "code",
     "collapsed": false,
     "input": [
      "printSorted( words_count , 40)"
     ],
     "language": "python",
     "metadata": {},
     "outputs": [
      {
       "output_type": "stream",
       "stream": "stdout",
       "text": [
        "son (667.00)  attentats (466.00)  France (461.00)  Bruxelles (448.00)  ans (381.00)  sont (318.00)  paris (308.00)  deux (305.00)  fran\u00e7ais (285.00)  mars (278.00)  mais (232.00)  entre (215.00)  travail (211.00)  loi (202.00)  ministre (201.00)  groupe (193.00)  avoir (191.00)  pr\u00e9sident (187.00)  jeudi (183.00)  premier (173.00)  pays (172.00)  lors (169.00)  monde (169.00)  mardi (164.00)  projet (159.00)  \u00e9tait (151.00)  nouveau (151.00)  Europe (146.00)  face (143.00)  sans (138.00)  millions (136.00)  trois (135.00)  veut (131.00)  gouvernement (131.00)  dimanche (130.00)  mois (130.00)  tr\u00e8s (123.00)  vendredi (122.00)  homme (122.00)  nouvelle (121.00) \n"
       ]
      }
     ],
     "prompt_number": 221
    },
    {
     "cell_type": "code",
     "collapsed": false,
     "input": [
      "words_count_dicoFr = {}\n",
      "notInDicoFr = {}\n",
      "for m, c in words_count.iteritems():\n",
      "\n",
      "    if m in dicoFr : # and c*n_mots > 1:\n",
      "        score = float( c )/float( nMots )  / (dicoFr[m]*1e-6)\n",
      "        words_count_dicoFr[m] = score\n",
      "    else:\n",
      "        score =  c #/float( nMots )*1e3\n",
      "        notInDicoFr[m] = score\n",
      "        \n",
      "words_sorted_dicoFr = sorted(words_count_dicoFr.iteritems(), key = lambda x:x[1], reverse=True)\n",
      "notInDicoFr_sorted = sorted(notInDicoFr.iteritems(), key = lambda x:x[1], reverse=True)"
     ],
     "language": "python",
     "metadata": {},
     "outputs": [],
     "prompt_number": 222
    },
    {
     "cell_type": "code",
     "collapsed": false,
     "input": [
      "len( words_sorted_dicoFr )"
     ],
     "language": "python",
     "metadata": {},
     "outputs": [
      {
       "metadata": {},
       "output_type": "pyout",
       "prompt_number": 223,
       "text": [
        "12775"
       ]
      }
     ],
     "prompt_number": 223
    },
    {
     "cell_type": "code",
     "collapsed": false,
     "input": [
      "printSorted(words_count_dicoFr, 200)\n",
      "print '\\n'\n",
      "printSorted(notInDicoFr, 200)"
     ],
     "language": "python",
     "metadata": {},
     "outputs": [
      {
       "output_type": "stream",
       "stream": "stdout",
       "text": [
        "crash (9068.58)  dopage (8280.01)  partenariat (5125.72)  airbus (4337.15)  quinquennat (3548.57)  d\u00e9crypte (3154.29)  migratoire (2957.15)  extradition (2957.15)  islamistes (2760.00)  attentats (2438.99)  migrants (2426.90)  attractivit\u00e9 (2365.72)  antiterroriste (2274.73)  volatilit\u00e9 (1971.43)  piratage (1971.43)  centristes (1971.43)  trisomie (1971.43)  p\u00e9dophilie (1910.77)  radicalisation (1819.78)  interpell\u00e9es (1577.14)  centriste (1577.14)  \u00e9cosyst\u00e8me (1577.14)  palpations (1577.14)  microc\u00e9phalie (1577.14)  antiraciste (1577.14)  kurdes (1478.57)  technologies (1419.43)  spiegel (1380.00)  y\u00e9m\u00e9nites (1182.86)  chiffrement (1182.86)  ivoirienne (1182.86)  buralistes (1182.86)  fragilis\u00e9 (1182.86)  bruxelloise (1182.86)  chiite (1182.86)  revivez (1182.86)  r\u00e9\u00e9criture (1182.86)  b\u00e9n\u00e9volat (1182.86)  exemplarit\u00e9 (1182.86)  dysfonctionnements (1182.86)  \u00e9mergents (1182.86)  cubains (1064.57)  s\u00e9lectionneur (1064.57)  majoritairement (985.72)  logiciel (985.72)  enc\u00e9phalopathie (985.72)  fustige (985.72)  sponsors (985.72)  blanchiment (871.58)  cannabis (788.57)  questionnements (788.57)  connectent (788.57)  interceptions (788.57)  shows (788.57)  castriste (788.57)  event (788.57)  mon\u00e9gasque (788.57)  chutent (788.57)  sexistes (788.57)  r\u00e9\u00e9crite (788.57)  isra\u00e9liennes (788.57)  g\u00e9n\u00e9rer (788.57)  chroniqueuse (788.57)  sponsoring (788.57)  qu\u00e9b\u00e9cois (788.57)  soignants (788.57)  recentrer (788.57)  aiguilleurs (788.57)  kiwi (788.57)  r\u00e9silience (788.57)  f\u00e9miniser (788.57)  plafonnement (788.57)  opposante (788.57)  pl\u00e9biscitent (788.57)  hypothermie (788.57)  affronteront (788.57)  chrismale (788.57)  bi\u00e8vres (788.57)  t\u00e9l\u00e9visuels (788.57)  d\u00e9sengagement (788.57)  d\u00e9cryptage (727.91)  congolais (709.71)  pesticides (684.81)  palestinien (617.14)  transf\u00e8rement (591.43)  libyenne (591.43)  derby (591.43)  dangerosit\u00e9 (591.43)  a\u00e9rogares (591.43)  conforte (591.43)  concerneront (591.43)  interview\u00e9e (591.43)  ill\u00e9gaux (591.43)  populisme (591.43)  facturer (591.43)  extrad\u00e9 (591.43)  incontournable (591.43)  kurde (591.43)  terrorisme (563.27)  pr\u00e9sidentielle (555.58)  missiles (545.93)  p\u00e9dophiles (545.93)  kamikazes (530.25)  bruxellois (517.50)  terroriste (508.99)  m\u00e9diatique (498.05)  n\u00e9erlandaise (489.46)  contournement (473.14)  comp\u00e9titivit\u00e9 (454.95)  migrant (454.95)  harkis (454.95)  m\u00e9dias (452.70)  palestiniens (424.62)  vid\u00e9o (413.06)  pr\u00e9sum\u00e9s (407.88)  herbicide (394.29)  muselle (394.29)  liquidateurs (394.29)  adoubements (394.29)  photomontage (394.29)  divas (394.29)  limogeage (394.29)  improvisatrice (394.29)  horlog\u00e8res (394.29)  d\u00e9clinera (394.29)  agha (394.29)  d\u00e9poussi\u00e8re (394.29)  plombent (394.29)  sponsor (394.29)  \u00e9lectoraliste (394.29)  pal\u00e9ontologue (394.29)  codirecteur (394.29)  booster (394.29)  transalpins (394.29)  voteront (394.29)  d\u00e9sorganis\u00e9e (394.29)  meneau (394.29)  astrophysicien (394.29)  p\u00e9naux (394.29)  affranchissent (394.29)  popularit\u00e9s (394.29)  tyrannosaure (394.29)  cumulable (394.29)  emboutissage (394.29)  touareg (394.29)  caritative (394.29)  d\u00e9sertification (394.29)  lynch\u00e9e (394.29)  pilot\u00e9e (394.29)  n\u00e9gocierait (394.29)  polluante (394.29)  caricaturant (394.29)  \u00e9pinglent (394.29)  surclass\u00e9e (394.29)  pr\u00e9sidera (394.29)  intox (394.29)  bazookas (394.29)  capteurs (394.29)  banalise (394.29)  saoudiennes (394.29)  spi (394.29)  lifting (394.29)  d\u00e9fieront (394.29)  r\u00e9invent\u00e9e (394.29)  habilitations (394.29)  colocataires (394.29)  contres (394.29)  m\u00e9thaniers (394.29)  vulgarisent (394.29)  boulingrin (394.29)  fragilise (394.29)  dop\u00e9es (394.29)  start (394.29)  guillon (394.29)  d\u00e9localise (394.29)  cerclage (394.29)  r\u00e9cusent (394.29)  boycott (394.29)  relanc\u00e9es (394.29)  impuls\u00e9 (394.29)  truste (394.29)  \u00e9crou\u00e9 (394.29)  condamnez (394.29)  irakiens (394.29)  hospitalis\u00e9es (394.29)  contact\u00e9s (394.29)  robotisation (394.29)  \u00e9litisme (394.29)  grau (394.29)  populismes (394.29)  sond\u00e9s (394.29)  ol\u00e9iculteurs (394.29)  pass\u00e9istes (394.29)  motoristes (394.29)  g\u00e9opolitiques (394.29)  historial (394.29)  positionnement (394.29)  panda (394.29)  liberticide (394.29)  photovolta\u00efque (394.29)  \n",
        "\n",
        "France (461.00)  Bruxelles (448.00)  Europe (146.00)  Syrie (116.00)  Turquie (109.00)  Fran\u00e7ois (80.00)  Etats-Unis (80.00)  Molenbeek (59.00)  Sarkozy (55.00)  Palmyre (51.00)  Euro (49.00)  Twitter (49.00)  Allemagne (47.00)  djihadiste (45.00)  Russie (44.00)  Nicolas (42.00)  Abdeslam (42.00)  djihadistes (41.00)  Valls (39.00)  Obama (39.00)  Michel (39.00)  Lyon (38.00)  Apple (38.00)  Volkswagen (38.00)  Royaume-Uni (37.00)  Lula (37.00)  start-up (36.00)  Pays-Bas (35.00)  Pen (35.00)  Italie (35.00)  Philippe (34.00)  Gr\u00e8ce (34.00)  Trump (31.00)  Espagne (30.00)  Internet (30.00)  Washington (29.00)  Isra\u00ebl (29.00)  PDG (28.00)  PSG (27.00)  ONU (27.00)  Marseille (27.00)  Ankara (27.00)  Google (27.00)  Fifa (27.00)  Cor\u00e9e (26.00)  Daech (25.00)  Afrique (25.00)  Irak (24.00)  Zaventem (24.00)  Toulouse (23.00)  Jupp\u00e9 (23.00)  SNCF (22.00)  EDF (21.00)  Bruno (21.00)  Clinton (21.00)  \u00c9tats-Unis (21.00)  Alg\u00e9rie (21.00)  Benzema (21.00)  internautes (21.00)  NBA (20.00)  Tunisie (20.00)  Ile-de-France (20.00)  Miami (20.00)  Istanbul (19.00)  Montpellier (19.00)  AFP (19.00)  #Baselworld (19.00)  Strasbourg (18.00)  Rio (18.00)  Y\u00e9men (18.00)  Facebook (18.00)  Macron (18.00)  Renault (18.00)  UDI (18.00)  plate-forme (18.00)  Pakistan (17.00)  Gen\u00e8ve (17.00)  Brexit (17.00)  Barcelone (17.00)  Ukraine (17.00)  Sivens (17.00)  iPhone (17.00)  c\u0153ur (17.00)  Ardennes (17.00)  Libye (16.00)  Sanders (16.00)  FBI (16.00)  Lille (16.00)  Insee (16.00)  PIB (15.00)  Moscou (15.00)  Germanwings (15.00)  Merah (15.00)  islamiste (15.00)  ONG (14.00)  Zika (14.00)  Mohamed (14.00)  UE-Turquie (14.00)  RATP (14.00)  Castries (14.00)  Hand (14.00)  CGT (14.00)  Henri (13.00)  Lagard\u00e8re (13.00)  Arnaud (13.00)  Nigeria (13.00)  ESB (13.00)  Web (13.00)  Am\u00e9rique (13.00)  SFR (13.00)  Pologne (13.00)  INFOGRAPHIE (13.00)  Cruyff (13.00)  ex-pr\u00e9sident (13.00)  Foll (13.00)  Notre-Dame-des-Landes (12.00)  Asie (12.00)  BCE (12.00)  David (12.00)  Thierry (12.00)  Vincent (12.00)  Egypte (12.00)  Grand-Bassam (12.00)  d\u00e9put\u00e9e (12.00)  Deschamps (12.00)  Qatar (12.00)  Medef (12.00)  Microsoft (12.00)  Khalid (12.00)  Birmanie (11.00)  Australie (11.00)  Irlande (11.00)  jihadistes (11.00)  D\u00e9mare (11.00)  CFDT (11.00)  Argenteuil (11.00)  biodiversit\u00e9 (11.00)  Didier (11.00)  Uber (11.00)  djihad (11.00)  Bretagne (11.00)  St\u00e9phane (11.00)  PNR (10.00)  cofondateur (10.00)  Eiffel (10.00)  Djokovic (10.00)  prud'hommes (10.00)  Instagram (10.00)  Bosnie (10.00)  Saint-Denis (10.00)  Blatter (10.00)  Shanghai (10.00)  James (10.00)  Floride (10.00)  vid\u00e9os (10.00)  Mossoul (10.00)  JDD (10.00)  suspect-cl\u00e9 (10.00)  Yasmine (10.00)  Grande-Bretagne (10.00)  Erdogan (10.00)  Bouagga (10.00)  informatiques (10.00)  Colombie (9.00)  Antoine (9.00)  Barbarin (9.00)  Niger (9.00)  Bernard (9.00)  Biathlon (9.00)  bio (9.00)  Ford (9.00)  Idomeni (9.00)  Eric (9.00)  Amsterdam (9.00)  Vingt-Huit (9.00)  Aung (9.00)  Poutine (9.00)  Kerviel (9.00)  supporteurs (9.00)  Nancy (9.00)  Canal+ (9.00)  Christophe (9.00)  Economie (9.00)  Alonso (9.00)  Jean-Marie (9.00)  Orly (9.00)  smartphones (9.00)  PSA (9.00)  Times (9.00)  Hamilton (8.00)  communautarisme (8.00)  Generali (8.00)  Arizona (8.00)  attentat-suicide (8.00)  Dupond-Moretti (8.00)  meldonium (8.00)  George (8.00)  Rome (8.00)  Maelbeek (8.00)  Big (8.00) \n"
       ]
      }
     ],
     "prompt_number": 224
    },
    {
     "cell_type": "code",
     "collapsed": false,
     "input": [
      "print notInDicoFr_sorted[-50:]"
     ],
     "language": "python",
     "metadata": {},
     "outputs": [
      {
       "output_type": "stream",
       "stream": "stdout",
       "text": [
        "[(u'Startups', 1), (u'Micallef', 1), (u'CIB', 1), (u'Saint-Valentin', 1), (u'Fessenheim', 1), (u'Laden', 1), (u'Gheit', 1), (u'CIO', 1), (u'Bourion', 1), (u'Alg\\xe9rie-Focus', 1), (u'Ph\\xe8dre\\u2009', 1), (u'Niro', 1), (u'shooting', 1), (u'Mobilettre', 1), (u'camion-citerne', 1), (u'coproduite', 1), (u'taekwondo', 1), (u'Vans', 1), (u'Daoudi', 1), (u'Imad', 1), (u'Yesterday', 1), (u'Fanny', 1), (u\"'vivre\", 1), (u'autopromotionnelle', 1), (u'h\\xe9raultaise', 1), (u'quintet', 1), (u'r\\xe9visent', 1), (u'Blankets', 1), (u'Djamal', 1), (u'\\u2009concurrence', 1), (u'Milton', 1), (u'Reims', 1), (u'Michaela', 1), (u'Zeitung', 1), (u'Lussault', 1), (u'Jordanie', 1), (u\"t'oublierons\", 1), (u'sous-emploi', 1), (u'cybers\\xe9curit\\xe9', 1), (u'Louxor', 1), (u'\\u2009Zdar\\u2009', 1), (u'Costa', 1), (u'saigne\\u2009', 1), (u'Zavantem', 1), (u'Sang-froid', 1), (u'Tsipras', 1), (u'ex-commandant', 1), (u'Olfeo', 1), (u'Ba\\xefkonour', 1), (u'Guillermo', 1)]\n"
       ]
      }
     ],
     "prompt_number": 225
    },
    {
     "cell_type": "code",
     "collapsed": false,
     "input": [
      "#\u00a0Merge :"
     ],
     "language": "python",
     "metadata": {},
     "outputs": [],
     "prompt_number": 226
    },
    {
     "cell_type": "code",
     "collapsed": false,
     "input": [
      "maxDicoFr, scoreMax = words_sorted_dicoFr[0]\n",
      "normalisation = words_count[maxDicoFr]/float( scoreMax )\n",
      "\n",
      "print scoreMax\n",
      "words_dicoFr_normed = { k:count*normalisation for k, count in words_count_dicoFr.iteritems() }"
     ],
     "language": "python",
     "metadata": {},
     "outputs": [
      {
       "output_type": "stream",
       "stream": "stdout",
       "text": [
        "9068.57816523\n"
       ]
      }
     ],
     "prompt_number": 227
    },
    {
     "cell_type": "code",
     "collapsed": false,
     "input": [
      "signifiants = {}\n",
      "signifiants.update( notInDicoFr )\n",
      "\n",
      "signifiants.update( nuplets_count )\n",
      "signifiants.update( words_dicoFr_normed )\n",
      "\n",
      "print len( signifiants )"
     ],
     "language": "python",
     "metadata": {},
     "outputs": [
      {
       "output_type": "stream",
       "stream": "stdout",
       "text": [
        "18417\n"
       ]
      }
     ],
     "prompt_number": 228
    },
    {
     "cell_type": "code",
     "collapsed": false,
     "input": [
      "printSorted(signifiants, 400)"
     ],
     "language": "python",
     "metadata": {},
     "outputs": [
      {
       "output_type": "stream",
       "stream": "stdout",
       "text": [
        "France (461.00)  Bruxelles (448.00)  Europe (146.00)  Salah Abdeslam (120.00)  Syrie (116.00)  Turquie (109.00)  13 novembre (81.00)  Etats-Unis (80.00)  Fran\u00e7ois (80.00)  Molenbeek (59.00)  El Khomri (57.00)  Sarkozy (55.00)  Palmyre (51.00)  Euro (49.00)  Twitter (49.00)  Allemagne (47.00)  djihadiste (45.00)  Russie (44.00)  Manuel Valls (43.00)  Abdeslam (42.00)  Nicolas (42.00)  djihadistes (41.00)  Barack Obama (41.00)  Valls (39.00)  Michel (39.00)  Etat islamique (39.00)  Obama (39.00)  Lyon (38.00)  Volkswagen (38.00)  Apple (38.00)  Lula (37.00)  Royaume-Uni (37.00)  Donald Trump (37.00)  start-up (36.00)  loi El Khomri (36.00)  Italie (35.00)  Pays-Bas (35.00)  Pen (35.00)  Philippe (34.00)  Gr\u00e8ce (34.00)  Trump (31.00)  Johan Cruyff (31.00)  Internet (30.00)  Top 14 (30.00)  Espagne (30.00)  Washington (29.00)  Isra\u00ebl (29.00)  r\u00e9seaux sociaux (28.00)  PDG (28.00)  Fifa (27.00)  ONU (27.00)  Ankara (27.00)  Google (27.00)  PSG (27.00)  Marseille (27.00)  Cor\u00e9e (26.00)  Daech (25.00)  Afrique (25.00)  Irak (24.00)  Zaventem (24.00)  New York (24.00)  Jupp\u00e9 (23.00)  Dilma Rousseff (23.00)  Toulouse (23.00)  crash (23.00)  SNCF (22.00)  \u00c9tats-Unis (21.00)  internautes (21.00)  Clinton (21.00)  EDF (21.00)  \u00c9tat islamique (21.00)  Benzema (21.00)  Alg\u00e9rie (21.00)  Bruno (21.00)  dopage (21.00)  Emmanuel Macron (21.00)  NBA (20.00)  Tunisie (20.00)  Ile-de-France (20.00)  Miami (20.00)  Montpellier (19.00)  Istanbul (19.00)  #Baselworld (19.00)  AFP (19.00)  Rio (18.00)  Facebook (18.00)  Renault (18.00)  UDI (18.00)  Macron (18.00)  Strasbourg (18.00)  Y\u00e9men (18.00)  plate-forme (18.00)  CAC 40 (17.00)  Sivens (17.00)  Barcelone (17.00)  El Bakraoui (17.00)  vache folle (17.00)  Gen\u00e8ve (17.00)  Ardennes (17.00)  iPhone (17.00)  Brexit (17.00)  Ukraine (17.00)  c\u0153ur (17.00)  Pakistan (17.00)  Lille (16.00)  intelligence artificielle (16.00)  Sanders (16.00)  Libye (16.00)  Insee (16.00)  FBI (16.00)  PIB (15.00)  la loi El Khomri (15.00)  Indian Wells (15.00)  Rolling Stones (15.00)  Merah (15.00)  islamiste (15.00)  Moscou (15.00)  Germanwings (15.00)  Zika (14.00)  Hand (14.00)  Ted Cruz (14.00)  ONG (14.00)  cardinal Barbarin (14.00)  UE-Turquie (14.00)  extr\u00eame droite (14.00)  CGT (14.00)  RATP (14.00)  Mohamed (14.00)  Castries (14.00)  Six nations (14.00)  Arnaud (13.00)  Pologne (13.00)  Hillary Clinton (13.00)  \u00e9tat d\u2019urgence (13.00)  Web (13.00)  Lagard\u00e8re (13.00)  \u00e9lection pr\u00e9sidentielle (13.00)  Henri (13.00)  INFOGRAPHIE (13.00)  Najim Laachraoui (13.00)  C\u00f4te d'Ivoire (13.00)  St Moritz (13.00)  partenariat (13.00)  GP d'Australie (13.00)  SFR (13.00)  Am\u00e9rique (13.00)  Cruyff (13.00)  Batman v Superman (13.00)  ex-pr\u00e9sident (13.00)  Foll (13.00)  ESB (13.00)  Nigeria (13.00)  R\u00e9mi Fraisse (13.00)  BCE (12.00)  Thierry (12.00)  Khalid (12.00)  Vincent (12.00)  Deschamps (12.00)  Qatar (12.00)  Front national (12.00)  chiffre d'affaires (12.00)  Egypte (12.00)  Asie (12.00)  d\u00e9put\u00e9e (12.00)  Microsoft (12.00)  Medef (12.00)  Grand-Bassam (12.00)  David (12.00)  Notre-Dame-des-Landes (12.00)  airbus (11.00)  Patrice Talon (11.00)  point d'indice (11.00)  Bernard Cazeneuve (11.00)  jihadistes (11.00)  Sven Mary (11.00)  D\u00e9mare (11.00)  Argenteuil (11.00)  Didier (11.00)  Bretagne (11.00)  St\u00e9phane (11.00)  Suu Kyi (11.00)  r\u00e9vision constitutionnelle (11.00)  Irlande (11.00)  CFDT (11.00)  biodiversit\u00e9 (11.00)  Uber (11.00)  bande dessin\u00e9e (11.00)  djihad (11.00)  La dessinatrice Lisa Mandel (11.00)  Australie (11.00)  Birmanie (11.00)  Projet d'attentat (11.00)  organisation Etat islamique (11.00)  French Tech (11.00)  perp\u00e9tuit\u00e9 r\u00e9elle (10.00)  Blatter (10.00)  suspect-cl\u00e9 (10.00)  agressions sexuelles (10.00)  conseil d'administration (10.00)  informatiques (10.00)  Manchester City (10.00)  James (10.00)  Arabie saoudite (10.00)  Bouygues Telecom (10.00)  Saint-Denis (10.00)  Bosnie (10.00)  vid\u00e9os (10.00)  Yasmine (10.00)  p\u00e9nal international (10.00)  Mossoul (10.00)  PNR (10.00)  Djokovic (10.00)  Floride (10.00)  JDD (10.00)  Bouagga (10.00)  Eiffel (10.00)  Reda Kriket (10.00)  Instagram (10.00)  Shanghai (10.00)  Erdogan (10.00)  cofondateur (10.00)  prud'hommes (10.00)  Grande-Bretagne (10.00)  Colombie (9.00)  Niger (9.00)  Guerre d'Alg\u00e9rie (9.00)  Aung (9.00)  Antoine (9.00)  Ford (9.00)  Eric (9.00)  San Suu Kyi (9.00)  Aung San Suu Kyi (9.00)  Karim Benzema (9.00)  quinquennat (9.00)  Biathlon (9.00)  Christophe (9.00)  Jean-Marie (9.00)  Jeanne d'Arc (9.00)  Times (9.00)  Kerviel (9.00)  Canal+ (9.00)  Barbarin (9.00)  PSA (9.00)  C\u00f4te d\u2019Ivoire (9.00)  Idomeni (9.00)  Poutine (9.00)  spongiforme bovine (9.00)  Bernard (9.00)  Alonso (9.00)  smartphones (9.00)  Amsterdam (9.00)  Nancy (9.00)  bio (9.00)  entre eux (9.00)  Orly (9.00)  Affaires \u00e9trang\u00e8res (9.00)  Vingt-Huit (9.00)  zone euro (9.00)  supporteurs (9.00)  Economie (9.00)  commission d'enqu\u00eate (9.00)  Hamilton (8.00)  Dupond-Moretti (8.00)  iPhone SE (8.00)  Angela Merkel (8.00)  Bamako (8.00)  euro (8.00)  Gand-Wevelgem (8.00)  Norv\u00e8ge (8.00)  Tribunal p\u00e9nal (8.00)  J\u00e9r\u00f4me (8.00)  Arizona (8.00)  Generali (8.00)  Fay\u00e7al Cheffou (8.00)  ex-Yougoslavie (8.00)  Rome (8.00)  t\u00e9l\u00e9coms (8.00)  Tunis (8.00)  jihadiste (8.00)  Sylvie Leclerc (8.00)  communautarisme (8.00)  contr\u00f4leurs a\u00e9riens (8.00)  d\u00e9crypte (8.00)  OMS (8.00)  Jean-Pierre (8.00)  Edouard Louis (8.00)  Pyongyang (8.00)  meldonium (8.00)  George (8.00)  Alain Decaux (8.00)  EPR (8.00)  Buenos Aires (8.00)  Abdelkader Merah (8.00)  Molins (8.00)  rendez-vous (8.00)  attentat-suicide (8.00)  Bardo (8.00)  Big (8.00)  Xavier Bertrand (8.00)  antiterroristes (8.00)  cit\u00e9 antique (8.00)  Laachraoui (8.00)  Roumanie (8.00)  Radovan Karadzic (8.00)  Maelbeek (8.00)  migratoire (7.50)  extradition (7.50)  islamistes (7.00)  Myriam El Khomri (7.00)  Serge Dassault (7.00)  Michael (7.00)  cessez-le-feu (7.00)  Patrick Kanner (7.00)  Mathieu (7.00)  Utah (7.00)  vice-pr\u00e9sident (7.00)  sexe neutre (7.00)  San Antonio (7.00)  commission d'enqu\u00eate parlementaire (7.00)  SDF (7.00)  Fr\u00e9d\u00e9ric (7.00)  Payet (7.00)  Abaaoud (7.00)  Breivik (7.00)  Rosberg (7.00)  Boko Haram (7.00)  smartphone (7.00)  Grande-Synthe (7.00)  Darty (7.00)  HCR (7.00)  Aisne (7.00)  Cour supr\u00eame (7.00)  flydubai (7.00)  Reda (7.00)  Ibrahim El Bakraoui (7.00)  R\u00e9forme constitutionnelle (7.00)  Yahoo (7.00)  Platini (7.00)  Elys\u00e9e (7.00)  voiture pi\u00e9g\u00e9e (7.00)  nord-est (7.00)  13 Novembre (7.00)  Patrick (7.00)  Sony (7.00)  R\u00e9publique dominicaine (7.00)  San (7.00)  Serge Kampf (7.00)  Los Angeles (7.00)  drones (7.00)  Nadia Savtchenko (7.00)  \u00eeles grecques (7.00)  Bollor\u00e9 (7.00)  Editorial (7.00)  Merkel (7.00)  Lionel Zinsou (7.00)  Forest (7.00)  Bagdad (7.00)  Kurdistan (7.00)  Rousseff (7.00)  Vatican (7.00)  Cr\u00e9dit Mutuel (7.00)  Haye (7.00)  Antilles (7.00)  TPE (7.00)  r\u00e9alit\u00e9 virtuelle (7.00)  Lib\u00e9 (7.00)  Beatles (7.00)  NPA (7.00)  streaming (7.00)  Zapping (7.00)  Mercedes (7.00)  Sassou Nguesso (7.00)  attentats (6.19)  migrants (6.16)  attractivit\u00e9 (6.00)  Malaisie (6.00)  Karadzic (6.00)  Val\u00e9rie P\u00e9cresse (6.00)  Mondefr (6.00)  Florence Hartmann (6.00)  Fed (6.00)  Melbourne (6.00)  S\u00e9gol\u00e8ne Royal (6.00)  Schaerbeek (6.00)  Charlie Hebdo (6.00)  Onfray (6.00)  Yvelines (6.00)  Raul Castro (6.00)  Eurocoupe (6.00)  Iran (6.00)  auteurs d'actes terroristes (6.00)  Nantes (6.00)  Kerry (6.00)  #Syrieans (6.00)  Bloomberg (6.00)  personnellement pardon aux victimes (6.00)  Cahuzac (6.00)  poids lourd (6.00)  PME (6.00)  Castro (6.00) \n"
       ]
      }
     ],
     "prompt_number": 229
    },
    {
     "cell_type": "code",
     "collapsed": false,
     "input": [
      "signifiants['voiture']"
     ],
     "language": "python",
     "metadata": {},
     "outputs": [
      {
       "metadata": {},
       "output_type": "pyout",
       "prompt_number": 230,
       "text": [
        "0.004141963778120686"
       ]
      }
     ],
     "prompt_number": 230
    },
    {
     "cell_type": "code",
     "collapsed": false,
     "input": [
      "words_count['dopage']"
     ],
     "language": "python",
     "metadata": {},
     "outputs": [
      {
       "metadata": {},
       "output_type": "pyout",
       "prompt_number": 231,
       "text": [
        "21"
       ]
      }
     ],
     "prompt_number": 231
    },
    {
     "cell_type": "code",
     "collapsed": false,
     "input": [
      "# -- save JSON --\n",
      "json_file = './dicoDuSignifiants.json'\n",
      "with open(json_file, 'w') as outfile:\n",
      "    json.dump(signifiants, outfile)"
     ],
     "language": "python",
     "metadata": {},
     "outputs": [],
     "prompt_number": 232
    },
    {
     "cell_type": "code",
     "collapsed": false,
     "input": [
      "# -- save JSON --\n",
      "json_file = './data4countByDay.json'\n",
      "with open(json_file, 'w') as outfile:\n",
      "    json.dump(data4eleve, outfile)"
     ],
     "language": "python",
     "metadata": {},
     "outputs": [],
     "prompt_number": 235
    },
    {
     "cell_type": "code",
     "collapsed": false,
     "input": [],
     "language": "python",
     "metadata": {},
     "outputs": []
    }
   ],
   "metadata": {}
  }
 ]
}