{
 "metadata": {
  "name": "",
  "signature": "sha256:be732ba4258d9ad284855f17ee47f30414cc0f6fc45348376b84db1c023b6e52"
 },
 "nbformat": 3,
 "nbformat_minor": 0,
 "worksheets": [
  {
   "cells": [
    {
     "cell_type": "code",
     "collapsed": false,
     "input": [
      "import json\n",
      "import re"
     ],
     "language": "python",
     "metadata": {},
     "outputs": [],
     "prompt_number": 548
    },
    {
     "cell_type": "code",
     "collapsed": false,
     "input": [
      "def printSorted(dico, n = 200 ):\n",
      "    myDico_sorted = sorted(dico.iteritems(), key = lambda x:x[1], reverse=True)\n",
      "    for m, c in myDico_sorted[:n]:\n",
      "        print '%s (%0.2f) ' % (m, c),"
     ],
     "language": "python",
     "metadata": {},
     "outputs": [],
     "prompt_number": 549
    },
    {
     "cell_type": "code",
     "collapsed": false,
     "input": [
      "#\u00a0Load nUplets  from Eleve\n",
      "filename = './Eleve/data_nuplets.json'\n",
      "nuplets_count = json.loads(open(filename).read())\n",
      "print( 'nombre de nuplets: %i ' % len( nuplets_count ) )"
     ],
     "language": "python",
     "metadata": {},
     "outputs": [
      {
       "output_type": "stream",
       "stream": "stdout",
       "text": [
        "nombre de nuplets: 2374 \n"
       ]
      }
     ],
     "prompt_number": 637
    },
    {
     "cell_type": "code",
     "collapsed": false,
     "input": [
      "# Load data\n",
      "filename = './Eleve/data4eleve.json'\n",
      "data4eleve = json.loads(open(filename).read())\n",
      "allposts = [x['formatedtext'] for x in data4eleve]"
     ],
     "language": "python",
     "metadata": {},
     "outputs": [],
     "prompt_number": 639
    },
    {
     "cell_type": "code",
     "collapsed": false,
     "input": [
      "bigTexte = ' '.join( allposts )"
     ],
     "language": "python",
     "metadata": {},
     "outputs": [],
     "prompt_number": 640
    },
    {
     "cell_type": "code",
     "collapsed": false,
     "input": [
      "bigTexte.count( 't')"
     ],
     "language": "python",
     "metadata": {},
     "outputs": [
      {
       "metadata": {},
       "output_type": "pyout",
       "prompt_number": 641,
       "text": [
        "40269"
       ]
      }
     ],
     "prompt_number": 641
    },
    {
     "cell_type": "code",
     "collapsed": false,
     "input": [
      "w = sorted_nuplets[10][0]\n",
      "print w\n",
      "print bigTexte.count(w), bigTexte.count(w.lower())"
     ],
     "language": "python",
     "metadata": {},
     "outputs": [
      {
       "output_type": "stream",
       "stream": "stdout",
       "text": [
        "vache folle\n",
        "17 17\n"
       ]
      }
     ],
     "prompt_number": 642
    },
    {
     "cell_type": "code",
     "collapsed": false,
     "input": [
      "print bigTexte.count('Nicolas Sarkozy')\n",
      "print bigTexte.count('Sarkozy')\n",
      "print bigTexte.count('Nicolas')"
     ],
     "language": "python",
     "metadata": {},
     "outputs": [
      {
       "output_type": "stream",
       "stream": "stdout",
       "text": [
        "23\n",
        "51\n",
        "43\n"
       ]
      }
     ],
     "prompt_number": 643
    },
    {
     "cell_type": "code",
     "collapsed": false,
     "input": [
      "sorted_nuplets = sorted( nuplets_count.items(), key=lambda x:x[1], reverse=True )\n",
      "\n",
      "output = [ x[0]+' (%i)'%bigTexte.count( x[0] ) for x in sorted_nuplets if bigTexte.count( x[0] ) > 1 ]\n",
      "print( '; '.join( output ) )"
     ],
     "language": "python",
     "metadata": {},
     "outputs": [
      {
       "output_type": "stream",
       "stream": "stdout",
       "text": [
        "Salah Abdeslam (113); 13 novembre (66); Barack Obama (39); Manuel Valls (38); Donald Trump (29); r\u00e9seaux sociaux (24); Dilma Rousseff (21); New York (19); loi El Khomri (33); Emmanuel Macron (20); vache folle (17); Johan Cruyff (17); Top 14 (16); CAC 40 (16); cardinal Barbarin (14); la loi El Khomri (14); Indian Wells (15); Six nations (14); El Khomri (53); \u00e9lection pr\u00e9sidentielle (13); GP d'Australie (13); St Moritz (13); Patrice Talon (11); \u00c9tat islamique (16); Sven Mary (11); bande dessin\u00e9e (11); C\u00f4te d'Ivoire (11); Ted Cruz (11); La dessinatrice Lisa Mandel (11); intelligence artificielle (12); Front national (10); Hillary Clinton (11); point d'indice (10); El Bakraoui (13); r\u00e9vision constitutionnelle (10); Batman v Superman (10); chiffre d'affaires (10); Affaires \u00e9trang\u00e8res (9); Guerre d'Alg\u00e9rie (9); Bernard Cazeneuve (9); Manchester City (10); Jeanne d'Arc (9); Najim Laachraoui (11); C\u00f4te d\u2019Ivoire (9); Abdelkader Merah (8); conseil d'administration (8); Bouygues Telecom (9); Xavier Bertrand (8); contr\u00f4leurs a\u00e9riens (8); San Suu Kyi (8); zone euro (8); Sylvie Leclerc (8); spongiforme bovine (8); Edouard Louis (8); Etat islamique (24); R\u00e9forme constitutionnelle (7); Lionel Zinsou (7); sexe neutre (7); Nadia Savtchenko (7); on sait (9); perp\u00e9tuit\u00e9 r\u00e9elle (7); Myriam El Khomri (7); Serge Dassault (7); d\u00e9tention provisoire (7); Cour supr\u00eame (7); Karim Benzema (7); Serge Kampf (7); Buenos Aires (7); French Tech (7); agressions sexuelles (9); Raul Castro (6); \u00e9tat d\u2019urgence (7); appartement perquisitionn\u00e9 (6); 13 Novembre (6); \u00eeles grecques (6); Arnaud D\u00e9mare (6); Kamel Daoud (6); Angela Merkel (8); r\u00e9alit\u00e9 virtuelle (6); Formule 1 (6); Marion Mar\u00e9chal-Le Pen (6); Rob Ford (6); mandat d'arr\u00eat europ\u00e9en (6); Radovan Karadzic (6); made in (6); Sassou Nguesso (6); Cr\u00e9dit Mutuel (7); Bruno Biais (5); Real Madrid (5); Star Wars (5); Boko Haram (5); Bayern Munich (6); voiture pi\u00e9g\u00e9e (5); S\u00e9gol\u00e8ne Royal (5); entre eux (6); Krzysztof Warlikowski (5); Charlie Hebdo (5); Soufiane Kayal (5); raids a\u00e9riens (5); commission d'enqu\u00eate parlementaire (5); Accord UE-Turquie (5); bande organis\u00e9e (5); L\u00e9gislatives partielles (5); Nations unies (5); Wall Street (5); \u00e9mission diesel (5); Tribunal p\u00e9nal (5); Jean-Christophe Lagarde (5); Jean Lassalle (5); Jeb Bush (5); Du soul\u00e8vement populaire (5); low cost (5); est \u00e9pargn\u00e9 (6); mati\u00e8res premi\u00e8res (5); Hinkley Point (6); organisation Etat islamique (7); San Antonio (5); Lee Sedol (5); Zack Snyder (5); Arabie saoudite (7); Jean-Luc M\u00e9lenchon (4); l\u00e9g\u00e8re baisse (4); Maria Sharapova (4); Val\u00e9rie P\u00e9cresse (4); soldat isra\u00e9lien (4); XIXe si\u00e8cle (4); cour d'appel d'Orl\u00e9ans (4); Fonction publique (4); French Blue (4); Nouvelles limites UE (4); moteurs truqu\u00e9s (4); Meurtre d'Aur\u00e9lie Ch\u00e2telain (4); farines animales (4); Juliette Gr\u00e9co (4); French Touch (4); SNCF R\u00e9seau (4); Jacqueline Sauvage (4); Vache folle (4); Philippe Poutou (7); Thomas Buberl (4); pr\u00e9somption d\u2019innocence (4); l\u00e9gislatives partielles (4); t\u00e9moin assist\u00e9 (4); spectacles itin\u00e9rants (4); Nadejda Savtchenko (4); Credit Suisse (4); iPad Pro (4); Htin Kyaw (4); R\u00e9serve f\u00e9d\u00e9rale (4); Festival S\u00e9ries Mania (4); George Martin (5); R\u00e9mi Fraisse (4); auteurs d'actes terroristes (4); Golden State (4); stopper l'afflux (4); projet d'a\u00e9roport (4); vols annul\u00e9s (4); Drawing after (4); Jacques-Antoine Granjon (4); \u00e9tablissement d'une r\u00e9gion f\u00e9d\u00e9rale (4);  \u00e9trangleur (4); changement climatique (4); Sophie Marceau (4); traitement inhumain (4); Sid Ahmed Ghlam (4); Atletico Madrid (6); vos connaissances (4); extr\u00eame droite (11); Europa League (4); \u00e9coute t\u00e9l\u00e9phonique (4); Renaud Lavillenie (4); meilleure baguette (4); taxe Nutella (4); insecticides n\u00e9onicotino\u00efdes (4); investiture r\u00e9publicaine (4); Milan-San Remo (4); t\u00eates d\u2019affiche (3); Eric Dupond-Moretti (3); Merrick Garland (3); assembl\u00e9e g\u00e9n\u00e9rale (3); plaque tournante (3); Sao Paulo (3); Mario Greco (3); Tour d\u2019horizon (3); constructeur automobile (3); Farouk Ben Abbes (3); David Bowie (3); tension monte (3); \u00e9lections r\u00e9gionales (3); agences immobili\u00e8res (3); Recep Tayyip (3); Marcel Desailly (3); Julia Roberts (3); appris l'AFP (3); salon horloger (3); Rafael Nadal (3); attentats perp\u00e9tr\u00e9s (3); station Maelbeek (3); geste significatif (3); da Silva (3); Plac\u00e9 appellera (3); meilleurs joueurs (3); volume d'\u00e9changes (3); BHF Kleinwort (3); activement recherch\u00e9 (4); Jean-Marc Ayrault (4); 50e pole (3); Lewis Hamilton (3); Mondial 2006 (3); Brahim Abdeslam (3); missiles balistiques (3); Anthony Dubois (3); Birmanie Aung (3); Munich R\u00e9 (3); listes \u00e9lectorales (3); Los Angeles (3); mariage gay (3); CRS Alpes (3); chronique Open (3); Mohamed Belka\u00efd (3); business angels (3); c\u00e9r\u00e9monie d\u2019hommage (3); couples homosexuels (3); Eagles of Death Metal (3); tribunal correctionnel (3); mission ExoMars (3); SOS M\u00e9diterran\u00e9e (3); Rokhaya Diallo (3); pr\u00eatres p\u00e9dophiles (3); cit\u00e9 antique (3); Ben Guerdane (3); pr\u00e9somption d'innocence (3); lyc\u00e9es bloqu\u00e9s (3); Super Tuesday (3); treize \u00e9tudiantes (3); demandeurs d\u2019asile (3); St\u00e9phane H. (3); reconnue coupable (5); Poutou d\u00e9sign\u00e9 (3); Zurich Insurance (3); Isabelle Huppert (3); salle Gaveau (3); d\u00e9parts volontaires (4); FC Barcelone (3); Guy Nov\u00e8s (3); March Madness (3); chanceli\u00e8re allemande (3); Alain Marsaud (3); Ra\u00fal Castro (3); Jeux olympiques (3); J. J. Abrams (3); Anne Hidalgo (3); Angelina Jolie (3); parc d'attractions (3); creuse l'\u00e9cart (3); UFC-Que Choisir (3); je n\u2019ai (3); \u00e9nergies renouvelables (3); Bernie Sanders (4); Thierry Foucault (3); engin explosif (3); Donald Tusk (3); Meir Dagan (3); CGT FO FSU (3); Telecom Italia (3); Emmanuelle Cosse (3); Bon Coin (3); Dominique Strauss-Kahn (3); Admission post-bac (3); Abdelhamid Abaaoud (4); d\u00e9bris trouv\u00e9s (3); seuls binationaux (3); accident d'autocar (4); perte nette (3); Denis Duverne (3); Mariah Carey (3); travaux forc\u00e9s (3); Ibrahim El Bakraoui (5); gaz naturel (3); Champions League (3); perp\u00e9tuit\u00e9 effective (3); Denis Sassou-Nguesso (3); Silicon Valley (3); Jean-Pierre Farandou (4); Guillaume Musso (3); trading haute fr\u00e9quence (3); Galeries Lafayette (3); d\u00e9but d'ann\u00e9e (4); ski alpin (3); Julien Lepers (3); Maison Blanche (3); Cara Delevingne (2); cr\u00e9dits d\u2019imp\u00f4t (2); Nijni Novgorod (2); pilotage automatique (2); Est s\u00e9paratiste (2); trading ultrarapide (2); Coupe d\u2019Europe (2); Jack Dorsey (2); sursis requis (2); Match Reims-Bastia (2); Martine Aubry (2); Victoria Vanneau (2); Lincoln (Ford) (2); M\u00e9lanie Thierry (2); Laurent Berger (2); Cyclisme D\u00e9mare (2); cellules dormantes (2); retir\u00e9 510 (2); Dany Boon (2); \u00e9patant duo (2); m\u00e8tres d'altitude (2); Johan Leman (2); un d\u2019eux (2); Mireille Mathieu (2); organisations patronales (3); stade V\u00e9lodrome (2); rares licornes (2); ports d\u00e9partementaux (2); Steve McQueen (2); Bondy Blog (2); Jean-Claude Gaudin (2); + 06 (2); (ESB) d\u00e9tect\u00e9 (2); James Bond (2); 36e \u00e9dition (2); chasseur alpin (2); fronti\u00e8re libyenne (2); recapitaliser EDF (2); propre agence (2); Arizona Cruz (2); P'tit Lib\u00e9 (2); AMC Network (2); Samy Naceri (2); causes profondes (2); islamistes arm\u00e9s (2); tu as (2); dos Santos (2); h\u00e9licopt\u00e8re ukrainienne (2); Missiles nord-cor\u00e9ens (2); revue trimestrielle (2); Courrier international (2); hors norme (2); Tinder s'invite (2); g\u00e9ographique prot\u00e9g\u00e9e (IGP) (2); couple franco-allemand (2); raid a\u00e9rien (2); zone touristique (2); Great Place to Work (2); d\u00e9claration d'utilit\u00e9 (2); capsule Cygnus (2); big bang (2); Yvelines l'Aisne (2); Croissance bleue (2); \u00bfQue bol\u00e1 (2); but magnifique (2); Tiffany p\u00e9nalis\u00e9 par (2); Eddy Bellegueule (2); Nouvel An (2); CPI tiendra (2); restrictions commerciales (2); 1000 beacons (2); heureusement achev\u00e9 (2); plan quinquennal (2); Stones promettent (2); vaches salers (2); Eric Woerth (2); lignes rouges (2); think tank (2); freinage automatique (2); Ana\u00efs Bescond (2); Daniel Cohn-Bendit (2); robot livreur (2); violences polici\u00e8res (2); nombre insuffisant (2); Soci\u00e9t\u00e9 G\u00e9n\u00e9rale (2); CCM Benchmark (2); Vu d\u2019ailleurs (2); rencontres Tinder (2); Toyota Prius (2); Cassius vs (2); Caisse d'Epargne (2); crimes sexuels (2); ressources humaines (2); investiture d\u00e9mocrate (3); Pierre Vermeren (2); exposition Carambolages (2); Jean-Pierre Filiu (2); milliard d'euros) (2); Thomas Lilti (2); principes Badinter (2); certainement issus (2); Porsche relax\u00e9s (2); Wolfgang Sch\u00e4uble (2); Claude B\u00e9b\u00e9ar (2); Bertrand Badie (2); gare Saint-Jean (2); m\u00e9decin c\u00e8de (2); Edouard Fourcade (2); textes actuels (2); homologue cubain (2); effets sp\u00e9ciaux (2); thriller psychologique (2); agent triple (2); Isabelle Giordano (2); Hama Amadou (2); Roselyne Bachelot (2); applications mobiles (3); cam\u00e9ra cach\u00e9e (2); Hulk Hogan (2); Plan\u00e8te rouge (2); Darty pr\u00e9f\u00e8re (2); Mercedes Classe E (2); \u00c9quipe rouvre (2); Franck Rib\u00e9ry (2); pape \u00e9m\u00e9rite (2); safety check (2); d\u00e9p\u00f4ts bancaires (2); successifs n\u2019ont (2); Lagard\u00e8re Active (2); meilleurs avocats (2); h\u00f4pitaux accordent (2); arabes unis (2); joueurs Xbox (2); M. Molins (2); Apo Chantzis (2); contradictions Victime (2); vivement critiqu\u00e9 (2); Jess Glynne (2); BNP Paribas (2); p\u00e8re Bernard P. (2); voie ferr\u00e9e (2); milieux d'affaires (2); radios priv\u00e9es (2); Ferguson coupables (2); Quiz connaissez-vous (2); Grande Seconde (2); suspicion d'accident (2); d\u00e9passent ceux (2); Belle Equipe (2); Notre maquis (2); seins nus (2); Riadh B alias Reda (2); Ne pouvant (2); Euror\u00e9gion Aquitaine (2); Miss Univers (2); (ou pas) (2); Franz Beckenbauer (2); Kim Jong-un (2); cirques venus (2); grande rue pi\u00e9tonne (2); personnel d'activit\u00e9 (2); S\u00e9bastien Bazin (2); essai nucl\u00e9aire nord-cor\u00e9en (2); Royal Orchestra (2); 328 M EUR (2); Chelsea (2-1) (2); Fettah Malki (2); ayant appartenu (2); 70e \u00e9dition (2); plaies ouvertes (2); Nouveau Parti anticapitaliste (2); Zodiac Aerospace (2); Dick Annegarn (2); pr\u00e9judice \u00e9cologique (2); p\u00e9nal international (7); taxe additionnelle (2); parties civiles (2); Laurent Ruquier (2); LE CARDINAL BARBARIN (2); c\u00f4tes turques (2); Guido Westerwelle (2); pr\u00e9sident sortant Mahamadou Issoufou (2); virus Ebola (3); stocks g\u00e9r\u00e9s (2); Fran\u00e7ois Cluzet (2); pourront proc\u00e9der (2); Dane DeHaan (2); Laurent Wauquiez (2); Prix Nobel (2); \u00e9crivain alg\u00e9rien (2); Pesticides tueurs (2); Aur\u00e9lie Fouquet (2); \u00e9teindre lentement (2); Nicolas Charbonnier (4); BK Event (2); Big Data (2); taux interbancaire (3); Andreas Lubitz (2); Coral Biome (2); Ahmet Davutoglu (2); Fabien Galthi\u00e9 (2); dividende sp\u00e9cial (2); Retraites compl\u00e9mentaires (2); mauvaise blague (2); complaisance envers la r\u00e9bellion (2); affronter l\u2019Ecosse (2); Margarita Louis-Dreyfus (2); Jacques Rapoport (2); Jean-Patrick Gille (2); Royal Bank of Scotland (2); Que changerait (2); 10000 Zo\u00e9 (2); Gilles Kepel (2); am\u00e9ricain General Electric (GE) (2); Beno\u00eet XVI s'\u00e9teint lentement (2); Gaspar No\u00e9 (2); marketing digital (2); pour pratique commerciale trompeuse (2); Morceaux choisis (2); relations diplomatiques (2); robots humano\u00efdes (2); Joachim Wenning (2); BFM Business (2); interdiction brutale (2); Vladimir Poutine (2); Charbonnier 53 (2); Ladislas Ntaganzwa remis (2); Delphine Batho (2); Bang & Olufsen (2); Thierry Braillard (2); Financial Times (3); \u200999 Homes\u2009 (2); Fr\u00e9d\u00e9ric Van (2); Lofoten tr\u00e9sor (2); Paul Bismuth (2); Grand Chelem (2); L\u00e9a Salam\u00e9 (2); 600 experts (2); Mohamed Abrini Najim Laachraoui (2); J\u00e9r\u00f4me Cahuzac (2); violeur pr\u00e9sum\u00e9 (2); Premier League (2); Athl\u00e9tisme Eaton (2); Douglas Flint (2); Didier Quillot (2); quadruple champion (2); petites phrases (2); Pierre Cardin (2); Fran\u00e7ois-Xavier Bellamy (2); M\u00e9tropole Aix-Marseille (2); Violences polici\u00e8res (2); gagn\u00e9e d\u2019avance (2); Amedy Coulibaly (3); festival South by Southwest (2); Agathe Bousquet Twitter (2); communautariste d'organisation (2); MX-5 RF (2); Joe Biden (2); (Les R\u00e9publicains) (2); fans zone (4); commission d'enqu\u00eate (7); frappes a\u00e9riennes (2); g\u00e2teau sec (2); 125e anniversaire (2); Jean-Pierre Bemba (2); Andy Grove (2); Sophie Moinas (3); Primaires r\u00e9publicaines (2); Jawad Bendaoud (2); cigarettes neutres (2); structure management (2); General Motors (2); son enseigne Carrefour Bio (2); bailleur social Logirep (2); tri s\u00e9lectif (2); Carlton trois Femen relax\u00e9es (2); retomb\u00e9es commerciales (2); Federica Mogherini (2); Iggy Pop (2); verser 500000 (2); Action directe (4); reconnaissent avoir aid\u00e9 (2); d\u00f4me central (2); attractions touristiques (2); Pragma Capital (2); e\u00fbt cru (2); XXIe si\u00e8cle (2); Luc Besson (2); militante antiraciste (2); Savtchenko reconnue coupable (3); Marie Dorin-Habert (2); imaginaire collectif (2); transactions transfrontali\u00e8res (2); exhibition sexuelle (2); substances chimiques (2); attitude inacceptable (2); facs ferm\u00e9es (2); Boni Yayi (2); d\u00e9but d'apr\u00e8s-midi (2); Atl\u00e9tico Madrid (2); soldats isra\u00e9liens (2); commission d\u2019enqu\u00eate (2); Bell & Ross (2); d\u00e9grade Casino (2); c\u00f4tes grecques (2); Rosberg d\u00e9marre (2); sept Italiennes (2); indigne opposition (2); laiss\u00e9 prosp\u00e9rer (2); salut nazi (2); love parade (2); essais libres (2); id\u00e9al f\u00e9d\u00e9ral (2); Kurdes proclament (2); Jos\u00e9 Eduardo (2); m\u00e8tres carr\u00e9s (2); Tom Hayes (2); assaillant palestinien (2); pr\u00eatre p\u00e9dophile (2); missile balistique (2); propri\u00e9taire d'Air Cara\u00efbes (2); mandat d\u2019arr\u00eat (2); Sky News (2); \u00c9douard Louis (2); Maison Standards (2); Air Coca\u00efne (2); h\u00e9patite B (2); MBO Partenaires (2); Planet Ocean (2); Reconnu coupable (2); b\u00e2timent officiel (2); village roumain (2); Steven Spielberg (2); Andr\u00e9 Santini (2); Miley Cyrus (2); / MILLIONS DE DOLLARS (2); redevient s\u00e9lectionnable (2); majoritairement oppos\u00e9s (2); ancienne PAC (2); Amours interdites (2); % / FONDS ACTIONS (2); suffrages exprim\u00e9s (2); Sophie Bellon (2); spectaculaire accident (2); gens heureux (2); Juha Sipila (2); anneau attribu\u00e9 (2); L\u00e9gion d\u2019honneur (2); Douanier Rousseau (2); quelle raison (2); plaintes pleuvent (2); Enda Kenny (2); contr\u00f4l\u00e9s positifs (2); bulbe dor\u00e9 (2); Festival d'Avignon (2); f\u00eates traditionnelles (2); retard technologique consid\u00e9rable (2); interceptions judiciaires (2); paquet neutre (2); 800000 v\u00e9hicules (2); ultime proposition (2); op\u00e9rateurs boursiers (2); T\u00e9l\u00e9 7 Jours (2); Aur\u00e9lie Ch\u00e2telain (6); er consommateur (2); Juventus Turin (2);  effrayant (2); pari fou (2); cour d'appel (5); Am\u00e9rique latine (2); Anne Frank (2); Pierre Joxe (2); bailleur social (3); indice vedette (2); Afrique subsaharienne (2); Arm\u00e9e \u00e9lectronique (2); Antoine Griezmann (2); un d'eux (2); on chante (2); T\u00e9l\u00e9 7 (3); conseil r\u00e9gional (3); explosif pr\u00e9f\u00e9r\u00e9 (2); Anglais Marler (2); robotique rachet\u00e9 (2); Pen lie (2); Novak Djokovic (2); Beno\u00eet XVI (3); Mike Wells (2); vingt-cinq si\u00e8cles (2); Mondiaux d'athl\u00e9tisme (2); Cassius 1999 (2); assises sp\u00e9ciale (2); sud-cor\u00e9en Lee (2); Filippetti accuse (2); grands crus (2); Atlantique Aucun (2); vs Superman (2); Jean-Vincent Plac\u00e9 (2); a sauv\u00e9 (2); Jean-S\u00e9bastien Jacques (2); 50 prochaines (2); pilote d'h\u00e9licopt\u00e8re (3); \u00eele grecque (2); circuit pro (2); zones d'ombre (3); Vincent Lambert (2); Apple Watch (2); en finit (4); Ben Abbes (4); Abdeslam inflexible (2); Mohamed Abrini (3); Thierry Herzog (2); m\u00e9daille d\u2019or (2); Rio Tinto (2); Suu Kyi (9); 950000 euros contre Aviva (2); livres sterling (2); optimisation fiscale (4); Jean-Marc Janaillac (2); est s\u00e9paratiste (2); Robert Fico (2); neutres obligatoires (2); chefs d'\u00e9tablissement (2); to B (3); arriv\u00e9e d'Obama (2); administrateur d\u00e9l\u00e9gu\u00e9 (2); Nouvelles limites (5); Zlatan Ibrahimovic (2); PSV Eindhoven (2); Gaye Pete (2); Standard & (2); Catalogne Bouhanni (2)\n"
       ]
      }
     ],
     "prompt_number": 644
    },
    {
     "cell_type": "code",
     "collapsed": false,
     "input": [
      "# Load \"liste des mots\"\n",
      "import codecs\n",
      "\n",
      "filename = './data_dico/liste_mots_utf8.txt'\n",
      "# cf: http://www.lexique.org/listes/liste_mots.txt\n",
      "# load\n",
      "with codecs.open(filename, encoding='utf-8') as f:\n",
      "    listemots = f.readlines()\n",
      "  \n",
      "for i, mot in enumerate( listemots ):\n",
      "    a = mot.split('\\t')\n",
      "    freq = float(a[1])\n",
      "    word = a[0]\n",
      "    listemots[i] = (word, freq)\n",
      "\n",
      "dicoFr = { x[0]:x[1] for x in listemots }"
     ],
     "language": "python",
     "metadata": {},
     "outputs": [],
     "prompt_number": 645
    },
    {
     "cell_type": "code",
     "collapsed": false,
     "input": [
      "bigTexte_single = bigTexte\n",
      "nuplets_text = sorted(nuplets_count.iterkeys(), key=lambda x:len(x), reverse=True )\n",
      "\n",
      "for nuplet in nuplets_text:\n",
      "    bigTexte_single = bigTexte_single.replace(nuplet, ' ')\n",
      "    \n",
      "print len( bigTexte ), len( bigTexte_single )"
     ],
     "language": "python",
     "metadata": {},
     "outputs": [
      {
       "output_type": "stream",
       "stream": "stdout",
       "text": [
        "777961 715695\n"
       ]
      }
     ],
     "prompt_number": 646
    },
    {
     "cell_type": "code",
     "collapsed": false,
     "input": [
      "print bigTexte_single.count('Nicolas Sarkozy')\n",
      "print bigTexte_single.count('Sarkozy')\n",
      "print bigTexte_single.count('French Blue')"
     ],
     "language": "python",
     "metadata": {},
     "outputs": [
      {
       "output_type": "stream",
       "stream": "stdout",
       "text": [
        "23\n",
        "51\n",
        "0\n"
       ]
      }
     ],
     "prompt_number": 647
    },
    {
     "cell_type": "code",
     "collapsed": false,
     "input": [
      "blacklist = ['etat', 'etats', 'euros', u'est-il', 'actu', u'a-t-il', 'axa', u'apr\u00e8s-midi', 'a-t-elle', 'faut-il', u'peut-\u00eatre', 'the']\n",
      "blacklist.extend(['week-end', u'lui-m\u00eame', u\"qu'on\", 'celle-ci', 'celui-ci', u'au-del\u00e0', 'est-elle', 'sont-ils'])\n",
      "\n",
      "words_count = {}\n",
      "\n",
      "for mot in bigTexte_single.split(' '):\n",
      "\n",
      "    mot = re.sub(u\"[Aa]ujourd.hui\",  '', mot)\n",
      "    mot = re.sub(u\"jusqu.([\u00e0a]|en)\",  '', mot)\n",
      "    \n",
      "    mot = re.sub(u\"(^|\\s)[LldDsSnNcC]['`\u2019]\", \"\", mot)\n",
      "    mot = re.sub(u\"(^|\\s)qu['`\u2019]\", \"\", mot)\n",
      "    mot = re.sub(r\"[0-9\\.\\(\\)]\", u'', mot)\n",
      "    mot = re.sub(r\"-$\", u'', mot) \n",
      "    mot = re.sub(r\"\\s\", u'', mot)\n",
      "\n",
      "    if mot.lower() in dicoFr:\n",
      "        mot = mot.lower()     \n",
      "        \n",
      "    #if mot.endswith( 's' ) and mot[0:-1] in dicoFr:\n",
      "    #    mot = mot[:-1]      ... pas une bonne idee dans>dan\n",
      "        \n",
      "    if len( mot )>2 and mot.lower() not in blacklist:       \n",
      "        if mot in words_count:\n",
      "            words_count[mot ] += 1\n",
      "        elif mot:\n",
      "            words_count[mot ] = 1\n",
      "  \n",
      "\n",
      "n_mots_globaux = len( words_count )\n",
      "\n",
      "print 'nbr mots: ', n_mots_globaux"
     ],
     "language": "python",
     "metadata": {},
     "outputs": [
      {
       "output_type": "stream",
       "stream": "stdout",
       "text": [
        "nbr mots:  15574\n"
       ]
      }
     ],
     "prompt_number": 648
    },
    {
     "cell_type": "code",
     "collapsed": false,
     "input": [
      "nMots = sum( [x for x in words_count.itervalues()] )\n",
      "print nMots"
     ],
     "language": "python",
     "metadata": {},
     "outputs": [
      {
       "output_type": "stream",
       "stream": "stdout",
       "text": [
        "81297\n"
       ]
      }
     ],
     "prompt_number": 649
    },
    {
     "cell_type": "code",
     "collapsed": false,
     "input": [
      "printSorted( words_count , 10)"
     ],
     "language": "python",
     "metadata": {},
     "outputs": [
      {
       "output_type": "stream",
       "stream": "stdout",
       "text": [
        "les (2697.00)  des (2191.00)  une (1319.00)  pour (1225.00)  dans (1126.00)  sur (947.00)  est (841.00)  qui (730.00)  par (681.00)  son (551.00) \n"
       ]
      }
     ],
     "prompt_number": 650
    },
    {
     "cell_type": "code",
     "collapsed": false,
     "input": [
      "words_count_dicoFr = {}\n",
      "notInDicoFr = {}\n",
      "for m, c in words_count.iteritems():\n",
      "\n",
      "    if m in dicoFr : # and c*n_mots > 1:\n",
      "        score = float( c )/float( nMots )  / (dicoFr[m]*1e-6)\n",
      "        words_count_dicoFr[m] = score\n",
      "    else:\n",
      "        score =  c #/float( nMots )*1e3\n",
      "        notInDicoFr[m] = score\n",
      "        \n",
      "words_sorted_dicoFr = sorted(words_count_dicoFr.iteritems(), key = lambda x:x[1], reverse=True)\n",
      "notInDicoFr_sorted = sorted(notInDicoFr.iteritems(), key = lambda x:x[1], reverse=True)"
     ],
     "language": "python",
     "metadata": {},
     "outputs": [],
     "prompt_number": 651
    },
    {
     "cell_type": "code",
     "collapsed": false,
     "input": [
      "len( words_sorted_dicoFr )"
     ],
     "language": "python",
     "metadata": {},
     "outputs": [
      {
       "metadata": {},
       "output_type": "pyout",
       "prompt_number": 652,
       "text": [
        "11247"
       ]
      }
     ],
     "prompt_number": 652
    },
    {
     "cell_type": "code",
     "collapsed": false,
     "input": [
      "bigTexte.count(u'\u00e9cologistes')"
     ],
     "language": "python",
     "metadata": {},
     "outputs": [
      {
       "metadata": {},
       "output_type": "pyout",
       "prompt_number": 653,
       "text": [
        "2"
       ]
      }
     ],
     "prompt_number": 653
    },
    {
     "cell_type": "code",
     "collapsed": false,
     "input": [
      "printSorted(words_count_dicoFr, 200)\n",
      "print '\\n'\n",
      "printSorted(notInDicoFr, 200)"
     ],
     "language": "python",
     "metadata": {},
     "outputs": [
      {
       "output_type": "stream",
       "stream": "stdout",
       "text": [
        "crash (8200.38)  dopage (6560.31)  airbus (4510.21)  partenariat (3690.17)  d\u00e9crypte (2870.13)  migratoire (2870.13)  extradition (2870.13)  migrants (2142.00)  attractivit\u00e9 (2050.10)  quinquennat (2050.10)  attentats (1812.43)  p\u00e9dophilie (1703.16)  volatilit\u00e9 (1640.08)  trisomie (1640.08)  palpations (1640.08)  vid\u00e9o (1552.22)  antiterroriste (1419.30)  technologies (1353.06)  radicalisation (1324.68)  kurdes (1306.94)  piratage (1230.06)  interpell\u00e9es (1230.06)  islamistes (1230.06)  centristes (1230.06)  fragilis\u00e9 (1230.06)  enc\u00e9phalopathie (1230.06)  revivez (1230.06)  microc\u00e9phalie (1230.06)  exemplarit\u00e9 (1230.06)  centriste (1025.05)  logiciel (1025.05)  spiegel (1025.05)  \u00e9mergents (1025.05)  cubains (984.05)  s\u00e9lectionneur (984.05)  blanchiment (841.62)  connectent (820.04)  chiffrement (820.04)  shows (820.04)  castriste (820.04)  buralistes (820.04)  sexistes (820.04)  g\u00e9n\u00e9rer (820.04)  qu\u00e9b\u00e9cois (820.04)  aiguilleurs (820.04)  bruxelloise (820.04)  chiite (820.04)  fustige (820.04)  r\u00e9silience (820.04)  f\u00e9miniser (820.04)  r\u00e9\u00e9criture (820.04)  opposante (820.04)  b\u00e9n\u00e9volat (820.04)  affronteront (820.04)  bi\u00e8vres (820.04)  dysfonctionnements (820.04)  sponsors (820.04)  transf\u00e8rement (615.03)  kurde (615.03)  ill\u00e9gaux (615.03)  incontournable (538.15)  pr\u00e9sidentielle (512.52)  \u00e9cologiste (473.10)  d\u00e9cryptage (473.10)  harkis (473.10)  pesticides (453.18)  missiles (425.79)  m\u00e9dias (425.21)  terrorisme (410.02)  photomontage (410.02)  divas (410.02)  limogeage (410.02)  improvisatrice (410.02)  horlog\u00e8res (410.02)  r\u00e9cusent (410.02)  d\u00e9clinera (410.02)  agha (410.02)  d\u00e9poussi\u00e8re (410.02)  plombent (410.02)  \u00e9lectoraliste (410.02)  pal\u00e9ontologue (410.02)  r\u00e9trop\u00e9dalage (410.02)  codirecteur (410.02)  booster (410.02)  transalpins (410.02)  d\u00e9sorganis\u00e9e (410.02)  meneau (410.02)  astrophysicien (410.02)  p\u00e9naux (410.02)  derby (410.02)  affranchissent (410.02)  y\u00e9m\u00e9nites (410.02)  emboutissage (410.02)  tyrannosaure (410.02)  cumulable (410.02)  a\u00e9rogares (410.02)  touareg (410.02)  caritative (410.02)  d\u00e9sertification (410.02)  pilot\u00e9e (410.02)  n\u00e9gocierait (410.02)  d\u00e9localise (410.02)  polluante (410.02)  \u00e9pinglent (410.02)  surclass\u00e9e (410.02)  pr\u00e9sidera (410.02)  intox (410.02)  bazookas (410.02)  capteurs (410.02)  mails (410.02)  banalise (410.02)  saoudiennes (410.02)  pass\u00e9istes (410.02)  r\u00e9invent\u00e9e (410.02)  colocataires (410.02)  contres (410.02)  m\u00e9thaniers (410.02)  vulgarisent (410.02)  boulingrin (410.02)  fragilise (410.02)  dop\u00e9es (410.02)  start (410.02)  cerclage (410.02)  boycott (410.02)  relanc\u00e9es (410.02)  impuls\u00e9 (410.02)  truste (410.02)  mon\u00e9gasque (410.02)  chutent (410.02)  r\u00e9\u00e9crite (410.02)  irakiens (410.02)  hospitalis\u00e9es (410.02)  chroniqueuse (410.02)  contact\u00e9s (410.02)  robotisation (410.02)  condamnez (410.02)  conforte (410.02)  grau (410.02)  populismes (410.02)  sond\u00e9s (410.02)  sponsoring (410.02)  \u00e9dile (410.02)  g\u00e9opolitiques (410.02)  historial (410.02)  positionnement (410.02)  liberticide (410.02)  photovolta\u00efque (410.02)  ivoirienne (410.02)  rigidifi\u00e9 (410.02)  soignants (410.02)  phoc\u00e9enne (410.02)  politiser (410.02)  comparaissait (410.02)  recentrer (410.02)  b\u00e9atifi\u00e9e (410.02)  immiscent (410.02)  d\u00e9cortiquant (410.02)  briguait (410.02)  fustigent (410.02)  plaidera (410.02)  kiwi (410.02)  buteur (410.02)  motoristes (410.02)  flingueur (410.02)  d\u00e9gainent (410.02)  inoccupation (410.02)  impay\u00e9s (410.02)  investitures (410.02)  zooms (410.02)  plafonnement (410.02)  flash\u00e9 (410.02)  qu\u00e9b\u00e9coise (410.02)  perp\u00e9tr\u00e9es (410.02)  red\u00e9ployer (410.02)  escape (410.02)  populisme (410.02)  pl\u00e9biscitent (410.02)  orque (410.02)  l\u00e9galistes (410.02)  malienne (410.02)  destitu\u00e9e (410.02)  surs (410.02)  mormon (410.02)  skipper (410.02)  hypothermie (410.02)  phoc\u00e9en (410.02)  entamera (410.02)  antiraciste (410.02)  embouteill\u00e9s (410.02)  lambdas (410.02)  vintage (410.02)  embauches (410.02)  dopant (410.02)  chrismale (410.02)  d\u00e9stabilise (410.02)  silicone (410.02)  d\u00e9stabilis\u00e9 (410.02)  rejouant (410.02)  d\u00e9viances (410.02)  immisce (410.02)  \n",
        "\n",
        "France (367.00)  Bruxelles (321.00)  Europe (119.00)  Turquie (94.00)  Syrie (84.00)  Etats-Unis (63.00)  Fran\u00e7ois (56.00)  Sarkozy (51.00)  Twitter (42.00)  Nicolas (39.00)  Russie (39.00)  Allemagne (38.00)  Volkswagen (38.00)  Lula (36.00)  Abdeslam (36.00)  Molenbeek (36.00)  start-up (35.00)  Euro (34.00)  djihadiste (34.00)  Apple (34.00)  Valls (33.00)  Lyon (32.00)  Michel (32.00)  djihadistes (31.00)  Royaume-Uni (30.00)  Pen (30.00)  Obama (30.00)  Espagne (29.00)  Gr\u00e8ce (28.00)  Marseille (27.00)  Fifa (27.00)  PSG (27.00)  Trump (25.00)  Ankara (25.00)  Cor\u00e9e (25.00)  PDG (23.00)  iPhone (23.00)  Washington (22.00)  Google (22.00)  Philippe (21.00)  Italie (20.00)  SNCF (20.00)  Macron (20.00)  Afrique (20.00)  Internet (20.00)  Tunisie (20.00)  Isra\u00ebl (19.00)  Benzema (19.00)  Bruno (18.00)  Alg\u00e9rie (18.00)  Toulouse (18.00)  internautes (18.00)  #Baselworld (18.00)  Zaventem (17.00)  Pays-Bas (17.00)  Jupp\u00e9 (17.00)  Gen\u00e8ve (16.00)  Clinton (16.00)  Facebook (16.00)  ONU (16.00)  Palmyre (16.00)  Istanbul (16.00)  Ardennes (16.00)  Strasbourg (15.00)  Henri (15.00)  Rio (15.00)  Libye (15.00)  FBI (15.00)  Ukraine (15.00)  Lille (15.00)  Moscou (15.00)  Irak (15.00)  AFP (15.00)  Merah (15.00)  EDF (14.00)  Mohamed (14.00)  Renault (14.00)  Barcelone (14.00)  Daech (14.00)  plate-forme (14.00)  Montpellier (14.00)  c\u0153ur (14.00)  Castries (14.00)  \u00c9tats-Unis (13.00)  UDI (13.00)  Hand (13.00)  Foll (13.00)  Ile-de-France (13.00)  Germanwings (13.00)  Y\u00e9men (12.00)  ONG (12.00)  SFR (12.00)  CGT (12.00)  Notre-Dame-des-Landes (11.00)  Zika (11.00)  BCE (11.00)  UE-Turquie (11.00)  Brexit (11.00)  NBA (11.00)  Grand-Bassam (11.00)  biodiversit\u00e9 (11.00)  d\u00e9put\u00e9e (11.00)  PNR (10.00)  Asie (10.00)  Barbarin (10.00)  Lagard\u00e8re (10.00)  ESB (10.00)  Web (10.00)  prud'hommes (10.00)  Vincent (10.00)  Bosnie (10.00)  Blatter (10.00)  RATP (10.00)  Shanghai (10.00)  Pologne (10.00)  Floride (10.00)  PIB (10.00)  Medef (10.00)  Yasmine (10.00)  Bouagga (10.00)  Niger (9.00)  Eiffel (9.00)  Biathlon (9.00)  islamiste (9.00)  bio (9.00)  Nigeria (9.00)  Instagram (9.00)  Kerviel (9.00)  Deschamps (9.00)  Qatar (9.00)  Nancy (9.00)  Economie (9.00)  ex-pr\u00e9sident (9.00)  Uber (9.00)  Alonso (9.00)  Erdogan (9.00)  Jean-Marie (9.00)  Orly (9.00)  St\u00e9phane (9.00)  Merkel (8.00)  Hamilton (8.00)  Colombie (8.00)  David (8.00)  Sanders (8.00)  Australie (8.00)  Generali (8.00)  Tunis (8.00)  smartphones (8.00)  Bamako (8.00)  Cruyff (8.00)  Mossoul (8.00)  suspect-cl\u00e9 (8.00)  Rouillan (8.00)  Didier (8.00)  Grande-Bretagne (8.00)  Khalid (8.00)  Times (8.00)  communautarisme (7.00)  drones (7.00)  Forest (7.00)  Vingt-Huit (7.00)  meldonium (7.00)  smartphone (7.00)  Ford (7.00)  Irlande (7.00)  Grande-Synthe (7.00)  Bardo (7.00)  Michael (7.00)  Vatican (7.00)  rendez-vous (7.00)  Sivens (7.00)  vid\u00e9os (7.00)  Canal+ (7.00)  JDD (7.00)  streaming (7.00)  Christophe (7.00)  nord-est (7.00)  Kurdistan (7.00)  Antilles (7.00)  Microsoft (7.00)  San (7.00)  Jean-Marc (7.00)  Bretagne (7.00)  Miami (7.00)  Breivik (7.00)  Norv\u00e8ge (7.00)  Utah (7.00)  Insee (7.00)  antidopage (6.00)  Bayonne (6.00)  Pakistan (6.00)  Bollor\u00e9 (6.00)  Castro (6.00)  Antoine (6.00)  Mondefr (6.00)  cofondateur (6.00)  Djokovic (6.00)  Melbourne (6.00)  TPE (6.00)  #Syrieans (6.00) \n"
       ]
      }
     ],
     "prompt_number": 654
    },
    {
     "cell_type": "code",
     "collapsed": false,
     "input": [
      "print notInDicoFr_sorted[-50:]"
     ],
     "language": "python",
     "metadata": {},
     "outputs": [
      {
       "output_type": "stream",
       "stream": "stdout",
       "text": [
        "[(u'Ph\\xe8dre\\u2009', 1), (u'shooting', 1), (u'Altrad', 1), (u'camion-citerne', 1), (u'taekwondo', 1), (u'Vans', 1), (u'franco-belge', 1), (u'Daoudi', 1), (u'Imad', 1), (u'Tokyo', 1), (u'Yesterday', 1), (u'letaxi', 1), (u'Gregorian', 1), (u'h\\xe9raultaise', 1), (u'quintet', 1), (u'Casadesus', 1), (u'r\\xe9visent', 1), (u'William', 1), (u'Blankets', 1), (u'Jens', 1), (u'\\u2009concurrence', 1), (u'Milton', 1), (u'junk', 1), (u'Reims', 1), (u'Michaela', 1), (u'Suarez', 1), (u'Zeitung', 1), (u'Lussault', 1), (u'Auteuil', 1), (u\"t'oublierons\", 1), (u'Rib\\xe9ry', 1), (u'petit-fils', 1), (u'cybers\\xe9curit\\xe9', 1), (u'Louxor', 1), (u'Elizabeth', 1), (u'Urkullu', 1), (u'Girard', 1), (u'saigne\\u2009', 1), (u'Zavantem', 1), (u'sous-marin', 1), (u'Gheit', 1), (u'Tsipras', 1), (u'lobbys', 1), (u'ArcelorMittal', 1), (u'Chatel', 1), (u'ex-commandant', 1), (u'al-Assad', 1), (u'Ba\\xefkonour', 1), (u'Guillermo', 1), (u'Blakey', 1)]\n"
       ]
      }
     ],
     "prompt_number": 655
    },
    {
     "cell_type": "code",
     "collapsed": false,
     "input": [
      "#\u00a0Merge :"
     ],
     "language": "python",
     "metadata": {},
     "outputs": [],
     "prompt_number": 656
    },
    {
     "cell_type": "code",
     "collapsed": false,
     "input": [
      "dico_nuplets = { x:bigTexte.count( x ) for x in nuplets_count.iterkeys() if bigTexte.count( x ) > 1 }"
     ],
     "language": "python",
     "metadata": {},
     "outputs": []
    },
    {
     "cell_type": "code",
     "collapsed": false,
     "input": [
      "dico_nuplets.items()[:10]"
     ],
     "language": "python",
     "metadata": {},
     "outputs": [
      {
       "metadata": {},
       "output_type": "pyout",
       "prompt_number": 632,
       "text": [
        "[(u'Sophie Moinas', 3),\n",
        " (u'Jean-Luc M\\xe9lenchon', 4),\n",
        " (u'Laurent Ruquier', 2),\n",
        " (u'T\\xe9l\\xe9 7 Jours', 2),\n",
        " (u'Vous avez', 2),\n",
        " (u'Reconnu coupable', 2),\n",
        " (u\"GP d'Australie\", 13),\n",
        " (u'CRS Alpes', 3),\n",
        " (u'LE CARDINAL BARBARIN', 2),\n",
        " (u'changement climatique', 4)]"
       ]
      }
     ],
     "prompt_number": 632
    },
    {
     "cell_type": "code",
     "collapsed": false,
     "input": [
      "scoreMax = float( words_sorted_dicoFr[0][1] )\n",
      "print scoreMax\n",
      "words_dicoFr_normed = { k:c/scoreMax for k, c in words_count_dicoFr.iteritems() }"
     ],
     "language": "python",
     "metadata": {},
     "outputs": [
      {
       "output_type": "stream",
       "stream": "stdout",
       "text": [
        "8250.41664604\n"
       ]
      }
     ],
     "prompt_number": 633
    },
    {
     "cell_type": "code",
     "collapsed": false,
     "input": [
      "signifiants = {}\n",
      "signifiants.update( notInDicoFr )\n",
      "\n",
      "signifiants.update( dico_nuplets )\n",
      "signifiants.update( words_dicoFr_normed )\n",
      "\n",
      "print len( signifiants )"
     ],
     "language": "python",
     "metadata": {},
     "outputs": [
      {
       "output_type": "stream",
       "stream": "stdout",
       "text": [
        "16243\n"
       ]
      }
     ],
     "prompt_number": 634
    },
    {
     "cell_type": "code",
     "collapsed": false,
     "input": [
      "printSorted(signifiants, 400)"
     ],
     "language": "python",
     "metadata": {},
     "outputs": [
      {
       "output_type": "stream",
       "stream": "stdout",
       "text": [
        "France (367.00)  Bruxelles (317.00)  Europe (119.00)  Salah Abdeslam (113.00)  Turquie (94.00)  Syrie (83.00)  13 novembre (66.00)  Etats-Unis (63.00)  El Khomri (53.00)  Fran\u00e7ois (53.00)  Sarkozy (50.00)  Twitter (42.00)  Nicolas (39.00)  Barack Obama (39.00)  Russie (39.00)  Allemagne (38.00)  Manuel Valls (38.00)  Volkswagen (38.00)  Lula (36.00)  Abdeslam (36.00)  Molenbeek (36.00)  start-up (35.00)  Euro (34.00)  Apple (34.00)  djihadiste (34.00)  Valls (33.00)  loi El Khomri (33.00)  Michel (32.00)  Lyon (32.00)  djihadistes (31.00)  Royaume-Uni (30.00)  Obama (30.00)  Pen (30.00)  Donald Trump (29.00)  Gr\u00e8ce (28.00)  PSG (27.00)  Fifa (27.00)  Marseille (27.00)  Espagne (27.00)  Trump (25.00)  Ankara (25.00)  Cor\u00e9e (25.00)  Etat islamique (24.00)  r\u00e9seaux sociaux (23.00)  iPhone (23.00)  PDG (23.00)  Google (22.00)  Dilma Rousseff (21.00)  Washington (21.00)  Philippe (21.00)  Macron (20.00)  Internet (20.00)  SNCF (20.00)  Afrique (20.00)  Tunisie (20.00)  Emmanuel Macron (20.00)  Isra\u00ebl (19.00)  New York (19.00)  Italie (19.00)  Benzema (19.00)  internautes (18.00)  Alg\u00e9rie (18.00)  Bruno (18.00)  #Baselworld (18.00)  Toulouse (18.00)  Jupp\u00e9 (17.00)  Zaventem (17.00)  Johan Cruyff (17.00)  vache folle (17.00)  Gen\u00e8ve (16.00)  Pays-Bas (16.00)  Facebook (16.00)  CAC 40 (16.00)  \u00c9tat islamique (16.00)  Ardennes (16.00)  Top 14 (16.00)  Istanbul (16.00)  Clinton (16.00)  ONU (16.00)  Rio (15.00)  Lille (15.00)  Merah (15.00)  Libye (15.00)  Moscou (15.00)  Strasbourg (15.00)  AFP (15.00)  Palmyre (15.00)  Henri (15.00)  FBI (15.00)  Indian Wells (15.00)  EDF (14.00)  cardinal Barbarin (14.00)  la loi El Khomri (14.00)  Montpellier (14.00)  Renault (14.00)  Barcelone (14.00)  c\u0153ur (14.00)  Ukraine (14.00)  plate-forme (14.00)  Mohamed (14.00)  Castries (14.00)  Six nations (14.00)  \u00c9tats-Unis (13.00)  Irak (13.00)  GP d'Australie (13.00)  UDI (13.00)  Germanwings (13.00)  \u00e9lection pr\u00e9sidentielle (13.00)  El Bakraoui (13.00)  Foll (13.00)  St Moritz (13.00)  Ile-de-France (13.00)  intelligence artificielle (12.00)  Hand (12.00)  SFR (12.00)  CGT (12.00)  Y\u00e9men (12.00)  Daech (12.00)  ONG (12.00)  Zika (11.00)  BCE (11.00)  UE-Turquie (11.00)  Patrice Talon (11.00)  biodiversit\u00e9 (11.00)  extr\u00eame droite (11.00)  Hillary Clinton (11.00)  Ted Cruz (11.00)  Sven Mary (11.00)  bande dessin\u00e9e (11.00)  d\u00e9put\u00e9e (11.00)  La dessinatrice Lisa Mandel (11.00)  Brexit (11.00)  NBA (11.00)  Grand-Bassam (11.00)  Notre-Dame-des-Landes (11.00)  Najim Laachraoui (11.00)  C\u00f4te d'Ivoire (11.00)  chiffre d'affaires (10.00)  PNR (10.00)  Barbarin (10.00)  Web (10.00)  Blatter (10.00)  Pologne (10.00)  Floride (10.00)  Bouagga (10.00)  point d'indice (10.00)  Asie (10.00)  Vincent (10.00)  Manchester City (10.00)  PIB (10.00)  Shanghai (10.00)  Front national (10.00)  Lagard\u00e8re (10.00)  Bosnie (10.00)  Medef (10.00)  Batman v Superman (10.00)  RATP (10.00)  Yasmine (10.00)  ESB (10.00)  prud'hommes (10.00)  r\u00e9vision constitutionnelle (10.00)  Niger (9.00)  bio (9.00)  islamiste (9.00)  Guerre d'Alg\u00e9rie (9.00)  C\u00f4te d\u2019Ivoire (9.00)  Uber (9.00)  agressions sexuelles (9.00)  Eiffel (9.00)  Instagram (9.00)  Deschamps (9.00)  Qatar (9.00)  Alonso (9.00)  Biathlon (9.00)  Bouygues Telecom (9.00)  on sait (9.00)  Economie (9.00)  Orly (9.00)  ex-pr\u00e9sident (9.00)  Erdogan (9.00)  St\u00e9phane (9.00)  Affaires \u00e9trang\u00e8res (9.00)  Jean-Marie (9.00)  Suu Kyi (9.00)  Nigeria (9.00)  Jeanne d'Arc (9.00)  Kerviel (9.00)  Hamilton (8.00)  Colombie (8.00)  Angela Merkel (8.00)  contr\u00f4leurs a\u00e9riens (8.00)  Bamako (8.00)  Generali (8.00)  suspect-cl\u00e9 (8.00)  Edouard Louis (8.00)  Bernard Cazeneuve (8.00)  Khalid (8.00)  conseil d'administration (8.00)  spongiforme bovine (8.00)  San Suu Kyi (8.00)  Rouillan (8.00)  smartphones (8.00)  Merkel (8.00)  Australie (8.00)  Abdelkader Merah (8.00)  David (8.00)  Didier (8.00)  Grande-Bretagne (8.00)  Sanders (8.00)  Xavier Bertrand (8.00)  Tunis (8.00)  zone euro (8.00)  Times (8.00)  communautarisme (7.00)  Irlande (7.00)  perp\u00e9tuit\u00e9 r\u00e9elle (7.00)  Myriam El Khomri (7.00)  Serge Dassault (7.00)  Michael (7.00)  d\u00e9tention provisoire (7.00)  JDD (7.00)  San (7.00)  Serge Kampf (7.00)  Bretagne (7.00)  Buenos Aires (7.00)  Norv\u00e8ge (7.00)  Utah (7.00)  drones (7.00)  sexe neutre (7.00)  \u00e9tat d\u2019urgence (7.00)  Nadia Savtchenko (7.00)  meldonium (7.00)  Ford (7.00)  Breivik (7.00)  Sivens (7.00)  Karim Benzema (7.00)  Jean-Marc (7.00)  Microsoft (7.00)  Lionel Zinsou (7.00)  Forest (7.00)  smartphone (7.00)  Kurdistan (7.00)  Am\u00e9rique (7.00)  Grande-Synthe (7.00)  rendez-vous (7.00)  Cruyff (7.00)  vid\u00e9os (7.00)  Nancy (7.00)  Cour supr\u00eame (7.00)  Cr\u00e9dit Mutuel (7.00)  organisation Etat islamique (7.00)  Insee (7.00)  Arabie saoudite (7.00)  R\u00e9forme constitutionnelle (7.00)  Bardo (7.00)  Christophe (7.00)  Vingt-Huit (7.00)  Philippe Poutou (7.00)  Antilles (7.00)  p\u00e9nal international (7.00)  streaming (7.00)  commission d'enqu\u00eate (7.00)  Mossoul (7.00)  Canal+ (7.00)  French Tech (7.00)  nord-est (7.00)  13 Novembre (6.00)  Djokovic (6.00)  Melbourne (6.00)  Arnaud D\u00e9mare (6.00)  Toshiba (6.00)  Formule 1 (6.00)  Egypte (6.00)  CFDT (6.00)  Marion Mar\u00e9chal-Le Pen (6.00)  HSBC (6.00)  made in (6.00)  cessez-le-feu (6.00)  euro (6.00)  Raul Castro (6.00)  mandat d'arr\u00eat europ\u00e9en (6.00)  Duba\u00ef (6.00)  OMS (6.00)  blockbuster (6.00)  Pyongyang (6.00)  Bollor\u00e9 (6.00)  vice-pr\u00e9sident (6.00)  Antoine (6.00)  appartement perquisitionn\u00e9 (6.00)  \u00eeles grecques (6.00)  Bayern Munich (6.00)  #Syrieans (6.00)  Kamel Daoud (6.00)  antidopage (6.00)  jihadistes (6.00)  SDF (6.00)  Hinkley Point (6.00)  \u0153uvre (6.00)  Editorial (6.00)  PKK (6.00)  PME (6.00)  Castro (6.00)  Erasmus (6.00)  Rousseff (6.00)  Saint-Denis (6.00)  Molins (6.00)  Bayonne (6.00)  Indon\u00e9sie (6.00)  Texas (6.00)  Vatican (6.00)  Rob Ford (6.00)  entre eux (6.00)  Aur\u00e9lie Ch\u00e2telain (6.00)  cofondateur (6.00)  TPE (6.00)  r\u00e9alit\u00e9 virtuelle (6.00)  contre-pied (6.00)  Beatles (6.00)  Burundi (6.00)  NPA (6.00)  supporteurs (6.00)  Pakistan (6.00)  Zapping (6.00)  Radovan Karadzic (6.00)  Atletico Madrid (6.00)  Maelbeek (6.00)  Toronto (6.00)  informatiques (6.00)  Platini (6.00)  Karadzic (5.00)  Bruno Biais (5.00)  Mondefr (5.00)  Jean-Christophe Lagarde (5.00)  Fed (5.00)  Star Wars (5.00)  Bercy (5.00)  Idomeni (5.00)  S\u00e9gol\u00e8ne Royal (5.00)  Charlie Hebdo (5.00)  reconnue coupable (5.00)  Vivendi (5.00)  Poutine (5.00)  bande organis\u00e9e (5.00)  Alep (5.00)  Loire-Atlantique (5.00)  \u0153il (5.00)  George Martin (5.00)  Roissy (5.00)  Sony (5.00)  Jean Lassalle (5.00)  Fnac (5.00)  pneumologue (5.00)  Marineland (5.00)  mati\u00e8res premi\u00e8res (5.00)  Elys\u00e9e (5.00)  Lee Sedol (5.00)  Dupont-Aignan (5.00)  Amazon (5.00)  cour d'appel (5.00)  San Antonio (5.00)  Spotify (5.00)  Bangladesh (5.00)  Grenoble (5.00)  Nouvelles limites (5.00)  Soufiane Kayal (5.00)  commission d'enqu\u00eate parlementaire (5.00)  Bloomberg (5.00)  Payet (5.00)  N\u00eemes (5.00)  Wall Street (5.00)  Tribunal p\u00e9nal (5.00)  Bernard (5.00)  SXSW (5.00)  logisticien (5.00)  Zack Snyder (5.00)  Petrobras (5.00)  porte-parole (5.00)  innovants (5.00)  Cameron (5.00)  Boko Haram (5.00)  DSK (5.00)  tweets (5.00)  World (5.00)  voiture pi\u00e9g\u00e9e (5.00)  Krzysztof Warlikowski (5.00)  n\u2019est \u00e9pargn\u00e9 (5.00)  Accord UE-Turquie (5.00)  Darty (5.00)  ex-Yougoslavie (5.00)  Aisne (5.00)  Birmanie (5.00)  low cost (5.00)  Unef (5.00)  FIFA (5.00)  Ibrahim El Bakraoui (5.00)  Essonne (5.00)  Ferrari (5.00)  Bayern (5.00)  sont-ils (5.00)  Real Madrid (5.00) \n"
       ]
      }
     ],
     "prompt_number": 635
    },
    {
     "cell_type": "code",
     "collapsed": false,
     "input": [],
     "language": "python",
     "metadata": {},
     "outputs": []
    }
   ],
   "metadata": {}
  }
 ]
}