{
 "metadata": {
  "name": "",
  "signature": "sha256:b201c1d4c187450eb4de07a92b6844caa7947e00b0c1b0650bad4064c73c281f"
 },
 "nbformat": 3,
 "nbformat_minor": 0,
 "worksheets": [
  {
   "cells": [
    {
     "cell_type": "code",
     "collapsed": false,
     "input": [
      "import json\n",
      "import re"
     ],
     "language": "python",
     "metadata": {},
     "outputs": [],
     "prompt_number": 384
    },
    {
     "cell_type": "code",
     "collapsed": false,
     "input": [
      "# Load \"liste des mots\"\n",
      "import codecs\n",
      "\n",
      "filename = './data_dico/liste_mots_utf8.txt'\n",
      "# cf: http://www.lexique.org/listes/liste_mots.txt\n",
      "# load\n",
      "with codecs.open(filename, encoding='utf-8') as f:\n",
      "    listemots = f.readlines()\n",
      "  \n",
      "for i, mot in enumerate( listemots ):\n",
      "    a = mot.split('\\t')\n",
      "    freq = float(a[1])\n",
      "    word = a[0]\n",
      "    listemots[i] = (word, freq)\n",
      "\n",
      "dicoFr = { x[0]:x[1] for x in listemots }"
     ],
     "language": "python",
     "metadata": {},
     "outputs": [],
     "prompt_number": 385
    },
    {
     "cell_type": "code",
     "collapsed": false,
     "input": [
      "def printSorted(dico, n = 200 ):\n",
      "    myDico_sorted = sorted(dico.iteritems(), key = lambda x:x[1], reverse=True)\n",
      "    for m, c in myDico_sorted[:n]:\n",
      "        print '%s (%0.2f) ' % (m, c),"
     ],
     "language": "python",
     "metadata": {},
     "outputs": [],
     "prompt_number": 386
    },
    {
     "cell_type": "code",
     "collapsed": false,
     "input": [
      "#\u00a0-- Load nUplets from Eleve --\n",
      "filename = './Eleve/data_nuplets.json'\n",
      "nuplets_count = json.loads(open(filename).read())\n",
      "\n",
      "print( 'nombre de nuplets: %i ' % len( nuplets_count ) )"
     ],
     "language": "python",
     "metadata": {},
     "outputs": [
      {
       "output_type": "stream",
       "stream": "stdout",
       "text": [
        "nombre de nuplets: 392 \n"
       ]
      }
     ],
     "prompt_number": 387
    },
    {
     "cell_type": "code",
     "collapsed": false,
     "input": [
      "sorted_nuplets = sorted( nuplets_count.items(), key=lambda x:x[1], reverse=True )\n",
      "\n",
      "output = [ x[0]+' (%i)'%x[1] for x in sorted_nuplets  ]\n",
      "print( '; '.join( output ) )"
     ],
     "language": "python",
     "metadata": {},
     "outputs": [
      {
       "output_type": "stream",
       "stream": "stdout",
       "text": [
        "Salah Abdeslam (120); 13 novembre (81); El Khomri (58); Manuel Valls (43); Barack Obama (41); Union europ\u00e9enne (40); Etat islamique (39); loi El Khomri (37); Donald Trump (37); Johan Cruyff (31); Top 14 (30); r\u00e9seaux sociaux (28); New York (24); Dilma Rousseff (23); \u00c9tat islamique (23); Emmanuel Macron (21); CAC 40 (17); El Bakraoui (17); vache folle (17); intelligence artificielle (16); Rolling Stones (15); la loi El Khomri (15); Indian Wells (15); cardinal Barbarin (14); extr\u00eame droite (14); Ted Cruz (14); Six nations (14); GP d'Australie (13); Najim Laachraoui (13); C\u00f4te d'Ivoire (13); Batman v Superman (13); St Moritz (13); R\u00e9mi Fraisse (13); \u00e9tat d\u2019urgence (13); Hillary Clinton (13); \u00e9lection pr\u00e9sidentielle (13); chiffre d'affaires (12); Front national (12); point d'indice (11); Reda Kriket (11); Patrice Talon (11); Projet d'attentat (11); Bernard Cazeneuve (11); r\u00e9vision constitutionnelle (11); organisation Etat islamique (11); Sven Mary (11); bande dessin\u00e9e (11); Bouygues Telecom (11); La dessinatrice Lisa Mandel (11); Suu Kyi (11); French Tech (11); Manchester City (10); conseil d'administration (10); perp\u00e9tuit\u00e9 r\u00e9elle (10); agressions sexuelles (10); p\u00e9nal international (10); Arabie saoudite (10); Guerre d'Alg\u00e9rie (9); Affaires \u00e9trang\u00e8res (9); Karim Benzema (9); Jeanne d'Arc (9); C\u00f4te d\u2019Ivoire (9); zone euro (9); spongiforme bovine (9); San Suu Kyi (9); Aung San Suu Kyi (9); commission d'enqu\u00eate (9); Fay\u00e7al Cheffou (8); Radovan Karadzic (8); Alain Decaux (8); Xavier Bertrand (8); Abdelkader Merah (8); Angela Merkel (8); contr\u00f4leurs a\u00e9riens (8); Tribunal p\u00e9nal (8); Buenos Aires (8); cit\u00e9 antique (8); Edouard Louis (8); iPhone SE (8); Sylvie Leclerc (8); Nations unies (8); \u00eeles grecques (7); Serge Dassault (7); voiture pi\u00e9g\u00e9e (7); Cr\u00e9dit Mutuel (7); R\u00e9forme constitutionnelle (7); Serge Kampf (7); Lionel Zinsou (7); sexe neutre (7); Patrick Kanner (7); Los Angeles (7); San Antonio (7); Sassou Nguesso (7); Antoine Demoiti\u00e9 (7); Ibrahim El Bakraoui (7); Myriam El Khomri (7); r\u00e9alit\u00e9 virtuelle (7); Cour supr\u00eame (7); 13 Novembre (7); Nadia Savtchenko (7); commission d'enqu\u00eate parlementaire (7); R\u00e9publique dominicaine (7); Boko Haram (7); Aur\u00e9lie Ch\u00e2telain (6); Real Madrid (6); soldat isra\u00e9lien (6); low cost (6); Formule 1 (6); Bernie Sanders (6); Bayern Munich (6); mandat d'arr\u00eat europ\u00e9en (6); Carlos Ghosn (6); auteurs d'actes terroristes (6); Atletico Madrid (6); Val\u00e9rie P\u00e9cresse (6); Jean-Marc Rouillan (6); 0 h (6); Florence Hartmann (6); Rob Ford (6); t\u00e9moin assist\u00e9 (6); Jean-Christophe Lagarde (6); S\u00e9gol\u00e8ne Royal (6); Kamel Daoud (6); Raul Castro (6); Golden State (6); Charlie Hebdo (6); made in (6); Hinkley Point (6); personnellement pardon aux victimes (6); poids lourd (6); Jim Harrison (6); appartement perquisitionn\u00e9 (6); est \u00e9pargn\u00e9 (6); Marion Mar\u00e9chal-Le Pen (6); Zack Snyder (6); investiture r\u00e9publicaine (6); Maison Blanche (6); Du soul\u00e8vement populaire (5); Action directe (5); L\u00e9gislatives partielles (5); mati\u00e8res premi\u00e8res (5); Dominique Strauss-Kahn (5); Wall Street (5); cour d'appel (5); \u00e9mission diesel (5); Abdelhamid Abaaoud (5); Krzysztof Warlikowski (5); d\u00e9parts volontaires (5); transaction p\u00e9nale (5); Soufiane Kayal (5); March Madness (5); projet d'a\u00e9roport (5); Carlos Tavares (5); raids a\u00e9riens (5); abus sexuels (5); Jean Lassalle (5); Accord UE-Turquie (5); Bison fut\u00e9 (5); Juliette Gr\u00e9co (5); BNP Paribas (5); SNCF R\u00e9seau (5); reconnue coupable (5); Lee Sedol (5); Vache folle (5); Jeb Bush (5); Fidel Castro (5); Guillaume Musso (5); Bruno Biais (5); Star Wars (5); militant \u00e9cologiste (5); bande organis\u00e9e (5); Jean-Luc M\u00e9lenchon (4); Laurent Ruquier (4); R\u00e9serve f\u00e9d\u00e9rale (4); Jean-Marc Ayrault (4); traitement inhumain (4); l\u00e9gislatives partielles (4); Festival S\u00e9ries Mania (4); pilote ukrainienne Savtchenko (4); investiture d\u00e9mocrate (4); Cour p\u00e9nale internationale (4); volume d'\u00e9changes (4); Laurent Berger (4); activement recherch\u00e9 (4); Sophie Marceau (4); Beno\u00eet XVI (4); pr\u00e9somption d\u2019innocence (4); Crit\u00e9rium international (4); optimisation fiscale (4); Sid Ahmed Ghlam (4); assembl\u00e9e g\u00e9n\u00e9rale (4); vos connaissances (4); Giulio Regeni (4); XIXe si\u00e8cle (4); Christian Estrosi (4); Gilles Kepel (4); Big Data (4); assaillant palestinien (4); \u00e9coute t\u00e9l\u00e9phonique (4); cour d'appel d'Orl\u00e9ans (4); ancienne porte-parole (4); salle Gaveau (4); Mohamed Abrini (4); meilleure baguette (4); taxe Nutella (4); projet d\u2019attentat (4); accident d'autocar (4); French Blue (4); insecticides n\u00e9onicotino\u00efdes (4); UE d'\u00e9mission (4); stopper l'afflux (4); Ben Abbes (4); Air Coca\u00efne (4); moteurs truqu\u00e9s (4); Mariah Carey (4); raid a\u00e9rien (4); Meurtre d'Aur\u00e9lie Ch\u00e2telain (4); Jeux olympiques (4); farines animales (4); Renaud Lavillenie (4); Maria Sharapova (4); French Touch (4); spectacles itin\u00e9rants (4); Anne Hidalgo (4); appris l'AFP (4); Jacqueline Sauvage (4); c\u00e9r\u00e9monie d\u2019hommage (4); Denis Sassou-Nguesso (4); John Kerry (4);  \u00e9trangleur (4); changement climatique (4); Nicolas Charbonnier (4); Milan-San Remo (4); Europa League (4); Nadejda Savtchenko (4); Thomas Buberl (4); Jean-Pierre Farandou (4); Drawing after (4); Credit Suisse (4); \u00e9nergies renouvelables (4); Jacques-Antoine Granjon (4); \u00e9tablissement d'une r\u00e9gion f\u00e9d\u00e9rale (4); iPad Pro (4); fans zone (4); conseil r\u00e9gional (4); Galeries Lafayette (4); d\u00e9but d'ann\u00e9e (4); pr\u00eatres p\u00e9dophiles (4); vols annul\u00e9s (4); Htin Kyaw (4); Sophie Moinas (3); CRS Alpes (3); tribunal correctionnel (3); t\u00eates d\u2019affiche (3); mariage homosexuel (3); virus Ebola (3); attentats perp\u00e9tr\u00e9s (3); station Maelbeek (3); Abderamane A. (3); Bang & Olufsen (3); geste significatif (3); Donald Tusk (3); Iggy Pop (3); Laurent Wauquiez (3); Prix Nobel (3); da Silva (3); a sauv\u00e9 (3); Plac\u00e9 appellera (3); Meir Dagan (3); CGT FO FSU (3); BHF Kleinwort (3); Ben Guerdane (3); Jeux Olympiques (3); attractions touristiques (3); pr\u00e9somption d'innocence (3); commotions c\u00e9r\u00e9brales (3); pop star (3); Hong Kong (3); Telecom Italia (3); taux interbancaire (3); Super Tuesday (3); treize \u00e9tudiantes (3); Savtchenko reconnue coupable (3); Emmanuelle Cosse (3); Merrick Garland (3); 50e pole (3); pilote d'h\u00e9licopt\u00e8re (3); missiles balistiques (3); applications mobiles (3); Ban Ki-moon (3); plaque tournante (3); grandes m\u00e9tropoles (3); SOS M\u00e9diterran\u00e9e (3); Lewis Hamilton (3); logements neufs (3); Sao Paulo (3); enc\u00e9phalopathie spongiforme bovine (ESB) (3); Johan Leman (3); Mario Greco (3); Mondial 2006 (3); organisations patronales (3); Rokhaya Diallo (3); 70e \u00e9dition (3); Marcel Desailly (3); Brahim Abdeslam (3); fins personnelles (3); heure d\u2019\u00e9t\u00e9 (3); couples homosexuels (3); engin explosif (3); Bachar Al-Assad (3); Morceaux choisis (3); Tour d\u2019horizon (3); to B (3); indice vedette (3); St\u00e9phane H. (3); Atl\u00e9tico Madrid (3); Farouk Ben Abbes (3); manifestants nationalistes (3); Jeremie Berrebi (3); Poutou d\u00e9sign\u00e9 (3); David Bowie (3); trading haute fr\u00e9quence (3); Anthony Dubois (3); zones d'ombre (3); perte nette (3); Zurich Insurance (3); Isabelle Huppert (3); bailleur social (3); pape \u00e9m\u00e9rite (3); \u00e9lections r\u00e9gionales (3); Munich R\u00e9 (3); d\u00e9bris trouv\u00e9s (3); Financial Times (3); Bon Coin (3); Axa Henri (3); FC Barcelone (3); seuls binationaux (3); mariage gay (3); Bank of (3); agences immobili\u00e8res (3); Manchester United (3); Guy Nov\u00e8s (3); talibans pakistanais (3); Mgr Barbarin (3); Denis Duverne (3); nationalit\u00e9s diff\u00e9rentes (3); Belgique 13 nouvelles perquisitions (3); chanceli\u00e8re allemande (3); chronique Open (3); Alain Marsaud (3); demandeurs d\u2019asile (3); Admission post-bac (3); Banco Popolare (3); Ra\u00fal Castro (3); hors norme (3); travaux forc\u00e9s (3); masse salariale (3); Mohamed Belka\u00efd (3); Recep Tayyip (3); business angels (3); Julia Roberts (3); gaz naturel (3); J. J. Abrams (3); Miley Cyrus (3); Champions League (3); heure d'\u00e9t\u00e9 (3); membres d'\u00e9quipage (3); Angelina Jolie (3); salon horloger (3); parc d'attractions (3); perp\u00e9tuit\u00e9 effective (3); creuse l'\u00e9cart (3); Silicon Valley (3); UFC-Que Choisir (3); je n\u2019ai (3); Rahmane al-Qadouli (3); frappes a\u00e9riennes (3); Amedy Coulibaly (3); contr\u00f4l\u00e9s positifs (3); Julien Lepers (3); Rafael Nadal (3); mer \u00c9g\u00e9e (3); minorit\u00e9s religieuses (3); listes \u00e9lectorales (3); Qui l'e\u00fbt cru (3); The Economist (3); demandeurs d'emploi (3); Thierry Foucault (3); Eagles of Death Metal (3); ski alpin (3); Jean-Pierre Bemba (3); Daniel Cohn-Bendit (3)\n"
       ]
      }
     ],
     "prompt_number": 388
    },
    {
     "cell_type": "code",
     "collapsed": false,
     "input": [
      "# -- Load data4eleve --\n",
      "filename = './Eleve/data4eleve.json'\n",
      "data4eleve = json.loads(open(filename).read())"
     ],
     "language": "python",
     "metadata": {},
     "outputs": [],
     "prompt_number": 389
    },
    {
     "cell_type": "code",
     "collapsed": false,
     "input": [
      "#\u00a0count and remove nuplet from formatted text\n",
      "for post in data4eleve:\n",
      "    post['count'] = {}\n",
      "    for nuplet in nuplets_count.iterkeys():\n",
      "        c = 0\n",
      "        while nuplet in post['formatedtext']:\n",
      "            c += 1\n",
      "            post['formatedtext'] = post['formatedtext'].replace(  nuplet, u'' )\n",
      "        if c > 0:\n",
      "            post['count'].update( {nuplet:c} )"
     ],
     "language": "python",
     "metadata": {},
     "outputs": [],
     "prompt_number": 390
    },
    {
     "cell_type": "code",
     "collapsed": false,
     "input": [
      "#\u00a0en minuscule \n",
      "blacklist = ['etat', 'etats', 'euros', u'est-il', 'actu', u'a-t-il', 'ont-ils', 'a-t-on', 'va-t-il', u'elle-m\u00eame']\n",
      "blacklist.extend( ['axa', u'apr\u00e8s-midi', 'a-t-elle', 'faut-il', u'peut-\u00eatre', 'the', 'sont-elles'] )\n",
      "blacklist.extend(['week-end', u'lui-m\u00eame', u\"qu'on\", 'celle-ci', 'celui-ci', u'au-del\u00e0', 'est-elle', 'sont-ils'])\n",
      "blacklist.extend([u'Lib\u00e9', u'\u0153il', u'\u0153uvre', 'zapping', 'editorial'])\n",
      "# stopwords\n",
      "blacklist.extend(['les', 'des', u'est', u\"\u00e9t\u00e9\", 'pour', 'contre', u'pas', 'dans', 'qui', 'que', 'lui', 'ses', 'une']) \n",
      "blacklist.extend(['avait', 'sur', 'voici', 'avec', 'comme', 'cela', 'aux', 'cette', 'par', 'selon', u'apr\u00e8s', 'fait', 'faire'])\n",
      "blacklist.extend(['nous', 'vous', 'ils', 'elle', 'elles', 'eux', 'ont', 'avez', 'avons','plus', 'ainsi', 'leur', u'\u00eatre'])\n",
      "blacklist.extend(['tout', 'tous', 'toutes', 'depuis', 'moins', 'plus', 'sont', 'vers', 'mme', u'\u00e8me'])\n",
      "\n",
      "\n",
      "\n",
      "# count words\n",
      "words_count = {}\n",
      "for post in data4eleve:\n",
      "    mots = post['formatedtext'].split(' ')\n",
      "    \n",
      "    for mot in mots:\n",
      "        mot = re.sub(u\"[Aa]ujourd.hui\",  '', mot)\n",
      "        mot = re.sub(u\"jusqu.([\u00e0a]|en)\",  '', mot)\n",
      "\n",
      "        mot = re.sub(u\"(^|\\s)[LldDsSnNcCjJ]['`\u2019]\", \"\", mot)\n",
      "        mot = re.sub(u\"(^|\\s)qu['`\u2019]\", \"\", mot)\n",
      "        mot = re.sub(r\"[0-9\\.\\(\\)]\", u'', mot)\n",
      "        mot = re.sub(r\"-$\", u'', mot) \n",
      "        mot = re.sub(r\"\\s\", u'', mot)\n",
      "\n",
      "        if mot.lower() in dicoFr:\n",
      "            mot = mot.lower()     \n",
      "\n",
      "        #if mot.endswith( 's' ) and mot[0:-1] in dicoFr:\n",
      "        #    mot = mot[:-1]      ... pas une bonne idee dans>dan\n",
      "\n",
      "        if len( mot )>2 and mot.lower() not in blacklist:       \n",
      "            if mot in words_count:\n",
      "                words_count[ mot ] += 1\n",
      "            elif mot:\n",
      "                words_count[ mot ] = 1\n",
      "                \n",
      "            if mot in post['count']:\n",
      "                post['count'][ mot ] += 1\n",
      "            elif mot:\n",
      "                post['count'][ mot ] = 1"
     ],
     "language": "python",
     "metadata": {},
     "outputs": [],
     "prompt_number": 391
    },
    {
     "cell_type": "code",
     "collapsed": false,
     "input": [
      "data4eleve[139]"
     ],
     "language": "python",
     "metadata": {},
     "outputs": [
      {
       "metadata": {},
       "output_type": "pyout",
       "prompt_number": 392,
       "text": [
        "{'count': {u'Europe': 1,\n",
        "  u'Eurostat': 1,\n",
        "  u'France': 1,\n",
        "  u'b\\xe9b\\xe9s': 1,\n",
        "  u'donn\\xe9es': 1,\n",
        "  u'f\\xe9condit\\xe9': 2,\n",
        "  u'graphiques': 1,\n",
        "  u'hors': 1,\n",
        "  u'mariage': 1,\n",
        "  u'm\\xe8res': 1,\n",
        "  u'naissance': 1,\n",
        "  u'naissances': 1,\n",
        "  u'nombre': 1,\n",
        "  u'taux': 1,\n",
        "  u'\\xe2ge': 1,\n",
        "  u'\\xe9lev\\xe9s': 1},\n",
        " u'date': u'2016-03-19T14:45:18',\n",
        " u'description': u'C\\u2019est en France que le nombre de naissances et le taux de f\\xe9condit\\xe9 sont les plus \\xe9lev\\xe9s en\\xa02014, selon les donn\\xe9es d\\u2019Eurostat.',\n",
        " u'formatedtext': u'B\\xe9b\\xe9s hors mariage \\xe2ge des m\\xe8res f\\xe9condit\\xe9 4 graphiques sur la naissance en Europe C\\u2019est en France que le nombre de naissances et le taux de f\\xe9condit\\xe9 sont les plus \\xe9lev\\xe9s en 2014 selon les donn\\xe9es d\\u2019Eurostat',\n",
        " u'source': u'leMonde',\n",
        " u'title': u'B\\xe9b\\xe9s hors mariage, \\xe2ge des m\\xe8res, f\\xe9condit\\xe9\\xa0: 4\\xa0graphiques sur la naissance en Europe'}"
       ]
      }
     ],
     "prompt_number": 392
    },
    {
     "cell_type": "code",
     "collapsed": false,
     "input": [
      "printSorted( words_count , 40)"
     ],
     "language": "python",
     "metadata": {},
     "outputs": [
      {
       "output_type": "stream",
       "stream": "stdout",
       "text": [
        "son (667.00)  attentats (470.00)  France (463.00)  Bruxelles (453.00)  ans (384.00)  deux (309.00)  paris (308.00)  fran\u00e7ais (287.00)  mars (280.00)  mais (234.00)  entre (217.00)  travail (213.00)  loi (203.00)  ministre (201.00)  groupe (193.00)  avoir (192.00)  pr\u00e9sident (189.00)  jeudi (185.00)  premier (173.00)  pays (173.00)  monde (172.00)  lors (169.00)  mardi (166.00)  projet (162.00)  \u00e9tait (152.00)  nouveau (150.00)  Europe (148.00)  face (143.00)  sans (138.00)  millions (138.00)  trois (136.00)  gouvernement (132.00)  veut (131.00)  mois (131.00)  dimanche (129.00)  tr\u00e8s (123.00)  vendredi (122.00)  homme (122.00)  nouvelle (122.00)  mort (121.00) \n"
       ]
      }
     ],
     "prompt_number": 393
    },
    {
     "cell_type": "code",
     "collapsed": false,
     "input": [
      "words_count_dicoFr = {}\n",
      "notInDicoFr = {}\n",
      "for m, c in words_count.iteritems():\n",
      "\n",
      "    if m in dicoFr : # and c*n_mots > 1:\n",
      "        score = float( c )/float( nMots )  / (dicoFr[m]*1e-6)\n",
      "        words_count_dicoFr[m] = score\n",
      "    else:\n",
      "        score =  c #/float( nMots )*1e3\n",
      "        notInDicoFr[m] = score\n",
      "        \n",
      "words_sorted_dicoFr = sorted(words_count_dicoFr.iteritems(), key = lambda x:x[1], reverse=True)\n",
      "notInDicoFr_sorted = sorted(notInDicoFr.iteritems(), key = lambda x:x[1], reverse=True)"
     ],
     "language": "python",
     "metadata": {},
     "outputs": [],
     "prompt_number": 394
    },
    {
     "cell_type": "code",
     "collapsed": false,
     "input": [
      "len( words_sorted_dicoFr )"
     ],
     "language": "python",
     "metadata": {},
     "outputs": [
      {
       "metadata": {},
       "output_type": "pyout",
       "prompt_number": 395,
       "text": [
        "12839"
       ]
      }
     ],
     "prompt_number": 395
    },
    {
     "cell_type": "code",
     "collapsed": false,
     "input": [
      "printSorted(words_count_dicoFr, 200)\n",
      "print '\\n'\n",
      "printSorted(notInDicoFr, 200)"
     ],
     "language": "python",
     "metadata": {},
     "outputs": [
      {
       "output_type": "stream",
       "stream": "stdout",
       "text": [
        "crash (9068.58)  dopage (8280.01)  partenariat (5125.72)  airbus (4337.15)  quinquennat (3548.57)  d\u00e9crypte (3154.29)  migratoire (3154.29)  extradition (2957.15)  islamistes (2760.00)  attentats (2459.93)  migrants (2406.50)  attractivit\u00e9 (2365.72)  antiterroriste (2274.73)  volatilit\u00e9 (1971.43)  piratage (1971.43)  centristes (1971.43)  trisomie (1971.43)  radicalisation (1910.77)  p\u00e9dophilie (1910.77)  interpell\u00e9es (1577.14)  centriste (1577.14)  \u00e9cosyst\u00e8me (1577.14)  palpations (1577.14)  microc\u00e9phalie (1577.14)  antiraciste (1577.14)  kurdes (1478.57)  technologies (1419.43)  spiegel (1380.00)  y\u00e9m\u00e9nites (1182.86)  chiffrement (1182.86)  ivoirienne (1182.86)  buralistes (1182.86)  fragilis\u00e9 (1182.86)  bruxelloise (1182.86)  chiite (1182.86)  revivez (1182.86)  r\u00e9\u00e9criture (1182.86)  b\u00e9n\u00e9volat (1182.86)  exemplarit\u00e9 (1182.86)  dysfonctionnements (1182.86)  \u00e9mergents (1182.86)  cubains (1064.57)  s\u00e9lectionneur (1064.57)  majoritairement (985.72)  logiciel (985.72)  enc\u00e9phalopathie (985.72)  fustige (985.72)  sponsors (985.72)  blanchiment (933.84)  cannabis (788.57)  questionnements (788.57)  connectent (788.57)  interceptions (788.57)  shows (788.57)  castriste (788.57)  event (788.57)  mon\u00e9gasque (788.57)  chutent (788.57)  sexistes (788.57)  r\u00e9\u00e9crite (788.57)  isra\u00e9liennes (788.57)  g\u00e9n\u00e9rer (788.57)  chroniqueuse (788.57)  sponsoring (788.57)  qu\u00e9b\u00e9cois (788.57)  soignants (788.57)  recentrer (788.57)  aiguilleurs (788.57)  kiwi (788.57)  r\u00e9silience (788.57)  f\u00e9miniser (788.57)  plafonnement (788.57)  opposante (788.57)  pl\u00e9biscitent (788.57)  hypothermie (788.57)  affronteront (788.57)  chrismale (788.57)  bi\u00e8vres (788.57)  t\u00e9l\u00e9visuels (788.57)  d\u00e9sengagement (788.57)  d\u00e9cryptage (727.91)  congolais (709.71)  pesticides (684.81)  palestinien (668.57)  transf\u00e8rement (591.43)  libyenne (591.43)  derby (591.43)  dangerosit\u00e9 (591.43)  a\u00e9rogares (591.43)  conforte (591.43)  concerneront (591.43)  interview\u00e9e (591.43)  califat (591.43)  ill\u00e9gaux (591.43)  populisme (591.43)  facturer (591.43)  extrad\u00e9 (591.43)  incontournable (591.43)  kurde (591.43)  terrorisme (570.31)  pr\u00e9sidentielle (555.58)  missiles (545.93)  p\u00e9dophiles (545.93)  kamikazes (530.25)  bruxellois (517.50)  terroriste (508.99)  m\u00e9diatique (498.05)  n\u00e9erlandaise (489.46)  contournement (473.14)  comp\u00e9titivit\u00e9 (454.95)  migrant (454.95)  harkis (454.95)  m\u00e9dias (452.70)  palestiniens (424.62)  vid\u00e9o (413.06)  pr\u00e9sum\u00e9s (407.88)  herbicide (394.29)  muselle (394.29)  liquidateurs (394.29)  adoubements (394.29)  photomontage (394.29)  divas (394.29)  limogeage (394.29)  improvisatrice (394.29)  horlog\u00e8res (394.29)  d\u00e9clinera (394.29)  agha (394.29)  d\u00e9poussi\u00e8re (394.29)  plombent (394.29)  sponsor (394.29)  \u00e9lectoraliste (394.29)  pal\u00e9ontologue (394.29)  codirecteur (394.29)  booster (394.29)  transalpins (394.29)  voteront (394.29)  d\u00e9sorganis\u00e9e (394.29)  meneau (394.29)  astrophysicien (394.29)  p\u00e9naux (394.29)  affranchissent (394.29)  cumulable (394.29)  popularit\u00e9s (394.29)  tyrannosaure (394.29)  emboutissage (394.29)  touareg (394.29)  caritative (394.29)  d\u00e9sertification (394.29)  lynch\u00e9e (394.29)  pilot\u00e9e (394.29)  n\u00e9gocierait (394.29)  polluante (394.29)  caricaturant (394.29)  \u00e9pinglent (394.29)  surclass\u00e9e (394.29)  pr\u00e9sidera (394.29)  intox (394.29)  bazookas (394.29)  capteurs (394.29)  saoudiennes (394.29)  spi (394.29)  lifting (394.29)  d\u00e9fieront (394.29)  r\u00e9invent\u00e9e (394.29)  habilitations (394.29)  colocataires (394.29)  contres (394.29)  m\u00e9thaniers (394.29)  vulgarisent (394.29)  boulingrin (394.29)  fragilise (394.29)  dop\u00e9es (394.29)  start (394.29)  guillon (394.29)  d\u00e9localise (394.29)  cerclage (394.29)  r\u00e9cusent (394.29)  boycott (394.29)  relanc\u00e9es (394.29)  impuls\u00e9 (394.29)  truste (394.29)  \u00e9crou\u00e9 (394.29)  condamnez (394.29)  hospitalis\u00e9es (394.29)  contact\u00e9s (394.29)  robotisation (394.29)  \u00e9litisme (394.29)  grau (394.29)  populismes (394.29)  sond\u00e9s (394.29)  ol\u00e9iculteurs (394.29)  pass\u00e9istes (394.29)  motoristes (394.29)  g\u00e9opolitiques (394.29)  historial (394.29)  positionnement (394.29)  panda (394.29)  liberticide (394.29)  photovolta\u00efque (394.29)  promeut (394.29)  \n",
        "\n",
        "France (463.00)  Bruxelles (453.00)  Europe (148.00)  Syrie (117.00)  Turquie (109.00)  Etats-Unis (83.00)  Fran\u00e7ois (81.00)  Molenbeek (59.00)  Sarkozy (55.00)  Palmyre (52.00)  Euro (49.00)  Twitter (49.00)  Allemagne (48.00)  djihadiste (45.00)  Russie (44.00)  Abdeslam (43.00)  Nicolas (42.00)  djihadistes (42.00)  Obama (41.00)  Valls (39.00)  Michel (39.00)  Royaume-Uni (38.00)  Lyon (38.00)  Apple (38.00)  Volkswagen (38.00)  Lula (37.00)  Pays-Bas (36.00)  start-up (36.00)  Pen (35.00)  Italie (35.00)  Gr\u00e8ce (35.00)  Philippe (34.00)  Washington (32.00)  Trump (31.00)  Espagne (30.00)  Isra\u00ebl (30.00)  Internet (30.00)  PDG (28.00)  Fifa (28.00)  PSG (27.00)  ONU (27.00)  Marseille (27.00)  Ankara (27.00)  Google (27.00)  Cor\u00e9e (26.00)  Irak (25.00)  Daech (25.00)  Afrique (25.00)  Zaventem (24.00)  Toulouse (23.00)  Miami (23.00)  Jupp\u00e9 (23.00)  SNCF (22.00)  EDF (21.00)  Bruno (21.00)  Clinton (21.00)  \u00c9tats-Unis (21.00)  Alg\u00e9rie (21.00)  Benzema (21.00)  internautes (21.00)  NBA (20.00)  Tunisie (20.00)  Ile-de-France (20.00)  Rio (19.00)  Istanbul (19.00)  Montpellier (19.00)  AFP (19.00)  #Baselworld (19.00)  Strasbourg (18.00)  Pakistan (18.00)  Y\u00e9men (18.00)  Facebook (18.00)  Macron (18.00)  Renault (18.00)  UDI (18.00)  plate-forme (18.00)  Gen\u00e8ve (17.00)  Brexit (17.00)  Barcelone (17.00)  Ukraine (17.00)  Sivens (17.00)  iPhone (17.00)  c\u0153ur (17.00)  Ardennes (17.00)  Libye (16.00)  Sanders (16.00)  FBI (16.00)  Lille (16.00)  Insee (16.00)  PIB (15.00)  Moscou (15.00)  Germanwings (15.00)  Merah (15.00)  islamiste (15.00)  ONG (14.00)  Zika (14.00)  Mohamed (14.00)  UE-Turquie (14.00)  Am\u00e9rique (14.00)  RATP (14.00)  Castries (14.00)  Hand (14.00)  CGT (14.00)  Henri (13.00)  Lagard\u00e8re (13.00)  Arnaud (13.00)  Nigeria (13.00)  ESB (13.00)  Web (13.00)  SFR (13.00)  Poutine (13.00)  Pologne (13.00)  Cruyff (13.00)  ex-pr\u00e9sident (13.00)  Foll (13.00)  Notre-Dame-des-Landes (12.00)  Asie (12.00)  BCE (12.00)  David (12.00)  Thierry (12.00)  Vincent (12.00)  Egypte (12.00)  Grand-Bassam (12.00)  d\u00e9put\u00e9e (12.00)  Deschamps (12.00)  Qatar (12.00)  Medef (12.00)  Microsoft (12.00)  Khalid (12.00)  Birmanie (11.00)  Australie (11.00)  Irlande (11.00)  jihadistes (11.00)  D\u00e9mare (11.00)  CFDT (11.00)  vid\u00e9os (11.00)  Mossoul (11.00)  Argenteuil (11.00)  biodiversit\u00e9 (11.00)  Didier (11.00)  Uber (11.00)  djihad (11.00)  Erdogan (11.00)  St\u00e9phane (11.00)  PNR (10.00)  cofondateur (10.00)  Eiffel (10.00)  Djokovic (10.00)  prud'hommes (10.00)  Instagram (10.00)  Bosnie (10.00)  Saint-Denis (10.00)  Blatter (10.00)  Shanghai (10.00)  James (10.00)  Floride (10.00)  JDD (10.00)  suspect-cl\u00e9 (10.00)  Yasmine (10.00)  Grande-Bretagne (10.00)  Bouagga (10.00)  Bretagne (10.00)  informatiques (10.00)  Colombie (9.00)  Antoine (9.00)  Barbarin (9.00)  Niger (9.00)  Bernard (9.00)  Biathlon (9.00)  bio (9.00)  Ford (9.00)  Idomeni (9.00)  Eric (9.00)  Amsterdam (9.00)  Vingt-Huit (9.00)  Aung (9.00)  Kerviel (9.00)  jihadiste (9.00)  supporteurs (9.00)  Nancy (9.00)  Canal+ (9.00)  Christophe (9.00)  Economie (9.00)  Alonso (9.00)  Jean-Marie (9.00)  Orly (9.00)  smartphones (9.00)  PSA (9.00)  Times (9.00)  Hamilton (8.00)  communautarisme (8.00)  Generali (8.00)  Arizona (8.00)  attentat-suicide (8.00)  Dupond-Moretti (8.00)  meldonium (8.00)  George (8.00)  Rome (8.00)  Maelbeek (8.00)  Big (8.00) \n"
       ]
      }
     ],
     "prompt_number": 396
    },
    {
     "cell_type": "code",
     "collapsed": false,
     "input": [
      "print notInDicoFr_sorted[-50:]"
     ],
     "language": "python",
     "metadata": {},
     "outputs": [
      {
       "output_type": "stream",
       "stream": "stdout",
       "text": [
        "[(u'Saint-Valentin', 1), (u'Fessenheim', 1), (u'Laden', 1), (u'Gheit', 1), (u'Jusque-l\\xe0', 1), (u'CIO', 1), (u'Bourion', 1), (u'Alg\\xe9rie-Focus', 1), (u'Faycal', 1), (u'Ph\\xe8dre\\u2009', 1), (u'Niro', 1), (u'shooting', 1), (u'Mobilettre', 1), (u'camion-citerne', 1), (u'coproduite', 1), (u'taekwondo', 1), (u'Vans', 1), (u'Daoudi', 1), (u'Imad', 1), (u'Yesterday', 1), (u'Fanny', 1), (u\"'vivre\", 1), (u'autopromotionnelle', 1), (u'h\\xe9raultaise', 1), (u'quintet', 1), (u'r\\xe9visent', 1), (u'Blankets', 1), (u'Djamal', 1), (u'\\u2009concurrence', 1), (u'Milton', 1), (u'Reims', 1), (u'Michaela', 1), (u'Zeitung', 1), (u'Lussault', 1), (u'Jordanie', 1), (u\"t'oublierons\", 1), (u'sous-emploi', 1), (u'Act', 1), (u'cybers\\xe9curit\\xe9', 1), (u'Louxor', 1), (u'\\u2009Zdar\\u2009', 1), (u'Costa', 1), (u'saigne\\u2009', 1), (u'Zavantem', 1), (u'Sang-froid', 1), (u'Tsipras', 1), (u'ex-commandant', 1), (u'Olfeo', 1), (u'Ba\\xefkonour', 1), (u'Guillermo', 1)]\n"
       ]
      }
     ],
     "prompt_number": 397
    },
    {
     "cell_type": "code",
     "collapsed": false,
     "input": [
      "#\u00a0Merge :"
     ],
     "language": "python",
     "metadata": {},
     "outputs": [],
     "prompt_number": 398
    },
    {
     "cell_type": "code",
     "collapsed": false,
     "input": [
      "maxDicoFr, scoreMax = words_sorted_dicoFr[0]\n",
      "normalisation = 10*words_count[maxDicoFr]/float( scoreMax )\n",
      "\n",
      "print scoreMax\n",
      "words_dicoFr_normed = { k:count*normalisation for k, count in words_count_dicoFr.iteritems() }"
     ],
     "language": "python",
     "metadata": {},
     "outputs": [
      {
       "output_type": "stream",
       "stream": "stdout",
       "text": [
        "9068.57816523\n"
       ]
      }
     ],
     "prompt_number": 399
    },
    {
     "cell_type": "code",
     "collapsed": false,
     "input": [
      "signifiants = {}\n",
      "signifiants.update( notInDicoFr )\n",
      "\n",
      "signifiants.update( nuplets_count )\n",
      "signifiants.update( words_dicoFr_normed )\n",
      "\n",
      "print len( signifiants )"
     ],
     "language": "python",
     "metadata": {},
     "outputs": [
      {
       "output_type": "stream",
       "stream": "stdout",
       "text": [
        "18483\n"
       ]
      }
     ],
     "prompt_number": 400
    },
    {
     "cell_type": "code",
     "collapsed": false,
     "input": [
      "printSorted(signifiants, 400)"
     ],
     "language": "python",
     "metadata": {},
     "outputs": [
      {
       "output_type": "stream",
       "stream": "stdout",
       "text": [
        "France (463.00)  Bruxelles (453.00)  crash (230.00)  dopage (210.00)  Europe (148.00)  partenariat (130.00)  Salah Abdeslam (120.00)  Syrie (117.00)  airbus (110.00)  Turquie (109.00)  quinquennat (90.00)  Etats-Unis (83.00)  13 novembre (81.00)  Fran\u00e7ois (81.00)  migratoire (80.00)  d\u00e9crypte (80.00)  extradition (75.00)  islamistes (70.00)  attentats (62.39)  migrants (61.03)  attractivit\u00e9 (60.00)  Molenbeek (59.00)  El Khomri (58.00)  antiterroriste (57.69)  Sarkozy (55.00)  Palmyre (52.00)  trisomie (50.00)  piratage (50.00)  volatilit\u00e9 (50.00)  centristes (50.00)  Euro (49.00)  Twitter (49.00)  radicalisation (48.46)  p\u00e9dophilie (48.46)  Allemagne (48.00)  djihadiste (45.00)  Russie (44.00)  Abdeslam (43.00)  Manuel Valls (43.00)  djihadistes (42.00)  Nicolas (42.00)  Barack Obama (41.00)  Obama (41.00)  centriste (40.00)  \u00e9cosyst\u00e8me (40.00)  microc\u00e9phalie (40.00)  Union europ\u00e9enne (40.00)  antiraciste (40.00)  interpell\u00e9es (40.00)  palpations (40.00)  Valls (39.00)  Michel (39.00)  Etat islamique (39.00)  Lyon (38.00)  Volkswagen (38.00)  Royaume-Uni (38.00)  Apple (38.00)  kurdes (37.50)  Lula (37.00)  loi El Khomri (37.00)  Donald Trump (37.00)  technologies (36.00)  start-up (36.00)  Pays-Bas (36.00)  spiegel (35.00)  Italie (35.00)  Gr\u00e8ce (35.00)  Pen (35.00)  Philippe (34.00)  Washington (32.00)  Trump (31.00)  Johan Cruyff (31.00)  chiffrement (30.00)  buralistes (30.00)  fragilis\u00e9 (30.00)  r\u00e9\u00e9criture (30.00)  b\u00e9n\u00e9volat (30.00)  y\u00e9m\u00e9nites (30.00)  ivoirienne (30.00)  exemplarit\u00e9 (30.00)  chiite (30.00)  revivez (30.00)  bruxelloise (30.00)  dysfonctionnements (30.00)  \u00e9mergents (30.00)  Internet (30.00)  Isra\u00ebl (30.00)  Top 14 (30.00)  Espagne (30.00)  r\u00e9seaux sociaux (28.00)  Fifa (28.00)  PDG (28.00)  ONU (27.00)  Ankara (27.00)  Google (27.00)  PSG (27.00)  Marseille (27.00)  cubains (27.00)  s\u00e9lectionneur (27.00)  Cor\u00e9e (26.00)  majoritairement (25.00)  sponsors (25.00)  fustige (25.00)  logiciel (25.00)  enc\u00e9phalopathie (25.00)  Daech (25.00)  Irak (25.00)  Afrique (25.00)  Zaventem (24.00)  New York (24.00)  blanchiment (23.68)  Jupp\u00e9 (23.00)  \u00c9tat islamique (23.00)  Dilma Rousseff (23.00)  Miami (23.00)  Toulouse (23.00)  SNCF (22.00)  \u00c9tats-Unis (21.00)  internautes (21.00)  Clinton (21.00)  EDF (21.00)  Benzema (21.00)  Alg\u00e9rie (21.00)  Bruno (21.00)  Emmanuel Macron (21.00)  cannabis (20.00)  questionnements (20.00)  interceptions (20.00)  chutent (20.00)  r\u00e9\u00e9crite (20.00)  isra\u00e9liennes (20.00)  g\u00e9n\u00e9rer (20.00)  sexistes (20.00)  sponsoring (20.00)  soignants (20.00)  NBA (20.00)  recentrer (20.00)  Tunisie (20.00)  opposante (20.00)  pl\u00e9biscitent (20.00)  chrismale (20.00)  t\u00e9l\u00e9visuels (20.00)  d\u00e9sengagement (20.00)  connectent (20.00)  Ile-de-France (20.00)  shows (20.00)  event (20.00)  mon\u00e9gasque (20.00)  qu\u00e9b\u00e9cois (20.00)  kiwi (20.00)  f\u00e9miniser (20.00)  plafonnement (20.00)  castriste (20.00)  hypothermie (20.00)  affronteront (20.00)  bi\u00e8vres (20.00)  chroniqueuse (20.00)  aiguilleurs (20.00)  r\u00e9silience (20.00)  Rio (19.00)  Montpellier (19.00)  Istanbul (19.00)  #Baselworld (19.00)  AFP (19.00)  d\u00e9cryptage (18.46)  congolais (18.00)  Facebook (18.00)  Renault (18.00)  UDI (18.00)  Macron (18.00)  Strasbourg (18.00)  Y\u00e9men (18.00)  plate-forme (18.00)  Pakistan (18.00)  pesticides (17.37)  CAC 40 (17.00)  Sivens (17.00)  Barcelone (17.00)  El Bakraoui (17.00)  vache folle (17.00)  Gen\u00e8ve (17.00)  Ardennes (17.00)  iPhone (17.00)  Brexit (17.00)  Ukraine (17.00)  c\u0153ur (17.00)  palestinien (16.96)  Lille (16.00)  intelligence artificielle (16.00)  Sanders (16.00)  Libye (16.00)  Insee (16.00)  FBI (16.00)  transf\u00e8rement (15.00)  derby (15.00)  a\u00e9rogares (15.00)  interview\u00e9e (15.00)  ill\u00e9gaux (15.00)  populisme (15.00)  facturer (15.00)  dangerosit\u00e9 (15.00)  libyenne (15.00)  conforte (15.00)  concerneront (15.00)  califat (15.00)  extrad\u00e9 (15.00)  PIB (15.00)  la loi El Khomri (15.00)  kurde (15.00)  Indian Wells (15.00)  Rolling Stones (15.00)  Merah (15.00)  islamiste (15.00)  Moscou (15.00)  incontournable (15.00)  Germanwings (15.00)  terrorisme (14.46)  pr\u00e9sidentielle (14.09)  Zika (14.00)  Hand (14.00)  Ted Cruz (14.00)  ONG (14.00)  cardinal Barbarin (14.00)  UE-Turquie (14.00)  extr\u00eame droite (14.00)  CGT (14.00)  Am\u00e9rique (14.00)  RATP (14.00)  Mohamed (14.00)  Castries (14.00)  Six nations (14.00)  missiles (13.85)  p\u00e9dophiles (13.85)  kamikazes (13.45)  bruxellois (13.13)  Arnaud (13.00)  Pologne (13.00)  Hillary Clinton (13.00)  \u00e9tat d\u2019urgence (13.00)  Web (13.00)  Lagard\u00e8re (13.00)  \u00e9lection pr\u00e9sidentielle (13.00)  Henri (13.00)  Najim Laachraoui (13.00)  C\u00f4te d'Ivoire (13.00)  St Moritz (13.00)  Poutine (13.00)  GP d'Australie (13.00)  SFR (13.00)  Cruyff (13.00)  Batman v Superman (13.00)  ex-pr\u00e9sident (13.00)  Foll (13.00)  ESB (13.00)  Nigeria (13.00)  R\u00e9mi Fraisse (13.00)  terroriste (12.91)  m\u00e9diatique (12.63)  n\u00e9erlandaise (12.41)  BCE (12.00)  Thierry (12.00)  Khalid (12.00)  Vincent (12.00)  Deschamps (12.00)  Qatar (12.00)  Front national (12.00)  chiffre d'affaires (12.00)  Egypte (12.00)  Asie (12.00)  contournement (12.00)  d\u00e9put\u00e9e (12.00)  Microsoft (12.00)  Medef (12.00)  Grand-Bassam (12.00)  David (12.00)  Notre-Dame-des-Landes (12.00)  comp\u00e9titivit\u00e9 (11.54)  migrant (11.54)  harkis (11.54)  m\u00e9dias (11.48)  Patrice Talon (11.00)  point d'indice (11.00)  Bernard Cazeneuve (11.00)  jihadistes (11.00)  Sven Mary (11.00)  Bouygues Telecom (11.00)  D\u00e9mare (11.00)  vid\u00e9os (11.00)  Argenteuil (11.00)  Didier (11.00)  St\u00e9phane (11.00)  Suu Kyi (11.00)  r\u00e9vision constitutionnelle (11.00)  Mossoul (11.00)  Irlande (11.00)  CFDT (11.00)  biodiversit\u00e9 (11.00)  Uber (11.00)  Reda Kriket (11.00)  bande dessin\u00e9e (11.00)  djihad (11.00)  La dessinatrice Lisa Mandel (11.00)  Australie (11.00)  Birmanie (11.00)  Projet d'attentat (11.00)  Erdogan (11.00)  organisation Etat islamique (11.00)  French Tech (11.00)  palestiniens (10.77)  vid\u00e9o (10.48)  pr\u00e9sum\u00e9s (10.34)  muselle (10.00)  hospitalis\u00e9es (10.00)  pass\u00e9istes (10.00)  d\u00e9clinera (10.00)  adoubements (10.00)  \u00e9lectoraliste (10.00)  liquidateurs (10.00)  perp\u00e9tuit\u00e9 r\u00e9elle (10.00)  booster (10.00)  transalpins (10.00)  Blatter (10.00)  voteront (10.00)  affranchissent (10.00)  suspect-cl\u00e9 (10.00)  dop\u00e9es (10.00)  emboutissage (10.00)  start (10.00)  touareg (10.00)  saoudiennes (10.00)  n\u00e9gocierait (10.00)  agressions sexuelles (10.00)  polluante (10.00)  \u00e9pinglent (10.00)  improvisatrice (10.00)  boycott (10.00)  r\u00e9invent\u00e9e (10.00)  habilitations (10.00)  conseil d'administration (10.00)  colocataires (10.00)  contres (10.00)  fragilise (10.00)  informatiques (10.00)  d\u00e9localise (10.00)  cerclage (10.00)  Manchester City (10.00)  positionnement (10.00)  impuls\u00e9 (10.00)  truste (10.00)  James (10.00)  irakiens (10.00)  saccagent (10.00)  \u00e9crou\u00e9 (10.00)  condamnez (10.00)  \u00e9litisme (10.00)  grau (10.00)  ol\u00e9iculteurs (10.00)  Arabie saoudite (10.00)  sponsor (10.00)  \u00e9dile (10.00)  photovolta\u00efque (10.00)  rigidifi\u00e9 (10.00)  conteneur (10.00)  phoc\u00e9enne (10.00)  ivoirien (10.00)  Saint-Denis (10.00)  embauches (10.00)  d\u00e9c\u00e9d\u00e9es (10.00)  Bosnie (10.00)  fustigent (10.00)  carambolages (10.00)  pi\u00e9tonne (10.00)  remisent (10.00)  plaidera (10.00)  contondantes (10.00)  motoristes (10.00)  flingueur (10.00)  inoccupation (10.00)  billettes (10.00)  d\u00e9but\u00e9e (10.00)  Bretagne (10.00)  red\u00e9ployer (10.00)  robotisation (10.00)  r\u00e9trop\u00e9dalage (10.00)  obsol\u00e8te (10.00)  qu\u00e9b\u00e9coise (10.00)  perp\u00e9tr\u00e9es (10.00)  Yasmine (10.00)  surs (10.00)  mormon (10.00)  mails (10.00)  meneau (10.00)  skipper (10.00)  p\u00e9nal international (10.00)  phoc\u00e9en (10.00)  embouteill\u00e9s (10.00)  silicone (10.00)  saoudiens (10.00)  immisce (10.00)  \u00e9mirat (10.00) \n"
       ]
      }
     ],
     "prompt_number": 401
    },
    {
     "cell_type": "code",
     "collapsed": false,
     "input": [
      "signifiants['voiture']"
     ],
     "language": "python",
     "metadata": {},
     "outputs": [
      {
       "metadata": {},
       "output_type": "pyout",
       "prompt_number": 402,
       "text": [
        "0.04141963778120686"
       ]
      }
     ],
     "prompt_number": 402
    },
    {
     "cell_type": "code",
     "collapsed": false,
     "input": [
      "words_count['dopage']"
     ],
     "language": "python",
     "metadata": {},
     "outputs": [
      {
       "metadata": {},
       "output_type": "pyout",
       "prompt_number": 403,
       "text": [
        "21"
       ]
      }
     ],
     "prompt_number": 403
    },
    {
     "cell_type": "code",
     "collapsed": false,
     "input": [
      "# -- save JSON --\n",
      "json_file = './dicoDuSignifiants.json'\n",
      "with open(json_file, 'w') as outfile:\n",
      "    json.dump(signifiants, outfile)"
     ],
     "language": "python",
     "metadata": {},
     "outputs": [],
     "prompt_number": 404
    },
    {
     "cell_type": "code",
     "collapsed": false,
     "input": [
      "# -- save JSON --\n",
      "json_file = './data4countByDay.json'\n",
      "with open(json_file, 'w') as outfile:\n",
      "    json.dump(data4eleve, outfile)"
     ],
     "language": "python",
     "metadata": {},
     "outputs": [],
     "prompt_number": 405
    },
    {
     "cell_type": "code",
     "collapsed": false,
     "input": [
      "print sorted(signifiants.iteritems(), key = lambda x:x[1], reverse=False)[:30]"
     ],
     "language": "python",
     "metadata": {},
     "outputs": [
      {
       "output_type": "stream",
       "stream": "stdout",
       "text": [
        "[(u'\\xe9tais', 0.000903179190751445), (u'dessus', 0.0011609008590666356), (u'avais', 0.0012458213076970994), (u'veux', 0.0013531189391547517), (u'fut', 0.0013634504385765579), (u'mes', 0.001564346798303553), (u'enseignement', 0.0017960845357121475), (u'moi', 0.0018533247874468134), (u'vais', 0.00194969779684149), (u'aurais', 0.002069393667655377), (u'semblait', 0.002099370188943317), (u'soudain', 0.0020998110170084693), (u'cheveux', 0.0021468441391155), (u'bruit', 0.0021502293577981653), (u'importance', 0.0021872265966754157), (u'plaisir', 0.0023432008123096147), (u'pens\\xe9e', 0.002396931927133269), (u'madame', 0.0024193548387096775), (u'aussit\\xf4t', 0.0025451768897938407), (u'\\xe9tats', 0.0026712969146520634), (u'f\\xfbt', 0.002688653880623768), (u'esp\\xe8ce', 0.0027688047992616522), (u'mon', 0.0027741174838754427), (u'soeur', 0.002912621359223301), (u'certaine', 0.0029291154071470417), (u'souvenir', 0.003003003003003003), (u'disait', 0.0030372057706909645), (u'venu', 0.003055300947143294), (u'tenait', 0.003101095720487906), (u'vis', 0.003142019271051529)]\n"
       ]
      }
     ],
     "prompt_number": 407
    },
    {
     "cell_type": "code",
     "collapsed": false,
     "input": [],
     "language": "python",
     "metadata": {},
     "outputs": []
    }
   ],
   "metadata": {}
  }
 ]
}