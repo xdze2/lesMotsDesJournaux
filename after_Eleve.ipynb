{
 "metadata": {
  "name": "",
  "signature": "sha256:ec3e1ef44d2fe7dd19e5a14acc66c997c201a81d16b016527b7c6ef2a828c464"
 },
 "nbformat": 3,
 "nbformat_minor": 0,
 "worksheets": [
  {
   "cells": [
    {
     "cell_type": "code",
     "collapsed": false,
     "input": [
      "import json\n",
      "import re"
     ],
     "language": "python",
     "metadata": {},
     "outputs": [],
     "prompt_number": 1
    },
    {
     "cell_type": "code",
     "collapsed": false,
     "input": [
      "def printSorted(dico, n = 200 ):\n",
      "    myDico_sorted = sorted(dico.iteritems(), key = lambda x:x[1], reverse=True)\n",
      "    for m, c in myDico_sorted[:n]:\n",
      "        print '%s (%0.2f) ' % (m, c),"
     ],
     "language": "python",
     "metadata": {},
     "outputs": [],
     "prompt_number": 2
    },
    {
     "cell_type": "code",
     "collapsed": false,
     "input": [
      "#\u00a0Load nUplets  from Eleve\n",
      "filename = './Eleve/data_nuplets.json'\n",
      "nuplets_count = json.loads(open(filename).read())\n",
      "print( 'nombre de nuplets: %i ' % len( nuplets_count ) )"
     ],
     "language": "python",
     "metadata": {},
     "outputs": [
      {
       "output_type": "stream",
       "stream": "stdout",
       "text": [
        "nombre de nuplets: 2812 \n"
       ]
      }
     ],
     "prompt_number": 3
    },
    {
     "cell_type": "code",
     "collapsed": false,
     "input": [
      "# Load data\n",
      "filename = './Eleve/data4eleve.json'\n",
      "data4eleve = json.loads(open(filename).read())\n",
      "allposts = [x['formatedtext'] for x in data4eleve]"
     ],
     "language": "python",
     "metadata": {},
     "outputs": [],
     "prompt_number": 4
    },
    {
     "cell_type": "code",
     "collapsed": false,
     "input": [
      "bigTexte = ' '.join( allposts )"
     ],
     "language": "python",
     "metadata": {},
     "outputs": [],
     "prompt_number": 5
    },
    {
     "cell_type": "code",
     "collapsed": false,
     "input": [
      "bigTexte.count( 't')"
     ],
     "language": "python",
     "metadata": {},
     "outputs": [
      {
       "metadata": {},
       "output_type": "pyout",
       "prompt_number": 6,
       "text": [
        "48866"
       ]
      }
     ],
     "prompt_number": 6
    },
    {
     "cell_type": "code",
     "collapsed": false,
     "input": [
      "w = sorted_nuplets[10][0]\n",
      "print w\n",
      "print bigTexte.count(w), bigTexte.count(w.lower())"
     ],
     "language": "python",
     "metadata": {},
     "outputs": [
      {
       "output_type": "stream",
       "stream": "stdout",
       "text": [
        "loi El Khomri\n",
        "35 0\n"
       ]
      }
     ],
     "prompt_number": 10
    },
    {
     "cell_type": "code",
     "collapsed": false,
     "input": [
      "print bigTexte.count('Nicolas Sarkozy')\n",
      "print bigTexte.count('Sarkozy')\n",
      "print bigTexte.count('Nicolas')"
     ],
     "language": "python",
     "metadata": {},
     "outputs": [
      {
       "output_type": "stream",
       "stream": "stdout",
       "text": [
        "25\n",
        "54\n",
        "46\n"
       ]
      }
     ],
     "prompt_number": 8
    },
    {
     "cell_type": "code",
     "collapsed": false,
     "input": [
      "sorted_nuplets = sorted( nuplets_count.items(), key=lambda x:x[1], reverse=True )\n",
      "\n",
      "output = [ x[0]+' (%i)'%bigTexte.count( x[0] ) for x in sorted_nuplets if bigTexte.count( x[0] ) > 1 ]\n",
      "print( '; '.join( output ) )"
     ],
     "language": "python",
     "metadata": {},
     "outputs": [
      {
       "output_type": "stream",
       "stream": "stdout",
       "text": [
        "Salah Abdeslam (120); 13 novembre (81); Manuel Valls (42); Barack Obama (39); Donald Trump (37); Johan Cruyff (30); Top 14 (28); r\u00e9seaux sociaux (26); New York (23); Dilma Rousseff (22); loi El Khomri (35); Emmanuel Macron (21); vache folle (17); CAC 40 (17); intelligence artificielle (16); Rolling Stones (15); cardinal Barbarin (14); la loi El Khomri (14); El Khomri (56); Indian Wells (15); Ted Cruz (14); Six nations (14); \u00e9lection pr\u00e9sidentielle (13); GP d'Australie (13); R\u00e9mi Fraisse (13); Batman v Superman (13); C\u00f4te d'Ivoire (13); St Moritz (13); Etat islamique (36); Front national (12); \u00e9tat d\u2019urgence (13); Hillary Clinton (13); \u00c9tat islamique (20); chiffre d'affaires (12); point d'indice (11); Bernard Cazeneuve (11); El Bakraoui (16); Patrice Talon (11); r\u00e9vision constitutionnelle (11); Sven Mary (11); La dessinatrice Lisa Mandel (11); bande dessin\u00e9e (11); Najim Laachraoui (12); French Tech (11); Affaires \u00e9trang\u00e8res (9); conseil d'administration (9); Bouygues Telecom (10); C\u00f4te d\u2019Ivoire (9); perp\u00e9tuit\u00e9 r\u00e9elle (9); Manchester City (10); Guerre d'Alg\u00e9rie (9); Jeanne d'Arc (9); zone euro (9); Karim Benzema (9); Arabie saoudite (9); Reda Kriket (9); Xavier Bertrand (8); Abdelkader Merah (8); contr\u00f4leurs a\u00e9riens (8); Edouard Louis (8); Sylvie Leclerc (8); Radovan Karadzic (8); organisation Etat islamique (10); Buenos Aires (8); agressions sexuelles (10); Lionel Zinsou (7); sexe neutre (7); San Antonio (7); 13 Novembre (7); Nadia Savtchenko (7); Boko Haram (7); \u00eeles grecques (7); Alain Decaux (8); voiture pi\u00e9g\u00e9e (7); commission d'enqu\u00eate parlementaire (7); R\u00e9publique dominicaine (7); Myriam El Khomri (7); Serge Dassault (7); R\u00e9forme constitutionnelle (7); Tribunal p\u00e9nal (7); d\u00e9tention provisoire (7); Cour supr\u00eame (7); Projet d'attentat (7); Serge Kampf (7); Sassou Nguesso (7); Charlie Hebdo (6); soldat isra\u00e9lien (6); auteurs d'actes terroristes (6); t\u00e9moin assist\u00e9 (6); Val\u00e9rie P\u00e9cresse (6); Jean-Marc Rouillan (6); Real Madrid (6); appartement perquisitionn\u00e9 (6); Carlos Ghosn (6); S\u00e9gol\u00e8ne Royal (6); Kamel Daoud (6); Angela Merkel (8); Bernie Sanders (6); Formule 1 (6); Nations unies (6); Marion Mar\u00e9chal-Le Pen (6); Rob Ford (6); personnellement pardon aux victimes (6); Raul Castro (6); entre eux (8); low cost (6); mandat d'arr\u00eat europ\u00e9en (6); extr\u00eame droite (12); spongiforme bovine (9); Los Angeles (6); Cr\u00e9dit Mutuel (7); Zack Snyder (6); investiture r\u00e9publicaine (6); Dominique Strauss-Kahn (5); est \u00e9pargn\u00e9 (6); Bruno Biais (5); Jean-Christophe Lagarde (5); Patrick Kanner (6); Juliette Gr\u00e9co (5); SNCF R\u00e9seau (5); Vache folle (5); Star Wars (5); militant \u00e9cologiste (5); Du soul\u00e8vement populaire (5); Nouvelles limites (5); Soufiane Kayal (5); Krzysztof Warlikowski (5); BNP Paribas (5); raids a\u00e9riens (5); Accord UE-Turquie (5); bande organis\u00e9e (5); Fay\u00e7al Cheffou (5); cit\u00e9 antique (5); L\u00e9gislatives partielles (5); Wall Street (5); Golden State (5); Hinkley Point (6); Jeb Bush (5); projet d'a\u00e9roport (5); Jean Lassalle (5); Aung San Suu Kyi (9); Bayern Munich (6); mati\u00e8res premi\u00e8res (5); made in (6); transaction p\u00e9nale (5); poids lourd (6); Bison fut\u00e9 (5); Ibrahim El Bakraoui (7); Lee Sedol (5); Guillaume Musso (5); Maison Blanche (5); Jean-Luc M\u00e9lenchon (4); pr\u00e9somption d\u2019innocence (4); Ban Ki-moon (4); Florence Hartmann (4); cour d'appel d'Orl\u00e9ans (4); Philippe Poutou (7); French Blue (4); moteurs truqu\u00e9s (4); raid a\u00e9rien (4); Meurtre d'Aur\u00e9lie Ch\u00e2telain (4); farines animales (4); Maria Sharapova (4); French Touch (4); Jacqueline Sauvage (4); Thomas Buberl (4); traitement inhumain (4); l\u00e9gislatives partielles (4); volume d'\u00e9changes (4); assembl\u00e9e g\u00e9n\u00e9rale (4); San Suu Kyi (9); spectacles itin\u00e9rants (4); Nadejda Savtchenko (4); Credit Suisse (4); iPad Pro (4); Htin Kyaw (4); R\u00e9serve f\u00e9d\u00e9rale (4); Festival S\u00e9ries Mania (4); pr\u00eatres p\u00e9dophiles (4); Jim Harrison (4); George Martin (5); Gilles Kepel (4); salle Gaveau (4); March Madness (4); stopper l'afflux (4); Jeux olympiques (4); XIXe si\u00e8cle (4); John Kerry (4); vols annul\u00e9s (4); Europa League (4); Drawing after (4); \u00e9nergies renouvelables (4); Jacques-Antoine Granjon (4); \u00e9tablissement d'une r\u00e9gion f\u00e9d\u00e9rale (4); changement climatique (4); Milan-San Remo (4); Sophie Marceau (4); Crit\u00e9rium international (4); Sid Ahmed Ghlam (4); Atletico Madrid (6); vos connaissances (4); Giulio Regeni (4); Abdelhamid Abaaoud (5); \u00e9coute t\u00e9l\u00e9phonique (4); Renaud Lavillenie (4); meilleure baguette (4); taxe Nutella (4); assaillant palestinien (4); insecticides n\u00e9onicotino\u00efdes (4); UE d'\u00e9mission (4); Air Coca\u00efne (4); Mariah Carey (4); Denis Sassou-Nguesso (4); Galeries Lafayette (4); Laurent Ruquier (4); t\u00eates d\u2019affiche (3); Eric Dupond-Moretti (3); Abderamane A. (3); Jean-Marc Ayrault (4); Laurent Berger (3); Merrick Garland (3); plaque tournante (3); logements neufs (3); Sao Paulo (3); Manchester United (3); Mohamed Belka\u00efd (3); Johan Leman (3); Mario Greco (3); heure d\u2019\u00e9t\u00e9 (3); Tour d\u2019horizon (3); pilote ukrainienne Savtchenko (4); pop star (3); Farouk Ben Abbes (3); Jeremie Berrebi (3); David Bowie (3); \u00e9lections r\u00e9gionales (3); projet d\u2019attentat (4); agences immobili\u00e8res (3); nationalit\u00e9s diff\u00e9rentes (3); Carlos Tavares (3); Belgique 13 nouvelles perquisitions (3); Banco Popolare (3); Recep Tayyip (3); Julia Roberts (3); Donald Tusk (3); salon horloger (3); Rafael Nadal (3); attentats perp\u00e9tr\u00e9s (3); station Maelbeek (3); Axa Henri (3); geste significatif (3); da Silva (3); BHF Kleinwort (3); activement recherch\u00e9 (4); 50e pole (3); Lewis Hamilton (3); appris l'AFP (4); Mondial 2006 (3); Brahim Abdeslam (3); fins personnelles (3); missiles balistiques (3); Anthony Dubois (3); pape \u00e9m\u00e9rite (3); Munich R\u00e9 (3); Mgr Barbarin (3); mariage gay (3); chronique Open (3); Primaires d\u00e9mocrates Sanders (3); business angels (3); The Economist (3); je n\u2019ai (3); Marcel Desailly (3); couples homosexuels (3); Eagles of Death Metal (3); CRS Alpes (3); tribunal correctionnel (3); SOS M\u00e9diterran\u00e9e (3); Rokhaya Diallo (3); Laurent Wauquiez (3); Prix Nobel (3); Cour p\u00e9nale internationale (3); Ben Guerdane (3); Jeux Olympiques (3); pr\u00e9somption d'innocence (3); Big Data (4); Super Tuesday (3); treize \u00e9tudiantes (3); applications mobiles (3); demandeurs d\u2019asile (3); enc\u00e9phalopathie spongiforme bovine (ESB) (3); 70e \u00e9dition (3); St\u00e9phane H. (3); Morceaux choisis (3); reconnue coupable (5); Poutou d\u00e9sign\u00e9 (3); Zurich Insurance (3); Isabelle Huppert (3); Vladimir Poutine (3); Bang & Olufsen (3); FC Barcelone (3); Guy Nov\u00e8s (3); chanceli\u00e8re allemande (3); Alain Marsaud (3); c\u00e9r\u00e9monie d\u2019hommage (3); Ra\u00fal Castro (3); J. J. Abrams (3); Anne Hidalgo (3); Angelina Jolie (3); parc d'attractions (3); creuse l'\u00e9cart (3); UFC-Que Choisir (3); listes \u00e9lectorales (3); frappes a\u00e9riennes (3); Thierry Foucault (3); engin explosif (3); Iggy Pop (3); Action directe (5); Meir Dagan (3); CGT FO FSU (3); attractions touristiques (3); stade avanc\u00e9 (3); Telecom Italia (3); Emmanuelle Cosse (3); grandes m\u00e9tropoles (3); Atl\u00e9tico Madrid (3); trading haute fr\u00e9quence (3); d\u00e9bris trouv\u00e9s (3); Bon Coin (3); seuls binationaux (3); accident d'autocar (4); Qui l'e\u00fbt cru (3); perte nette (3); Denis Duverne (3); travaux forc\u00e9s (3); masse salariale (3); gaz naturel (3); Champions League (3); d\u00e9but d'ann\u00e9e (4); perp\u00e9tuit\u00e9 effective (3); Silicon Valley (3); mariage homosexuel (3); Rahmane al-Qadouli (3); contr\u00f4l\u00e9s positifs (3); Jean-Pierre Farandou (4); Admission post-bac (3); ski alpin (3); Julien Lepers (3); brefs d\u00e9lais (2); cr\u00e9dits d\u2019imp\u00f4t (2); Nijni Novgorod (2); pilotage automatique (2); Est s\u00e9paratiste (2); Jack Dorsey (2); Pascal Fauret (2); sursis requis (2); Match Reims-Bastia (2); effets sp\u00e9ciaux (2); Victoria Vanneau (2); Lincoln (Ford) (2); M\u00e9lanie Thierry (2); Guido Westerwelle (2); Peter Sagan (2); instance consultative (2); retir\u00e9 510 (2); magnifique coup-franc (2); m\u00e9decin c\u00e8de (2); Tariq Ramadan (2); la fa\u00e7ade atlantique (2); cellules dormantes (2); Dany Boon (2); \u00e9patant duo (2); un d\u2019eux (2); Mireille Mathieu (2); organisations patronales (3); stade V\u00e9lodrome (2); ports d\u00e9partementaux (2); Steve McQueen (2); instances repr\u00e9sentatives (2); Bondy Blog (2); Coupe d\u2019Europe (2); J\u00e9r\u00f4me Pierrat (2); criait arr\u00eatez (2); Jean-Claude Gaudin (2); Christian Estrosi d\u00e9missionnera (2); 36e \u00e9dition (2); pay\u00e9 trop d'imp\u00f4ts (2); chasseur alpin (2); fronti\u00e8re libyenne (2); ancienne porte-parole (3); propre agence (2); Arizona Cruz (2); g\u00e9ographique prot\u00e9g\u00e9e (IGP) (2); transition \u00e9cologique (2); P'tit Lib\u00e9 (2); AMC Network (2); Samy Naceri (2); indice vedette (3); causes profondes (2); tu as (2); love parade (2); h\u00e9licopt\u00e8re ukrainienne (2); XVIe arrondissement (2); manger Salon (2); Fran\u00e7ois-Xavier Bellamy (2); Range Rover (2); porter l'esp\u00e9rance (2); revue trimestrielle (2); Courrier international (2); hors norme (3); Tinder s'invite (2); couple franco-allemand (2); zone touristique (2); d\u00e9claration d'utilit\u00e9 (2); m\u00e8res d'aujourd'hui (2); recapitaliser EDF (2); f\u00eatent P\u00e2ques (2); Yvelines l'Aisne (2); iPhone SE (8); d\u00e9placement chaotique (2); XV d'Italie (2); \u00a9 Bruno Levy (2); propos rapport\u00e9s (2); Eurocoupe dames (2); Tiffany p\u00e9nalis\u00e9 par (2); NRJ change (2); Eddy Bellegueule (2); Nouvel An (2); CPI tiendra (2); restrictions commerciales (2); 1000 beacons (2); heureusement achev\u00e9 (2); plan quinquennal (2); vaches salers (2); mer \u00c9g\u00e9e (2); conseil r\u00e9gional (4); Eric Woerth (2); soldats ukrainiens (2); think tank (2); Euror\u00e9gion Aquitaine (2); freinage automatique (2); 328 M EUR (2); Daniel Cohn-Bendit (2); robot livreur (2); commissariats parisiens (2); nombre insuffisant (2); structure management (2); Soci\u00e9t\u00e9 G\u00e9n\u00e9rale (2); CCM Benchmark (2); Vu d\u2019ailleurs (2); H\u00e9bergement d'urgence (2); Toyota Prius (2); id\u00e9al f\u00e9d\u00e9ral (2); Cassius vs (2); Caisse d'Epargne (2); forces sp\u00e9ciales russes (2); ressources humaines (2); Pierre Vermeren (2); Amedy Coulibaly (3); festival South by Southwest (2); Didier Quillot (2); exposition Carambolages (2); Jean-Pierre Filiu (2); Beno\u00eet XVI (4); Thomas Lilti (2); Federica Mogherini (2); principes Badinter (2); Agathe Bousquet Twitter (2); certainement issus (2); Porsche relax\u00e9s (2); Great Place to Work (2); Wolfgang Sch\u00e4uble (2); Retraites compl\u00e9mentaires (2); Savtchenko reconnue coupable (3); Claude B\u00e9b\u00e9ar (2); trading ultrarapide (2); Jos\u00e9 Eduardo (2); complicit\u00e9 d\u2019assassinats (2); Bertrand Badie (2); gare Saint-Jean (2); ancienne PAC (2); m\u00e8tres carr\u00e9s (2); Suu Kyi (11); Edouard Fourcade (2); homologue cubain (2); Martine Aubry (2); dur\u00e9e ind\u00e9termin\u00e9e (2); part enti\u00e8re (2); Hama Amadou (2); Roselyne Bachelot (2); population active (2); cam\u00e9ra cach\u00e9e (2); Hulk Hogan (2); Plan\u00e8te rouge (2); Darty pr\u00e9f\u00e8re (2); Mercedes Classe E (2); Can D\u00fcndar (2); \u00c9quipe rouvre (2); Franck Rib\u00e9ry (2); safety check (2); d\u00e9p\u00f4ts bancaires (2); successifs n\u2019ont (2); Lagard\u00e8re Active (2); capitale cubaine (2); meilleurs avocats (2); Juha Sipila (2); h\u00f4pitaux accordent (2); Sky News (2); joueurs Xbox (2); thriller psychologique (2); Apo Chantzis (2); contradictions Victime (2); vivement critiqu\u00e9 (2); p\u00e8re Bernard P. (2); voie ferr\u00e9e (2); milieux d'affaires (2); arabes unis (2); d\u00e9l\u00e9gu\u00e9s syndicaux (2); Ferguson coupables (2); lignes rouges (2); Julien Dray (2); Jess Glynne (2); Quiz connaissez-vous (2); Grande Seconde (2); d\u00e9passent ceux (2); Belle Equipe (2); Notre maquis (2); Paul Bismuth (2); membres d'\u00e9quipage (3); Christophe Naudin (2); seins nus (2); Riadh B alias Reda (2); Fonds mon\u00e9taire international (2); g\u00e2teau sec (2); Ne pouvant (2); Miss Univers (2); (ou pas) (2); Cyril Hanouna (2); Kim Jong-un (2); grande rue pi\u00e9tonne (2); personnel d'activit\u00e9 (2); essai nucl\u00e9aire nord-cor\u00e9en (2); Royal Orchestra (2); jet priv\u00e9 (2); paquet neutre (2); Quai d\u2019Orsay (2); Galles m\u00e8ne (2); Chelsea (2-1) (2); Bl\u00e9dina d\u00e9m\u00e9nage (2); Ana\u00efs Bescond (2); Fettah Malki (2); Boni Yayi (2); plaies ouvertes (2); Nouveau Parti anticapitaliste (2); Ne manquez (2); Que changerait (2); Dick Annegarn (2); Isabelle Giordano (2); pr\u00e9judice \u00e9cologique (2); MBO Partenaires (2); Amours interdites (2); Herv\u00e9 Morin (2); taxe additionnelle (2); Bonhomme partage (2); parties civiles (2); LE CARDINAL BARBARIN (2); c\u00f4tes turques (2); Jean-Vincent Plac\u00e9 (2); partiellement rouvert (2); la capsule Cygnus d'Orbital (2); pr\u00e9sident sortant Mahamadou Issoufou (2); virus Ebola (3); Vinci Autoroutes (2); Fran\u00e7ois Cluzet (2); pourront proc\u00e9der (2); \u00e9quipementiers a\u00e9ronautiques (2); Johnny Hallyday (2); Dane DeHaan (2); coton bio (2); Pesticides tueurs (2); Aur\u00e9lie Fouquet (2); \u00e9teindre lentement (2); BK Event (2); taux interbancaire (3); cigarettes neutres (2); Andreas Lubitz (2); m\u00e8tres d'altitude (2); Coral Biome (2); Ahmet Davutoglu (2); Fabien Galthi\u00e9 (2); dividende sp\u00e9cial (2); mauvaise blague (2); complaisance envers la r\u00e9bellion (2); parc bond\u00e9 (2); affronter l\u2019Ecosse (2); Margarita Louis-Dreyfus (2); radios priv\u00e9es (2); son enseigne Carrefour Bio (2); + 06 (2); suspicion d'accident (2); qu'Alain Jupp\u00e9 (2); \u00e9pargne salariale (2); Jacques Rapoport (2); Jean-Patrick Gille (2); Royal Bank of Scotland (2); refait surface (2); \u00e9conomiser 185 (2); stocks g\u00e9r\u00e9s (2); Irlandais Conor O'Shea (2); Swatch Group (2); Hezbollah libanais (2); am\u00e9ricain General Electric (GE) (2); Beno\u00eet XVI s'\u00e9teint lentement (2); Gaspar No\u00e9 (2); soup\u00e7onn\u00e9e d'avoir (2); marketing digital (2); pour pratique commerciale trompeuse (2); genou droit (2); relations diplomatiques (2); adoption d\u00e9finitive (2); Spi Ouest-France (2); Delphine Batho (2); robots humano\u00efdes (2); Joachim Wenning (2); interdiction brutale (2); Charbonnier 53 (2); Ladislas Ntaganzwa remis (2); gagn\u00e9e d\u2019avance (2); gang criminel (2); proximit\u00e9 imm\u00e9diate (2); Thierry Braillard (2); Financial Times (3); \u200999 Homes\u2009 (2); Abu Dhabi (2); Redoine Fa\u00efd (2); Lofoten tr\u00e9sor (2); substances chimiques (2); bouteilles d'eau (2); Grand Chelem (2); Maltraitance animale (2); L\u00e9a Salam\u00e9 (2); Douglas Flint (2); organisation patronale (2); Plac\u00e9 appellera (3); avez d\u00e9croch\u00e9 (2); Mohamed Abrini Najim Laachraoui (2); BFM Business (2); violeur pr\u00e9sum\u00e9 (2); Mohamed Abrini (4); politiquement correct (2); lourde t\u00e2che (2); Athl\u00e9tisme Eaton (2); St\u00e9phane Guillon (2); quadruple champion (2); petites phrases (2); Pierre Cardin (2); d\u00f4me central (2); big bang (2); M\u00e9tropole Aix-Marseille (2); Violences polici\u00e8res (2); envoyer 600 (2); Nicolas Charbonnier (4); 56Kast #71 (2); Num\u00e9ro 23 (2); interceptions judiciaires (2); Mick Jagger (2); communautariste d'organisation (2); MX-5 RF (2); Joe Biden (2); (Les R\u00e9publicains) (2); fans zone (4); commission d'enqu\u00eate (9); Bachar Al Assad (2); textes actuels (2); demandeurs d'emploi (3); Franz Beckenbauer (2); flou tactique (2); 125e anniversaire (2); clown palestinien (2); Jean-Pierre Bemba (2); Andy Grove (2); Sophie Moinas (3); Primaires r\u00e9publicaines (2); origine alg\u00e9rienne (2); Jawad Bendaoud (2); Missiles nord-cor\u00e9ens (2); \u00eele Berder (2); General Motors (2); bailleur social Logirep (2); tri s\u00e9lectif (2); Carlton trois Femen relax\u00e9es (2); retomb\u00e9es commerciales (2); Douanier Rousseau (2); bact\u00e9rie tueuse (2); reconnaissent avoir aid\u00e9 (2); ceintures explosives (2); quitter Milan (2); Pragma Capital (2); Sept Iraniens (2); d\u00e9sert syrien (2); XXIe si\u00e8cle (2); exhibition sexuelle (2); m\u00e9nages diminue (2); Luc Besson (2); militante antiraciste (2); J\u00e9r\u00f4me Durain (2); quotidien Cumhuriyet (2); Marie Dorin-Habert (2); imaginaire collectif (2); chefs d'\u00e9tablissement (2); transactions transfrontali\u00e8res (2); Centre-Europe Atlantique (2); attitude inacceptable (2); facs ferm\u00e9es (2); d\u00e9but d'apr\u00e8s-midi (2); rapidit\u00e9 d'ex\u00e9cution (2); circulation routi\u00e8re (2); Cr\u00e9dit Agricole (2); manifestants nationalistes (2); commission d\u2019enqu\u00eate (2); Bell & Ross (2); d\u00e9grade Casino (2); c\u00f4tes grecques (2); fibre optique (2); Rosberg d\u00e9marre (2); Zodiac Aerospace (2); Hong Kong (2); indigne opposition (2); radicalisme religieux (2); laiss\u00e9 prosp\u00e9rer (2); erreur humaine (2); salut nazi (2); essais libres (2); Kurdes proclament (2); perle antique (2); agent triple (2); longs formats (2); Tom Hayes (2); pr\u00eatre p\u00e9dophile (2); missile balistique (2); Brian Johnson (2); propri\u00e9taire d'Air Cara\u00efbes (2); \u00c9douard Louis (2); Maison Standards (2); h\u00e9patite B (2); S\u00e9bastien Bazin (2); Patrick Philip (2); a-t-on appris (2); p\u00e9nal international (9); Planet Ocean (2); Reconnu coupable (2); Cara Delevingne (2); village roumain (2); Bruno Odos (2); Steven Spielberg (2); Andr\u00e9 Santini (2); Miley Cyrus (2); appelle Larcher (2); Axelle Lemaire (2); / MILLIONS DE DOLLARS (2); redevient s\u00e9lectionnable (2); majoritairement oppos\u00e9s (2); % / FONDS ACTIONS (2); 800000 v\u00e9hicules (2); Verviers projetait (2); Christian Estrosi (4); suffrages exprim\u00e9s (2); Sophie Bellon (2); gens heureux (2); anneau attribu\u00e9 (2); L\u00e9gion d\u2019honneur (2); plaintes pleuvent (2); Enda Kenny (2); foie gras (2); in extremis (2); bulbe dor\u00e9 (2); couverture m\u00e9diatique (2); \u00bfQue bol\u00e1 (2); Festival d'Avignon (2); NOUS Y \u00c9TIONS - (2); f\u00eates traditionnelles (2); retard technologique consid\u00e9rable (2); kilos d'explosifs (2); ultime proposition (2); \u00e9tudiant Regeni (2); Pays-Bas (3-2) (2); op\u00e9rateurs boursiers (2); puissant lobby (2); T\u00e9l\u00e9 7 Jours (2); \u00c9lisabeth Bost (2); er consommateur (2); Juventus Turin (2);  effrayant (2); Aur\u00e9lie Ch\u00e2telain (6); Mike Wells (2); vs Superman (2); cour d'appel (5); heure d'\u00e9t\u00e9 (3); (ESB) d\u00e9tect\u00e9 (2); Anne Frank (2); Pierre Joxe (2); bailleur social (3); attentat d\u00e9jou\u00e9 (9); David Dixon (2); dos Santos (2); Arm\u00e9e \u00e9lectronique (2); Antoine Griezmann (2); Afrique subsaharienne (2); on chante (2); Croissance bleue (2);  Intrepid (2); Anglais Marler (2); courte dur\u00e9e (2); robotique rachet\u00e9 (2); en finit (4); Pen lie (2); Jean-S\u00e9bastien Jacques (2); Novak Djokovic (2); activistes kurdes (2); vingt-cinq si\u00e8cles (2); explosif pr\u00e9f\u00e9r\u00e9 (2); Mondiaux d'athl\u00e9tisme (2); r\u00e9sultat op\u00e9rationnel (2); bond enregistr\u00e9 (2); Cassius 1999 (2); Dunlopillo Treca et Simmons (2); assises sp\u00e9ciale (2); sud-cor\u00e9en Lee (2); h 30 (2); Filippetti accuse (2); grands crus (2); Am\u00e9rique latine (2); James Bond (2); a sauv\u00e9 (2); \u00e9crivain alg\u00e9rien (2); 50 prochaines (2); pilote d'h\u00e9licopt\u00e8re (3); objets nomades (2); circuit pro (2); \u00e9mission diesel (5); fermes anglaises (2); zones d'ombre (3); \u00e9tait visiblement (2); Bank of (3); Vincent Lambert (2); Apple Watch (2); Ben Abbes (4); Thierry Herzog (2); Gaye Pete (2); Rio Tinto (2);  \u00e9trangleur (4); 950000 euros contre Aviva (2); livres sterling (2); forces arm\u00e9es (2); Laurent Blanc (2); optimisation fiscale (4); Jean-Marc Janaillac (2); m\u00e9daille d\u2019or (2); est s\u00e9paratiste (2); Robert Fico (2); neutres obligatoires (2); Europe va-t-elle (2); op\u00e9ration s\u00e9duction (2); 0 h (6); bons plans (2); to B (3); Fran\u00e7ois Baroin (2); triple saut (2); administrateur d\u00e9l\u00e9gu\u00e9 (2); abus sexuels (2); Khalid Zerkani (2); Zlatan Ibrahimovic (2); Primaires d\u00e9mocrates (4); PSV Eindhoven (2); arriv\u00e9e d'Obama (2); Standard & (2); chef chiite (2); Catalogne Bouhanni (2)\n"
       ]
      }
     ],
     "prompt_number": 9
    },
    {
     "cell_type": "code",
     "collapsed": false,
     "input": [
      "# Load \"liste des mots\"\n",
      "import codecs\n",
      "\n",
      "filename = './data_dico/liste_mots_utf8.txt'\n",
      "# cf: http://www.lexique.org/listes/liste_mots.txt\n",
      "# load\n",
      "with codecs.open(filename, encoding='utf-8') as f:\n",
      "    listemots = f.readlines()\n",
      "  \n",
      "for i, mot in enumerate( listemots ):\n",
      "    a = mot.split('\\t')\n",
      "    freq = float(a[1])\n",
      "    word = a[0]\n",
      "    listemots[i] = (word, freq)\n",
      "\n",
      "dicoFr = { x[0]:x[1] for x in listemots }"
     ],
     "language": "python",
     "metadata": {},
     "outputs": [],
     "prompt_number": 11
    },
    {
     "cell_type": "code",
     "collapsed": false,
     "input": [
      "dicoFr['e']"
     ],
     "language": "python",
     "metadata": {},
     "outputs": [
      {
       "metadata": {},
       "output_type": "pyout",
       "prompt_number": 15,
       "text": [
        "161.68"
       ]
      }
     ],
     "prompt_number": 15
    },
    {
     "cell_type": "code",
     "collapsed": false,
     "input": [
      "bigTexte_single = bigTexte\n",
      "nuplets_text = sorted(nuplets_count.iterkeys(), key=lambda x:len(x), reverse=True )\n",
      "\n",
      "for nuplet in nuplets_text:\n",
      "    bigTexte_single = bigTexte_single.replace(nuplet, ' ')\n",
      "    \n",
      "print len( bigTexte ), len( bigTexte_single )"
     ],
     "language": "python",
     "metadata": {},
     "outputs": [
      {
       "output_type": "stream",
       "stream": "stdout",
       "text": [
        "937139 861776\n"
       ]
      }
     ],
     "prompt_number": 16
    },
    {
     "cell_type": "code",
     "collapsed": false,
     "input": [
      "print bigTexte_single.count('Nicolas Sarkozy')\n",
      "print bigTexte_single.count('Sarkozy')\n",
      "print bigTexte_single.count('French Blue')"
     ],
     "language": "python",
     "metadata": {},
     "outputs": []
    },
    {
     "cell_type": "code",
     "collapsed": false,
     "input": [
      "blacklist = ['etat', 'etats', 'euros', u'est-il', 'actu', u'a-t-il', 'axa', u'apr\u00e8s-midi', 'a-t-elle', 'faut-il', u'peut-\u00eatre', 'the']\n",
      "blacklist.extend(['week-end', u'lui-m\u00eame', u\"qu'on\", 'celle-ci', 'celui-ci', u'au-del\u00e0', 'est-elle', 'sont-ils'])\n",
      "\n",
      "words_count = {}\n",
      "\n",
      "for mot in bigTexte_single.split(' '):\n",
      "\n",
      "    mot = re.sub(u\"[Aa]ujourd.hui\",  '', mot)\n",
      "    mot = re.sub(u\"jusqu.([\u00e0a]|en)\",  '', mot)\n",
      "    \n",
      "    mot = re.sub(u\"(^|\\s)[LldDsSnNcC]['`\u2019]\", \"\", mot)\n",
      "    mot = re.sub(u\"(^|\\s)qu['`\u2019]\", \"\", mot)\n",
      "    mot = re.sub(r\"[0-9\\.\\(\\)]\", u'', mot)\n",
      "    mot = re.sub(r\"-$\", u'', mot) \n",
      "    mot = re.sub(r\"\\s\", u'', mot)\n",
      "\n",
      "    if mot.lower() in dicoFr:\n",
      "        mot = mot.lower()     \n",
      "        \n",
      "    #if mot.endswith( 's' ) and mot[0:-1] in dicoFr:\n",
      "    #    mot = mot[:-1]      ... pas une bonne idee dans>dan\n",
      "        \n",
      "    if len( mot )>2 and mot.lower() not in blacklist:       \n",
      "        if mot in words_count:\n",
      "            words_count[mot ] += 1\n",
      "        elif mot:\n",
      "            words_count[mot ] = 1\n",
      "  \n",
      "\n",
      "n_mots_globaux = len( words_count )\n",
      "\n",
      "print 'nbr mots: ', n_mots_globaux"
     ],
     "language": "python",
     "metadata": {},
     "outputs": [
      {
       "output_type": "stream",
       "stream": "stdout",
       "text": [
        "nbr mots:  17238\n"
       ]
      }
     ],
     "prompt_number": 17
    },
    {
     "cell_type": "code",
     "collapsed": false,
     "input": [
      "nMots = sum( [x for x in words_count.itervalues()] )\n",
      "print nMots"
     ],
     "language": "python",
     "metadata": {},
     "outputs": [
      {
       "output_type": "stream",
       "stream": "stdout",
       "text": [
        "97912\n"
       ]
      }
     ],
     "prompt_number": 18
    },
    {
     "cell_type": "code",
     "collapsed": false,
     "input": [
      "printSorted( words_count , 10)"
     ],
     "language": "python",
     "metadata": {},
     "outputs": [
      {
       "output_type": "stream",
       "stream": "stdout",
       "text": [
        "les (3292.00)  des (2643.00)  une (1609.00)  pour (1448.00)  dans (1359.00)  sur (1141.00)  est (998.00)  qui (857.00)  par (834.00)  son (651.00) \n"
       ]
      }
     ],
     "prompt_number": 19
    },
    {
     "cell_type": "code",
     "collapsed": false,
     "input": [
      "words_count_dicoFr = {}\n",
      "notInDicoFr = {}\n",
      "for m, c in words_count.iteritems():\n",
      "\n",
      "    if m in dicoFr : # and c*n_mots > 1:\n",
      "        score = float( c )/float( nMots )  / (dicoFr[m]*1e-6)\n",
      "        words_count_dicoFr[m] = score\n",
      "    else:\n",
      "        score =  c #/float( nMots )*1e3\n",
      "        notInDicoFr[m] = score\n",
      "        \n",
      "words_sorted_dicoFr = sorted(words_count_dicoFr.iteritems(), key = lambda x:x[1], reverse=True)\n",
      "notInDicoFr_sorted = sorted(notInDicoFr.iteritems(), key = lambda x:x[1], reverse=True)"
     ],
     "language": "python",
     "metadata": {},
     "outputs": [],
     "prompt_number": 21
    },
    {
     "cell_type": "code",
     "collapsed": false,
     "input": [
      "len( words_sorted_dicoFr )"
     ],
     "language": "python",
     "metadata": {},
     "outputs": [
      {
       "metadata": {},
       "output_type": "pyout",
       "prompt_number": 22,
       "text": [
        "12304"
       ]
      }
     ],
     "prompt_number": 22
    },
    {
     "cell_type": "code",
     "collapsed": false,
     "input": [
      "bigTexte.count(u'\u00e9cologistes')"
     ],
     "language": "python",
     "metadata": {},
     "outputs": [
      {
       "metadata": {},
       "output_type": "pyout",
       "prompt_number": 24,
       "text": [
        "4"
       ]
      }
     ],
     "prompt_number": 24
    },
    {
     "cell_type": "code",
     "collapsed": false,
     "input": [
      "printSorted(words_count_dicoFr, 200)\n",
      "print '\\n'\n",
      "printSorted(notInDicoFr, 200)"
     ],
     "language": "python",
     "metadata": {},
     "outputs": [
      {
       "output_type": "stream",
       "stream": "stdout",
       "text": [
        "crash (7489.72)  dopage (7149.28)  partenariat (4085.30)  airbus (3744.86)  quinquennat (3063.98)  migratoire (2553.31)  d\u00e9crypte (2383.09)  extradition (2383.09)  migrants (2042.65)  attractivit\u00e9 (2042.65)  attentats (2020.05)  islamistes (1872.43)  volatilit\u00e9 (1702.21)  piratage (1702.21)  p\u00e9dophilie (1649.83)  vid\u00e9o (1596.83)  antiterroriste (1571.27)  radicalisation (1492.71)  interpell\u00e9es (1361.77)  trisomie (1361.77)  \u00e9cosyst\u00e8me (1361.77)  palpations (1361.77)  technologies (1225.59)  centriste (1191.55)  spiegel (1191.55)  centristes (1021.33)  revivez (1021.33)  bruxelloise (1021.33)  microc\u00e9phalie (1021.33)  b\u00e9n\u00e9volat (1021.33)  exemplarit\u00e9 (1021.33)  dysfonctionnements (1021.33)  \u00e9mergents (1021.33)  kurdes (957.49)  cubains (919.19)  s\u00e9lectionneur (919.19)  logiciel (851.10)  enc\u00e9phalopathie (851.10)  fustige (851.10)  sponsors (851.10)  blanchiment (698.80)  connectent (680.88)  y\u00e9m\u00e9nites (680.88)  chiffrement (680.88)  ivoirienne (680.88)  shows (680.88)  castriste (680.88)  buralistes (680.88)  fragilis\u00e9 (680.88)  chutent (680.88)  sexistes (680.88)  isra\u00e9liennes (680.88)  g\u00e9n\u00e9rer (680.88)  chroniqueuse (680.88)  qu\u00e9b\u00e9cois (680.88)  recentrer (680.88)  kiwi (680.88)  r\u00e9silience (680.88)  f\u00e9miniser (680.88)  aiguilleurs (680.88)  r\u00e9\u00e9criture (680.88)  opposante (680.88)  pl\u00e9biscitent (680.88)  affronteront (680.88)  chrismale (680.88)  bi\u00e8vres (680.88)  transf\u00e8rement (510.66)  a\u00e9rogares (510.66)  interview\u00e9e (510.66)  ill\u00e9gaux (510.66)  hypothermie (510.66)  kurde (510.66)  terrorisme (480.27)  pr\u00e9sidentielle (456.50)  bruxellois (446.83)  incontournable (446.83)  kamikazes (440.23)  terroriste (433.29)  pesticides (430.03)  extrad\u00e9 (408.53)  palestinien (399.65)  d\u00e9cryptage (392.82)  harkis (392.82)  p\u00e9dophiles (392.82)  m\u00e9dias (390.88)  missiles (353.54)  pr\u00e9sum\u00e9s (352.18)  muselle (340.44)  adoubements (340.44)  photomontage (340.44)  divas (340.44)  limogeage (340.44)  improvisatrice (340.44)  horlog\u00e8res (340.44)  d\u00e9clinera (340.44)  agha (340.44)  d\u00e9poussi\u00e8re (340.44)  plombent (340.44)  \u00e9lectoraliste (340.44)  liquidateurs (340.44)  pal\u00e9ontologue (340.44)  codirecteur (340.44)  booster (340.44)  transalpins (340.44)  cannabis (340.44)  voteront (340.44)  d\u00e9sorganis\u00e9e (340.44)  meneau (340.44)  astrophysicien (340.44)  p\u00e9naux (340.44)  derby (340.44)  affranchissent (340.44)  dangerosit\u00e9 (340.44)  popularit\u00e9s (340.44)  tyrannosaure (340.44)  cumulable (340.44)  emboutissage (340.44)  touareg (340.44)  caritative (340.44)  d\u00e9sertification (340.44)  pilot\u00e9e (340.44)  n\u00e9gocierait (340.44)  polluante (340.44)  surnomment (340.44)  majoritairement (340.44)  \u00e9pinglent (340.44)  surclass\u00e9e (340.44)  pr\u00e9sidera (340.44)  intox (340.44)  bazookas (340.44)  capteurs (340.44)  banalise (340.44)  saoudiennes (340.44)  lifting (340.44)  d\u00e9fieront (340.44)  r\u00e9invent\u00e9e (340.44)  habilitations (340.44)  colocataires (340.44)  contres (340.44)  m\u00e9thaniers (340.44)  vulgarisent (340.44)  boulingrin (340.44)  fragilise (340.44)  dop\u00e9es (340.44)  start (340.44)  d\u00e9localise (340.44)  cerclage (340.44)  r\u00e9cusent (340.44)  boycott (340.44)  relanc\u00e9es (340.44)  impuls\u00e9 (340.44)  truste (340.44)  mon\u00e9gasque (340.44)  \u00e9crou\u00e9 (340.44)  condamnez (340.44)  r\u00e9\u00e9crite (340.44)  irakiens (340.44)  hospitalis\u00e9es (340.44)  contact\u00e9s (340.44)  robotisation (340.44)  conforte (340.44)  grau (340.44)  populismes (340.44)  sond\u00e9s (340.44)  concerneront (340.44)  ol\u00e9iculteurs (340.44)  sponsoring (340.44)  pass\u00e9istes (340.44)  \u00e9dile (340.44)  motoristes (340.44)  g\u00e9opolitiques (340.44)  historial (340.44)  positionnement (340.44)  liberticide (340.44)  photovolta\u00efque (340.44)  rigidifi\u00e9 (340.44)  conteneur (340.44)  phoc\u00e9enne (340.44)  califat (340.44)  politiser (340.44)  comparaissait (340.44)  saccagent (340.44)  b\u00e9atifi\u00e9e (340.44)  immiscent (340.44)  d\u00e9cortiquant (340.44)  certification (340.44)  briguait (340.44)  fustigent (340.44)  chiite (340.44)  plaidera (340.44)  d\u00e9jou\u00e9s (340.44)  buteur (340.44)  flingueur (340.44)  d\u00e9gainent (340.44)  inoccupation (340.44)  billettes (340.44)  impay\u00e9s (340.44)  d\u00e9but\u00e9e (340.44)  sagard (340.44)  violent\u00e9 (340.44)  \n",
        "\n",
        "France (448.00)  Bruxelles (427.00)  Europe (138.00)  Turquie (106.00)  Syrie (106.00)  Etats-Unis (80.00)  Fran\u00e7ois (77.00)  Molenbeek (56.00)  Sarkozy (54.00)  Allemagne (47.00)  Euro (46.00)  Twitter (46.00)  djihadiste (45.00)  Nicolas (42.00)  Russie (42.00)  Abdeslam (40.00)  Valls (39.00)  Michel (39.00)  djihadistes (39.00)  Lyon (38.00)  Volkswagen (38.00)  Royaume-Uni (36.00)  Lula (36.00)  start-up (36.00)  Palmyre (35.00)  Obama (35.00)  Apple (35.00)  Pen (34.00)  Gr\u00e8ce (32.00)  Pays-Bas (31.00)  Espagne (29.00)  Washington (29.00)  Trump (29.00)  PDG (28.00)  Italie (28.00)  PSG (27.00)  Marseille (27.00)  Google (27.00)  Fifa (27.00)  Philippe (26.00)  Internet (26.00)  Isra\u00ebl (25.00)  Ankara (25.00)  Cor\u00e9e (25.00)  ONU (23.00)  Irak (23.00)  SNCF (22.00)  Afrique (22.00)  Daech (22.00)  Alg\u00e9rie (21.00)  Toulouse (21.00)  Zaventem (21.00)  internautes (21.00)  Jupp\u00e9 (21.00)  Macron (20.00)  Benzema (20.00)  Tunisie (20.00)  Montpellier (19.00)  #Baselworld (19.00)  Strasbourg (18.00)  Clinton (18.00)  Facebook (18.00)  NBA (18.00)  Renault (18.00)  plate-forme (18.00)  Bruno (17.00)  Gen\u00e8ve (17.00)  Y\u00e9men (17.00)  Barcelone (17.00)  Ukraine (17.00)  Sivens (17.00)  Ile-de-France (17.00)  Ardennes (17.00)  Rio (16.00)  Libye (16.00)  FBI (16.00)  Istanbul (16.00)  Lille (16.00)  iPhone (16.00)  AFP (16.00)  Miami (16.00)  c\u0153ur (16.00)  Insee (16.00)  EDF (15.00)  \u00c9tats-Unis (15.00)  Brexit (15.00)  PIB (15.00)  Moscou (15.00)  Germanwings (15.00)  Merah (15.00)  Zika (14.00)  Mohamed (14.00)  islamiste (14.00)  ONG (14.00)  RATP (14.00)  Hand (14.00)  Castries (14.00)  CGT (14.00)  Pakistan (13.00)  Arnaud (13.00)  Nigeria (13.00)  UE-Turquie (13.00)  SFR (13.00)  Pologne (13.00)  Foll (13.00)  Notre-Dame-des-Landes (12.00)  d\u00e9put\u00e9e (12.00)  Henri (12.00)  BCE (12.00)  Web (12.00)  UDI (12.00)  Grand-Bassam (12.00)  Deschamps (12.00)  Cruyff (12.00)  Medef (12.00)  Microsoft (12.00)  Asie (11.00)  Birmanie (11.00)  Lagard\u00e8re (11.00)  Vincent (11.00)  jihadistes (11.00)  biodiversit\u00e9 (11.00)  Khalid (11.00)  PNR (10.00)  Eiffel (10.00)  prud'hommes (10.00)  Irlande (10.00)  Instagram (10.00)  Bosnie (10.00)  Saint-Denis (10.00)  Blatter (10.00)  D\u00e9mare (10.00)  Floride (10.00)  vid\u00e9os (10.00)  Qatar (10.00)  JDD (10.00)  Argenteuil (10.00)  Mossoul (10.00)  Yasmine (10.00)  Uber (10.00)  Bouagga (10.00)  Bretagne (10.00)  informatiques (10.00)  Colombie (9.00)  Barbarin (9.00)  Niger (9.00)  cofondateur (9.00)  Biathlon (9.00)  ESB (9.00)  David (9.00)  Sanders (9.00)  Idomeni (9.00)  Am\u00e9rique (9.00)  Kerviel (9.00)  smartphones (9.00)  Shanghai (9.00)  CFDT (9.00)  James (9.00)  Nancy (9.00)  Economie (9.00)  Canal+ (9.00)  suspect-cl\u00e9 (9.00)  Didier (9.00)  ex-pr\u00e9sident (9.00)  Grande-Bretagne (9.00)  djihad (9.00)  Alonso (9.00)  Erdogan (9.00)  Jean-Marie (9.00)  Orly (9.00)  St\u00e9phane (9.00)  Times (9.00)  Merkel (8.00)  Hamilton (8.00)  communautarisme (8.00)  Vingt-Huit (8.00)  meldonium (8.00)  Rome (8.00)  Australie (8.00)  t\u00e9l\u00e9coms (8.00)  Generali (8.00)  Tunis (8.00)  Egypte (8.00)  Laachraoui (8.00)  rendez-vous (8.00)  Molins (8.00)  supporteurs (8.00)  INFOGRAPHIE (8.00)  Norv\u00e8ge (8.00)  Pyongyang (8.00)  Castro (7.00)  Antoine (7.00)  drones (7.00)  Bernard (7.00)  Djokovic (7.00)  smartphone (7.00)  Ford (7.00)  Bagdad (7.00)  Rousseff (7.00)  Maelbeek (7.00) \n"
       ]
      }
     ],
     "prompt_number": 25
    },
    {
     "cell_type": "code",
     "collapsed": false,
     "input": [
      "print notInDicoFr_sorted[-50:]"
     ],
     "language": "python",
     "metadata": {},
     "outputs": [
      {
       "output_type": "stream",
       "stream": "stdout",
       "text": [
        "[(u'shooting', 1), (u'Mobilettre', 1), (u'DISPARITION/VID\\xc9O', 1), (u'camion-citerne', 1), (u'coproduite', 1), (u'taekwondo', 1), (u'Banerjee', 1), (u'Daoudi', 1), (u'Imad', 1), (u'Tokyo', 1), (u'Yesterday', 1), (u'Fanny', 1), (u'letaxi', 1), (u\"'vivre\", 1), (u'autopromotionnelle', 1), (u'h\\xe9raultaise', 1), (u'quintet', 1), (u'r\\xe9visent', 1), (u'Carolina', 1), (u'Blankets', 1), (u'Djamal', 1), (u'\\u2009concurrence', 1), (u'Milton', 1), (u'junk', 1), (u'Reims', 1), (u'Michaela', 1), (u'Suarez', 1), (u'Zeitung', 1), (u'Lussault', 1), (u'Jordanie', 1), (u\"t'oublierons\", 1), (u'sous-emploi', 1), (u'Abou', 1), (u'cybers\\xe9curit\\xe9', 1), (u'Louxor', 1), (u'Elizabeth', 1), (u'Urkullu', 1), (u'proposition-choc', 1), (u'b&#', 1), (u'saigne\\u2009', 1), (u'Zavantem', 1), (u'Gheit', 1), (u'Tsipras', 1), (u'lobbys', 1), (u'Chatel', 1), (u'ex-commandant', 1), (u'Olfeo', 1), (u'Ba\\xefkonour', 1), (u'Guillermo', 1), (u'Blakey', 1)]\n"
       ]
      }
     ],
     "prompt_number": 26
    },
    {
     "cell_type": "code",
     "collapsed": false,
     "input": [
      "#\u00a0Merge :"
     ],
     "language": "python",
     "metadata": {},
     "outputs": [],
     "prompt_number": 27
    },
    {
     "cell_type": "code",
     "collapsed": false,
     "input": [
      "dico_nuplets = { x:bigTexte.count( x ) for x in nuplets_count.iterkeys() if bigTexte.count( x ) > 1 }"
     ],
     "language": "python",
     "metadata": {},
     "outputs": [],
     "prompt_number": 28
    },
    {
     "cell_type": "code",
     "collapsed": false,
     "input": [
      "dico_nuplets.items()[:10]"
     ],
     "language": "python",
     "metadata": {},
     "outputs": [
      {
       "metadata": {},
       "output_type": "pyout",
       "prompt_number": 29,
       "text": [
        "[(u'brefs d\\xe9lais', 2),\n",
        " (u'Sophie Moinas', 3),\n",
        " (u'Jean-Luc M\\xe9lenchon', 4),\n",
        " (u'Laurent Ruquier', 4),\n",
        " (u'T\\xe9l\\xe9 7 Jours', 2),\n",
        " (u'Reconnu coupable', 2),\n",
        " (u\"GP d'Australie\", 13),\n",
        " (u'robot livreur', 2),\n",
        " (u'LE CARDINAL BARBARIN', 2),\n",
        " (u'changement climatique', 4)]"
       ]
      }
     ],
     "prompt_number": 29
    },
    {
     "cell_type": "code",
     "collapsed": false,
     "input": [
      "scoreMax = float( words_sorted_dicoFr[0][1] )\n",
      "print scoreMax\n",
      "words_dicoFr_normed = { k:c/scoreMax for k, c in words_count_dicoFr.iteritems() }"
     ],
     "language": "python",
     "metadata": {},
     "outputs": [
      {
       "output_type": "stream",
       "stream": "stdout",
       "text": [
        "7489.71865893\n"
       ]
      }
     ],
     "prompt_number": 30
    },
    {
     "cell_type": "code",
     "collapsed": false,
     "input": [
      "signifiants = {}\n",
      "signifiants.update( notInDicoFr )\n",
      "\n",
      "signifiants.update( dico_nuplets )\n",
      "signifiants.update( words_dicoFr_normed )\n",
      "\n",
      "print len( signifiants )"
     ],
     "language": "python",
     "metadata": {},
     "outputs": [
      {
       "output_type": "stream",
       "stream": "stdout",
       "text": [
        "18115\n"
       ]
      }
     ],
     "prompt_number": 31
    },
    {
     "cell_type": "code",
     "collapsed": false,
     "input": [
      "printSorted(signifiants, 400)"
     ],
     "language": "python",
     "metadata": {},
     "outputs": [
      {
       "output_type": "stream",
       "stream": "stdout",
       "text": [
        "France (448.00)  Bruxelles (427.00)  Europe (138.00)  Salah Abdeslam (120.00)  Turquie (106.00)  Syrie (106.00)  13 novembre (81.00)  Etats-Unis (80.00)  Fran\u00e7ois (77.00)  El Khomri (56.00)  Molenbeek (56.00)  Sarkozy (54.00)  Allemagne (47.00)  Euro (46.00)  Twitter (46.00)  djihadiste (45.00)  Russie (42.00)  Manuel Valls (42.00)  Nicolas (42.00)  Abdeslam (40.00)  Valls (39.00)  Michel (39.00)  djihadistes (39.00)  Barack Obama (39.00)  Lyon (38.00)  Volkswagen (38.00)  Donald Trump (37.00)  Lula (36.00)  start-up (36.00)  Royaume-Uni (36.00)  Etat islamique (36.00)  Palmyre (35.00)  loi El Khomri (35.00)  Apple (35.00)  Obama (35.00)  Pen (34.00)  Gr\u00e8ce (32.00)  Pays-Bas (31.00)  Johan Cruyff (30.00)  Trump (29.00)  Washington (29.00)  Espagne (29.00)  Italie (28.00)  Top 14 (28.00)  PDG (28.00)  Fifa (27.00)  Google (27.00)  PSG (27.00)  Marseille (27.00)  r\u00e9seaux sociaux (26.00)  Philippe (26.00)  Internet (26.00)  Ankara (25.00)  Cor\u00e9e (25.00)  Isra\u00ebl (25.00)  ONU (23.00)  New York (23.00)  Irak (23.00)  Daech (22.00)  SNCF (22.00)  Dilma Rousseff (22.00)  Afrique (22.00)  Jupp\u00e9 (21.00)  internautes (21.00)  Zaventem (21.00)  Alg\u00e9rie (21.00)  Emmanuel Macron (21.00)  Toulouse (21.00)  Tunisie (20.00)  \u00c9tat islamique (20.00)  Macron (20.00)  Benzema (20.00)  Montpellier (19.00)  #Baselworld (19.00)  Facebook (18.00)  Renault (18.00)  Clinton (18.00)  NBA (18.00)  Strasbourg (18.00)  plate-forme (18.00)  CAC 40 (17.00)  Bruno (17.00)  Sivens (17.00)  Barcelone (17.00)  vache folle (17.00)  Gen\u00e8ve (17.00)  Ardennes (17.00)  Ile-de-France (17.00)  Y\u00e9men (17.00)  Ukraine (17.00)  Rio (16.00)  Lille (16.00)  Istanbul (16.00)  intelligence artificielle (16.00)  El Bakraoui (16.00)  Libye (16.00)  Miami (16.00)  iPhone (16.00)  c\u0153ur (16.00)  Insee (16.00)  AFP (16.00)  FBI (16.00)  \u00c9tats-Unis (15.00)  PIB (15.00)  Indian Wells (15.00)  EDF (15.00)  Rolling Stones (15.00)  Merah (15.00)  Moscou (15.00)  Brexit (15.00)  Germanwings (15.00)  Zika (14.00)  Hand (14.00)  Ted Cruz (14.00)  la loi El Khomri (14.00)  ONG (14.00)  cardinal Barbarin (14.00)  CGT (14.00)  RATP (14.00)  islamiste (14.00)  Mohamed (14.00)  Castries (14.00)  Six nations (14.00)  Arnaud (13.00)  Pologne (13.00)  Hillary Clinton (13.00)  \u00e9tat d\u2019urgence (13.00)  \u00e9lection pr\u00e9sidentielle (13.00)  C\u00f4te d'Ivoire (13.00)  St Moritz (13.00)  UE-Turquie (13.00)  GP d'Australie (13.00)  SFR (13.00)  Batman v Superman (13.00)  Foll (13.00)  Nigeria (13.00)  R\u00e9mi Fraisse (13.00)  Pakistan (13.00)  BCE (12.00)  Web (12.00)  UDI (12.00)  Deschamps (12.00)  Front national (12.00)  Henri (12.00)  Najim Laachraoui (12.00)  chiffre d'affaires (12.00)  extr\u00eame droite (12.00)  d\u00e9put\u00e9e (12.00)  Microsoft (12.00)  Medef (12.00)  Grand-Bassam (12.00)  Cruyff (12.00)  Notre-Dame-des-Landes (12.00)  Patrice Talon (11.00)  point d'indice (11.00)  Bernard Cazeneuve (11.00)  Khalid (11.00)  Vincent (11.00)  jihadistes (11.00)  Sven Mary (11.00)  Lagard\u00e8re (11.00)  Suu Kyi (11.00)  r\u00e9vision constitutionnelle (11.00)  biodiversit\u00e9 (11.00)  Asie (11.00)  bande dessin\u00e9e (11.00)  La dessinatrice Lisa Mandel (11.00)  Birmanie (11.00)  French Tech (11.00)  Blatter (10.00)  informatiques (10.00)  agressions sexuelles (10.00)  Manchester City (10.00)  Qatar (10.00)  Bouygues Telecom (10.00)  Saint-Denis (10.00)  Bosnie (10.00)  D\u00e9mare (10.00)  vid\u00e9os (10.00)  Argenteuil (10.00)  Bretagne (10.00)  Yasmine (10.00)  Mossoul (10.00)  PNR (10.00)  Irlande (10.00)  Floride (10.00)  JDD (10.00)  Uber (10.00)  Bouagga (10.00)  Eiffel (10.00)  Instagram (10.00)  organisation Etat islamique (10.00)  prud'hommes (10.00)  Colombie (9.00)  Niger (9.00)  Guerre d'Alg\u00e9rie (9.00)  perp\u00e9tuit\u00e9 r\u00e9elle (9.00)  suspect-cl\u00e9 (9.00)  conseil d'administration (9.00)  San Suu Kyi (9.00)  James (9.00)  Aung San Suu Kyi (9.00)  Karim Benzema (9.00)  Arabie saoudite (9.00)  Biathlon (9.00)  Didier (9.00)  St\u00e9phane (9.00)  Jean-Marie (9.00)  Sanders (9.00)  p\u00e9nal international (9.00)  Jeanne d'Arc (9.00)  Times (9.00)  Kerviel (9.00)  Canal+ (9.00)  Barbarin (9.00)  C\u00f4te d\u2019Ivoire (9.00)  Idomeni (9.00)  CFDT (9.00)  attentat d\u00e9jou\u00e9 (9.00)  Reda Kriket (9.00)  spongiforme bovine (9.00)  djihad (9.00)  Alonso (9.00)  smartphones (9.00)  Shanghai (9.00)  Am\u00e9rique (9.00)  Nancy (9.00)  David (9.00)  Orly (9.00)  ex-pr\u00e9sident (9.00)  Erdogan (9.00)  Affaires \u00e9trang\u00e8res (9.00)  cofondateur (9.00)  ESB (9.00)  zone euro (9.00)  Economie (9.00)  commission d'enqu\u00eate (9.00)  Grande-Bretagne (9.00)  Hamilton (8.00)  iPhone SE (8.00)  Angela Merkel (8.00)  Norv\u00e8ge (8.00)  Generali (8.00)  Rome (8.00)  t\u00e9l\u00e9coms (8.00)  Tunis (8.00)  INFOGRAPHIE (8.00)  Sylvie Leclerc (8.00)  communautarisme (8.00)  contr\u00f4leurs a\u00e9riens (8.00)  Egypte (8.00)  Edouard Louis (8.00)  Pyongyang (8.00)  meldonium (8.00)  Alain Decaux (8.00)  Buenos Aires (8.00)  Merkel (8.00)  Australie (8.00)  Abdelkader Merah (8.00)  Molins (8.00)  rendez-vous (8.00)  entre eux (8.00)  Vingt-Huit (8.00)  Xavier Bertrand (8.00)  Laachraoui (8.00)  supporteurs (8.00)  Radovan Karadzic (8.00)  Bamako (7.00)  Myriam El Khomri (7.00)  Serge Dassault (7.00)  Michael (7.00)  euro (7.00)  Utah (7.00)  Antoine (7.00)  sexe neutre (7.00)  San Antonio (7.00)  Ford (7.00)  commission d'enqu\u00eate parlementaire (7.00)  Fr\u00e9d\u00e9ric (7.00)  Payet (7.00)  Tribunal p\u00e9nal (7.00)  Abaaoud (7.00)  Breivik (7.00)  Castro (7.00)  Boko Haram (7.00)  smartphone (7.00)  voiture pi\u00e9g\u00e9e (7.00)  Grande-Synthe (7.00)  Cour supr\u00eame (7.00)  Ibrahim El Bakraoui (7.00)  R\u00e9forme constitutionnelle (7.00)  Philippe Poutou (7.00)  Platini (7.00)  jihadiste (7.00)  nord-est (7.00)  13 Novembre (7.00)  Djokovic (7.00)  Poutine (7.00)  d\u00e9tention provisoire (7.00)  R\u00e9publique dominicaine (7.00)  San (7.00)  Serge Kampf (7.00)  drones (7.00)  Nadia Savtchenko (7.00)  \u00eeles grecques (7.00)  Bollor\u00e9 (7.00)  Bernard (7.00)  \u0153uvre (7.00)  Lionel Zinsou (7.00)  Bagdad (7.00)  Kurdistan (7.00)  Rousseff (7.00)  Vatican (7.00)  Projet d'attentat (7.00)  Cr\u00e9dit Mutuel (7.00)  Bardo (7.00)  Antilles (7.00)  TPE (7.00)  antiterroristes (7.00)  Beatles (7.00)  streaming (7.00)  Zapping (7.00)  mars\u2026 (7.00)  Maelbeek (7.00)  Sassou Nguesso (7.00)  Karadzic (6.00)  Val\u00e9rie P\u00e9cresse (6.00)  Mondefr (6.00)  Melbourne (6.00)  Thierry (6.00)  S\u00e9gol\u00e8ne Royal (6.00)  Schaerbeek (6.00)  Charlie Hebdo (6.00)  Onfray (6.00)  cessez-le-feu (6.00)  Raul Castro (6.00)  Patrick Kanner (6.00)  auteurs d'actes terroristes (6.00)  vice-pr\u00e9sident (6.00)  Nantes (6.00)  Kerry (6.00)  #Syrieans (6.00)  personnellement pardon aux victimes (6.00)  Cahuzac (6.00)  poids lourd (6.00)  PME (6.00)  innovants (6.00)  Erasmus (6.00)  Bayonne (6.00)  Rob Ford (6.00)  ex-Yougoslavie (6.00)  flydubai (6.00)  mandat d'arr\u00eat europ\u00e9en (6.00)  0 h (6.00)  antidopage (6.00)  Reda (6.00)  Christophe (6.00)  Yahoo (6.00)  Bernie Sanders (6.00)  contre-pied (6.00)  Elys\u00e9e (6.00)  Burundi (6.00)  Atletico Madrid (6.00)  Toronto (6.00)  soldat isra\u00e9lien (6.00)  Bercy (6.00)  est \u00e9pargn\u00e9 (6.00)  Toshiba (6.00)  Formule 1 (6.00)  Marion Mar\u00e9chal-Le Pen (6.00)  made in (6.00)  Sony (6.00)  Duba\u00ef (6.00)  OMS (6.00)  blockbuster (6.00)  Los Angeles (6.00)  investiture r\u00e9publicaine (6.00)  Jean-Marc Rouillan (6.00)  appartement perquisitionn\u00e9 (6.00)  Bayern Munich (6.00)  Carlos Ghosn (6.00)  Kamel Daoud (6.00)  Roland-Garros (6.00)  Hinkley Point (6.00)  Editorial (6.00)  PKK (6.00)  logisticien (6.00)  Zack Snyder (6.00)  Forest (6.00)  Indon\u00e9sie (6.00)  Texas (6.00)  bio (6.00)  low cost (6.00)  attentat-suicide (6.00)  YouTube (6.00)  Aur\u00e9lie Ch\u00e2telain (6.00)  t\u00e9moin assist\u00e9 (6.00)  Real Madrid (6.00)  Big (6.00)  Haye (6.00) \n"
       ]
      }
     ],
     "prompt_number": 32
    },
    {
     "cell_type": "code",
     "collapsed": false,
     "input": [],
     "language": "python",
     "metadata": {},
     "outputs": []
    }
   ],
   "metadata": {}
  }
 ]
}