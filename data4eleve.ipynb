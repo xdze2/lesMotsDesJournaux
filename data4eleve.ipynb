{
 "metadata": {
  "name": "",
  "signature": "sha256:0d31e0a9a190512651619bc397ccc210d0c855bba99a8af71c9c9c7ed210e0d0"
 },
 "nbformat": 3,
 "nbformat_minor": 0,
 "worksheets": [
  {
   "cells": [
    {
     "cell_type": "code",
     "collapsed": false,
     "input": [
      "import json\n",
      "import re"
     ],
     "language": "python",
     "metadata": {},
     "outputs": [],
     "prompt_number": 227
    },
    {
     "cell_type": "code",
     "collapsed": false,
     "input": [
      "blacklist = [u'LE SCAN SPORT', u'EN IMAGES', u'LE SCAN POLITIQUE', u'LE SCAN T\u00c9L\u00c9', u'LIRE AUSSI' ]\n",
      "blacklist.extend( [u'LE SCAN T\u00c9L\u00c9', u'LE SCAN \u00c9CO', u'LE SCAN ECO' , u\"Toute l'actualit\u00e9\", u\"Le Point\", u'INFO LE FIGARO'] )\n",
      "blacklist.extend( ['Le Monde', 'EN DIRECT', 'CARTE INTERACTIVE', 'FIGAROVOX TRIBUNE', u'VID\u00c9OS'] )\n",
      "blacklist.extend( ['MILLIONS DE DOLLARS', 'INTERVIEW', 'ENTRETIEN', u'VID\u00c9O', 'INFOGRAPHIE'] )\n",
      "blacklist.extend( ['FIGAROVOX', 'TRIBUNE', 'REPORTAGE'] )\n",
      "blacklist.extend( ['entre eux'] )"
     ],
     "language": "python",
     "metadata": {},
     "outputs": [],
     "prompt_number": 228
    },
    {
     "cell_type": "code",
     "collapsed": false,
     "input": [
      "def cleanIt( texte ):\n",
      "    #\u00a0Rq: l'ordre est important ...\n",
      "    \n",
      "    texte = texte.replace(u'\\xa0', u' ') # espace ins\u00e9cable \n",
      "    \n",
      "    # Ponctuation:\n",
      "    myRe = u'[,;:\u00ab\u00bb\"?!\\n\\r\u2026\u00a9]' # r\"[:;,.'\u00ab\u00bb?!()\\[\\]\u2026\u201d\\\"\\n\\r\\\\]+\"\n",
      "    texte = re.sub(myRe, u' ', texte)\n",
      "    \n",
      "    texte = re.sub(r'(?<![A-Z])\\.', u'', texte)  # enleve les points en gardant ceux des initiales \n",
      "    \n",
      "    texte = re.sub(r'([0-9]+)\\s([0-9]+)', r'\\1\\2', texte) # pour les chiffres 10 000->10000\n",
      "       \n",
      "    for mot in blacklist:\n",
      "         texte = texte.replace( mot, u'')\n",
      "    \n",
      "    texte = re.sub(r'\\s[.\\-]\\s', u' ', texte) \n",
      "    texte = re.sub(r'\\s', u' ', texte) #\u00a0remove tab and other strange space\n",
      "    texte = re.sub(r'\\s+', u' ', texte) #\u00a0remove double space\n",
      "        \n",
      "    return texte"
     ],
     "language": "python",
     "metadata": {},
     "outputs": [],
     "prompt_number": 229
    },
    {
     "cell_type": "code",
     "collapsed": false,
     "input": [
      "# load\n",
      "filename = './data_rss/all_title.json'\n",
      "\n",
      "alldata = json.loads(open(filename).read())\n",
      "\n",
      "print 'nombre de news: %i' % len(alldata)"
     ],
     "language": "python",
     "metadata": {},
     "outputs": [
      {
       "output_type": "stream",
       "stream": "stdout",
       "text": [
        "nombre de news: 5150\n"
       ]
      }
     ],
     "prompt_number": 230
    },
    {
     "cell_type": "code",
     "collapsed": false,
     "input": [
      "data = []\n",
      "for post in alldata:\n",
      "    \n",
      "    texte = ''\n",
      "    \n",
      "    if 'title' in post:\n",
      "        title = post['title']\n",
      "        if title:\n",
      "            texte += title\n",
      "\n",
      "    if 'description' in post:\n",
      "        description = post['description']\n",
      "        if description:\n",
      "            texte +=  ' ' + description\n",
      "            \n",
      "    if texte:\n",
      "        post['formatedtext'] = cleanIt( texte )\n",
      "        data.append( post ) \n",
      "    else:\n",
      "        print post"
     ],
     "language": "python",
     "metadata": {},
     "outputs": [
      {
       "output_type": "stream",
       "stream": "stdout",
       "text": [
        "{u'date': u'2016-03-16T01:00:00', u'source': u'lesechos', u'title': None}\n"
       ]
      }
     ],
     "prompt_number": 231
    },
    {
     "cell_type": "code",
     "collapsed": false,
     "input": [
      "print 'nbr phrases/posts: ', len( data )"
     ],
     "language": "python",
     "metadata": {},
     "outputs": [
      {
       "output_type": "stream",
       "stream": "stdout",
       "text": [
        "nbr phrases/posts:  5149\n"
       ]
      }
     ],
     "prompt_number": 232
    },
    {
     "cell_type": "code",
     "collapsed": false,
     "input": [
      "for foo in range( 10 ):\n",
      "    i =  random.randint(4500, len(data)) \n",
      "    k = data[i]\n",
      "    print '%i> '%i +k['formatedtext']"
     ],
     "language": "python",
     "metadata": {},
     "outputs": [
      {
       "output_type": "stream",
       "stream": "stdout",
       "text": [
        "4621> Le PNR un fichier europ\u00e9en pour une tra\u00e7abilit\u00e9 des passagers a\u00e9riens\n",
        "4914> L' \u00e9trangleur de Strasbourg condamn\u00e9 \u00e0 la r\u00e9clusion \u00e0 perp\u00e9tuit\u00e9 Nicolas Charbonnier jug\u00e9 \u00e0 la cour d'assises du Bas-Rhin a tu\u00e9 par strangulation une adolescente et viol\u00e9 et tent\u00e9 de tuer une fillette de 10 ans\n",
        "4822> Germanwings un an apr\u00e8s le recueillement des familles et des proches sur les lieux du drame\n",
        "4920> En Turquie les attentats nourrissent les craintes pour l'\u00e9conomie\n",
        "4607> D\u00e9c\u00e8s de l'ancien PDG et co-fondateur d'Intel Andrew Grove Il \u00e9tait consid\u00e9r\u00e9 comme une figure majeure de la Silicon Valley et il avait \u00e9t\u00e9 d\u00e9sign\u00e9 personnalit\u00e9 de l'ann\u00e9e par le magazine Time en 1997\n",
        "4865> Guerre d'Alg\u00e9rie Hollande indigne opposition et harkis en comm\u00e9morant le cessez-le-feu du 19 mars 1962\n",
        "4953> Minute de silence en m\u00e9moire des victimes des attentats de Bruxelles avant Pays-Bas-France\n",
        "4793> En Arabie saoudite la d\u00e9tresse des salari\u00e9s de la soci\u00e9t\u00e9 de Hariri\n",
        "4660> 20 mars 1720 Un cousin du R\u00e9gent assassine un sp\u00e9culateur avant d'\u00eatre condamn\u00e9 \u00e0 \u00eatre rou\u00e9 vif Dans la d\u00e8che le comte de Horn se fait voleur et assassin croyant ne rien risquer gr\u00e2ce \u00e0 sa parent\u00e9 Mauvais calcul \n",
        "4681> Manifestation \u00e0 Nantes l'IGPN saisie sur d'\u00e9ventuelles violences de la police\n"
       ]
      }
     ],
     "prompt_number": 233
    },
    {
     "cell_type": "code",
     "collapsed": false,
     "input": [
      "# -- save JSON --\n",
      "json_file = './Eleve/data4eleve.json'\n",
      "with open(json_file, 'w') as outfile:\n",
      "    json.dump(data, outfile)"
     ],
     "language": "python",
     "metadata": {},
     "outputs": [],
     "prompt_number": 234
    },
    {
     "cell_type": "code",
     "collapsed": false,
     "input": [
      "print data[0].keys()"
     ],
     "language": "python",
     "metadata": {},
     "outputs": [
      {
       "output_type": "stream",
       "stream": "stdout",
       "text": [
        "[u'date', u'source', 'formatedtext', u'description', u'title']\n"
       ]
      }
     ],
     "prompt_number": 237
    },
    {
     "cell_type": "code",
     "collapsed": false,
     "input": [],
     "language": "python",
     "metadata": {},
     "outputs": []
    }
   ],
   "metadata": {}
  }
 ]
}