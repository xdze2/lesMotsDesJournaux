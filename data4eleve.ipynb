{
 "metadata": {
  "name": "",
  "signature": "sha256:56303b3a94f46a1b7c0ce971fec8e25379b3a390366e57fc35552d63b25c5981"
 },
 "nbformat": 3,
 "nbformat_minor": 0,
 "worksheets": [
  {
   "cells": [
    {
     "cell_type": "code",
     "collapsed": false,
     "input": [
      "import json\n",
      "import re"
     ],
     "language": "python",
     "metadata": {},
     "outputs": [],
     "prompt_number": 1
    },
    {
     "cell_type": "code",
     "collapsed": false,
     "input": [
      "blacklist = [u'LE SCAN SPORT', u'EN IMAGES', u'LE SCAN POLITIQUE', u'LE SCAN T\u00c9L\u00c9', u'LIRE AUSSI' ]\n",
      "blacklist.extend( [u'LE SCAN T\u00c9L\u00c9', u'LE SCAN \u00c9CO', u'LE SCAN ECO' , u\"Toute l'actualit\u00e9\", u\"Le Point\", u'INFO LE FIGARO'] )\n",
      "blacklist.extend( ['Le Monde', 'EN DIRECT', 'CARTE INTERACTIVE', 'FIGAROVOX TRIBUNE', u'VID\u00c9OS'] )"
     ],
     "language": "python",
     "metadata": {},
     "outputs": [],
     "prompt_number": 2
    },
    {
     "cell_type": "code",
     "collapsed": false,
     "input": [
      "def cleanIt( texte ):\n",
      "    #\u00a0l'ordre est important ...\n",
      "    texte = texte.replace(u'\\xa0', u' ') # espace ins\u00e9cable \n",
      "\n",
      "    #texte = re.sub(r'([a-zA-Z]+)\\.([a-z]{2,3})', u'\\1_\\2', texte) # pour les adresses internet\n",
      "    \n",
      "    #ponctuation:\n",
      "    #myRe = r\"[:;,.'\u00ab\u00bb?!()\\[\\]\u2026\u201d\\\"\\n\\r\\\\]+\"\n",
      "    myRe = r'[,;:\u00ab\u00bb\"?!]'\n",
      "    texte = re.sub(myRe, u' ', texte)\n",
      "    \n",
      "    texte = re.sub(r'(?<![A-Z])\\.', u'', texte)  # enleve les points en gardant ceux des initiales \n",
      "    \n",
      "    texte = re.sub(r'([0-9]+)\\s([0-9]+)', r'\\1\\2', texte) # pour les chiffres 10 000->10000\n",
      "    \n",
      "    #texte = re.sub(r'[aA]ujourd.hui', u'', texte)\n",
      "    #texte = re.sub(r'[pP]prud.hom', u'', texte)\n",
      "    \n",
      "    for mot in blacklist:\n",
      "         texte = texte.replace( mot, u'')\n",
      "            \n",
      "    texte = re.sub(r'\\s', u' ', texte) #\u00a0remove tab and other strange space\n",
      "    texte = re.sub(r'\\s+', u' ', texte) #\u00a0remove double space\n",
      "        \n",
      "    return texte"
     ],
     "language": "python",
     "metadata": {},
     "outputs": [],
     "prompt_number": 3
    },
    {
     "cell_type": "code",
     "collapsed": false,
     "input": [
      "# load\n",
      "filename = './data_rss/all_title.json'\n",
      "\n",
      "alldata = json.loads(open(filename).read())"
     ],
     "language": "python",
     "metadata": {},
     "outputs": [],
     "prompt_number": 4
    },
    {
     "cell_type": "code",
     "collapsed": false,
     "input": [
      "print len(alldata)"
     ],
     "language": "python",
     "metadata": {},
     "outputs": [
      {
       "output_type": "stream",
       "stream": "stdout",
       "text": [
        "4952\n"
       ]
      }
     ],
     "prompt_number": 5
    },
    {
     "cell_type": "code",
     "collapsed": false,
     "input": [
      "data = []\n",
      "for post in alldata:\n",
      "    \n",
      "    texte = ''\n",
      "    \n",
      "    if 'title' in post:\n",
      "        title = post['title']\n",
      "        if title:\n",
      "            L = cleanIt( title )\n",
      "            texte += L\n",
      "\n",
      "    if 'description' in post:\n",
      "        description = post['description']\n",
      "        if description:\n",
      "            L = cleanIt( description )\n",
      "            texte +=  ' ' + L\n",
      "            \n",
      "    #\u00a0merge le titre et la description \n",
      "    if texte:\n",
      "        post['formatedtext'] = texte\n",
      "        data.append( post )  "
     ],
     "language": "python",
     "metadata": {},
     "outputs": [],
     "prompt_number": 6
    },
    {
     "cell_type": "code",
     "collapsed": false,
     "input": [
      "print 'nbr phrases/posts: ', len( data )"
     ],
     "language": "python",
     "metadata": {},
     "outputs": [
      {
       "output_type": "stream",
       "stream": "stdout",
       "text": [
        "nbr phrases/posts:  4951\n"
       ]
      }
     ],
     "prompt_number": 12
    },
    {
     "cell_type": "code",
     "collapsed": false,
     "input": [
      "print data[45]['formatedtext']\n",
      "print data[46]['formatedtext']"
     ],
     "language": "python",
     "metadata": {},
     "outputs": [
      {
       "output_type": "stream",
       "stream": "stdout",
       "text": [
        "Reprise des hostilit\u00e9s entre Apple et le FBI Les autorit\u00e9s f\u00e9d\u00e9rales accusent Apple de politiser le d\u00e9bat et de bloquer les enqu\u00eates en refusant d\u2019aider le FBI \u00e0 d\u00e9verrouiller un t\u00e9l\u00e9phone\n",
        "Comprendre la mission ExoMars en 3 minutes La premi\u00e8re mission du programme europ\u00e9en ExoMars s\u2019est envol\u00e9e pour la Plan\u00e8te rouge Au programme la recherche de traces de vie pass\u00e9e ou pr\u00e9sente sur Mars Voici les d\u00e9tails en 3 minutes\n"
       ]
      }
     ],
     "prompt_number": 8
    },
    {
     "cell_type": "code",
     "collapsed": false,
     "input": [
      "# save JSON\n",
      "json_file = './Eleve/data4eleve.json'\n",
      "with open(json_file, 'w') as outfile:\n",
      "    json.dump(data, outfile)"
     ],
     "language": "python",
     "metadata": {},
     "outputs": [],
     "prompt_number": 9
    },
    {
     "cell_type": "code",
     "collapsed": false,
     "input": [
      "print data[0].keys()"
     ],
     "language": "python",
     "metadata": {},
     "outputs": [
      {
       "output_type": "stream",
       "stream": "stdout",
       "text": [
        "[u'source', 'formatedtext', u'description', u'title']\n"
       ]
      }
     ],
     "prompt_number": 10
    },
    {
     "cell_type": "code",
     "collapsed": false,
     "input": [
      "data[200]['formatedtext']"
     ],
     "language": "python",
     "metadata": {},
     "outputs": [
      {
       "metadata": {},
       "output_type": "pyout",
       "prompt_number": 11,
       "text": [
        "u'Quel r\\xf4le ont jou\\xe9 les policiers fran\\xe7ais dans l\\u2019arrestation de Salah Abdeslam  Les polices belge et fran\\xe7aise \\xe9taient sur sa trace apr\\xe8s la d\\xe9couverte d\\u2019une empreinte digitale dans un appartement perquisitionn\\xe9 dans une commune de Bruxelles'"
       ]
      }
     ],
     "prompt_number": 11
    },
    {
     "cell_type": "code",
     "collapsed": false,
     "input": [],
     "language": "python",
     "metadata": {},
     "outputs": [],
     "prompt_number": 11
    }
   ],
   "metadata": {}
  }
 ]
}