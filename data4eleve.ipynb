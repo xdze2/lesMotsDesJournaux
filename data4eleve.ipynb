{
 "metadata": {
  "name": "",
  "signature": "sha256:e317c3ead9f8681c66a40d4936fdfa1b66d7a7726727a031e05abc8dfc877a35"
 },
 "nbformat": 3,
 "nbformat_minor": 0,
 "worksheets": [
  {
   "cells": [
    {
     "cell_type": "code",
     "collapsed": false,
     "input": [
      "import json\n",
      "import re"
     ],
     "language": "python",
     "metadata": {},
     "outputs": [],
     "prompt_number": 150
    },
    {
     "cell_type": "code",
     "collapsed": false,
     "input": [
      "blacklist = [u'LE SCAN SPORT', u'EN IMAGES', u'LE SCAN POLITIQUE', u'LE SCAN T\u00c9L\u00c9', u'LIRE AUSSI' ]\n",
      "blacklist.extend( [u'LE SCAN T\u00c9L\u00c9', u'LE SCAN \u00c9CO', u'LE SCAN ECO' , u\"Toute l'actualit\u00e9\", u\"Le Point\", u'INFO LE FIGARO'] )\n",
      "blacklist.extend( ['Le Monde'] )"
     ],
     "language": "python",
     "metadata": {},
     "outputs": [],
     "prompt_number": 151
    },
    {
     "cell_type": "code",
     "collapsed": false,
     "input": [
      "def cleanAndSplit( texte ):\n",
      "    #texte = texte.lower()\n",
      "    texte = re.sub(r'([0-9]+) ([0-9+])', u'\\1\\2', texte) # pour les chiffres 10 000->10000\n",
      "    texte = re.sub(r'([a-zA-Z]+)\\.([a-z]{2,3})', u'\\1_\\2', texte) # pour les adresses internet\n",
      "\n",
      "    #myRe = r\"[:;,.'\u00ab\u00bb?!()\\[\\]\u2026\u201d\\\"\\n\\r\\\\]+\"\n",
      "    myRe = r'[,\u00ab\u00bb\"?]'\n",
      "    texte = re.sub(myRe, u' ', texte)\n",
      "    \n",
      "    texte = re.sub(r'(?<![A-Z])\\.', u'', texte)  # enleve les points en gardant ceux des initiales \n",
      "    \n",
      "    #texte = texte.replace(u'\\xa0', u' ')\n",
      "    #texte = texte.replace(u'-', u' ')\n",
      "    \n",
      "    #texte = re.sub(r'[aA]ujourd.hui', u'', texte)\n",
      "    #texte = re.sub(r'[pP]prud.hom', u'', texte)\n",
      "    \n",
      "    for mot in blacklist:\n",
      "         texte = texte.replace( mot, u'')\n",
      "            \n",
      "    texte = re.sub(r'\\s', u' ', texte)    \n",
      "    L = texte.split(' ') \n",
      "            \n",
      "    while '' in L: L.remove('')\n",
      "        \n",
      "    return L"
     ],
     "language": "python",
     "metadata": {},
     "outputs": [],
     "prompt_number": 152
    },
    {
     "cell_type": "code",
     "collapsed": false,
     "input": [
      "# load\n",
      "filename = './data_rss/all_title.json'\n",
      "\n",
      "alldata = json.loads(open(filename).read())"
     ],
     "language": "python",
     "metadata": {},
     "outputs": [],
     "prompt_number": 153
    },
    {
     "cell_type": "code",
     "collapsed": false,
     "input": [
      "print len(alldata)"
     ],
     "language": "python",
     "metadata": {},
     "outputs": [
      {
       "output_type": "stream",
       "stream": "stdout",
       "text": [
        "3831\n"
       ]
      }
     ],
     "prompt_number": 154
    },
    {
     "cell_type": "code",
     "collapsed": false,
     "input": [
      "data = []\n",
      "for post in alldata:\n",
      "    \n",
      "    if title in post:\n",
      "        title = post['title']\n",
      "        L = cleanAndSplit( title )\n",
      "        data.append( L )\n",
      "\n",
      "    if 'description' in post:\n",
      "        description = post['description']\n",
      "        if description:\n",
      "            L = cleanAndSplit( description )\n",
      "            data.append( L )\n",
      "    #except:\n",
      "    #    print \"Unexpected error:\", sys.exc_info()[0]\n"
     ],
     "language": "python",
     "metadata": {},
     "outputs": [],
     "prompt_number": 155
    },
    {
     "cell_type": "code",
     "collapsed": false,
     "input": [
      "print 'nbr phrases: ', len( data )\n",
      "\n",
      "n = 0\n",
      "for p in data:\n",
      "    n += len( p )\n",
      "print 'nbrs de mots: %i'% n"
     ],
     "language": "python",
     "metadata": {},
     "outputs": [
      {
       "output_type": "stream",
       "stream": "stdout",
       "text": [
        "nbr phrases:  2829\n",
        "nbrs de mots: 79230\n"
       ]
      }
     ],
     "prompt_number": 156
    },
    {
     "cell_type": "code",
     "collapsed": false,
     "input": [
      "print ' '.join( data[49] )"
     ],
     "language": "python",
     "metadata": {},
     "outputs": [
      {
       "output_type": "stream",
       "stream": "stdout",
       "text": [
        "L\u2019information judiciaire a \u00e9t\u00e9 requalifi\u00e9e en homicide involontaire\u00a0 R\u00e9mi Fraisse est mort le 26 octobre 2014 sur le site du barrage de Sivens\n"
       ]
      }
     ],
     "prompt_number": 157
    },
    {
     "cell_type": "code",
     "collapsed": false,
     "input": [
      "# save JSON\n",
      "json_file = './Eleve/data4eleve.json'\n",
      "with open(json_file, 'w') as outfile:\n",
      "    json.dump(data, outfile)"
     ],
     "language": "python",
     "metadata": {},
     "outputs": [],
     "prompt_number": 158
    },
    {
     "cell_type": "code",
     "collapsed": false,
     "input": [],
     "language": "python",
     "metadata": {},
     "outputs": [],
     "prompt_number": 158
    }
   ],
   "metadata": {}
  }
 ]
}