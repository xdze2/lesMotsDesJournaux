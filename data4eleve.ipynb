{
 "metadata": {
  "name": "",
  "signature": "sha256:a45b086eab60658659c55d74d863733e6be650558c176779cbaf517d98dd2bde"
 },
 "nbformat": 3,
 "nbformat_minor": 0,
 "worksheets": [
  {
   "cells": [
    {
     "cell_type": "code",
     "collapsed": false,
     "input": [
      "import json\n",
      "import re"
     ],
     "language": "python",
     "metadata": {},
     "outputs": [],
     "prompt_number": 364
    },
    {
     "cell_type": "code",
     "collapsed": false,
     "input": [
      "blacklist = [u'LE SCAN SPORT', u'EN IMAGES', u'LE SCAN POLITIQUE', u'LE SCAN T\u00c9L\u00c9', u'LIRE AUSSI' ]\n",
      "blacklist.extend( [u'LE SCAN T\u00c9L\u00c9', u'LE SCAN \u00c9CO', u'LE SCAN ECO' , u\"Toute l'actualit\u00e9\", u\"Le Point\", u'INFO LE FIGARO'] )\n",
      "blacklist.extend( ['Le Monde', 'EN DIRECT', 'CARTE INTERACTIVE', 'FIGAROVOX TRIBUNE', u'VID\u00c9OS'] )"
     ],
     "language": "python",
     "metadata": {},
     "outputs": [],
     "prompt_number": 365
    },
    {
     "cell_type": "code",
     "collapsed": false,
     "input": [
      "def cleanIt( texte ):\n",
      "    #\u00a0l'ordre est important ...\n",
      "    texte = texte.replace(u'\\xa0', u' ') # espace ins\u00e9cable \n",
      "\n",
      "    #texte = re.sub(r'([a-zA-Z]+)\\.([a-z]{2,3})', u'\\1_\\2', texte) # pour les adresses internet\n",
      "    \n",
      "    #ponctuation:\n",
      "    #myRe = r\"[:;,.'\u00ab\u00bb?!()\\[\\]\u2026\u201d\\\"\\n\\r\\\\]+\"\n",
      "    myRe = r'[,;:\u00ab\u00bb\"?!]'\n",
      "    texte = re.sub(myRe, u' ', texte)\n",
      "    \n",
      "    texte = re.sub(r'(?<![A-Z])\\.', u'', texte)  # enleve les points en gardant ceux des initiales \n",
      "    \n",
      "    texte = re.sub(r'([0-9]+)\\s([0-9]+)', r'\\1\\2', texte) # pour les chiffres 10 000->10000\n",
      "    \n",
      "    #texte = re.sub(r'[aA]ujourd.hui', u'', texte)\n",
      "    #texte = re.sub(r'[pP]prud.hom', u'', texte)\n",
      "    \n",
      "    for mot in blacklist:\n",
      "         texte = texte.replace( mot, u'')\n",
      "            \n",
      "    texte = re.sub(r'\\s', u' ', texte) #\u00a0remove tab and other strange space\n",
      "    texte = re.sub(r'\\s+', u' ', texte) #\u00a0remove double space\n",
      "        \n",
      "    return texte"
     ],
     "language": "python",
     "metadata": {},
     "outputs": [],
     "prompt_number": 366
    },
    {
     "cell_type": "code",
     "collapsed": false,
     "input": [
      "# load\n",
      "filename = './data_rss/all_title.json'\n",
      "\n",
      "alldata = json.loads(open(filename).read())"
     ],
     "language": "python",
     "metadata": {},
     "outputs": [],
     "prompt_number": 367
    },
    {
     "cell_type": "code",
     "collapsed": false,
     "input": [
      "print len(alldata)"
     ],
     "language": "python",
     "metadata": {},
     "outputs": [
      {
       "output_type": "stream",
       "stream": "stdout",
       "text": [
        "4100\n"
       ]
      }
     ],
     "prompt_number": 368
    },
    {
     "cell_type": "code",
     "collapsed": false,
     "input": [
      "data = []\n",
      "for post in alldata:\n",
      "    \n",
      "    texte = ''\n",
      "    \n",
      "    if 'title' in post:\n",
      "        title = post['title']\n",
      "        if title:\n",
      "            L = cleanIt( title )\n",
      "            texte += L\n",
      "\n",
      "    if 'description' in post:\n",
      "        description = post['description']\n",
      "        if description:\n",
      "            L = cleanIt( description )\n",
      "            texte +=  ' ' + L\n",
      "            \n",
      "    #\u00a0merge le titre et la description \n",
      "    if texte:\n",
      "        post['formatedtext'] = texte\n",
      "        data.append( post )  "
     ],
     "language": "python",
     "metadata": {},
     "outputs": [],
     "prompt_number": 369
    },
    {
     "cell_type": "code",
     "collapsed": false,
     "input": [
      "print 'nbr phrases/posts: ', len( data )\n"
     ],
     "language": "python",
     "metadata": {},
     "outputs": [
      {
       "output_type": "stream",
       "stream": "stdout",
       "text": [
        "nbr phrases/posts:  4099\n"
       ]
      }
     ],
     "prompt_number": 370
    },
    {
     "cell_type": "code",
     "collapsed": false,
     "input": [
      "print data[45]['formatedtext']\n",
      "print data[46]['formatedtext']"
     ],
     "language": "python",
     "metadata": {},
     "outputs": [
      {
       "output_type": "stream",
       "stream": "stdout",
       "text": [
        "Le ch\u00f4mage repart fortement \u00e0 la hausse en f\u00e9vrier Le nombre de demandeurs d\u2019emplois sans aucune activit\u00e9 s\u2019est accru de 38400 en m\u00e9tropole soit la plus forte augmentation depuis septembre 2013\n",
        "A Strasbourg condamnation \u00e0 perp\u00e9tuit\u00e9 pour meurtre et viols de mineures Nicolas Charbonnier 53 ans \u00e9tait jug\u00e9 pour avoir viol\u00e9 et tent\u00e9 de tuer une fillette de 10 ans et pour le viol suivi du meurtre par strangulation d\u2019une jeune fille de 17 ans\n"
       ]
      }
     ],
     "prompt_number": 371
    },
    {
     "cell_type": "code",
     "collapsed": false,
     "input": [
      "# save JSON\n",
      "json_file = './Eleve/data4eleve.json'\n",
      "with open(json_file, 'w') as outfile:\n",
      "    json.dump(data, outfile)"
     ],
     "language": "python",
     "metadata": {},
     "outputs": [],
     "prompt_number": 372
    },
    {
     "cell_type": "code",
     "collapsed": false,
     "input": [
      "print data[0].keys()"
     ],
     "language": "python",
     "metadata": {},
     "outputs": [
      {
       "output_type": "stream",
       "stream": "stdout",
       "text": [
        "[u'source', 'formatedtext', u'description', u'title']\n"
       ]
      }
     ],
     "prompt_number": 373
    },
    {
     "cell_type": "code",
     "collapsed": false,
     "input": [
      "data[200]['formatedtext']"
     ],
     "language": "python",
     "metadata": {},
     "outputs": [
      {
       "metadata": {},
       "output_type": "pyout",
       "prompt_number": 377,
       "text": [
        "u'La France a accueilli 10000 Syriens depuis 2011 sur les 5 millions qui ont fui leur pays En dehors des dispositifs mis en place par le gouvernement il y a aussi tous ceux qui ont gagn\\xe9 le territoire fran\\xe7ais par leurs propres moyens l\\xe9gaux ou ill\\xe9gaux Tour d\\u2019horizon des principaux dispositifs mis en place'"
       ]
      }
     ],
     "prompt_number": 377
    },
    {
     "cell_type": "code",
     "collapsed": false,
     "input": [],
     "language": "python",
     "metadata": {},
     "outputs": [],
     "prompt_number": 373
    }
   ],
   "metadata": {}
  }
 ]
}