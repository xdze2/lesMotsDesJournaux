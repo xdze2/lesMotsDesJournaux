{
 "metadata": {
  "name": "",
  "signature": "sha256:2fa99b7852034ba294b048327c7aca6ff0b33824642a3aa7f39d4ab4f88d896a"
 },
 "nbformat": 3,
 "nbformat_minor": 0,
 "worksheets": [
  {
   "cells": [
    {
     "cell_type": "code",
     "collapsed": false,
     "input": [
      "import json\n",
      "import re"
     ],
     "language": "python",
     "metadata": {},
     "outputs": [],
     "prompt_number": 52
    },
    {
     "cell_type": "code",
     "collapsed": false,
     "input": [
      "from HTMLParser import HTMLParser\n",
      "\n",
      "class MLStripper(HTMLParser):\n",
      "    def __init__(self):\n",
      "        self.reset()\n",
      "        self.fed = []\n",
      "    def handle_data(self, d):\n",
      "        self.fed.append(d)\n",
      "    def get_data(self):\n",
      "        return ''.join(self.fed)\n",
      "\n",
      "def strip_tags(html):\n",
      "    s = MLStripper()\n",
      "    s.feed(html)\n",
      "    return s.get_data()"
     ],
     "language": "python",
     "metadata": {},
     "outputs": [],
     "prompt_number": 53
    },
    {
     "cell_type": "code",
     "collapsed": false,
     "input": [
      "def cleanAndSplit( texte ):\n",
      "    #texte = texte.lower()\n",
      "    texte = re.sub(r'([0-9]+) ([0-9+])', r'\\1\\2', texte) # pour les chiffres 10 000->10000\n",
      "    texte = re.sub(r'([a-zA-Z]+)\\.([a-z]{2,3})', r'\\1_\\2', texte) # pour les chiffres 10 000->10000\n",
      "\n",
      "    myRe = u\"[:',.\u00ab\u00bb?! ()\\[\\]\u2026\u201d\\\"]+\"\n",
      "    texte = re.sub(myRe, u' ', texte)\n",
      "    texte = texte.replace(u'\\xa0', u' ')\n",
      "    #texte = texte.replace(u'-', u' ')\n",
      "    L = texte.split(' ') \n",
      "            \n",
      "    while '' in L: L.remove('')\n",
      "        \n",
      "    return L"
     ],
     "language": "python",
     "metadata": {},
     "outputs": [],
     "prompt_number": 54
    },
    {
     "cell_type": "code",
     "collapsed": false,
     "input": [
      "# load\n",
      "filename = './data_rss/rss_save_leMonde.json'\n",
      "\n",
      "loaded_data = json.loads(open(filename).read())\n",
      "print 'nbr articles: ', len( loaded_data )\n",
      "\n",
      "# Work with DATE\n",
      "from datetime import datetime\n",
      "\n",
      "def jour_de_la_semaine(i):\n",
      "    d = ['lundi', 'mardi', 'mercredi', 'jeudi', 'vendredi', 'samedi', 'dimanche']\n",
      "    return d[i]\n",
      "    \n",
      "for k, post in loaded_data.iteritems():\n",
      "    txt_date = post['pubDate']\n",
      "    txt_date = txt_date.replace(u'GMT', u'')\n",
      "    txt_date = re.sub('\\+[0-9]{4}', u'', txt_date) # !! not the real hour ..\n",
      "    txt_date = re.sub(r'\\s+$', '', txt_date)\n",
      "    \n",
      "    date = datetime.strptime(txt_date, '%a,  %d %b %Y %H:%M:%S')\n",
      "    loaded_data[k]['date'] = date"
     ],
     "language": "python",
     "metadata": {},
     "outputs": [
      {
       "output_type": "stream",
       "stream": "stdout",
       "text": [
        "nbr articles:  654\n"
       ]
      }
     ],
     "prompt_number": 55
    },
    {
     "cell_type": "code",
     "collapsed": false,
     "input": [
      "data = []\n",
      "for post in loaded_data.itervalues():\n",
      "    title = post['title']\n",
      "    L = cleanAndSplit( title )\n",
      "    data.append( L )\n",
      "        \n",
      "    description = post['description']\n",
      "    if description:\n",
      "        description = strip_tags( description )\n",
      "        L = cleanAndSplit( description )\n",
      "        data.append( L )\n",
      "\n",
      "print 'nbr phrases: ', len( data )"
     ],
     "language": "python",
     "metadata": {},
     "outputs": [
      {
       "output_type": "stream",
       "stream": "stdout",
       "text": [
        "nbr phrases:  1308\n"
       ]
      }
     ],
     "prompt_number": 56
    },
    {
     "cell_type": "code",
     "collapsed": false,
     "input": [
      "print data[34]"
     ],
     "language": "python",
     "metadata": {},
     "outputs": [
      {
       "output_type": "stream",
       "stream": "stdout",
       "text": [
        "[u'D\\xe9faite', u'humaine', u'au', u'jeu', u'de', u'go', u'Les', u'ordinateurs', u'ne', u'd\\xe9rapent', u'pas', u'explique', u'Garry', u'Kasparov']\n"
       ]
      }
     ],
     "prompt_number": 57
    },
    {
     "cell_type": "code",
     "collapsed": false,
     "input": [
      "# save JSON\n",
      "json_file = './Eleve/data4eleve.json'\n",
      "with open(json_file, 'w') as outfile:\n",
      "    json.dump(data, outfile)"
     ],
     "language": "python",
     "metadata": {},
     "outputs": [],
     "prompt_number": 58
    },
    {
     "cell_type": "code",
     "collapsed": false,
     "input": [],
     "language": "python",
     "metadata": {},
     "outputs": [],
     "prompt_number": 58
    }
   ],
   "metadata": {}
  }
 ]
}