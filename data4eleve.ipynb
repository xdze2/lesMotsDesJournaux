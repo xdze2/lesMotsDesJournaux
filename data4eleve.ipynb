{
 "metadata": {
  "name": "",
  "signature": "sha256:168c3cefabe979cff0f74f4ae0ecc056e436d6f8640f4af9b745d22916fc462a"
 },
 "nbformat": 3,
 "nbformat_minor": 0,
 "worksheets": [
  {
   "cells": [
    {
     "cell_type": "code",
     "collapsed": false,
     "input": [
      "import json\n",
      "import re"
     ],
     "language": "python",
     "metadata": {},
     "outputs": [],
     "prompt_number": 77
    },
    {
     "cell_type": "code",
     "collapsed": false,
     "input": [
      "def cleanAndSplit( texte ):\n",
      "    #texte = texte.lower()\n",
      "    texte = re.sub(r'([0-9]+) ([0-9+])', r'\\1\\2', texte) # pour les chiffres 10 000->10000\n",
      "    texte = re.sub(r'([a-zA-Z]+)\\.([a-z]{2,3})', r'\\1_\\2', texte) # pour les chiffres 10 000->10000\n",
      "\n",
      "    myRe = u\"[:',.\u00ab\u00bb?! ()\\[\\]\u2026\u201d\\\"\\n\\r]+\"\n",
      "    texte = re.sub(myRe, u' ', texte)\n",
      "    texte = texte.replace(u'\\xa0', u' ')\n",
      "    #texte = texte.replace(u'-', u' ')\n",
      "    L = texte.split(' ') \n",
      "            \n",
      "    while '' in L: L.remove('')\n",
      "        \n",
      "    return L"
     ],
     "language": "python",
     "metadata": {},
     "outputs": [],
     "prompt_number": 86
    },
    {
     "cell_type": "code",
     "collapsed": false,
     "input": [
      "# load\n",
      "filename = './data_rss/all_title.json'\n",
      "\n",
      "alldata = json.loads(open(filename).read())"
     ],
     "language": "python",
     "metadata": {},
     "outputs": [],
     "prompt_number": 87
    },
    {
     "cell_type": "code",
     "collapsed": false,
     "input": [
      "print len(alldata)"
     ],
     "language": "python",
     "metadata": {},
     "outputs": [
      {
       "output_type": "stream",
       "stream": "stdout",
       "text": [
        "2593\n"
       ]
      }
     ],
     "prompt_number": 88
    },
    {
     "cell_type": "code",
     "collapsed": false,
     "input": [
      "data = []\n",
      "for post in alldata:\n",
      "    try:\n",
      "        title = post['title']\n",
      "        L = cleanAndSplit( title )\n",
      "        data.append( L )\n",
      "\n",
      "        if 'description' in post:\n",
      "            description = post['description']\n",
      "            if description:\n",
      "                description = strip_tags( description )\n",
      "                L = cleanAndSplit( description )\n",
      "                data.append( L )\n",
      "    except:\n",
      "        print post\n",
      "        \n",
      "print 'nbr phrases: ', len( data )\n",
      "\n",
      "n = 0\n",
      "for p in data:\n",
      "    n += len( p )\n",
      "print 'nbrs de mots %i'% n"
     ],
     "language": "python",
     "metadata": {},
     "outputs": [
      {
       "output_type": "stream",
       "stream": "stdout",
       "text": [
        "{u'title': None}\n",
        "nbr phrases: "
       ]
      },
      {
       "output_type": "stream",
       "stream": "stdout",
       "text": [
        " 4523\n",
        "nbrs de mots 81387\n"
       ]
      }
     ],
     "prompt_number": 89
    },
    {
     "cell_type": "code",
     "collapsed": false,
     "input": [
      "print data[34]"
     ],
     "language": "python",
     "metadata": {},
     "outputs": [
      {
       "output_type": "stream",
       "stream": "stdout",
       "text": [
        "[u'LCL', u'ferme', u'250', u'agences', u'et', u'supprimerait', u'350', u'\\xe0', u'400', u'emplois', u'en', u'quatre', u'ans']\n"
       ]
      }
     ],
     "prompt_number": 90
    },
    {
     "cell_type": "code",
     "collapsed": false,
     "input": [
      "# save JSON\n",
      "json_file = './Eleve/data4eleve.json'\n",
      "with open(json_file, 'w') as outfile:\n",
      "    json.dump(data, outfile)"
     ],
     "language": "python",
     "metadata": {},
     "outputs": [],
     "prompt_number": 91
    },
    {
     "cell_type": "code",
     "collapsed": false,
     "input": [],
     "language": "python",
     "metadata": {},
     "outputs": [],
     "prompt_number": 58
    }
   ],
   "metadata": {}
  }
 ]
}