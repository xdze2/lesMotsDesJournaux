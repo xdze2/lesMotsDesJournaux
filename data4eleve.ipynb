{
 "metadata": {
  "name": "",
  "signature": "sha256:c713a77e0b496ce2bdbe4a22baad8a8aa087c06922aba4ab0aa204786329ce0f"
 },
 "nbformat": 3,
 "nbformat_minor": 0,
 "worksheets": [
  {
   "cells": [
    {
     "cell_type": "code",
     "collapsed": false,
     "input": [
      "import json\n",
      "import re"
     ],
     "language": "python",
     "metadata": {},
     "outputs": [],
     "prompt_number": 254
    },
    {
     "cell_type": "code",
     "collapsed": false,
     "input": [
      "blacklist = [u'LE SCAN SPORT', u'EN IMAGES', u'LE SCAN POLITIQUE', u'LE SCAN T\u00c9L\u00c9', u'LIRE AUSSI' ]\n",
      "blacklist.extend( [u'LE SCAN T\u00c9L\u00c9', u'LE SCAN \u00c9CO', u'LE SCAN ECO' , u\"Toute l'actualit\u00e9\", u\"Le Point\", u'INFO LE FIGARO'] )\n",
      "blacklist.extend( ['Le Monde', 'EN DIRECT'] )"
     ],
     "language": "python",
     "metadata": {},
     "outputs": [],
     "prompt_number": 255
    },
    {
     "cell_type": "code",
     "collapsed": false,
     "input": [
      "def cleanIt( texte ):\n",
      "    texte = texte.replace(u'\\xa0', u' ') # espace ins\u00e9cable ?\n",
      "    #texte = texte.lower()\n",
      "    texte = re.sub(r'([0-9]+)\\s([0-9]+)', '\\1\\2', texte) # pour les chiffres 10 000->10000\n",
      "    #texte = re.sub(r'([a-zA-Z]+)\\.([a-z]{2,3})', u'\\1_\\2', texte) # pour les adresses internet\n",
      "    \n",
      "    #ponctuation:\n",
      "    #myRe = r\"[:;,.'\u00ab\u00bb?!()\\[\\]\u2026\u201d\\\"\\n\\r\\\\]+\"\n",
      "    myRe = r'[,;:\u00ab\u00bb\"?!]'\n",
      "    texte = re.sub(myRe, u' ', texte)\n",
      "    \n",
      "    texte = re.sub(r'(?<![A-Z])\\.', u'', texte)  # enleve les points en gardant ceux des initiales \n",
      "    \n",
      "\n",
      "    #texte = texte.replace(u'-', u' ')\n",
      "    \n",
      "    #texte = re.sub(r'[aA]ujourd.hui', u'', texte)\n",
      "    #texte = re.sub(r'[pP]prud.hom', u'', texte)\n",
      "    \n",
      "    for mot in blacklist:\n",
      "         texte = texte.replace( mot, u'')\n",
      "            \n",
      "    texte = re.sub(r'\\s', u' ', texte) #\u00a0remove tab and other strange space\n",
      "    texte = re.sub(r'\\s+', u' ', texte) #\u00a0remove double space\n",
      "    \n",
      "    #L = texte.split(' ')         \n",
      "    #while '' in L: L.remove('')\n",
      "    #while ' ' in L: L.remove(' ')\n",
      "        \n",
      "    return texte"
     ],
     "language": "python",
     "metadata": {},
     "outputs": [],
     "prompt_number": 256
    },
    {
     "cell_type": "code",
     "collapsed": false,
     "input": [
      "# load\n",
      "filename = './data_rss/all_title.json'\n",
      "\n",
      "alldata = json.loads(open(filename).read())"
     ],
     "language": "python",
     "metadata": {},
     "outputs": [],
     "prompt_number": 257
    },
    {
     "cell_type": "code",
     "collapsed": false,
     "input": [
      "print len(alldata)"
     ],
     "language": "python",
     "metadata": {},
     "outputs": [
      {
       "output_type": "stream",
       "stream": "stdout",
       "text": [
        "3982\n"
       ]
      }
     ],
     "prompt_number": 258
    },
    {
     "cell_type": "code",
     "collapsed": false,
     "input": [
      "data = []\n",
      "for post in alldata:\n",
      "    \n",
      "    texte = ''\n",
      "    \n",
      "    if 'title' in post:\n",
      "        title = post['title']\n",
      "        if title:\n",
      "            L = cleanIt( title )\n",
      "            texte += L\n",
      "\n",
      "    if 'description' in post:\n",
      "        description = post['description']\n",
      "        if description:\n",
      "            L = cleanIt( description )\n",
      "            texte +=  ' ' + L\n",
      "            \n",
      "    #\u00a0merge le titre et la description \n",
      "    if texte:\n",
      "        data.append( texte )\n"
     ],
     "language": "python",
     "metadata": {},
     "outputs": [],
     "prompt_number": 259
    },
    {
     "cell_type": "code",
     "collapsed": false,
     "input": [
      "print 'nbr phrases: ', len( data )\n",
      "\n",
      "n = 0\n",
      "for p in data:\n",
      "    n += len( p.split(' ') )\n",
      "print 'nbrs de mots: %i'% n"
     ],
     "language": "python",
     "metadata": {},
     "outputs": [
      {
       "output_type": "stream",
       "stream": "stdout",
       "text": [
        "nbr phrases:  3981\n",
        "nbrs de mots: 122716\n"
       ]
      }
     ],
     "prompt_number": 260
    },
    {
     "cell_type": "code",
     "collapsed": false,
     "input": [
      "print data[45]\n",
      "print data[46]"
     ],
     "language": "python",
     "metadata": {},
     "outputs": [
      {
       "output_type": "stream",
       "stream": "stdout",
       "text": [
        "Au moins quatre morts dans un attentat-suicide dans le centre d\u2019Istanbul Une explosion a eu lieu samedi matin sur la grande rue pi\u00e9tonne Istiklal une art\u00e8re tr\u00e8s fr\u00e9quent\u00e9e de la principale ville de Turquie\n",
        "Barack Obama choisit le juge Merrick Garland pour la Cour supr\u00eame Le pr\u00e9sident am\u00e9ricain s\u2019engage dans un bras de fer avec le S\u00e9nat les r\u00e9publicains qui y sont majoritaires ont d\u00e9j\u00e0 promis de s\u2019opposer \u00e0 toute nomination\n"
       ]
      }
     ],
     "prompt_number": 261
    },
    {
     "cell_type": "code",
     "collapsed": false,
     "input": [
      "# save JSON\n",
      "json_file = './Eleve/data4eleve.json'\n",
      "with open(json_file, 'w') as outfile:\n",
      "    json.dump(data, outfile)"
     ],
     "language": "python",
     "metadata": {},
     "outputs": [],
     "prompt_number": 262
    },
    {
     "cell_type": "code",
     "collapsed": false,
     "input": [
      "print data[0]"
     ],
     "language": "python",
     "metadata": {},
     "outputs": [
      {
       "output_type": "stream",
       "stream": "stdout",
       "text": [
        "L\u2019\u00e9pilation d\u00e9finitive chasse bien gard\u00e9e des m\u00e9decins Le tribunal correctionnel de Paris a condamn\u00e9 mardi des enseignes de soins esth\u00e9tiques \u00e0 des amendes allant jusqu\u2019\u00e0 \u0001\u0002 euros pour exercice ill\u00e9gal de la m\u00e9decine ou complicit\u00e9\n"
       ]
      }
     ],
     "prompt_number": 263
    },
    {
     "cell_type": "code",
     "collapsed": false,
     "input": [],
     "language": "python",
     "metadata": {},
     "outputs": []
    }
   ],
   "metadata": {}
  }
 ]
}