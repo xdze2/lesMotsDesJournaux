{
 "metadata": {
  "name": "",
  "signature": "sha256:a39e52a0265e84d72ba0d8591c0b647c27377572a61cc9a15d8d1bb99c7d9de6"
 },
 "nbformat": 3,
 "nbformat_minor": 0,
 "worksheets": [
  {
   "cells": [
    {
     "cell_type": "code",
     "collapsed": false,
     "input": [
      "import json\n",
      "import re"
     ],
     "language": "python",
     "metadata": {},
     "outputs": [],
     "prompt_number": 153
    },
    {
     "cell_type": "code",
     "collapsed": false,
     "input": [
      "blacklist = [u'LE SCAN SPORT', u'EN IMAGES', u'LE SCAN POLITIQUE', u'LE SCAN T\u00c9L\u00c9', u'LIRE AUSSI' ]\n",
      "blacklist.extend( [u'LE SCAN T\u00c9L\u00c9', u'LE SCAN \u00c9CO', u'LE SCAN ECO' , u\"Toute l'actualit\u00e9\", u\"Le Point\", u'INFO LE FIGARO'] )\n",
      "blacklist.extend( ['Le Monde', 'EN DIRECT', 'CARTE INTERACTIVE', 'FIGAROVOX TRIBUNE', u'VID\u00c9OS'] )\n",
      "blacklist.extend( ['MILLIONS DE DOLLARS', 'INTERVIEW', 'ENTRETIEN', u'VID\u00c9O', 'INFOGRAPHIE'] )"
     ],
     "language": "python",
     "metadata": {},
     "outputs": [],
     "prompt_number": 204
    },
    {
     "cell_type": "code",
     "collapsed": false,
     "input": [
      "def cleanIt( texte ):\n",
      "    #\u00a0Rq: l'ordre est important ...\n",
      "    \n",
      "    texte = texte.replace(u'\\xa0', u' ') # espace ins\u00e9cable \n",
      "    \n",
      "    # Ponctuation:\n",
      "    myRe = u'[,;:\u00ab\u00bb\"?!\\n\\r\u2026\u00a9]' # r\"[:;,.'\u00ab\u00bb?!()\\[\\]\u2026\u201d\\\"\\n\\r\\\\]+\"\n",
      "    texte = re.sub(myRe, u' ', texte)\n",
      "    \n",
      "    texte = re.sub(r'(?<![A-Z])\\.', u'', texte)  # enleve les points en gardant ceux des initiales \n",
      "    \n",
      "    texte = re.sub(r'([0-9]+)\\s([0-9]+)', r'\\1\\2', texte) # pour les chiffres 10 000->10000\n",
      "       \n",
      "    for mot in blacklist:\n",
      "         texte = texte.replace( mot, u'')\n",
      "    \n",
      "    texte = re.sub(r'\\s[.\\-]\\s', u' ', texte) \n",
      "    texte = re.sub(r'\\s', u' ', texte) #\u00a0remove tab and other strange space\n",
      "    texte = re.sub(r'\\s+', u' ', texte) #\u00a0remove double space\n",
      "        \n",
      "    return texte"
     ],
     "language": "python",
     "metadata": {},
     "outputs": [],
     "prompt_number": 196
    },
    {
     "cell_type": "code",
     "collapsed": false,
     "input": [
      "# load\n",
      "filename = './data_rss/all_title.json'\n",
      "\n",
      "alldata = json.loads(open(filename).read())\n",
      "\n",
      "print 'nombre de news: %i' % len(alldata)"
     ],
     "language": "python",
     "metadata": {},
     "outputs": [
      {
       "output_type": "stream",
       "stream": "stdout",
       "text": [
        "nombre de news: 5105\n"
       ]
      }
     ],
     "prompt_number": 197
    },
    {
     "cell_type": "code",
     "collapsed": false,
     "input": [
      "data = []\n",
      "for post in alldata:\n",
      "    \n",
      "    texte = ''\n",
      "    \n",
      "    if 'title' in post:\n",
      "        title = post['title']\n",
      "        if title:\n",
      "            texte += title\n",
      "\n",
      "    if 'description' in post:\n",
      "        description = post['description']\n",
      "        if description:\n",
      "            texte +=  ' ' + description\n",
      "            \n",
      "    if texte:\n",
      "        post['formatedtext'] = cleanIt( texte )\n",
      "        data.append( post ) \n",
      "    else:\n",
      "        print post"
     ],
     "language": "python",
     "metadata": {},
     "outputs": [
      {
       "output_type": "stream",
       "stream": "stdout",
       "text": [
        "{u'date': u'2016-03-16T01:00:00', u'source': u'lesechos', u'title': None}\n"
       ]
      }
     ],
     "prompt_number": 198
    },
    {
     "cell_type": "code",
     "collapsed": false,
     "input": [
      "print 'nbr phrases/posts: ', len( data )"
     ],
     "language": "python",
     "metadata": {},
     "outputs": [
      {
       "output_type": "stream",
       "stream": "stdout",
       "text": [
        "nbr phrases/posts:  5104\n"
       ]
      }
     ],
     "prompt_number": 199
    },
    {
     "cell_type": "code",
     "collapsed": false,
     "input": [
      "for foo in range( 10 ):\n",
      "    i =  random.randint(4500, len(data)) \n",
      "    k = data[i]\n",
      "    print '%i> '%i +k['formatedtext']"
     ],
     "language": "python",
     "metadata": {},
     "outputs": [
      {
       "output_type": "stream",
       "stream": "stdout",
       "text": [
        "4672> L'\u00e9tat d'urgence en Tunisie prolong\u00e9 de trois mois Le dispositif avait \u00e9t\u00e9 instaur\u00e9 apr\u00e8s l'attentat-suicide perp\u00e9tr\u00e9 le 24 novembre contre un bus de la s\u00e9curit\u00e9 pr\u00e9sidentielle en pleine capitale\n",
        "4931> L'hommage des politiques et historiens \u00e0 Alain Decaux griot de l'Histoire \n",
        "4529> Attentats de Bruxelles la marche contre la peur annul\u00e9e Plus t\u00f4t dans l'apr\u00e8s-midi les autorit\u00e9s belges avaient appel\u00e9 la population \u00e0 ne pas y participer dimanche \u00e0 Bruxelles pour des raisons de s\u00e9curit\u00e9\n",
        "4951>  Fluctuat Nec Mergitur le caf\u00e9 amarr\u00e9 place de la R\u00e9publique a rouvert\n",
        "4787> Mozambique les d\u00e9bris trouv\u00e9s presque certainement issus du MH370 Les circonstances et le lieu de la disparition de l'appareil de la Malaysia Airlines le 8 mars 2014 peu apr\u00e8s son d\u00e9collage restent un myst\u00e8re\n",
        "4672> L'\u00e9tat d'urgence en Tunisie prolong\u00e9 de trois mois Le dispositif avait \u00e9t\u00e9 instaur\u00e9 apr\u00e8s l'attentat-suicide perp\u00e9tr\u00e9 le 24 novembre contre un bus de la s\u00e9curit\u00e9 pr\u00e9sidentielle en pleine capitale\n",
        "4952> Loi travail le MJS \u00e0 c\u00f4t\u00e9 de ses pompes pour Bruno Le Roux\n",
        "4898> Montebourg Je suis un innovateur d\u00e9\u00e7u dans l'action publique \n",
        "4549> Cabana Julien Dray le Baron rose Ma\u00eetre dans l'art de la d\u00e9stabilisation et du rapport de force l'ami de Fran\u00e7ois Hollande Juju dit ce qu'il pense m\u00eame sur Manuell Valls\n",
        "4690> Athl\u00e9tisme sur la route de Rio Lavillenie vise un \u00e9ni\u00e8me titre aux Mondiaux en salle\n"
       ]
      }
     ],
     "prompt_number": 200
    },
    {
     "cell_type": "code",
     "collapsed": false,
     "input": [
      "# -- save JSON --\n",
      "json_file = './Eleve/data4eleve.json'\n",
      "with open(json_file, 'w') as outfile:\n",
      "    json.dump(data, outfile)"
     ],
     "language": "python",
     "metadata": {},
     "outputs": [],
     "prompt_number": 201
    },
    {
     "cell_type": "code",
     "collapsed": false,
     "input": [
      "print data[0].keys()"
     ],
     "language": "python",
     "metadata": {},
     "outputs": [
      {
       "output_type": "stream",
       "stream": "stdout",
       "text": [
        "[u'date', u'source', 'formatedtext', u'description', u'title']\n"
       ]
      }
     ],
     "prompt_number": 202
    },
    {
     "cell_type": "code",
     "collapsed": false,
     "input": [
      "print data[4613]['title']\n",
      "print data[4613]['description']"
     ],
     "language": "python",
     "metadata": {},
     "outputs": [
      {
       "output_type": "stream",
       "stream": "stdout",
       "text": [
        "Irak: un chef chiite entame un sit-in \u00e0 Bagdad contre la corruption\n"
       ]
      },
      {
       "ename": "KeyError",
       "evalue": "'description'",
       "output_type": "pyerr",
       "traceback": [
        "\u001b[1;31m---------------------------------------------------------------------------\u001b[0m\n\u001b[1;31mKeyError\u001b[0m                                  Traceback (most recent call last)",
        "\u001b[1;32m<ipython-input-203-c59c4ca62c7c>\u001b[0m in \u001b[0;36m<module>\u001b[1;34m()\u001b[0m\n\u001b[0;32m      1\u001b[0m \u001b[1;32mprint\u001b[0m \u001b[0mdata\u001b[0m\u001b[1;33m[\u001b[0m\u001b[1;36m4613\u001b[0m\u001b[1;33m]\u001b[0m\u001b[1;33m[\u001b[0m\u001b[1;34m'title'\u001b[0m\u001b[1;33m]\u001b[0m\u001b[1;33m\u001b[0m\u001b[0m\n\u001b[1;32m----> 2\u001b[1;33m \u001b[1;32mprint\u001b[0m \u001b[0mdata\u001b[0m\u001b[1;33m[\u001b[0m\u001b[1;36m4613\u001b[0m\u001b[1;33m]\u001b[0m\u001b[1;33m[\u001b[0m\u001b[1;34m'description'\u001b[0m\u001b[1;33m]\u001b[0m\u001b[1;33m\u001b[0m\u001b[0m\n\u001b[0m",
        "\u001b[1;31mKeyError\u001b[0m: 'description'"
       ]
      }
     ],
     "prompt_number": 203
    },
    {
     "cell_type": "code",
     "collapsed": false,
     "input": [
      "print data[0]['date']"
     ],
     "language": "python",
     "metadata": {},
     "outputs": [
      {
       "output_type": "stream",
       "stream": "stdout",
       "text": [
        "2016-03-15T23:34:11\n"
       ]
      }
     ],
     "prompt_number": 169
    },
    {
     "cell_type": "code",
     "collapsed": false,
     "input": [
      "allTexte = cleanIt( ' '.join( [x['title'] for x in data ] ) )"
     ],
     "language": "python",
     "metadata": {},
     "outputs": [],
     "prompt_number": 194
    },
    {
     "cell_type": "code",
     "collapsed": false,
     "input": [
      "allTexte.count(u'\u00e2')"
     ],
     "language": "python",
     "metadata": {},
     "outputs": [
      {
       "metadata": {},
       "output_type": "pyout",
       "prompt_number": 195,
       "text": [
        "77"
       ]
      }
     ],
     "prompt_number": 195
    },
    {
     "cell_type": "code",
     "collapsed": false,
     "input": [],
     "language": "python",
     "metadata": {},
     "outputs": []
    }
   ],
   "metadata": {}
  }
 ]
}