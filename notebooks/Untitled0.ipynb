{
 "metadata": {
  "name": "",
  "signature": "sha256:8e495893a19aff4049858fab5300f55471fd72fa1ce387d0e9e9c5b0dd7192d9"
 },
 "nbformat": 3,
 "nbformat_minor": 0,
 "worksheets": [
  {
   "cells": [
    {
     "cell_type": "code",
     "collapsed": false,
     "input": [
      "a = set()"
     ],
     "language": "python",
     "metadata": {},
     "outputs": [],
     "prompt_number": 1
    },
    {
     "cell_type": "code",
     "collapsed": false,
     "input": [
      "a.add('tttddd')"
     ],
     "language": "python",
     "metadata": {},
     "outputs": [],
     "prompt_number": 3
    },
    {
     "cell_type": "code",
     "collapsed": false,
     "input": [
      "a"
     ],
     "language": "python",
     "metadata": {},
     "outputs": [
      {
       "metadata": {},
       "output_type": "pyout",
       "prompt_number": 4,
       "text": [
        "{'ttt', 'tttddd'}"
       ]
      }
     ],
     "prompt_number": 4
    },
    {
     "cell_type": "code",
     "collapsed": false,
     "input": [
      "for u in a:\n",
      "    print u"
     ],
     "language": "python",
     "metadata": {},
     "outputs": [
      {
       "output_type": "stream",
       "stream": "stdout",
       "text": [
        "tttddd\n",
        "ttt\n"
       ]
      }
     ],
     "prompt_number": 5
    },
    {
     "cell_type": "code",
     "collapsed": false,
     "input": [
      "s = 'qssdfs'"
     ],
     "language": "python",
     "metadata": {},
     "outputs": [],
     "prompt_number": 6
    },
    {
     "cell_type": "code",
     "collapsed": false,
     "input": [
      "'q' in s"
     ],
     "language": "python",
     "metadata": {},
     "outputs": [
      {
       "metadata": {},
       "output_type": "pyout",
       "prompt_number": 7,
       "text": [
        "True"
       ]
      }
     ],
     "prompt_number": 7
    },
    {
     "cell_type": "code",
     "collapsed": false,
     "input": [
      "import codecs\n",
      "import re"
     ],
     "language": "python",
     "metadata": {},
     "outputs": [],
     "prompt_number": 7
    },
    {
     "cell_type": "code",
     "collapsed": false,
     "input": [
      "filename = '../data_dico/stop_words_fr.txt'\n",
      "# cf: http://www.lexique.org/listes/liste_mots.txt\n",
      "# load\n"
     ],
     "language": "python",
     "metadata": {},
     "outputs": [],
     "prompt_number": 14
    },
    {
     "cell_type": "code",
     "collapsed": false,
     "input": [
      "print listemots[10]"
     ],
     "language": "python",
     "metadata": {},
     "outputs": [
      {
       "output_type": "stream",
       "stream": "stdout",
       "text": [
        "de             |  of\n",
        "\n"
       ]
      }
     ],
     "prompt_number": 15
    },
    {
     "cell_type": "code",
     "collapsed": false,
     "input": [
      "filename = '../data_dico/stop_words_fr.txt'\n",
      "with codecs.open(filename, encoding='utf-8') as f:\n",
      "    listemots = f.readlines()\n",
      "\n",
      "stopwords = []\n",
      "for line in listemots:\n",
      "    m = re.match(u'([^\\s|]*)', line )\n",
      "    if m and m.group():\n",
      "        stopwords.append( m.group() )\n",
      "    \n",
      "            \n",
      "print len( stopwords )"
     ],
     "language": "python",
     "metadata": {},
     "outputs": [
      {
       "output_type": "stream",
       "stream": "stdout",
       "text": [
        "176\n"
       ]
      }
     ],
     "prompt_number": 43
    },
    {
     "cell_type": "code",
     "collapsed": false,
     "input": [
      "stopwords"
     ],
     "language": "python",
     "metadata": {},
     "outputs": [
      {
       "metadata": {},
       "output_type": "pyout",
       "prompt_number": 44,
       "text": [
        "[u'au',\n",
        " u'aux',\n",
        " u'avec',\n",
        " u'ce',\n",
        " u'ces',\n",
        " u'dans',\n",
        " u'de',\n",
        " u'des',\n",
        " u'du',\n",
        " u'elle',\n",
        " u'en',\n",
        " u'et',\n",
        " u'eux',\n",
        " u'il',\n",
        " u'je',\n",
        " u'la',\n",
        " u'le',\n",
        " u'leur',\n",
        " u'lui',\n",
        " u'ma',\n",
        " u'mais',\n",
        " u'me',\n",
        " u'm\\xeame',\n",
        " u'mes',\n",
        " u'moi',\n",
        " u'mon',\n",
        " u'ne',\n",
        " u'nos',\n",
        " u'notre',\n",
        " u'nous',\n",
        " u'on',\n",
        " u'ou',\n",
        " u'par',\n",
        " u'pas',\n",
        " u'pour',\n",
        " u'qu',\n",
        " u'que',\n",
        " u'qui',\n",
        " u'sa',\n",
        " u'se',\n",
        " u'ses',\n",
        " u'son',\n",
        " u'sur',\n",
        " u'ta',\n",
        " u'te',\n",
        " u'tes',\n",
        " u'toi',\n",
        " u'ton',\n",
        " u'tu',\n",
        " u'un',\n",
        " u'une',\n",
        " u'vos',\n",
        " u'votre',\n",
        " u'vous',\n",
        " u'c',\n",
        " u'd',\n",
        " u'j',\n",
        " u'l',\n",
        " u'\\xe0',\n",
        " u'm',\n",
        " u'n',\n",
        " u's',\n",
        " u't',\n",
        " u'y',\n",
        " u'\\xe9t\\xe9',\n",
        " u'\\xe9t\\xe9e',\n",
        " u'\\xe9t\\xe9es',\n",
        " u'\\xe9t\\xe9s',\n",
        " u'\\xe9tant',\n",
        " u'suis',\n",
        " u'es',\n",
        " u'est',\n",
        " u'sommes',\n",
        " u'\\xeates',\n",
        " u'sont',\n",
        " u'serai',\n",
        " u'seras',\n",
        " u'sera',\n",
        " u'serons',\n",
        " u'serez',\n",
        " u'seront',\n",
        " u'serais',\n",
        " u'serait',\n",
        " u'serions',\n",
        " u'seriez',\n",
        " u'seraient',\n",
        " u'\\xe9tais',\n",
        " u'\\xe9tait',\n",
        " u'\\xe9tions',\n",
        " u'\\xe9tiez',\n",
        " u'\\xe9taient',\n",
        " u'fus',\n",
        " u'fut',\n",
        " u'f\\xfbmes',\n",
        " u'f\\xfbtes',\n",
        " u'furent',\n",
        " u'sois',\n",
        " u'soit',\n",
        " u'soyons',\n",
        " u'soyez',\n",
        " u'soient',\n",
        " u'fusse',\n",
        " u'fusses',\n",
        " u'f\\xfbt',\n",
        " u'fussions',\n",
        " u'fussiez',\n",
        " u'fussent',\n",
        " u'ayant',\n",
        " u'eu',\n",
        " u'eue',\n",
        " u'eues',\n",
        " u'eus',\n",
        " u'ai',\n",
        " u'as',\n",
        " u'avons',\n",
        " u'avez',\n",
        " u'ont',\n",
        " u'aurai',\n",
        " u'auras',\n",
        " u'aura',\n",
        " u'aurons',\n",
        " u'aurez',\n",
        " u'auront',\n",
        " u'aurais',\n",
        " u'aurait',\n",
        " u'aurions',\n",
        " u'auriez',\n",
        " u'auraient',\n",
        " u'avais',\n",
        " u'avait',\n",
        " u'avions',\n",
        " u'aviez',\n",
        " u'avaient',\n",
        " u'eut',\n",
        " u'e\\xfbmes',\n",
        " u'e\\xfbtes',\n",
        " u'eurent',\n",
        " u'aie',\n",
        " u'aies',\n",
        " u'ait',\n",
        " u'ayons',\n",
        " u'ayez',\n",
        " u'aient',\n",
        " u'eusse',\n",
        " u'eusses',\n",
        " u'e\\xfbt',\n",
        " u'eussions',\n",
        " u'eussiez',\n",
        " u'eussent',\n",
        " u'ceci',\n",
        " u'cela',\n",
        " u'cel\\xe0',\n",
        " u'cet',\n",
        " u'cette',\n",
        " u'ici',\n",
        " u'ils',\n",
        " u'les',\n",
        " u'leurs',\n",
        " u'quel',\n",
        " u'quels',\n",
        " u'quelle',\n",
        " u'quelles',\n",
        " u'sans',\n",
        " u'soi',\n",
        " u'plus',\n",
        " u'ans',\n",
        " u'depuis',\n",
        " u'quelques',\n",
        " u'quelque',\n",
        " u'apr\\xe8s',\n",
        " u'tous',\n",
        " u'fois',\n",
        " u'selon',\n",
        " u'peu',\n",
        " u\"qu'il\",\n",
        " u'peut']"
       ]
      }
     ],
     "prompt_number": 44
    },
    {
     "cell_type": "code",
     "collapsed": false,
     "input": [],
     "language": "python",
     "metadata": {},
     "outputs": [],
     "prompt_number": 28
    },
    {
     "cell_type": "code",
     "collapsed": false,
     "input": [],
     "language": "python",
     "metadata": {},
     "outputs": []
    }
   ],
   "metadata": {}
  }
 ]
}