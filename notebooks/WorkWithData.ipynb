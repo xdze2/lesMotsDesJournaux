{
 "metadata": {
  "name": "",
  "signature": "sha256:4ddb854fb764a08092ec35de2cef4eaf33c8df23114ede4532f48e171852726a"
 },
 "nbformat": 3,
 "nbformat_minor": 0,
 "worksheets": [
  {
   "cells": [
    {
     "cell_type": "code",
     "collapsed": false,
     "input": [
      "import json\n",
      "import re"
     ],
     "language": "python",
     "metadata": {},
     "outputs": [],
     "prompt_number": 1
    },
    {
     "cell_type": "code",
     "collapsed": false,
     "input": [
      "def printSorted(dico, n = 200 ):\n",
      "    myDico_sorted = sorted(dico.iteritems(), key = lambda x:x[1], reverse=True)\n",
      "    for m, c in myDico_sorted[:n]:\n",
      "        print '%s (%0.2f) ' % (m, c),"
     ],
     "language": "python",
     "metadata": {},
     "outputs": [],
     "prompt_number": 2
    },
    {
     "cell_type": "code",
     "collapsed": false,
     "input": [
      "from HTMLParser import HTMLParser\n",
      "\n",
      "class MLStripper(HTMLParser):\n",
      "    def __init__(self):\n",
      "        self.reset()\n",
      "        self.fed = []\n",
      "    def handle_data(self, d):\n",
      "        self.fed.append(d)\n",
      "    def get_data(self):\n",
      "        return ''.join(self.fed)\n",
      "\n",
      "def strip_tags(html):\n",
      "    s = MLStripper()\n",
      "    s.feed(html)\n",
      "    return s.get_data()"
     ],
     "language": "python",
     "metadata": {},
     "outputs": [],
     "prompt_number": 3
    },
    {
     "cell_type": "code",
     "collapsed": false,
     "input": [
      "# Load \"liste des mots\"\n",
      "import codecs\n",
      "\n",
      "filename = './data_dico/liste_mots_utf8.txt'\n",
      "# cf: http://www.lexique.org/listes/liste_mots.txt\n",
      "# load\n",
      "with codecs.open(filename, encoding='utf-8') as f:\n",
      "    listemots = f.readlines()\n",
      "  \n",
      "for i, mot in enumerate( listemots ):\n",
      "    a = mot.split('\\t')\n",
      "    freq = float(a[1])\n",
      "    word = a[0]\n",
      "    listemots[i] = (word, freq)\n",
      "\n",
      "dicoFr = { x[0]:x[1] for x in listemots }"
     ],
     "language": "python",
     "metadata": {},
     "outputs": [],
     "prompt_number": 4
    },
    {
     "cell_type": "code",
     "collapsed": false,
     "input": [
      "def cleanAndSplit( texte ):\n",
      "    #texte = texte.lower()\n",
      "\n",
      "    myRe = u\"[:\u2019',.\u00ab\u00bb?! ()\\[\\]\u2026\u201d\\\"0-9]+\"\n",
      "    texte = re.sub(myRe, u' ', texte)\n",
      "    texte = texte.replace(u'\\xa0', u' ')\n",
      "    texte = texte.replace(u'-', u' ')\n",
      "    L = texte.split(' ')\n",
      "    \n",
      "    for i, mot in enumerate( L ):\n",
      "        if mot.lower() in dicoFr:\n",
      "            L[i] = mot.lower()   \n",
      "            \n",
      "    return L"
     ],
     "language": "python",
     "metadata": {},
     "outputs": [],
     "prompt_number": 5
    },
    {
     "cell_type": "code",
     "collapsed": false,
     "input": [
      "# load\n",
      "filename = './data_rss/rss_save_leMonde.json'\n",
      "\n",
      "loaded_data = json.loads(open(filename).read())\n",
      "print 'nbr articles: ', len( loaded_data )\n",
      "\n",
      "# Work with DATE\n",
      "from datetime import datetime\n",
      "\n",
      "def jour_de_la_semaine(i):\n",
      "    d = ['lundi', 'mardi', 'mercredi', 'jeudi', 'vendredi', 'samedi', 'dimanche']\n",
      "    return d[i]\n",
      "    \n",
      "for k, post in loaded_data.iteritems():\n",
      "    txt_date = post['pubDate']\n",
      "    txt_date = txt_date.replace(u'GMT', u'')\n",
      "    txt_date = re.sub('\\+[0-9]{4}', u'', txt_date) # !! not the real hour ..\n",
      "    txt_date = re.sub(r'\\s+$', '', txt_date)\n",
      "    \n",
      "    date = datetime.strptime(txt_date, '%a,  %d %b %Y %H:%M:%S')\n",
      "    loaded_data[k]['date'] = date"
     ],
     "language": "python",
     "metadata": {},
     "outputs": [
      {
       "output_type": "stream",
       "stream": "stdout",
       "text": [
        "nbr articles:  891\n"
       ]
      }
     ],
     "prompt_number": 6
    },
    {
     "cell_type": "code",
     "collapsed": false,
     "input": [
      "words_count = {}\n",
      "\n",
      "for post in loaded_data.itervalues():\n",
      "    title = post['title']\n",
      "    description = post['description']\n",
      "    if description:\n",
      "        description = strip_tags( description )\n",
      "    else:\n",
      "        description = ''\n",
      "        \n",
      "    L = cleanAndSplit( title+' '+description ) \n",
      "    \n",
      "    for mot in L:\n",
      "        if words_count.has_key( mot ):\n",
      "            words_count[mot ] += 1\n",
      "        elif len( mot ) > 2:\n",
      "            words_count[mot ] = 1\n",
      "\n",
      "n_mots_globaux = len( words_count )\n",
      "\n",
      "print 'nbr mots: ', n_mots_globaux"
     ],
     "language": "python",
     "metadata": {},
     "outputs": [
      {
       "output_type": "stream",
       "stream": "stdout",
       "text": [
        "nbr mots:  6803\n"
       ]
      }
     ],
     "prompt_number": 7
    },
    {
     "cell_type": "code",
     "collapsed": false,
     "input": [
      "printSorted(words_count, 100)"
     ],
     "language": "python",
     "metadata": {},
     "outputs": [
      {
       "output_type": "stream",
       "stream": "stdout",
       "text": [
        "les (719.00)  des (593.00)  une (327.00)  pour (296.00)  dans (288.00)  sur (240.00)  est (208.00)  qui (189.00)  par (183.00)  que (133.00)  ont (127.00)  son (119.00)  \u00e9t\u00e9 (119.00)  apr\u00e8s (112.00)  aux (107.00)  ans (105.00)  contre (92.00)  pas (91.00)  plus (91.00)  France (90.00)  mars (88.00)  avec (83.00)  deux (80.00)  monde (79.00)  Bruxelles (73.00)  attentats (72.00)  sont (67.00)  lors (62.00)  travail (62.00)  entre (61.00)  fait (59.00)  ministre (56.00)  pr\u00e9sident (56.00)  fran\u00e7ais (55.00)  pays (54.00)  depuis (54.00)  ses (53.00)  loi (53.00)  projet (48.00)  avoir (48.00)  avait (47.00)  cette (46.00)  premier (44.00)  leur (44.00)  selon (44.00)  paris (44.00)  mort (42.00)  mardi (40.00)  migrants (39.00)  \u00eatre (39.00)  Etat (38.00)  moins (38.00)  ancien (36.00)  dimanche (35.00)  cinq (34.00)  face (33.00)  guerre (32.00)  Syrie (32.00)  trois (32.00)  jeudi (32.00)  politique (31.00)  \u00e9tait (31.00)  homme (31.00)  Abdeslam (30.00)  vendredi (30.00)  justice (30.00)  quatre (30.00)  r\u00e9fugi\u00e9s (30.00)  ligue (29.00)  Turquie (29.00)  Etats (29.00)  attentat (28.00)  attaque (28.00)  mais (28.00)  novembre (27.00)  ils (27.00)  avant (27.00)  nouveau (27.00)  journ\u00e9e (27.00)  enqu\u00eate (27.00)  nord (26.00)  belge (26.00)  premi\u00e8re (26.00)  elle (26.00)  groupe (26.00)  Salah (26.00)  lundi (25.00)  sans (25.00)  d\u00e9but (25.00)  victimes (25.00)  mercredi (25.00)  morts (25.00)  questions (25.00)  autres (24.00)  am\u00e9ricain (24.00)  fin (23.00)  pr\u00e8s (23.00)  grand (23.00)  fran\u00e7aise (22.00)  comme (22.00) \n"
       ]
      }
     ],
     "prompt_number": 8
    },
    {
     "cell_type": "heading",
     "level": 2,
     "metadata": {},
     "source": [
      "Norme avec DicoFr"
     ]
    },
    {
     "cell_type": "code",
     "collapsed": false,
     "input": [
      "black_liste =  ['lundi', 'mardi', 'mercredi', 'jeudi', 'vendredi' ]\n",
      "black_liste.extend( ['samedi', 'dimanche', 'jusqu', 'aujourd', 'France', 'mars', 'week', 'end', 'Etat', 'Etats'] )"
     ],
     "language": "python",
     "metadata": {},
     "outputs": [],
     "prompt_number": 9
    },
    {
     "cell_type": "code",
     "collapsed": false,
     "input": [
      "words_count_dicoFr = {}\n",
      "notInDicoFr = {}\n",
      "for m, c in words_count.iteritems():\n",
      "    if m in black_liste :\n",
      "        continue\n",
      "    elif m in dicoFr : # and c*n_mots > 1:\n",
      "        score = float( c )/float( n_mots_globaux )  / (dicoFr[m]*1e-6)\n",
      "        words_count_dicoFr[m] = score\n",
      "    else:\n",
      "        score =  c \n",
      "        notInDicoFr[m] = score\n",
      "        \n",
      "words_sorted_dicoFr = sorted(words_count_dicoFr.iteritems(), key = lambda x:x[1], reverse=True)\n",
      "notInDicoFr_sorted = sorted(notInDicoFr.iteritems(), key = lambda x:x[1], reverse=True)"
     ],
     "language": "python",
     "metadata": {},
     "outputs": [],
     "prompt_number": 10
    },
    {
     "cell_type": "code",
     "collapsed": false,
     "input": [
      "printSorted(words_count_dicoFr, 100)"
     ],
     "language": "python",
     "metadata": {},
     "outputs": [
      {
       "output_type": "stream",
       "stream": "stdout",
       "text": [
        "dopage (24499.00)  perquisitionn\u00e9 (19599.20)  crash (19599.20)  migratoire (14699.40)  extradition (12249.50)  migrants (9884.08)  ivoirienne (9799.60)  mails (9799.60)  airbus (9799.60)  start (9799.60)  questionnements (9799.60)  isra\u00e9liennes (9799.60)  chiffrement (9799.60)  dessinatrice (8510.18)  centriste (7349.70)  affronteront (7349.70)  p\u00e9dophilie (6784.34)  technologies (5879.76)  s\u00e9lectionneur (5879.76)  impuls\u00e9 (4899.80)  adoubements (4899.80)  sponsoring (4899.80)  embauches (4899.80)  perp\u00e9tr\u00e9es (4899.80)  islamistes (4899.80)  attractivit\u00e9 (4899.80)  limogeage (4899.80)  dysfonctionnements (4899.80)  bazookas (4899.80)  escape (4899.80)  soignants (4899.80)  politiser (4899.80)  dopant (4899.80)  opposante (4899.80)  centristes (4899.80)  \u00e9cosyst\u00e8me (4899.80)  agha (4899.80)  relanc\u00e9es (4899.80)  spi (4899.80)  shows (4899.80)  habilitations (4899.80)  axa (4899.80)  pal\u00e9ontologue (4899.80)  enc\u00e9phalopathie (4899.80)  microc\u00e9phalie (4899.80)  vulgarisent (4899.80)  transalpins (4899.80)  dop\u00e9es (4899.80)  cerclage (4899.80)  r\u00e9cusent (4899.80)  chiite (4899.80)  quinquennat (4899.80)  exemplarit\u00e9 (4899.80)  astrophysicien (4899.80)  interpell\u00e9es (4899.80)  libyenne (4899.80)  palpations (4899.80)  r\u00e9\u00e9crite (4899.80)  buteur (4899.80)  p\u00e9naux (4899.80)  r\u00e9\u00e9criture (4899.80)  chroniqueuse (4899.80)  voteront (4899.80)  sponsors (4899.80)  b\u00e9atifi\u00e9e (4899.80)  interceptions (4899.80)  cumulable (4899.80)  revivez (4899.80)  investitures (4899.80)  remisent (4899.80)  spiegel (4899.80)  interbancaire (4899.80)  briguait (4899.80)  saoudiennes (4899.80)  caritative (4899.80)  sexistes (4899.80)  concerneront (4899.80)  pl\u00e9biscitent (4899.80)  r\u00e9trop\u00e9dalage (4899.80)  zooms (4899.80)  volleyeurs (4899.80)  attentats (4682.99)  pesticides (3868.26)  antiterroriste (3392.17)  blanchiment (3094.61)  surf (3094.61)  tch\u00e9tch\u00e8ne (2939.88)  extrad\u00e9 (2939.88)  congolais (2939.88)  d\u00e9verrouiller (2939.88)  pris\u00e9s (2449.90)  ill\u00e9gaux (2449.90)  requalification (2449.90)  talonneur (2449.90)  affid\u00e9 (2449.90)  triplex (2449.90)  intox (2449.90)  miniaturiser (2449.90)  cibl\u00e9s (2449.90)  califat (2449.90) \n"
       ]
      }
     ],
     "prompt_number": 11
    },
    {
     "cell_type": "code",
     "collapsed": true,
     "input": [
      "printSorted(notInDicoFr)"
     ],
     "language": "python",
     "metadata": {},
     "outputs": [
      {
       "output_type": "stream",
       "stream": "stdout",
       "text": [
        "Bruxelles (73.00)  Syrie (32.00)  Abdeslam (30.00)  Turquie (29.00)  Salah (26.00)  euros (20.00)  djihadistes (19.00)  Europe (19.00)  Khomri (18.00)  Trump (18.00)  Valls (15.00)  PSG (13.00)  djihadiste (13.00)  Bassam (11.00)  Lyon (11.00)  Clinton (11.00)  Apple (11.00)  Mandel (11.00)  Fran\u00e7ois (10.00)  Allemagne (10.00)  Yasmine (10.00)  Google (10.00)  Donald (10.00)  Bouagga (10.00)  Ankara (10.00)  Merkel (9.00)  Twitter (9.00)  FBI (9.00)  Cor\u00e9e (8.00)  Sanders (8.00)  Marseille (8.00)  San (8.00)  Madrid (8.00)  Obama (8.00)  Michel (8.00)  Molenbeek (8.00)  Lula (8.00)  c\u0153ur (8.00)  Tunisie (8.00)  Macron (7.00)  Euro (7.00)  Russie (7.00)  Synthe (7.00)  Barack (7.00)  Barbarin (7.00)  Nicolas (7.00)  Cruyff (7.00)  internautes (7.00)  Facebook (7.00)  SNCF (7.00)  Barcelone (6.00)  Cruz (6.00)  Benzema (6.00)  #Syrie (6.00)  Gen\u00e8ve (6.00)  Zika (6.00)  Johan (6.00)  Denis (6.00)  Bayern (6.00)  Rousseff (6.00)  drones (6.00)  Gr\u00e8ce (6.00)  Atletico (6.00)  Lille (6.00)  Bernard (6.00)  Washington (6.00)  Manchester (6.00)  Pen (6.00)  Arnaud (6.00)  City (6.00)  iPhone (6.00)  Internet (6.00)  FIFA (6.00)  Ecosse (6.00)  ONU (6.00)  Sedol (5.00)  biodiversit\u00e9 (5.00)  Nguesso (5.00)  Afrique (5.00)  Emmanuel (5.00)  Bardo (5.00)  Angela (5.00)  Christophe (5.00)  Lagard\u00e8re (5.00)  Info (5.00)  Floride (5.00)  Sarkozy (5.00)  Hillary (5.00)  Lee (5.00)  \u0153uvre (5.00)  SXSW (5.00)  Dilma (5.00)  post (5.00)  Palmyre (5.00)  Burundi (5.00)  Volkswagen (5.00)  Alg\u00e9rie (5.00)  Isra\u00ebl (5.00)  Sassou (5.00)  Espagne (4.00)  EDF (4.00)  Brexit (4.00)  George (4.00)  \u0153il (4.00)  Mossoul (4.00)  Libye (4.00)  Australie (4.00)  Microsoft (4.00)  Savtchenko (4.00)  chanceli\u00e8re (4.00)  Sharapova (4.00)  Saidnaya (4.00)  Kampf (4.00)  Reda (4.00)  Bernie (4.00)  Deschamps (4.00)  Rio (4.00)  Nadejda (4.00)  Sivens (4.00)  Vincent (4.00)  CDD (4.00)  Aviv (4.00)  St\u00e9phane (4.00)  Argenteuil (4.00)  Ford (4.00)  Juventus (4.00)  Y\u00e9men (4.00)  Forest (4.00)  Zaman (4.00)  Irlande (4.00)  Zinsou (4.00)  Chelsea (4.00)  Italie (4.00)  Ted (4.00)  meldonium (4.00)  informatiques (4.00)  Gardane (4.00)  Alep (4.00)  Ecole (3.00)  Kyi (3.00)  Bakraoui (3.00)  Didier (3.00)  Erasmus (3.00)  Capgemini (3.00)  DJI (3.00)  Dominique (3.00)  Arabie (3.00)  Istanbul (3.00)  Nigeria (3.00)  Loire (3.00)  Toulouse (3.00)  Editorial (3.00)  antidopage (3.00)  Egypte (3.00)  CFDT (3.00)  Alphago (3.00)  PNR (3.00)  traders (3.00)  Essonne (3.00)  Bouygues (3.00)  Rome (3.00)  Sao (3.00)  AlphaGo (3.00)  Lionel (3.00)  Antoine (3.00)  Yvelines (3.00)  Foll (3.00)  Niger (3.00)  ExoMars (3.00)  Brazzaville (3.00)  Indian (3.00)  Myriam (3.00)  Qaida (3.00)  PDG (3.00)  Hinkley (3.00)  Paulo (3.00)  OMS (3.00)  CRIF (3.00)  Idaho (3.00)  ONG (3.00)  Am\u00e9rique (3.00)  Htin (3.00)  Birmanie (3.00)  Abaaoud (3.00)  Guy (3.00)  Idlib (3.00)  saoudite (3.00)  Aung (3.00)  Biathlon (3.00)  PSV (3.00)  Mohamed (3.00)  Kyaw (3.00)  anti (3.00)  Turin (3.00)  lorsqu (3.00)  Fouquet (3.00)  Elections (3.00)  Tuesday (3.00)  Merah (3.00)  drone (3.00) \n"
       ]
      }
     ],
     "prompt_number": 12
    },
    {
     "cell_type": "code",
     "collapsed": false,
     "input": [
      "#\u00a0norme: max not in dico = max in dico\n",
      "\n",
      "max_notInDico = notInDicoFr_sorted[0][1] \n",
      "max_inDico = words_sorted_dicoFr[0][1] \n",
      "\n",
      "print max_notInDico, max_inDico"
     ],
     "language": "python",
     "metadata": {},
     "outputs": [
      {
       "output_type": "stream",
       "stream": "stdout",
       "text": [
        "73 24498.9955412\n"
       ]
      }
     ],
     "prompt_number": 13
    },
    {
     "cell_type": "code",
     "collapsed": false,
     "input": [
      "#\u00a0Merge\n",
      "myDico = {}\n",
      "\n",
      "for mot, c in notInDicoFr.iteritems():\n",
      "    myDico[mot] = float(c) / float( max_notInDico *3  )\n",
      "    \n",
      "for mot, c in words_count_dicoFr.iteritems():\n",
      "    myDico[mot] = float(c) / float( max_inDico )"
     ],
     "language": "python",
     "metadata": {},
     "outputs": [],
     "prompt_number": 14
    },
    {
     "cell_type": "code",
     "collapsed": false,
     "input": [
      "printSorted( myDico )"
     ],
     "language": "python",
     "metadata": {},
     "outputs": [
      {
       "output_type": "stream",
       "stream": "stdout",
       "text": [
        "dopage (1.00)  perquisitionn\u00e9 (0.80)  crash (0.80)  migratoire (0.60)  extradition (0.50)  migrants (0.40)  questionnements (0.40)  chiffrement (0.40)  mails (0.40)  start (0.40)  isra\u00e9liennes (0.40)  ivoirienne (0.40)  airbus (0.40)  dessinatrice (0.35)  Bruxelles (0.33)  centriste (0.30)  affronteront (0.30)  p\u00e9dophilie (0.28)  technologies (0.24)  s\u00e9lectionneur (0.24)  adoubements (0.20)  limogeage (0.20)  agha (0.20)  pal\u00e9ontologue (0.20)  transalpins (0.20)  astrophysicien (0.20)  interpell\u00e9es (0.20)  libyenne (0.20)  p\u00e9naux (0.20)  exemplarit\u00e9 (0.20)  cumulable (0.20)  saoudiennes (0.20)  caritative (0.20)  islamistes (0.20)  centristes (0.20)  spi (0.20)  shows (0.20)  habilitations (0.20)  vulgarisent (0.20)  dop\u00e9es (0.20)  cerclage (0.20)  r\u00e9cusent (0.20)  relanc\u00e9es (0.20)  impuls\u00e9 (0.20)  sexistes (0.20)  r\u00e9\u00e9crite (0.20)  r\u00e9trop\u00e9dalage (0.20)  chroniqueuse (0.20)  interbancaire (0.20)  concerneront (0.20)  quinquennat (0.20)  sponsoring (0.20)  investitures (0.20)  soignants (0.20)  politiser (0.20)  \u00e9cosyst\u00e8me (0.20)  b\u00e9atifi\u00e9e (0.20)  embauches (0.20)  enc\u00e9phalopathie (0.20)  chiite (0.20)  buteur (0.20)  voteront (0.20)  revivez (0.20)  interceptions (0.20)  spiegel (0.20)  briguait (0.20)  zooms (0.20)  sponsors (0.20)  perp\u00e9tr\u00e9es (0.20)  r\u00e9\u00e9criture (0.20)  bazookas (0.20)  escape (0.20)  opposante (0.20)  palpations (0.20)  pl\u00e9biscitent (0.20)  axa (0.20)  attractivit\u00e9 (0.20)  microc\u00e9phalie (0.20)  dysfonctionnements (0.20)  volleyeurs (0.20)  remisent (0.20)  dopant (0.20)  attentats (0.19)  pesticides (0.16)  Syrie (0.15)  antiterroriste (0.14)  Abdeslam (0.14)  Turquie (0.13)  blanchiment (0.13)  surf (0.13)  congolais (0.12)  d\u00e9verrouiller (0.12)  tch\u00e9tch\u00e8ne (0.12)  extrad\u00e9 (0.12)  Salah (0.12)  cibl\u00e9s (0.10)  arrangeur (0.10)  r\u00e9alisatrice (0.10)  congolaise (0.10)  diminueront (0.10)  polluantes (0.10)  authentifi\u00e9 (0.10)  infertilit\u00e9 (0.10)  pressenties (0.10)  affrontera (0.10)  derby (0.10)  \u00e9ventration (0.10)  triplex (0.10)  requalification (0.10)  talonneur (0.10)  intox (0.10)  repoussantes (0.10)  jouissive (0.10)  consommons (0.10)  schizophr\u00e9nique (0.10)  realpolitik (0.10)  contact\u00e9s (0.10)  s\u00e9curis\u00e9 (0.10)  conforte (0.10)  p\u00e9nalement (0.10)  miniaturiser (0.10)  califat (0.10)  inondable (0.10)  test\u00e9e (0.10)  bruxelloise (0.10)  gu\u00e9ant (0.10)  pi\u00e9tonne (0.10)  tutrice (0.10)  converg\u00e9 (0.10)  pris\u00e9s (0.10)  ill\u00e9gaux (0.10)  ivoirien (0.10)  affid\u00e9 (0.10)  h\u00e9berg\u00e9es (0.10)  d\u00e9rapent (0.10)  cor\u00e9enne (0.10)  boud\u00e9e (0.10)  birmane (0.10)  m\u00e9diatique (0.09)  palestiniens (0.09)  cor\u00e9en (0.09)  officialis\u00e9 (0.09)  \u00e9cologiste (0.09)  d\u00e9cryptage (0.09)  rob (0.09)  euros (0.09)  pr\u00e9sidentielle (0.09)  islamique (0.09)  djihadistes (0.09)  Europe (0.09)  perquisitions (0.09)  syriens (0.08)  Trump (0.08)  Khomri (0.08)  syrienne (0.08)  palestinien (0.08)  embauchent (0.07)  redorer (0.07)  d\u00e9tonateurs (0.07)  surtaxe (0.07)  cosse (0.07)  palestinienne (0.07)  kurde (0.07)  kurdes (0.07)  interpell\u00e9s (0.07)  Valls (0.07)  invincibilit\u00e9 (0.06)  dominicaine (0.06)  controvers\u00e9 (0.06)  isra\u00e9lien (0.06)  lift (0.06)  patronats (0.06)  clarifiant (0.06)  d\u00e9connect\u00e9 (0.06)  m\u00e9diatis\u00e9es (0.06)  th\u00e9matiques (0.06)  p\u00e9renne (0.06)  protestataires (0.06)  contournement (0.06)  birman (0.06)  \u00e9thane (0.06)  expulsions (0.06)  anticapitaliste (0.06)  annulations (0.06)  rallong\u00e9e (0.06)  connect\u00e9es (0.06)  densification (0.06)  bulls (0.06)  accompagneront (0.06)  rachats (0.06)  expatri\u00e9s (0.06)  soudanaise (0.06)  enlumineur (0.06)  PSG (0.06)  djihadiste (0.06)  m\u00e9dias (0.06)  revendiqu\u00e9 (0.06)  gaza (0.06)  t\u00e9l\u00e9visions (0.06)  participera (0.06) \n"
       ]
      }
     ],
     "prompt_number": 15
    },
    {
     "cell_type": "heading",
     "level": 3,
     "metadata": {},
     "source": [
      "jour par jour"
     ]
    },
    {
     "cell_type": "code",
     "collapsed": false,
     "input": [
      "mois = u'janvier f\u00e9vrier mars avril mai juin juillet ao\u00fbt septembre octobre novembre d\u00e9cembre'\n",
      "mois = mois.split(' ')\n",
      "def writeDay( d ):\n",
      "    i = d.weekday()\n",
      "    jour = str( d.day )\n",
      "    if jour == '1': jour = '1er'\n",
      "    return jour_de_la_semaine(i)+' '+jour+' '+mois[d.month]"
     ],
     "language": "python",
     "metadata": {},
     "outputs": [],
     "prompt_number": 16
    },
    {
     "cell_type": "code",
     "collapsed": false,
     "input": [
      "posts_by_day = {}\n",
      "for post in loaded_data.itervalues():\n",
      "    d = post['date'].date()\n",
      "   \n",
      "    title = post['title']\n",
      "    description = post['description']\n",
      "    if description:\n",
      "        description = strip_tags( description )\n",
      "    else:\n",
      "        description = ''\n",
      "    texte = title+' '+description\n",
      "    \n",
      "    if d not in posts_by_day:\n",
      "        posts_by_day[d] = [ texte ]\n",
      "    else:\n",
      "        posts_by_day[d].append( texte )"
     ],
     "language": "python",
     "metadata": {},
     "outputs": [],
     "prompt_number": 17
    },
    {
     "cell_type": "markdown",
     "metadata": {},
     "source": [
      "le nombre de mot par jour est pas trop significatif ..."
     ]
    },
    {
     "cell_type": "code",
     "collapsed": false,
     "input": [
      "count_by_days = {}\n",
      "for day, textes in posts_by_day.iteritems():\n",
      "    count_day = {}\n",
      "    for titre in textes:\n",
      "        L = cleanAndSplit( titre ) \n",
      "\n",
      "        for mot in L:\n",
      "            if mot in myDico:\n",
      "                count_day[mot] = myDico[mot]\n",
      "                \n",
      "    count_by_days[day] = count_day"
     ],
     "language": "python",
     "metadata": {},
     "outputs": [],
     "prompt_number": 18
    },
    {
     "cell_type": "code",
     "collapsed": false,
     "input": [
      "for k in count_by_days.iterkeys():\n",
      "    print '\\n// '+writeDay( k )+' //'\n",
      "    printSorted( count_by_days[k], 30 )"
     ],
     "language": "python",
     "metadata": {},
     "outputs": [
      {
       "output_type": "stream",
       "stream": "stdout",
       "text": [
        "\n",
        "// lundi 7 avril //\n",
        "dopage (1.00)  crash (0.80)  Bruxelles (0.33)  cumulable (0.20)  libyenne (0.20)  r\u00e9\u00e9criture (0.20)  dopant (0.20)  attentats (0.19)  Turquie (0.13)  officialis\u00e9 (0.09)  d\u00e9cryptage (0.09)  euros (0.09)  islamique (0.09)  djihadistes (0.09)  syriens (0.08)  Khomri (0.08)  Trump (0.08)  syrienne (0.08)  Valls (0.07)  participera (0.06)  Google (0.05)  attentat (0.04)  Merkel (0.04)  tunisienne (0.04)  diffuseurs (0.04)  abordables (0.04)  Marseille (0.04)  c\u0153ur (0.04)  Michel (0.04)  Tunisie (0.04)  \n",
        "// vendredi 25 avril //\n",
        "isra\u00e9liennes (0.40)  Bruxelles (0.33)  attentats (0.19)  antiterroriste (0.14)  Abdeslam (0.14)  Salah (0.12)  bruxelloise (0.10)  califat (0.10)  m\u00e9diatique (0.09)  \u00e9cologiste (0.09)  islamique (0.09)  Europe (0.09)  djihadistes (0.09)  Trump (0.08)  redorer (0.07)  \u00e9thane (0.06)  matchs (0.06)  remportent (0.05)  minibus (0.05)  Donald (0.05)  Fran\u00e7ois (0.05)  terroriste (0.04)  attentat (0.04)  pi\u00e9g\u00e9e (0.04)  syrien (0.04)  fayard (0.04)  imam (0.04)  Molenbeek (0.04)  raid (0.04)  contumace (0.03)  \n",
        "// mercredi 7 novembre //\n",
        "interbancaire (0.20)  \u0153uvre (0.02)  traders (0.01)  manipul\u00e9 (0.01)  poursuites (0.01)  courtiers (0.01)  Libor (0.00)  anciers (0.00)  interbancaires (0.00)  fraude (0.00)  proc\u00e8s (0.00)  prison (0.00)  condamn\u00e9s (0.00)  manipulation (0.00)  taux (0.00)  britanniques (0.00)  montrent (0.00)  \u00e9t\u00e9 (0.00)  ont (0.00)  successives (0.00)  peines (0.00)  pour (0.00)  deux (0.00)  des (0.00)  les (0.00)  v\u00e9ritable (0.00)  pourquoi (0.00)  syst\u00e8me (0.00)  \u00e9tait (0.00)  \n",
        "// dimanche 27 avril //\n",
        "migrants (0.40)  Bruxelles (0.33)  chroniqueuse (0.20)  adoubements (0.20)  concerneront (0.20)  attentats (0.19)  jouissive (0.10)  m\u00e9diatique (0.09)  islamique (0.09)  Trump (0.08)  syrienne (0.08)  interpell\u00e9s (0.07)  revendiqu\u00e9 (0.06)  pakistanais (0.06)  machisme (0.05)  licenciements (0.05)  Donald (0.05)  Fran\u00e7ois (0.05)  attentat (0.04)  Molenbeek (0.04)  remporte (0.03)  investiture (0.03)  perp\u00e9tr\u00e9e (0.03)  pestif\u00e9r\u00e9 (0.03)  champions (0.03)  Cruz (0.03)  avantag\u00e9s (0.03)  d\u00e9plorent (0.02)  percut\u00e9 (0.02)  Christophe (0.02)  \n",
        "// mardi 8 avril //\n",
        "migratoire (0.60)  migrants (0.40)  mails (0.40)  isra\u00e9liennes (0.40)  dessinatrice (0.35)  affronteront (0.30)  islamistes (0.20)  sexistes (0.20)  Turquie (0.13)  extrad\u00e9 (0.12)  ivoirien (0.10)  requalification (0.10)  affid\u00e9 (0.10)  cibl\u00e9s (0.10)  cor\u00e9en (0.09)  palestiniens (0.09)  euros (0.09)  pr\u00e9sidentielle (0.09)  islamique (0.09)  Europe (0.09)  syriens (0.08)  Khomri (0.08)  Trump (0.08)  Valls (0.07)  djihadiste (0.06)  pakistanais (0.06)  r\u00e9\u00e9crit (0.05)  Mandel (0.05)  Clinton (0.05)  d\u00e9voil\u00e9es (0.05)  \n",
        "// jeudi 10 avril //\n",
        "dopage (1.00)  migrants (0.40)  dessinatrice (0.35)  volleyeurs (0.20)  buteur (0.20)  embauches (0.20)  opposante (0.20)  Turquie (0.13)  blanchiment (0.13)  tch\u00e9tch\u00e8ne (0.12)  repoussantes (0.10)  triplex (0.10)  d\u00e9rapent (0.10)  tutrice (0.10)  birmane (0.10)  \u00e9cologiste (0.09)  euros (0.09)  pr\u00e9sidentielle (0.09)  islamique (0.09)  djihadistes (0.09)  syriens (0.08)  Khomri (0.08)  surtaxe (0.07)  embauchent (0.07)  Valls (0.07)  dominicaine (0.06)  p\u00e9renne (0.06)  rallong\u00e9e (0.06)  rachats (0.06)  PSG (0.06)  \n",
        "// jeudi 17 avril //\n",
        "migrants (0.40)  dessinatrice (0.35)  Bruxelles (0.33)  p\u00e9dophilie (0.28)  s\u00e9lectionneur (0.24)  impuls\u00e9 (0.20)  spiegel (0.20)  attentats (0.19)  Turquie (0.13)  blanchiment (0.13)  surf (0.13)  cor\u00e9enne (0.10)  palestiniens (0.09)  euros (0.09)  pr\u00e9sidentielle (0.09)  Trump (0.08)  kurde (0.07)  Valls (0.07)  revendiqu\u00e9 (0.06)  t\u00e9l\u00e9visions (0.06)  gaza (0.06)  Lyon (0.05)  Mandel (0.05)  Clinton (0.05)  d\u00e9noncent (0.05)  revaloris\u00e9s (0.05)  Donald (0.05)  Bouagga (0.05)  Yasmine (0.05)  Ankara (0.05)  \n",
        "// samedi 19 avril //\n",
        "crash (0.80)  perquisitionn\u00e9 (0.80)  migrants (0.40)  questionnements (0.40)  airbus (0.40)  ivoirienne (0.40)  Bruxelles (0.33)  technologies (0.24)  transalpins (0.20)  attentats (0.19)  Abdeslam (0.14)  Turquie (0.13)  Salah (0.12)  pi\u00e9tonne (0.10)  islamique (0.09)  Europe (0.09)  redorer (0.07)  controvers\u00e9 (0.06)  lift (0.06)  m\u00e9dias (0.06)  participera (0.06)  sensibiliser (0.05)  vid\u00e9o (0.05)  migrante (0.05)  Allemagne (0.05)  Ankara (0.05)  terroriste (0.04)  attentat (0.04)  ligue (0.04)  perquisition (0.04)  \n",
        "// lundi 14 avril //\n",
        "dopage (1.00)  migrants (0.40)  start (0.40)  dessinatrice (0.35)  Bruxelles (0.33)  s\u00e9lectionneur (0.24)  attractivit\u00e9 (0.20)  dysfonctionnements (0.20)  shows (0.20)  interceptions (0.20)  pal\u00e9ontologue (0.20)  bazookas (0.20)  escape (0.20)  r\u00e9trop\u00e9dalage (0.20)  Syrie (0.15)  schizophr\u00e9nique (0.10)  officialis\u00e9 (0.09)  palestiniens (0.09)  syriens (0.08)  cosse (0.07)  palestinienne (0.07)  Valls (0.07)  protestataires (0.06)  PSG (0.06)  t\u00e9l\u00e9visions (0.06)  Bassam (0.05)  Lyon (0.05)  Apple (0.05)  Mandel (0.05)  d\u00e9noncent (0.05)  \n",
        "// lundi 21 avril //\n",
        "migrants (0.40)  airbus (0.40)  ivoirienne (0.40)  dessinatrice (0.35)  Bruxelles (0.33)  s\u00e9lectionneur (0.24)  r\u00e9cusent (0.20)  chiite (0.20)  axa (0.20)  briguait (0.20)  attentats (0.19)  Syrie (0.15)  Abdeslam (0.14)  Turquie (0.13)  blanchiment (0.13)  Salah (0.12)  gu\u00e9ant (0.10)  cor\u00e9en (0.09)  euros (0.09)  pr\u00e9sidentielle (0.09)  Europe (0.09)  djihadistes (0.09)  syrienne (0.08)  d\u00e9tonateurs (0.07)  kurdes (0.07)  invincibilit\u00e9 (0.06)  expatri\u00e9s (0.06)  annulations (0.06)  m\u00e9dias (0.06)  Bassam (0.05)  \n",
        "// mercredi 23 avril //\n",
        "crash (0.80)  extradition (0.50)  questionnements (0.40)  Bruxelles (0.33)  \u00e9cosyst\u00e8me (0.20)  perp\u00e9tr\u00e9es (0.20)  caritative (0.20)  cerclage (0.20)  attentats (0.19)  Syrie (0.15)  Abdeslam (0.14)  d\u00e9verrouiller (0.12)  Salah (0.12)  s\u00e9curis\u00e9 (0.10)  intox (0.10)  congolaise (0.10)  diminueront (0.10)  euros (0.09)  islamique (0.09)  Europe (0.09)  djihadistes (0.09)  perquisitions (0.09)  Trump (0.08)  cosse (0.07)  Valls (0.07)  isra\u00e9lien (0.06)  djihadiste (0.06)  m\u00e9dias (0.06)  remportent (0.05)  Bassam (0.05)  \n",
        "// vendredi 4 avril //\n",
        "Michel (0.04)  licenciement (0.02)  confront\u00e9 (0.01)  r\u00e9forme (0.00)  changerait (0.00)  version (0.00)  vot\u00e9e (0.00)  salari\u00e9 (0.00)  suivons (0.00)  loi (0.00)  ans (0.00)  travail (0.00)  cong\u00e9s (0.00)  actuelle (0.00)  pour (0.00)  aux (0.00)  dans (0.00)  droit (0.00)  dispositions (0.00)  que (0.00)  temps (0.00)  \u00e9tait (0.00)  exemple (0.00)  elle (0.00)  \n",
        "// jeudi 24 avril //\n",
        "extradition (0.50)  migrants (0.40)  start (0.40)  dessinatrice (0.35)  Bruxelles (0.33)  enc\u00e9phalopathie (0.20)  agha (0.20)  attentats (0.19)  Syrie (0.15)  Abdeslam (0.14)  Turquie (0.13)  extrad\u00e9 (0.12)  Salah (0.12)  contact\u00e9s (0.10)  boud\u00e9e (0.10)  authentifi\u00e9 (0.10)  inondable (0.10)  p\u00e9nalement (0.10)  euros (0.09)  pr\u00e9sidentielle (0.09)  islamique (0.09)  Europe (0.09)  djihadistes (0.09)  perquisitions (0.09)  Trump (0.08)  syrienne (0.08)  Valls (0.07)  dominicaine (0.06)  densification (0.06)  m\u00e9dias (0.06)  \n",
        "// mardi 27 novembre //\n",
        "Syrie (0.15)  sanglante (0.00)  cinq (0.00)  combats (0.00)  apr\u00e8s (0.00)  civile (0.00)  devenue (0.00)  guerre (0.00)  comprendre (0.00)  territoire (0.00)  minutes (0.00)  situation (0.00)  sur (0.00)  ann\u00e9es (0.00)  une (0.00)  son (0.00)  th\u00e9\u00e2tre (0.00)  est (0.00)  plus (0.00)  que (0.00)  bien (0.00)  \n",
        "// samedi 26 avril //\n",
        "migrants (0.40)  Bruxelles (0.33)  centriste (0.30)  spi (0.20)  habilitations (0.20)  attentats (0.19)  Syrie (0.15)  Turquie (0.13)  Europe (0.09)  palestinien (0.08)  isra\u00e9lien (0.06)  bulls (0.06)  djihadiste (0.06)  Clinton (0.05)  vid\u00e9o (0.05)  Allemagne (0.05)  terroriste (0.04)  Sanders (0.04)  San (0.04)  raid (0.04)  investiture (0.03)  terrorisme (0.03)  trinit\u00e9 (0.03)  champions (0.03)  ONU (0.03)  Zika (0.03)  Gr\u00e8ce (0.03)  Lille (0.03)  Washington (0.03)  Arnaud (0.03)  \n",
        "// mercredi 9 avril //\n",
        "migrants (0.40)  Bruxelles (0.33)  relanc\u00e9es (0.20)  revivez (0.20)  quinquennat (0.20)  investitures (0.20)  saoudiennes (0.20)  voteront (0.20)  attentats (0.19)  pesticides (0.16)  Syrie (0.15)  surf (0.13)  tch\u00e9tch\u00e8ne (0.12)  miniaturiser (0.10)  r\u00e9alisatrice (0.10)  arrangeur (0.10)  cor\u00e9en (0.09)  palestiniens (0.09)  euros (0.09)  pr\u00e9sidentielle (0.09)  islamique (0.09)  djihadistes (0.09)  perquisitions (0.09)  Khomri (0.08)  Trump (0.08)  palestinien (0.08)  palestinienne (0.07)  interpell\u00e9s (0.07)  controvers\u00e9 (0.06)  enlumineur (0.06)  \n",
        "// mercredi 16 avril //\n",
        "dopage (1.00)  migratoire (0.60)  migrants (0.40)  start (0.40)  chiffrement (0.40)  dessinatrice (0.35)  Bruxelles (0.33)  p\u00e9dophilie (0.28)  technologies (0.24)  sponsors (0.20)  pl\u00e9biscitent (0.20)  interpell\u00e9es (0.20)  islamistes (0.20)  limogeage (0.20)  zooms (0.20)  attentats (0.19)  Syrie (0.15)  antiterroriste (0.14)  Turquie (0.13)  \u00e9ventration (0.10)  consommons (0.10)  d\u00e9cryptage (0.09)  euros (0.09)  Europe (0.09)  syriens (0.08)  Khomri (0.08)  Trump (0.08)  syrienne (0.08)  embauchent (0.07)  d\u00e9connect\u00e9 (0.06)  \n",
        "// vendredi 11 avril //\n",
        "migrants (0.40)  dessinatrice (0.35)  centriste (0.30)  s\u00e9lectionneur (0.24)  voteront (0.20)  astrophysicien (0.20)  remisent (0.20)  concerneront (0.20)  politiser (0.20)  Syrie (0.15)  d\u00e9verrouiller (0.12)  realpolitik (0.10)  h\u00e9berg\u00e9es (0.10)  pr\u00e9sidentielle (0.09)  Europe (0.09)  Khomri (0.08)  Trump (0.08)  syrienne (0.08)  Valls (0.07)  controvers\u00e9 (0.06)  th\u00e9matiques (0.06)  t\u00e9l\u00e9visions (0.06)  participera (0.06)  occultation (0.06)  Apple (0.05)  Mandel (0.05)  d\u00e9noncent (0.05)  Allemagne (0.05)  Donald (0.05)  Bouagga (0.05)  \n",
        "// vendredi 18 avril //\n",
        "perquisitionn\u00e9 (0.80)  migratoire (0.60)  extradition (0.50)  migrants (0.40)  mails (0.40)  dessinatrice (0.35)  Bruxelles (0.33)  exemplarit\u00e9 (0.20)  dop\u00e9es (0.20)  centristes (0.20)  attentats (0.19)  pesticides (0.16)  Syrie (0.15)  antiterroriste (0.14)  Abdeslam (0.14)  Turquie (0.13)  blanchiment (0.13)  Salah (0.12)  infertilit\u00e9 (0.10)  affrontera (0.10)  pr\u00e9sidentielle (0.09)  islamique (0.09)  Trump (0.08)  kurdes (0.07)  Valls (0.07)  soudanaise (0.06)  PSG (0.06)  djihadiste (0.06)  m\u00e9dias (0.06)  revendiqu\u00e9 (0.06)  \n",
        "// dimanche 13 avril //\n",
        "chiffrement (0.40)  affronteront (0.30)  islamique (0.09)  revendiqu\u00e9 (0.06)  Lyon (0.05)  Bassam (0.05)  Apple (0.05)  Allemagne (0.05)  Ankara (0.05)  terroriste (0.04)  attentat (0.04)  scores (0.04)  FBI (0.04)  Merkel (0.04)  ligue (0.04)  c\u0153ur (0.04)  baln\u00e9aire (0.03)  scrutins (0.03)  r\u00e9fugi\u00e9s (0.02)  SXSW (0.02)  rugby (0.02)  festival (0.02)  terroristes (0.02)  Abidjan (0.01)  Wikip\u00e9dia (0.01)  Yvelines (0.01)  Qaida (0.01)  match (0.01)  r\u00e9publicains (0.01)  l\u00e9gislatives (0.01)  \n",
        "// dimanche 20 avril //\n",
        "Bruxelles (0.33)  centriste (0.30)  p\u00e9dophilie (0.28)  p\u00e9naux (0.20)  vulgarisent (0.20)  attentats (0.19)  Syrie (0.15)  Abdeslam (0.14)  Turquie (0.13)  congolais (0.12)  Salah (0.12)  pris\u00e9s (0.10)  derby (0.10)  talonneur (0.10)  conforte (0.10)  pr\u00e9sidentielle (0.09)  islamique (0.09)  djihadistes (0.09)  controvers\u00e9 (0.06)  anticapitaliste (0.06)  PSG (0.06)  djihadiste (0.06)  Lyon (0.05)  vid\u00e9o (0.05)  Allemagne (0.05)  attentat (0.04)  ligue (0.04)  syrien (0.04)  d\u00e9tect\u00e9e (0.04)  zoom (0.04)  \n",
        "// mardi 15 avril //\n",
        "migrants (0.40)  dessinatrice (0.35)  Bruxelles (0.33)  affronteront (0.30)  p\u00e9dophilie (0.28)  technologies (0.24)  b\u00e9atifi\u00e9e (0.20)  microc\u00e9phalie (0.20)  soignants (0.20)  attentats (0.19)  pesticides (0.16)  Syrie (0.15)  Turquie (0.13)  surf (0.13)  ill\u00e9gaux (0.10)  cor\u00e9en (0.09)  euros (0.09)  pr\u00e9sidentielle (0.09)  islamique (0.09)  Europe (0.09)  djihadistes (0.09)  syriens (0.08)  Trump (0.08)  syrienne (0.08)  interpell\u00e9s (0.07)  Valls (0.07)  accompagneront (0.06)  contournement (0.06)  djihadiste (0.06)  m\u00e9dias (0.06)  \n",
        "// mardi 22 avril //\n",
        "migrants (0.40)  start (0.40)  dessinatrice (0.35)  Bruxelles (0.33)  palpations (0.20)  libyenne (0.20)  enc\u00e9phalopathie (0.20)  r\u00e9\u00e9crite (0.20)  investitures (0.20)  sponsoring (0.20)  attentats (0.19)  pesticides (0.16)  congolais (0.12)  polluantes (0.10)  converg\u00e9 (0.10)  test\u00e9e (0.10)  pressenties (0.10)  rob (0.09)  euros (0.09)  pr\u00e9sidentielle (0.09)  islamique (0.09)  djihadistes (0.09)  Trump (0.08)  isra\u00e9lien (0.06)  m\u00e9diatis\u00e9es (0.06)  birman (0.06)  clarifiant (0.06)  r\u00e9\u00e9crit (0.05)  activ\u00e9 (0.05)  Bassam (0.05)  \n",
        "// jeudi 3 avril //\n",
        "p\u00e9pite (0.04)  footballeurs (0.02)  football (0.02)  universit\u00e9s (0.00)  saison (0.00)  apprentis (0.00)  am\u00e9ricains (0.00)  cherchent (0.00)  fran\u00e7aise (0.00)  reprendre (0.00)  parviennent (0.00)  percer (0.00)  unis (0.00)  offrent (0.00)  aux (0.00)  les (0.00)  une (0.00)  seconde (0.00)  vient (0.00)  qui (0.00)  pas (0.00)  chance (0.00)  quand (0.00) \n"
       ]
      }
     ],
     "prompt_number": 19
    },
    {
     "cell_type": "code",
     "collapsed": false,
     "input": [
      "#norme by day"
     ],
     "language": "python",
     "metadata": {},
     "outputs": [],
     "prompt_number": 20
    },
    {
     "cell_type": "code",
     "collapsed": false,
     "input": [
      "sizeMax = 6\n",
      "data_json = []\n",
      "count_by_days_sorted = sorted( count_by_days.iteritems(), key=lambda x:x[0] )\n",
      "for k, mots_day in count_by_days_sorted:\n",
      "    day_sorted = sorted( mots_day.iteritems(), key= lambda x:x[1], reverse=True )[:20]\n",
      "    maxScore = day_sorted[0][1]\n",
      "    minScore = day_sorted[-1][1]\n",
      "    \n",
      "    liste_day = []\n",
      "    for mot, score in day_sorted:    \n",
      "        score_layout = 1 + round( float(sizeMax-1)/float(maxScore-minScore)*(score-minScore)   )\n",
      "        node = {'label':mot, 'size':score_layout}\n",
      "        liste_day.append( node )\n",
      "    \n",
      "    data_json.append({ 'mots':liste_day, 'day':writeDay( k )  })"
     ],
     "language": "python",
     "metadata": {},
     "outputs": [],
     "prompt_number": 21
    },
    {
     "cell_type": "code",
     "collapsed": false,
     "input": [
      "# save JSON\n",
      "json_file = './web/data.json'\n",
      "with open(json_file, 'w') as outfile:\n",
      "    json.dump(data_json, outfile)"
     ],
     "language": "python",
     "metadata": {},
     "outputs": [],
     "prompt_number": 22
    },
    {
     "cell_type": "code",
     "collapsed": false,
     "input": [],
     "language": "python",
     "metadata": {},
     "outputs": [],
     "prompt_number": 22
    },
    {
     "cell_type": "code",
     "collapsed": false,
     "input": [],
     "language": "python",
     "metadata": {},
     "outputs": [],
     "prompt_number": 22
    }
   ],
   "metadata": {}
  }
 ]
}