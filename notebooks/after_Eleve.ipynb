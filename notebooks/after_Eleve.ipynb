{
 "metadata": {
  "name": "",
  "signature": "sha256:8085aa11d22e87e8cc8846700320097fa405208cd97c444ec8afbbc120421185"
 },
 "nbformat": 3,
 "nbformat_minor": 0,
 "worksheets": [
  {
   "cells": [
    {
     "cell_type": "code",
     "collapsed": false,
     "input": [
      "import json\n",
      "import re"
     ],
     "language": "python",
     "metadata": {},
     "outputs": [],
     "prompt_number": 2
    },
    {
     "cell_type": "code",
     "collapsed": false,
     "input": [
      "# Load \"liste des mots\"\n",
      "import codecs\n",
      "\n",
      "filename = '../data_dico/liste_mots_utf8.txt'\n",
      "# cf: http://www.lexique.org/listes/liste_mots.txt\n",
      "# load\n",
      "with codecs.open(filename, encoding='utf-8') as f:\n",
      "    listemots = f.readlines()\n",
      "  \n",
      "for i, mot in enumerate( listemots ):\n",
      "    a = mot.split('\\t')\n",
      "    freq = float(a[1])\n",
      "    word = a[0]\n",
      "    listemots[i] = (word, freq)\n",
      "\n",
      "dicoFr = { x[0]:x[1] for x in listemots }"
     ],
     "language": "python",
     "metadata": {},
     "outputs": [],
     "prompt_number": 4
    },
    {
     "cell_type": "code",
     "collapsed": false,
     "input": [
      "def printSorted(dico, n = 200 ):\n",
      "    myDico_sorted = sorted(dico.iteritems(), key = lambda x:x[1], reverse=True)\n",
      "    for m, c in myDico_sorted[:n]:\n",
      "        print '%s (%0.2f) ' % (m, c),"
     ],
     "language": "python",
     "metadata": {},
     "outputs": [],
     "prompt_number": 5
    },
    {
     "cell_type": "code",
     "collapsed": false,
     "input": [
      "#\u00a0-- Load nUplets from Eleve --\n",
      "filename = '../Eleve/data_nuplets.json'\n",
      "nuplets_count = json.loads(open(filename).read())\n",
      "\n",
      "print( 'nombre de nuplets: %i ' % len( nuplets_count ) )"
     ],
     "language": "python",
     "metadata": {},
     "outputs": [
      {
       "output_type": "stream",
       "stream": "stdout",
       "text": [
        "nombre de nuplets: 437 \n"
       ]
      }
     ],
     "prompt_number": 6
    },
    {
     "cell_type": "code",
     "collapsed": false,
     "input": [
      "sorted_nuplets = sorted( nuplets_count.items(), key=lambda x:x[1], reverse=True )\n",
      "\n",
      "output = [ x[0]+' (%i)'%x[1] for x in sorted_nuplets  ]\n",
      "print( '; '.join( output ) )"
     ],
     "language": "python",
     "metadata": {},
     "outputs": [
      {
       "output_type": "stream",
       "stream": "stdout",
       "text": [
        "Salah Abdeslam (120); 13 novembre (87); El Khomri (70); Donald Trump (52); Manuel Valls (46); Barack Obama (42); Etat islamique (41); r\u00e9seaux sociaux (33); Johan Cruyff (31); Dilma Rousseff (28); New York (28); \u00c9tat islamique (23); Emmanuel Macron (21); Reda Kriket (20); CAC 40 (20); intelligence artificielle (17); Hillary Clinton (17); vache folle (17); El Bakraoui (17); chiffre d'affaires (16); Projet d'attentat (16); la loi El Khomri (16); r\u00e9vision constitutionnelle (16); Ted Cruz (16); Rolling Stones (15); Batman v Superman (15); Carlos Tavares (15); Indian Wells (15); extr\u00eame droite (15); cardinal Barbarin (14); \u00e9lection pr\u00e9sidentielle (14); Six nations (14); GP d'Australie (13); C\u00f4te d'Ivoire (13); Najim Laachraoui (13); St Moritz (13); R\u00e9mi Fraisse (13); San Bernardino (13); \u00e9tat d\u2019urgence (13); p\u00e9nal international (13); Myriam El Khomri (12); Bernard Cazeneuve (12); Florence Hartmann (12); conseil d'administration (12); Bouygues Telecom (12); Suu Kyi (12); point d'indice (11); Patrice Talon (11); bande dessin\u00e9e (11); organisation Etat islamique (11); Corey Lewandowski (11); perp\u00e9tuit\u00e9 r\u00e9elle (11); Tribunal p\u00e9nal (11); Jean-Pierre Coffe (11); Sven Mary (11); La dessinatrice Lisa Mandel (11); French Tech (11); Manchester City (10); Affaires \u00e9trang\u00e8res (10); Alain Decaux (10); Karim Benzema (10); Wall Street (10); Charlie Hebdo (10); cit\u00e9 antique (10); Cour supr\u00eame (10); agressions sexuelles (10); Arabie saoudite (10); Guerre d'Alg\u00e9rie (9); Radovan Karadzic (9); Jeanne d'Arc (9); C\u00f4te d\u2019Ivoire (9); Cr\u00e9dit Mutuel (9); Angela Merkel (9); zone euro (9); ancienne porte-parole (9); spongiforme bovine (9); Fay\u00e7al Cheffou (9); San Suu Kyi (9); Aung San Suu Kyi (9); r\u00e9alit\u00e9 virtuelle (9); mandat d'arr\u00eat (9); commission d'enqu\u00eate (9); Nations unies (9); Maison Blanche (9); mandat d'arr\u00eat europ\u00e9en (8); Bernie Sanders (8); Xavier Bertrand (8); Abdelkader Merah (8); contr\u00f4leurs a\u00e9riens (8); poids lourd (8); Jim Harrison (8); Buenos Aires (8); Edouard Louis (8); Sylvie Leclerc (8); Zack Snyder (8); \u00eeles grecques (7); Serge Dassault (7); Affaires sociales (7); voiture pi\u00e9g\u00e9e (7); R\u00e9forme constitutionnelle (7); Abdelhamid Abaaoud (7); Jean-Christophe Lagarde (7); Serge Kampf (7); Lionel Zinsou (7); sexe neutre (7); transaction p\u00e9nale (7); Los Angeles (7); San Antonio (7); Sassou Nguesso (7); Ibrahim El Bakraoui (7); Boko Haram (7); Anne Hidalgo (7); 13 Novembre (7); Nadia Savtchenko (7); commission d'enqu\u00eate parlementaire (7); Philippe Poutou (7); investiture r\u00e9publicaine (7); violences polici\u00e8res (6); Aur\u00e9lie Ch\u00e2telain (6); low cost (6); Formule 1 (6); Bayern Munich (6); Carlos Ghosn (6); auteurs d'actes terroristes (6); Atletico Madrid (6); t\u00e9moin assist\u00e9 (6); Val\u00e9rie P\u00e9cresse (6); Jean-Marc Rouillan (6); 0 h (6); Marion Mar\u00e9chal-Le Pen (6); Rob Ford (6); tarifs r\u00e9glement\u00e9s (6); Xi Jinping (6); S\u00e9gol\u00e8ne Royal (6); Kamel Daoud (6); Raul Castro (6); Real Madrid (6); Yvan Mayeur (6); Golden State (6); made in (6); Hinkley Point (6); personnellement pardon aux victimes (6); appartement perquisitionn\u00e9 (6); courte port\u00e9e (6); Daan Myngheer (6); Credit Suisse (6); chroniqueur gastronomique (6); R\u00e9serve f\u00e9d\u00e9rale (5); Jean-Marc Ayrault (5); Du soul\u00e8vement populaire (5); tribunal correctionnel (5); Dom Juan (5); Action directe (5); Crit\u00e9rium international (5); Christian Jeanpierre (5); L\u00e9gislatives partielles (5); mati\u00e8res premi\u00e8res (5); Dominique Strauss-Kahn (5); Bruno Biais (5); cour d'appel (5); Tour d'horizon (5); assembl\u00e9e g\u00e9n\u00e9rale (5); March Madness (5); Krzysztof Warlikowski (5); d\u00e9parts volontaires (5); projet d'a\u00e9roport (5); Geoffroy Didier (5); Soufiane Kayal (5); raids a\u00e9riens (5); abus sexuels (5); Jean Lassalle (5); a-t-on appris (5); Accord UE-Turquie (5); Bison fut\u00e9 (5); Juliette Gr\u00e9co (5); BNP Paribas (5); volume d'\u00e9changes (5); reconnue coupable (5); Lee Sedol (5); Michelle Fields (5); Vu d\u2019Allemagne (5); Vache folle (5); Jeb Bush (5); Denis Sassou-Nguesso (5); Silicon Valley (5); Fidel Castro (5); \u00e9nergies renouvelables (5); Guillaume Musso (5); Gr\u00e9goire Margotton (5); Star Wars (5); militant \u00e9cologiste (5); bande organis\u00e9e (5); hedge funds (4); Jean-Luc M\u00e9lenchon (4); Festival S\u00e9ries Mania (4); Cour p\u00e9nale internationale (4); Laurent Berger (4); pop star (4); activement recherch\u00e9 (4); Sophie Marceau (4); Beno\u00eet XVI (4); pr\u00e9somption d\u2019innocence (4); optimisation fiscale (4); traitement inhumain (4); Sid Ahmed Ghlam (4); Emmanuelle Cosse (4); vos connaissances (4); logements neufs (4); Sao Paulo (4); Giulio Regeni (4); Gilles Kepel (4); Cr\u00e9dit Agricole (4); Anis B. (4); \u00e9coute t\u00e9l\u00e9phonique (4); forces sp\u00e9ciales (4); cour d'appel d'Orl\u00e9ans (4); salle Gaveau (4); meilleure baguette (4); taxe Nutella (4); accident d'autocar (4); assaillant palestinien (4); French Blue (4); insecticides n\u00e9onicotino\u00efdes (4); R\u00e9vision constitutionnelle (4); UE d'\u00e9mission (4); stopper l'afflux (4); Ben Abbes (4); Air Coca\u00efne (4); L\u00e9a Salam\u00e9 (4); moteurs truqu\u00e9s (4); Mariah Carey (4); Meurtre d'Aur\u00e9lie Ch\u00e2telain (4); Jeux olympiques (4); farines animales (4); Renaud Lavillenie (4); Maria Sharapova (4); French Touch (4); spectacles itin\u00e9rants (4); Jacqueline Sauvage (4); membres d'\u00e9quipage (4); chroniqueur gastronomique Jean-Pierre Coffe (4); c\u00e9r\u00e9monie d\u2019hommage (4); parc d'attractions (4); perp\u00e9tuit\u00e9 effective (4); essai nucl\u00e9aire nord-cor\u00e9en (4); vols annul\u00e9s (4);  \u00e9trangleur (4); Agn\u00e8s Saal (4); changement climatique (4); Nicolas Charbonnier (4); Europa League (4); Nadejda Savtchenko (4); Thomas Buberl (4); Jean-Pierre Farandou (4); Drawing after (4); Mohamed Abrini (4); Jacques-Antoine Granjon (4); \u00e9tablissement d'une r\u00e9gion f\u00e9d\u00e9rale (4); iPad Pro (4); conseil r\u00e9gional (4); Galeries Lafayette (4); d\u00e9but d'ann\u00e9e (4); pr\u00eatres p\u00e9dophiles (4); Milan-San Remo (4); XIXe si\u00e8cle (4); Htin Kyaw (4); pirates somaliens (3); Sophie Moinas (3); CRS Alpes (3); Financial Times (3); SOS M\u00e9diterran\u00e9e (3); m\u00e8tres d'altitude (3); Soci\u00e9t\u00e9 G\u00e9n\u00e9rale (3); P\u00f4le emploi (3); t\u00eates d\u2019affiche (3); engin explosif (3); paradis fiscaux (3); station Maelbeek (3); Caf\u00e9 Society (3); Abderamane A. (3); Bang & Olufsen (3); trading haute fr\u00e9quence (3); (ou pas) (3); geste significatif (3); dur\u00e9e ind\u00e9termin\u00e9e (3); Donald Tusk (3); Iggy Pop (3); Laurent Wauquiez (3); Prix Nobel (3); da Silva (3); a sauv\u00e9 (3); Plac\u00e9 appellera (3); Meir Dagan (3); CGT FO FSU (3); BHF Kleinwort (3); Ben Guerdane (3); Jeux Olympiques (3); attractions touristiques (3); Chaperon rouge (3); commotions c\u00e9r\u00e9brales (3); Elon Musk (3); Hong Kong (3); Telecom Italia (3); taux interbancaire (3); Super Tuesday (3); treize \u00e9tudiantes (3); Wolfgang Sch\u00e4uble (3); XXIe si\u00e8cle (3); Savtchenko reconnue coupable (3); Merrick Garland (3); 50e pole (3); pilote d'h\u00e9licopt\u00e8re (3); missiles balistiques (3); applications mobiles (3); Ban Ki-moon (3); Fran\u00e7ois Rebsamen (3); plaque tournante (3); Hama Amadou (3); Bon Coin (3); Lewis Hamilton (3); enc\u00e9phalopathie spongiforme bovine (ESB) (3); Miley Cyrus (3); Johan Leman (3); Mario Greco (3); un d\u2019eux (3); organisations patronales (3); Rokhaya Diallo (3); 70e \u00e9dition (3); Marcel Desailly (3); fins personnelles (3); heure d\u2019\u00e9t\u00e9 (3); couples homosexuels (3); ordre dispers\u00e9 (3); Masters 1000 (3); Bachar Al-Assad (3); Morceaux choisis (3); Tour d\u2019horizon (3); NTT Data (3); Swatch Group (3); to B (3); Hezbollah libanais (3); indice vedette (3); entretien accord\u00e9 (3); Atl\u00e9tico Madrid (3); Manchester United (3); big bang (3); Farouk Ben Abbes (3); Elton John (3); adoption d\u00e9finitive (3); Jeremie Berrebi (3); Poutou d\u00e9sign\u00e9 (3); Rafael Nadal (3); Anthony Dubois (3); zones d'ombre (3); Chr\u00e9tiens d'Orient (3); David Bowie (3); Isabelle Huppert (3); Vladimir Poutine (3); Game of Thrones (3); pape \u00e9m\u00e9rite (3); Fiat Chrysler (3); ai trouv\u00e9s (3); \u00e9lections r\u00e9gionales (3); Bachar Al Assad (3); Luc Besson (3); Munich R\u00e9 (3); d\u00e9bris trouv\u00e9s (3); Woody Allen (3); grandes m\u00e9tropoles (3); FC Barcelone (3); seuls binationaux (3); St\u00e9phane H. (3); mariage gay (3); agences immobili\u00e8res (3); Grand Chelem (3); Guy Nov\u00e8s (3); perte nette (3); missile balistique (3); Catalogne Quintana (3); Maltraitance animale (3); Denis Duverne (3); nationalit\u00e9s diff\u00e9rentes (3); Belgique 13 nouvelles perquisitions (3); chanceli\u00e8re allemande (3); Alain Marsaud (3); demandeurs d\u2019asile (3); Admission post-bac (3); Antoine Griezmann (3); Banco Popolare (3); milieux d'affaires (3); Ra\u00fal Castro (3); chronique Open (3); Cara Delevingne (3); Zurich Insurance (3); masse salariale (3); Mohamed Belka\u00efd (3); Recep Tayyip (3); business angels (3); Julia Roberts (3); J. J. Abrams (3); Champions League (3); heure d'\u00e9t\u00e9 (3); Angelina Jolie (3); of Scotland (3); salon horloger (3); creuse l'\u00e9cart (3); Velvet Underground (3); Kim Jong-un (3); je n\u2019ai (3); Num\u00e9ro 23 (3); UFC-Que Choisir (3); Rahmane al-Qadouli (3); pr\u00e9somption d'innocence (3); maltraitance animale (3); Amedy Coulibaly (3); lanceurs d'alerte (3); monuments d\u00e9truits (3); \u00e9lections l\u00e9gislatives (3); Mick Jagger (3); contr\u00f4l\u00e9s positifs (3); in extremis (3); (Les R\u00e9publicains) (3); mer \u00c9g\u00e9e (3); minorit\u00e9s religieuses (3); listes \u00e9lectorales (3); Brahim Abdeslam (3); ceinture d'explosifs (3); Qui l'e\u00fbt cru (3); frappes a\u00e9riennes (3); think tank (3); Thierry Foucault (3); prime d'activit\u00e9 (3); Eagles of Death Metal (3); ski alpin (3); Julien Lepers (3); Jean-Pierre Bemba (3); Daniel Cohn-Bendit (3)\n"
       ]
      }
     ],
     "prompt_number": 7
    },
    {
     "cell_type": "code",
     "collapsed": false,
     "input": [
      "# -- Load data4eleve --\n",
      "filename = '../Eleve/data4eleve.json'\n",
      "data4eleve = json.loads(open(filename).read())"
     ],
     "language": "python",
     "metadata": {},
     "outputs": [],
     "prompt_number": 8
    },
    {
     "cell_type": "code",
     "collapsed": false,
     "input": [
      "#\u00a0count and remove nuplet from formatted text\n",
      "for post in data4eleve:\n",
      "    post['count'] = {}\n",
      "    for nuplet in nuplets_count.iterkeys():\n",
      "        c = 0\n",
      "        while nuplet in post['formatedtext']:\n",
      "            c += 1\n",
      "            post['formatedtext'] = post['formatedtext'].replace(  nuplet, u'' )\n",
      "        if c > 0:\n",
      "            post['count'].update( {nuplet:c} )"
     ],
     "language": "python",
     "metadata": {},
     "outputs": [],
     "prompt_number": 9
    },
    {
     "cell_type": "code",
     "collapsed": false,
     "input": [
      "#\u00a0en minuscule \n",
      "blacklist = ['etat', 'etats', 'euros', u'est-il', 'actu', u'a-t-il', 'ont-ils', 'a-t-on', 'va-t-il', u'elle-m\u00eame']\n",
      "blacklist.extend( ['axa', u'apr\u00e8s-midi', 'a-t-elle', 'faut-il', u'peut-\u00eatre', 'the', 'sont-elles'] )\n",
      "blacklist.extend(['week-end', u'lui-m\u00eame', u\"qu'on\", 'celle-ci', 'celui-ci', u'au-del\u00e0', 'est-elle', 'sont-ils'])\n",
      "blacklist.extend([u'Lib\u00e9', u'\u0153il', u'\u0153uvre', 'zapping', 'editorial'])\n",
      "# stopwords\n",
      "blacklist.extend(['les', 'des', u'est', u\"\u00e9t\u00e9\", 'pour', 'contre', u'pas', 'dans', 'qui', 'que', 'lui', 'ses', 'une']) \n",
      "blacklist.extend(['avait', 'sur', 'voici', 'avec', 'comme', 'cela', 'aux', 'cette', 'par', 'selon', u'apr\u00e8s', 'fait', 'faire'])\n",
      "blacklist.extend(['nous', 'vous', 'ils', 'elle', 'elles', 'eux', 'ont', 'avez', 'avons','plus', 'ainsi', 'leur', u'\u00eatre'])\n",
      "blacklist.extend(['tout', 'tous', 'toutes', 'depuis', 'moins', 'plus', 'sont', 'vers', 'mme', u'\u00e8me'])\n",
      "\n",
      "\n",
      "\n",
      "# count words\n",
      "words_count = {}\n",
      "for post in data4eleve:\n",
      "    mots = post['formatedtext'].split(' ')\n",
      "    \n",
      "    for mot in mots:\n",
      "        mot = re.sub(u\"[Aa]ujourd.hui\",  '', mot)\n",
      "        mot = re.sub(u\"jusqu.([\u00e0a]|en)\",  '', mot)\n",
      "\n",
      "        mot = re.sub(u\"(^|\\s)[LldDsSnNcCjJ]['`\u2019]\", \"\", mot)\n",
      "        mot = re.sub(u\"(^|\\s)qu['`\u2019]\", \"\", mot)\n",
      "        mot = re.sub(r\"[0-9\\.\\(\\)]\", u'', mot)\n",
      "        mot = re.sub(r\"-$\", u'', mot) \n",
      "        mot = re.sub(r\"\\s\", u'', mot)\n",
      "\n",
      "        if mot.lower() in dicoFr:\n",
      "            mot = mot.lower()     \n",
      "\n",
      "        #if mot.endswith( 's' ) and mot[0:-1] in dicoFr:\n",
      "        #    mot = mot[:-1]      ... pas une bonne idee dans>dan\n",
      "\n",
      "        if len( mot )>2 and mot.lower() not in blacklist:       \n",
      "            if mot in words_count:\n",
      "                words_count[ mot ] += 1\n",
      "            elif mot:\n",
      "                words_count[ mot ] = 1\n",
      "                \n",
      "            if mot in post['count']:\n",
      "                post['count'][ mot ] += 1\n",
      "            elif mot:\n",
      "                post['count'][ mot ] = 1"
     ],
     "language": "python",
     "metadata": {},
     "outputs": [],
     "prompt_number": 415
    },
    {
     "cell_type": "code",
     "collapsed": false,
     "input": [
      "data4eleve[139]"
     ],
     "language": "python",
     "metadata": {},
     "outputs": [
      {
       "metadata": {},
       "output_type": "pyout",
       "prompt_number": 416,
       "text": [
        "{'count': {u'Apple': 1,\n",
        "  u'San Bernardino': 1,\n",
        "  u'acc\\xe9d\\xe9': 1,\n",
        "  u'affirment': 1,\n",
        "  u'aide': 1,\n",
        "  u'am\\xe9ricaines': 1,\n",
        "  u'annuler': 1,\n",
        "  u'appareil': 1,\n",
        "  u'assister': 1,\n",
        "  u'attentat': 1,\n",
        "  u'autorit\\xe9s': 1,\n",
        "  u'avoir': 1,\n",
        "  u'demand\\xe9': 1,\n",
        "  u'donn\\xe9es': 1,\n",
        "  u'd\\xe9bloqu\\xe9': 1,\n",
        "  u'enqu\\xeateurs': 2,\n",
        "  u'firme': 1,\n",
        "  u'iPhone': 1,\n",
        "  u'injonction': 1,\n",
        "  u'justice': 1,\n",
        "  u'obligeant': 1,\n",
        "  u'sans': 1,\n",
        "  u'succ\\xe8s': 1,\n",
        "  u'tueur': 1},\n",
        " u'date': u'2016-03-28T22:35:04',\n",
        " u'description': u'Les autorit\\xe9s am\\xe9ricaines affirment avoir \\xab\\xa0acc\\xe9d\\xe9 avec succ\\xe8s aux donn\\xe9es\\xa0\\xbb de l\\u2019appareil et ont demand\\xe9 \\xe0 la justice d\\u2019annuler l\\u2019injonction obligeant la firme \\xe0 assister les enqu\\xeateurs.',\n",
        " u'formatedtext': u'Attentat de  les enqu\\xeateurs ont d\\xe9bloqu\\xe9 l\\u2019iPhone du tueur sans l\\u2019aide d\\u2019Apple Les autorit\\xe9s am\\xe9ricaines affirment avoir acc\\xe9d\\xe9 avec succ\\xe8s aux donn\\xe9es de l\\u2019appareil et ont demand\\xe9 \\xe0 la justice d\\u2019annuler l\\u2019injonction obligeant la firme \\xe0 assister les enqu\\xeateurs',\n",
        " u'source': u'leMonde',\n",
        " u'title': u'Attentat de San Bernardino\\xa0: les enqu\\xeateurs ont d\\xe9bloqu\\xe9 l\\u2019iPhone du tueur sans l\\u2019aide d\\u2019Apple'}"
       ]
      }
     ],
     "prompt_number": 416
    },
    {
     "cell_type": "code",
     "collapsed": false,
     "input": [
      "printSorted( words_count , 40)"
     ],
     "language": "python",
     "metadata": {},
     "outputs": [
      {
       "output_type": "stream",
       "stream": "stdout",
       "text": [
        "son (778.00)  France (551.00)  attentats (503.00)  Bruxelles (480.00)  ans (421.00)  deux (361.00)  paris (349.00)  fran\u00e7ais (335.00)  mars (300.00)  mais (264.00)  loi (262.00)  travail (252.00)  ministre (244.00)  entre (240.00)  mardi (227.00)  avoir (219.00)  pr\u00e9sident (216.00)  groupe (213.00)  pays (202.00)  jeudi (199.00)  premier (198.00)  projet (195.00)  monde (187.00)  lors (182.00)  millions (174.00)  \u00e9tait (170.00)  Europe (169.00)  face (165.00)  nouveau (165.00)  trois (164.00)  sans (159.00)  mois (158.00)  nouvelle (148.00)  gouvernement (145.00)  veut (144.00)  ces (142.00)  hollande (140.00)  attentat (140.00)  mort (138.00)  dernier (138.00) \n"
       ]
      }
     ],
     "prompt_number": 417
    },
    {
     "cell_type": "code",
     "collapsed": false,
     "input": [
      "words_count_dicoFr = {}\n",
      "notInDicoFr = {}\n",
      "for m, c in words_count.iteritems():\n",
      "\n",
      "    if m in dicoFr : # and c*n_mots > 1:\n",
      "        score = float( c )/float( nMots )  / (dicoFr[m]*1e-6)\n",
      "        words_count_dicoFr[m] = score\n",
      "    else:\n",
      "        score =  c #/float( nMots )*1e3\n",
      "        notInDicoFr[m] = score\n",
      "        \n",
      "words_sorted_dicoFr = sorted(words_count_dicoFr.iteritems(), key = lambda x:x[1], reverse=True)\n",
      "notInDicoFr_sorted = sorted(notInDicoFr.iteritems(), key = lambda x:x[1], reverse=True)"
     ],
     "language": "python",
     "metadata": {},
     "outputs": [],
     "prompt_number": 418
    },
    {
     "cell_type": "code",
     "collapsed": false,
     "input": [
      "len( words_sorted_dicoFr )"
     ],
     "language": "python",
     "metadata": {},
     "outputs": [
      {
       "metadata": {},
       "output_type": "pyout",
       "prompt_number": 419,
       "text": [
        "13680"
       ]
      }
     ],
     "prompt_number": 419
    },
    {
     "cell_type": "code",
     "collapsed": false,
     "input": [
      "printSorted(words_count_dicoFr, 200)\n",
      "print '\\n'\n",
      "printSorted(notInDicoFr, 200)"
     ],
     "language": "python",
     "metadata": {},
     "outputs": [
      {
       "output_type": "stream",
       "stream": "stdout",
       "text": [
        "crash (9068.58)  dopage (8280.01)  partenariat (7491.43)  airbus (4337.15)  extradition (3942.86)  d\u00e9crypte (3548.57)  migratoire (3548.57)  quinquennat (3548.57)  islamistes (2957.15)  attentats (2632.64)  migrants (2528.87)  centristes (2365.72)  attractivit\u00e9 (2365.72)  antiterroriste (2274.73)  radicalisation (2001.76)  p\u00e9dophilie (2001.76)  volatilit\u00e9 (1971.43)  piratage (1971.43)  trisomie (1971.43)  palpations (1971.43)  centriste (1774.29)  interpell\u00e9es (1577.14)  y\u00e9m\u00e9nites (1577.14)  \u00e9cosyst\u00e8me (1577.14)  microc\u00e9phalie (1577.14)  antiraciste (1577.14)  dysfonctionnements (1577.14)  technologies (1537.72)  kurdes (1478.57)  spiegel (1380.00)  cannabis (1182.86)  questionnements (1182.86)  chiffrement (1182.86)  ivoirienne (1182.86)  buralistes (1182.86)  fragilis\u00e9 (1182.86)  logiciel (1182.86)  bruxelloise (1182.86)  chiite (1182.86)  plaidera (1182.86)  revivez (1182.86)  r\u00e9\u00e9criture (1182.86)  b\u00e9n\u00e9volat (1182.86)  exemplarit\u00e9 (1182.86)  s\u00e9lectionneur (1182.86)  \u00e9mergents (1182.86)  cubains (1064.57)  majoritairement (985.72)  enc\u00e9phalopathie (985.72)  fustige (985.72)  sponsors (985.72)  blanchiment (933.84)  palestinien (822.86)  d\u00e9cryptage (818.90)  connectent (788.57)  interceptions (788.57)  capteurs (788.57)  shows (788.57)  castriste (788.57)  fragilise (788.57)  event (788.57)  mon\u00e9gasque (788.57)  chutent (788.57)  sexistes (788.57)  r\u00e9\u00e9crite (788.57)  isra\u00e9liennes (788.57)  g\u00e9n\u00e9rer (788.57)  chroniqueuse (788.57)  sponsoring (788.57)  qu\u00e9b\u00e9cois (788.57)  soignants (788.57)  comparaissait (788.57)  recentrer (788.57)  aiguilleurs (788.57)  kiwi (788.57)  r\u00e9silience (788.57)  f\u00e9miniser (788.57)  plafonnement (788.57)  opposante (788.57)  pl\u00e9biscitent (788.57)  mails (788.57)  hypothermie (788.57)  facturer (788.57)  embauches (788.57)  affronteront (788.57)  chrismale (788.57)  bi\u00e8vres (788.57)  r\u00e9am\u00e9nage (788.57)  t\u00e9l\u00e9visuels (788.57)  d\u00e9sengagement (788.57)  congolais (709.71)  pesticides (684.81)  incontournable (665.36)  migrant (636.92)  terrorisme (619.59)  pr\u00e9sidentielle (600.39)  transf\u00e8rement (591.43)  libyenne (591.43)  dangerosit\u00e9 (591.43)  derby (591.43)  a\u00e9rogares (591.43)  panda (591.43)  boycott (591.43)  conforte (591.43)  concerneront (591.43)  interview\u00e9e (591.43)  califat (591.43)  impay\u00e9s (591.43)  investitures (591.43)  ill\u00e9gaux (591.43)  populisme (591.43)  extrad\u00e9 (591.43)  bruxellois (591.43)  missiles (591.43)  kurde (591.43)  m\u00e9diatique (560.30)  terroriste (552.00)  kamikazes (550.64)  comp\u00e9titivit\u00e9 (545.93)  \u00e9cologiste (545.93)  baisseront (545.93)  p\u00e9dophiles (545.93)  m\u00e9dias (540.32)  vid\u00e9o (535.10)  d\u00e9jou\u00e9 (494.65)  n\u00e9erlandaise (489.46)  contournement (473.14)  expulsions (473.14)  m\u00e9diatiques (473.14)  harkis (454.95)  pr\u00e9sidente (449.82)  pr\u00e9sum\u00e9s (448.67)  chut\u00e9 (435.79)  investisseurs (428.28)  controvers\u00e9 (424.62)  palestiniens (424.62)  isra\u00e9lien (424.62)  attentat (414.00)  herbicide (394.29)  muselle (394.29)  liquidateurs (394.29)  adoubements (394.29)  photomontage (394.29)  divas (394.29)  r\u00e9\u00e9crites (394.29)  limogeage (394.29)  improvisatrice (394.29)  exon\u00e8re (394.29)  horlog\u00e8res (394.29)  d\u00e9clinera (394.29)  agha (394.29)  d\u00e9poussi\u00e8re (394.29)  plombent (394.29)  lunetier (394.29)  sponsor (394.29)  pal\u00e9ontologue (394.29)  codirecteur (394.29)  submersible (394.29)  booster (394.29)  transalpins (394.29)  boycotter (394.29)  voteront (394.29)  hulot (394.29)  d\u00e9sorganis\u00e9e (394.29)  meneau (394.29)  laces (394.29)  astrophysicien (394.29)  p\u00e9naux (394.29)  affranchissent (394.29)  cumulable (394.29)  popularit\u00e9s (394.29)  tyrannosaure (394.29)  emboutissage (394.29)  touareg (394.29)  caritative (394.29)  d\u00e9sertification (394.29)  lynch\u00e9e (394.29)  lynch\u00e9s (394.29)  pilot\u00e9e (394.29)  n\u00e9gocierait (394.29)  polluante (394.29)  caricaturant (394.29)  \u00e9pinglent (394.29)  surclass\u00e9e (394.29)  chypriote (394.29)  pr\u00e9sidera (394.29)  intox (394.29)  bazookas (394.29)  d\u00e9viances (394.29)  saoudiennes (394.29)  spi (394.29)  lifting (394.29)  d\u00e9fieront (394.29)  r\u00e9invent\u00e9e (394.29)  habilitations (394.29)  colocataires (394.29)  contres (394.29)  m\u00e9thaniers (394.29)  vulgarisent (394.29)  boulingrin (394.29)  \n",
        "\n",
        "France (551.00)  Bruxelles (480.00)  Europe (169.00)  Syrie (128.00)  Turquie (113.00)  Etats-Unis (96.00)  Fran\u00e7ois (94.00)  Molenbeek (74.00)  Euro (69.00)  Palmyre (61.00)  Russie (59.00)  Sarkozy (57.00)  Twitter (52.00)  Michel (51.00)  Pays-Bas (48.00)  Allemagne (48.00)  djihadiste (48.00)  Apple (47.00)  djihadistes (47.00)  Nicolas (46.00)  Valls (45.00)  Volkswagen (45.00)  Royaume-Uni (44.00)  Abdeslam (44.00)  start-up (44.00)  Obama (43.00)  Lyon (41.00)  Trump (39.00)  Italie (38.00)  iPhone (38.00)  Washington (38.00)  Lula (37.00)  Gr\u00e8ce (37.00)  Pen (35.00)  Cor\u00e9e (35.00)  Isra\u00ebl (34.00)  Internet (32.00)  SNCF (32.00)  Espagne (31.00)  PDG (31.00)  Philippe (30.00)  Fifa (29.00)  Miami (29.00)  Google (29.00)  Marseille (28.00)  ONU (28.00)  Ankara (28.00)  PSG (27.00)  Daech (27.00)  \u00c9tats-Unis (26.00)  Irak (26.00)  Ile-de-France (26.00)  Afrique (26.00)  Zaventem (26.00)  AFP (26.00)  Pakistan (26.00)  Jupp\u00e9 (24.00)  FBI (24.00)  Toulouse (24.00)  Bruno (23.00)  plate-forme (23.00)  Macron (22.00)  internautes (22.00)  Strasbourg (22.00)  Alg\u00e9rie (22.00)  Clinton (22.00)  EDF (21.00)  Benzema (21.00)  NBA (21.00)  Rio (20.00)  Facebook (20.00)  #Baselworld (20.00)  Brexit (20.00)  Tunisie (20.00)  RATP (20.00)  Gen\u00e8ve (20.00)  Patrick (19.00)  Montpellier (19.00)  Istanbul (19.00)  Y\u00e9men (19.00)  PSA (18.00)  Renault (18.00)  UDI (18.00)  Kanner (18.00)  Foll (18.00)  c\u0153ur (18.00)  CGT (18.00)  Arnaud (17.00)  Lille (17.00)  Ardennes (17.00)  Sivens (17.00)  PIB (17.00)  Barcelone (17.00)  Ukraine (17.00)  vid\u00e9os (17.00)  Insee (17.00)  Henri (17.00)  vice-pr\u00e9sident (16.00)  Libye (16.00)  Qatar (16.00)  Shanghai (16.00)  ONG (16.00)  Am\u00e9rique (16.00)  Sanders (16.00)  Merah (15.00)  Antoine (15.00)  Vincent (15.00)  Moscou (15.00)  Microsoft (15.00)  Germanwings (15.00)  islamiste (15.00)  Zika (14.00)  Web (14.00)  UE-Turquie (14.00)  Asie (14.00)  Hand (14.00)  SFR (14.00)  Deschamps (14.00)  djihad (14.00)  d\u00e9put\u00e9e (14.00)  David (14.00)  Birmanie (14.00)  Mohamed (14.00)  Castries (14.00)  BCE (13.00)  Thierry (13.00)  Egypte (13.00)  Pologne (13.00)  Argenteuil (13.00)  Lagard\u00e8re (13.00)  Australie (13.00)  Cruyff (13.00)  Didier (13.00)  ex-pr\u00e9sident (13.00)  St\u00e9phane (13.00)  Big (13.00)  Yahoo (13.00)  ESB (13.00)  Nigeria (13.00)  Canal+ (13.00)  Khalid (13.00)  Barbarin (12.00)  informatiques (12.00)  Floride (12.00)  Bretagne (12.00)  France-Russie (12.00)  Eric (12.00)  Saint-Denis (12.00)  Medef (12.00)  Grand-Bassam (12.00)  Notre-Dame-des-Landes (12.00)  Niger (11.00)  Irlande (11.00)  CFDT (11.00)  JDD (11.00)  biodiversit\u00e9 (11.00)  Uber (11.00)  Pyongyang (11.00)  Christian (11.00)  jihadistes (11.00)  Demoiti\u00e9 (11.00)  Bernard (11.00)  EgyptAir (11.00)  D\u00e9mare (11.00)  ex-Yougoslavie (11.00)  Erdogan (11.00)  cofondateur (11.00)  supporteurs (11.00)  Economie (11.00)  Times (11.00)  Mossoul (11.00)  PNR (10.00)  Djokovic (10.00)  Blatter (10.00)  Orly (10.00)  euro (10.00)  suspect-cl\u00e9 (10.00)  Bouagga (10.00)  Bollor\u00e9 (10.00)  Eiffel (10.00)  Kerry (10.00)  Ford (10.00)  Instagram (10.00)  TPIY (10.00)  James (10.00)  Arizona (10.00)  Rousseff (10.00)  Amsterdam (10.00)  Bosnie (10.00)  Poutine (10.00)  Yasmine (10.00)  prud'hommes (10.00)  t\u00e9l\u00e9coms (10.00)  jihadiste (10.00)  Grande-Bretagne (10.00)  Colombie (9.00)  Idomeni (9.00)  Aung (9.00)  Eurocoupe (9.00)  OMS (9.00) \n"
       ]
      }
     ],
     "prompt_number": 420
    },
    {
     "cell_type": "code",
     "collapsed": false,
     "input": [
      "print notInDicoFr_sorted[-50:]"
     ],
     "language": "python",
     "metadata": {},
     "outputs": [
      {
       "output_type": "stream",
       "stream": "stdout",
       "text": [
        "[(u'Fab', 1), (u'Szydlo', 1), (u'Gaby', 1), (u'Salah', 1), (u'trois-quarts', 1), (u'Baguet', 1), (u'supporteur', 1), (u'F\\xe9lix', 1), (u'Sun', 1), (u'Nacer', 1), (u'Kering', 1), (u'Special\\u2009', 1), (u'Sihanouk', 1), (u'Saint-Etienne', 1), (u'Rothschild', 1), (u'Fongecif', 1), (u'Imagine-t-on', 1), (u'Se-dol', 1), (u'\\xeatre\\u2009', 1), (u'Slov\\xe9nie', 1), (u'gazole', 1), (u'Tsatevich', 1), (u'Angelica', 1), (u'Slovaquie', 1), (u'Kilde', 1), (u'pr\\xe9pay\\xe9es', 1), (u'Marrakech', 1), (u'Amy', 1), (u'd\\xe9miner', 1), (u'\\u201cvache', 1), (u'campagne\\u2009', 1), (u'Kyrgios', 1), (u'made', 1), (u'Mustafa', 1), (u'Ten', 1), (u'tire-bouchon', 1), (u'nuit-l\\xe0', 1), (u'plongeur-cin\\xe9aste', 1), (u'Gregorian', 1), (u'allers-retours', 1), (u'\\u2009concurrence', 1), (u'Auteuil', 1), (u'Karim', 1), (u'cybers\\xe9curit\\xe9', 1), (u'Louxor', 1), (u'\\u2009Zdar\\u2009', 1), (u'Zavantem', 1), (u'Gheit', 1), (u'blacklist\\xe9', 1), (u'Ba\\xefkonour', 1)]\n"
       ]
      }
     ],
     "prompt_number": 421
    },
    {
     "cell_type": "code",
     "collapsed": false,
     "input": [
      "#\u00a0Merge :"
     ],
     "language": "python",
     "metadata": {},
     "outputs": [],
     "prompt_number": 422
    },
    {
     "cell_type": "code",
     "collapsed": false,
     "input": [
      "maxDicoFr, scoreMax = words_sorted_dicoFr[0]\n",
      "normalisation = 10*words_count[maxDicoFr]/float( scoreMax )\n",
      "\n",
      "print scoreMax\n",
      "words_dicoFr_normed = { k:count*normalisation for k, count in words_count_dicoFr.iteritems() }"
     ],
     "language": "python",
     "metadata": {},
     "outputs": [
      {
       "output_type": "stream",
       "stream": "stdout",
       "text": [
        "9068.57816523\n"
       ]
      }
     ],
     "prompt_number": 423
    },
    {
     "cell_type": "code",
     "collapsed": false,
     "input": [
      "signifiants = {}\n",
      "signifiants.update( notInDicoFr )\n",
      "\n",
      "signifiants.update( nuplets_count )\n",
      "signifiants.update( words_dicoFr_normed )\n",
      "\n",
      "print len( signifiants )"
     ],
     "language": "python",
     "metadata": {},
     "outputs": [
      {
       "output_type": "stream",
       "stream": "stdout",
       "text": [
        "19866\n"
       ]
      }
     ],
     "prompt_number": 424
    },
    {
     "cell_type": "code",
     "collapsed": false,
     "input": [
      "printSorted(signifiants, 400)"
     ],
     "language": "python",
     "metadata": {},
     "outputs": [
      {
       "output_type": "stream",
       "stream": "stdout",
       "text": [
        "France (551.00)  Bruxelles (480.00)  crash (230.00)  dopage (210.00)  partenariat (190.00)  Europe (169.00)  Syrie (128.00)  Salah Abdeslam (120.00)  Turquie (113.00)  airbus (110.00)  extradition (100.00)  Etats-Unis (96.00)  Fran\u00e7ois (94.00)  quinquennat (90.00)  migratoire (90.00)  d\u00e9crypte (90.00)  13 novembre (87.00)  islamistes (75.00)  Molenbeek (74.00)  El Khomri (70.00)  Euro (69.00)  attentats (66.77)  migrants (64.14)  Palmyre (61.00)  attractivit\u00e9 (60.00)  centristes (60.00)  Russie (59.00)  antiterroriste (57.69)  Sarkozy (57.00)  Donald Trump (52.00)  Twitter (52.00)  Michel (51.00)  radicalisation (50.77)  p\u00e9dophilie (50.77)  trisomie (50.00)  piratage (50.00)  volatilit\u00e9 (50.00)  palpations (50.00)  djihadiste (48.00)  Pays-Bas (48.00)  Allemagne (48.00)  djihadistes (47.00)  Apple (47.00)  Manuel Valls (46.00)  Nicolas (46.00)  Valls (45.00)  centriste (45.00)  Volkswagen (45.00)  Abdeslam (44.00)  start-up (44.00)  Royaume-Uni (44.00)  Obama (43.00)  Barack Obama (42.00)  Lyon (41.00)  Etat islamique (41.00)  \u00e9cosyst\u00e8me (40.00)  microc\u00e9phalie (40.00)  antiraciste (40.00)  interpell\u00e9es (40.00)  y\u00e9m\u00e9nites (40.00)  dysfonctionnements (40.00)  Trump (39.00)  technologies (39.00)  Italie (38.00)  Washington (38.00)  iPhone (38.00)  kurdes (37.50)  Lula (37.00)  Gr\u00e8ce (37.00)  spiegel (35.00)  Cor\u00e9e (35.00)  Pen (35.00)  Isra\u00ebl (34.00)  r\u00e9seaux sociaux (33.00)  Internet (32.00)  SNCF (32.00)  Johan Cruyff (31.00)  Espagne (31.00)  PDG (31.00)  cannabis (30.00)  questionnements (30.00)  chiffrement (30.00)  buralistes (30.00)  fragilis\u00e9 (30.00)  plaidera (30.00)  b\u00e9n\u00e9volat (30.00)  r\u00e9\u00e9criture (30.00)  ivoirienne (30.00)  exemplarit\u00e9 (30.00)  chiite (30.00)  logiciel (30.00)  revivez (30.00)  bruxelloise (30.00)  s\u00e9lectionneur (30.00)  \u00e9mergents (30.00)  Philippe (30.00)  Google (29.00)  Miami (29.00)  Fifa (29.00)  ONU (28.00)  Ankara (28.00)  New York (28.00)  Dilma Rousseff (28.00)  Marseille (28.00)  PSG (27.00)  Daech (27.00)  cubains (27.00)  \u00c9tats-Unis (26.00)  Zaventem (26.00)  Irak (26.00)  Ile-de-France (26.00)  Afrique (26.00)  AFP (26.00)  Pakistan (26.00)  majoritairement (25.00)  fustige (25.00)  sponsors (25.00)  enc\u00e9phalopathie (25.00)  Jupp\u00e9 (24.00)  FBI (24.00)  Toulouse (24.00)  blanchiment (23.68)  \u00c9tat islamique (23.00)  Bruno (23.00)  plate-forme (23.00)  internautes (22.00)  Clinton (22.00)  Macron (22.00)  Strasbourg (22.00)  Alg\u00e9rie (22.00)  NBA (21.00)  EDF (21.00)  Benzema (21.00)  Emmanuel Macron (21.00)  palestinien (20.87)  d\u00e9cryptage (20.77)  Rio (20.00)  Facebook (20.00)  CAC 40 (20.00)  interceptions (20.00)  fragilise (20.00)  chutent (20.00)  r\u00e9\u00e9crite (20.00)  isra\u00e9liennes (20.00)  sexistes (20.00)  sponsoring (20.00)  g\u00e9n\u00e9rer (20.00)  soignants (20.00)  recentrer (20.00)  embauches (20.00)  Tunisie (20.00)  opposante (20.00)  pl\u00e9biscitent (20.00)  Gen\u00e8ve (20.00)  mails (20.00)  facturer (20.00)  chrismale (20.00)  t\u00e9l\u00e9visuels (20.00)  d\u00e9sengagement (20.00)  connectent (20.00)  #Baselworld (20.00)  Reda Kriket (20.00)  shows (20.00)  capteurs (20.00)  event (20.00)  mon\u00e9gasque (20.00)  qu\u00e9b\u00e9cois (20.00)  Brexit (20.00)  comparaissait (20.00)  kiwi (20.00)  r\u00e9am\u00e9nage (20.00)  RATP (20.00)  f\u00e9miniser (20.00)  plafonnement (20.00)  castriste (20.00)  hypothermie (20.00)  affronteront (20.00)  bi\u00e8vres (20.00)  chroniqueuse (20.00)  aiguilleurs (20.00)  r\u00e9silience (20.00)  Montpellier (19.00)  Istanbul (19.00)  Patrick (19.00)  Y\u00e9men (19.00)  congolais (18.00)  Renault (18.00)  UDI (18.00)  Kanner (18.00)  PSA (18.00)  CGT (18.00)  c\u0153ur (18.00)  Foll (18.00)  pesticides (17.37)  Arnaud (17.00)  Lille (17.00)  Hillary Clinton (17.00)  Sivens (17.00)  PIB (17.00)  intelligence artificielle (17.00)  Barcelone (17.00)  El Bakraoui (17.00)  vid\u00e9os (17.00)  Henri (17.00)  vache folle (17.00)  Ardennes (17.00)  Ukraine (17.00)  Insee (17.00)  incontournable (16.88)  migrant (16.15)  vice-pr\u00e9sident (16.00)  Ted Cruz (16.00)  Qatar (16.00)  ONG (16.00)  Sanders (16.00)  r\u00e9vision constitutionnelle (16.00)  chiffre d'affaires (16.00)  la loi El Khomri (16.00)  Libye (16.00)  Shanghai (16.00)  Am\u00e9rique (16.00)  Projet d'attentat (16.00)  terrorisme (15.71)  pr\u00e9sidentielle (15.23)  transf\u00e8rement (15.00)  derby (15.00)  a\u00e9rogares (15.00)  panda (15.00)  boycott (15.00)  interview\u00e9e (15.00)  ill\u00e9gaux (15.00)  populisme (15.00)  dangerosit\u00e9 (15.00)  libyenne (15.00)  investitures (15.00)  conforte (15.00)  concerneront (15.00)  califat (15.00)  impay\u00e9s (15.00)  extrad\u00e9 (15.00)  bruxellois (15.00)  missiles (15.00)  Antoine (15.00)  Vincent (15.00)  Carlos Tavares (15.00)  kurde (15.00)  Indian Wells (15.00)  Rolling Stones (15.00)  extr\u00eame droite (15.00)  Merah (15.00)  islamiste (15.00)  Moscou (15.00)  Microsoft (15.00)  Germanwings (15.00)  Batman v Superman (15.00)  m\u00e9diatique (14.21)  terroriste (14.00)  Zika (14.00)  Web (14.00)  Hand (14.00)  Deschamps (14.00)  \u00e9lection pr\u00e9sidentielle (14.00)  djihad (14.00)  cardinal Barbarin (14.00)  UE-Turquie (14.00)  Asie (14.00)  SFR (14.00)  d\u00e9put\u00e9e (14.00)  David (14.00)  Birmanie (14.00)  Mohamed (14.00)  Castries (14.00)  Six nations (14.00)  kamikazes (13.97)  comp\u00e9titivit\u00e9 (13.85)  baisseront (13.85)  p\u00e9dophiles (13.85)  \u00e9cologiste (13.85)  m\u00e9dias (13.70)  vid\u00e9o (13.57)  BCE (13.00)  Thierry (13.00)  Pologne (13.00)  \u00e9tat d\u2019urgence (13.00)  Khalid (13.00)  Yahoo (13.00)  Lagard\u00e8re (13.00)  Argenteuil (13.00)  Didier (13.00)  St\u00e9phane (13.00)  p\u00e9nal international (13.00)  Najim Laachraoui (13.00)  C\u00f4te d'Ivoire (13.00)  St Moritz (13.00)  Canal+ (13.00)  Egypte (13.00)  GP d'Australie (13.00)  Australie (13.00)  Cruyff (13.00)  ex-pr\u00e9sident (13.00)  San Bernardino (13.00)  Big (13.00)  ESB (13.00)  Nigeria (13.00)  R\u00e9mi Fraisse (13.00)  d\u00e9jou\u00e9 (12.55)  n\u00e9erlandaise (12.41)  Florence Hartmann (12.00)  Myriam El Khomri (12.00)  informatiques (12.00)  Bernard Cazeneuve (12.00)  Eric (12.00)  conseil d'administration (12.00)  Bouygues Telecom (12.00)  Saint-Denis (12.00)  expulsions (12.00)  Bretagne (12.00)  Suu Kyi (12.00)  Barbarin (12.00)  Floride (12.00)  France-Russie (12.00)  contournement (12.00)  Medef (12.00)  Grand-Bassam (12.00)  Notre-Dame-des-Landes (12.00)  m\u00e9diatiques (12.00)  harkis (11.54)  pr\u00e9sidente (11.41)  pr\u00e9sum\u00e9s (11.38)  chut\u00e9 (11.05)  Niger (11.00)  perp\u00e9tuit\u00e9 r\u00e9elle (11.00)  Patrice Talon (11.00)  Christian (11.00)  point d'indice (11.00)  jihadistes (11.00)  Tribunal p\u00e9nal (11.00)  Demoiti\u00e9 (11.00)  Sven Mary (11.00)  Corey Lewandowski (11.00)  D\u00e9mare (11.00)  ex-Yougoslavie (11.00)  Jean-Pierre Coffe (11.00)  Times (11.00)  Mossoul (11.00)  Irlande (11.00)  CFDT (11.00)  JDD (11.00)  biodiversit\u00e9 (11.00)  Uber (11.00)  Pyongyang (11.00)  Bernard (11.00)  EgyptAir (11.00)  bande dessin\u00e9e (11.00)  La dessinatrice Lisa Mandel (11.00)  Erdogan (11.00)  organisation Etat islamique (11.00)  cofondateur (11.00)  supporteurs (11.00)  Economie (11.00)  French Tech (11.00)  investisseurs (10.86)  controvers\u00e9 (10.77)  palestiniens (10.77)  isra\u00e9lien (10.77)  attentat (10.50)  muselle (10.00)  improvisatrice (10.00)  hospitalis\u00e9es (10.00)  pass\u00e9istes (10.00)  exon\u00e8re (10.00)  d\u00e9clinera (10.00)  adoubements (10.00)  photomontage (10.00)  \u00e9lectoraliste (10.00)  liquidateurs (10.00)  Charlie Hebdo (10.00)  booster (10.00)  transalpins (10.00)  Blatter (10.00)  voteront (10.00)  laces (10.00)  euro (10.00)  affranchissent (10.00)  suspect-cl\u00e9 (10.00)  dop\u00e9es (10.00)  emboutissage (10.00)  start (10.00)  touareg (10.00)  saoudiennes (10.00)  r\u00e9\u00e9crites (10.00)  lynch\u00e9s (10.00)  n\u00e9gocierait (10.00)  agressions sexuelles (10.00)  polluante (10.00)  t\u00e9lescoper (10.00)  \u00e9pinglent (10.00)  Kerry (10.00)  Ford (10.00)  r\u00e9invent\u00e9e (10.00) \n"
       ]
      }
     ],
     "prompt_number": 425
    },
    {
     "cell_type": "code",
     "collapsed": false,
     "input": [
      "signifiants['voiture']"
     ],
     "language": "python",
     "metadata": {},
     "outputs": [
      {
       "metadata": {},
       "output_type": "pyout",
       "prompt_number": 426,
       "text": [
        "0.046292536343701784"
       ]
      }
     ],
     "prompt_number": 426
    },
    {
     "cell_type": "code",
     "collapsed": false,
     "input": [
      "words_count['dopage']"
     ],
     "language": "python",
     "metadata": {},
     "outputs": [
      {
       "metadata": {},
       "output_type": "pyout",
       "prompt_number": 427,
       "text": [
        "21"
       ]
      }
     ],
     "prompt_number": 427
    },
    {
     "cell_type": "code",
     "collapsed": false,
     "input": [
      "# -- save JSON --\n",
      "json_file = './dicoDuSignifiants.json'\n",
      "with open(json_file, 'w') as outfile:\n",
      "    json.dump(signifiants, outfile)"
     ],
     "language": "python",
     "metadata": {},
     "outputs": [],
     "prompt_number": 428
    },
    {
     "cell_type": "code",
     "collapsed": false,
     "input": [
      "# -- save JSON --\n",
      "json_file = './data4countByDay.json'\n",
      "with open(json_file, 'w') as outfile:\n",
      "    json.dump(data4eleve, outfile)"
     ],
     "language": "python",
     "metadata": {},
     "outputs": [],
     "prompt_number": 429
    },
    {
     "cell_type": "code",
     "collapsed": false,
     "input": [
      "print sorted(signifiants.iteritems(), key = lambda x:x[1], reverse=False)[:30]"
     ],
     "language": "python",
     "metadata": {},
     "outputs": [
      {
       "output_type": "stream",
       "stream": "stdout",
       "text": [
        "[(u'\\xe9tais', 0.000903179190751445), (u'dessus', 0.0011609008590666356), (u'avais', 0.0012458213076970994), (u'veux', 0.0013531189391547517), (u'mes', 0.001564346798303553), (u'enseignement', 0.0017960845357121475), (u'vais', 0.00194969779684149), (u'e\\xfbt', 0.0020341741253051262), (u'fut', 0.0020451756578648366), (u'aurais', 0.002069393667655377), (u'moi', 0.002084990385877665), (u'soudain', 0.0020998110170084693), (u'cheveux', 0.0021468441391155), (u'bruit', 0.0021502293577981653), (u'importance', 0.0021872265966754157), (u'madame', 0.0024193548387096775), (u'suivant', 0.002449979583503471), (u'aussit\\xf4t', 0.0025451768897938407), (u'f\\xfbt', 0.002688653880623768), (u'esp\\xe8ce', 0.0027688047992616522), (u'soeur', 0.002912621359223301), (u'certaine', 0.0029291154071470417), (u'souvenir', 0.003003003003003003), (u'disait', 0.0030372057706909645), (u'tenait', 0.003101095720487906), (u'vis', 0.003142019271051529), (u'tes', 0.00318945354029343), (u'arbres', 0.0031993174789378266), (u'hasard', 0.0032202662086732504), (u'mon', 0.0032364703978546828)]\n"
       ]
      }
     ],
     "prompt_number": 430
    },
    {
     "cell_type": "code",
     "collapsed": false,
     "input": [
      "for post in data4eleve[:10]:\n",
      "    d =  post['date']"
     ],
     "language": "python",
     "metadata": {},
     "outputs": [],
     "prompt_number": 12
    },
    {
     "cell_type": "code",
     "collapsed": false,
     "input": [
      "type( d ) "
     ],
     "language": "python",
     "metadata": {},
     "outputs": [
      {
       "metadata": {},
       "output_type": "pyout",
       "prompt_number": 13,
       "text": [
        "unicode"
       ]
      }
     ],
     "prompt_number": 13
    },
    {
     "cell_type": "code",
     "collapsed": false,
     "input": [
      "from datetime import datetime"
     ],
     "language": "python",
     "metadata": {},
     "outputs": [],
     "prompt_number": 14
    },
    {
     "cell_type": "code",
     "collapsed": false,
     "input": [
      "print d"
     ],
     "language": "python",
     "metadata": {},
     "outputs": [
      {
       "output_type": "stream",
       "stream": "stdout",
       "text": [
        "2016-03-07T19:06:53\n"
       ]
      }
     ],
     "prompt_number": 15
    },
    {
     "cell_type": "code",
     "collapsed": false,
     "input": [
      "date = datetime.strptime(d, '%Y-%m-%dT%H:%M:%S')"
     ],
     "language": "python",
     "metadata": {},
     "outputs": [],
     "prompt_number": 16
    },
    {
     "cell_type": "code",
     "collapsed": false,
     "input": [
      "date.year"
     ],
     "language": "python",
     "metadata": {},
     "outputs": [
      {
       "metadata": {},
       "output_type": "pyout",
       "prompt_number": 19,
       "text": [
        "2016"
       ]
      }
     ],
     "prompt_number": 19
    },
    {
     "cell_type": "code",
     "collapsed": false,
     "input": [],
     "language": "python",
     "metadata": {},
     "outputs": []
    }
   ],
   "metadata": {}
  }
 ]
}