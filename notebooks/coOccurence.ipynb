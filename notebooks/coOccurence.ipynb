{
 "metadata": {
  "name": "",
  "signature": "sha256:dcae9e2d81484a7bce445c1edf8e37bbef87306afee8e3bb7ddb8979badc5dfd"
 },
 "nbformat": 3,
 "nbformat_minor": 0,
 "worksheets": [
  {
   "cells": [
    {
     "cell_type": "code",
     "collapsed": false,
     "input": [
      "import json\n",
      "import matplotlib.pyplot as plt\n",
      "import numpy as np\n",
      "import scipy.cluster.hierarchy as sch"
     ],
     "language": "python",
     "metadata": {},
     "outputs": [],
     "prompt_number": 234
    },
    {
     "cell_type": "code",
     "collapsed": false,
     "input": [
      "json_file = './data4countByDay.json'\n",
      "\n",
      "alldata = json.loads(open(json_file).read())\n",
      "print 'nombre de news: %i' % len(alldata)"
     ],
     "language": "python",
     "metadata": {},
     "outputs": [
      {
       "output_type": "stream",
       "stream": "stdout",
       "text": [
        "nombre de news: 5149\n"
       ]
      }
     ],
     "prompt_number": 235
    },
    {
     "cell_type": "code",
     "collapsed": false,
     "input": [
      "json_file = './dicoDuSignifiants.json'\n",
      "\n",
      "signifiants = json.loads(open(json_file).read())\n",
      "\n",
      "signifiantsList = [ k for k, c in signifiants.iteritems() if c > 5 ]\n",
      "signifiantsCount = np.array( [ signifiants[k] for k in signifiantsList ] )\n",
      "\n",
      "print 'nombre de mots signifiants: %i' % len(signifiantsList)"
     ],
     "language": "python",
     "metadata": {},
     "outputs": [
      {
       "output_type": "stream",
       "stream": "stdout",
       "text": [
        "nombre de mots signifiants: 832\n"
       ]
      }
     ],
     "prompt_number": 252
    },
    {
     "cell_type": "code",
     "collapsed": false,
     "input": [
      "co_dict = {}\n",
      "for post in alldata:\n",
      "    mots = post['count'].keys()\n",
      "    for  motA in   mots :\n",
      "        if motA not in signifiantsList: continue\n",
      "        \n",
      "        for  motB in mots:\n",
      "            if motB not in signifiantsList: continue\n",
      "            if motA  == motB : continue\n",
      "                \n",
      "            if motA in co_dict:\n",
      "                if motB in co_dict[motA]:\n",
      "                    co_dict[motA][motB] +=1\n",
      "                else:\n",
      "                    co_dict[motA][motB] = 1\n",
      "            else:\n",
      "                co_dict[motA] = {motB:1}"
     ],
     "language": "python",
     "metadata": {},
     "outputs": [],
     "prompt_number": 261
    },
    {
     "cell_type": "code",
     "collapsed": false,
     "input": [
      "print ', '.join( sorted( co_dict[u'vache folle'].keys() ) )\n",
      "print '\\n'\n",
      "print ', '.join( sorted( co_dict[u'spongiforme bovine'].keys() ) )"
     ],
     "language": "python",
     "metadata": {},
     "outputs": [
      {
       "output_type": "stream",
       "stream": "stdout",
       "text": [
        "Ardennes, ESB, Europe, Foll, France, Grande-Bretagne, Irlande, Johan Cruyff, Karadzic, Royaume-Uni, St\u00e9phane, Union europ\u00e9enne, d\u00e9tect\u00e9, enc\u00e9phalopathie, hexagone, mardi, non-lieu, nord-est, spongiforme bovine\n",
        "\n",
        "\n",
        "Ardennes, ESB, Europe, France, Grande-Bretagne, Irlande, Royaume-Uni, d\u00e9tect\u00e9, enc\u00e9phalopathie, hexagone, mardi, vache folle\n"
       ]
      }
     ],
     "prompt_number": 262
    },
    {
     "cell_type": "code",
     "collapsed": false,
     "input": [
      "A = u'attentat'"
     ],
     "language": "python",
     "metadata": {},
     "outputs": [],
     "prompt_number": 297
    },
    {
     "cell_type": "code",
     "collapsed": false,
     "input": [
      "setA = set( co_dict[ A ].keys() )\n",
      "print A+':'\n",
      "for B, c in co_dict[ A ].iteritems():\n",
      "    setB = set( co_dict[ B ].keys() )\n",
      "    n = len( setB.union( setA ) )-len(setA)\n",
      "    print '%i '%c+B+'(+%i)'% n"
     ],
     "language": "python",
     "metadata": {},
     "outputs": [
      {
       "output_type": "stream",
       "stream": "stdout",
       "text": [
        "attentat:\n",
        "6 mardi(+165)\n",
        "3 Bernard Cazeneuve(+4)\n",
        "2 Abaaoud(+4)\n",
        "17 Turquie(+38)\n",
        "1 soignants(+3)\n",
        "2 bataclan(+5)\n",
        "2 Cazeneuve(+2)\n",
        "12 revendiqu\u00e9(+1)\n",
        "1 Schaerbeek(+6)\n",
        "2 Aur\u00e9lie Ch\u00e2telain(+1)\n",
        "1 ivoirienne(+1)\n",
        "1 inculp\u00e9(+9)\n",
        "1 extradition(+7)\n",
        "3 Euro(+28)\n",
        "1 internautes(+24)\n",
        "1 crash(+10)\n",
        "1 cuba(+23)\n",
        "2 jihadiste(+9)\n",
        "1 Maelbeek(+9)\n",
        "1 logisticiens(+2)\n",
        "1 Barack Obama(+28)\n",
        "1 Bamako(+4)\n",
        "1 Marseille(+21)\n",
        "1 djihad(+11)\n",
        "3 djihadiste(+42)\n",
        "3 antiterroriste(+7)\n",
        "6 Pakistan(+7)\n",
        "4 Reda Kriket(+2)\n",
        "1 terroristes(+54)\n",
        "1 Abdeslam(+31)\n",
        "1 JDD(+2)\n",
        "1 Antoine(+6)\n",
        "1 pilot\u00e9e(+1)\n",
        "1 Roissy(+6)\n",
        "2 pr\u00e9sum\u00e9s(+3)\n",
        "1 Daech(+16)\n",
        "2 c\u0153ur(+26)\n",
        "8 a\u00e9roport(+35)\n",
        "11 attentats(+133)\n",
        "2 nord-est(+15)\n",
        "3 PKK(+2)\n",
        "2 n\u00e9erlandaise(+14)\n",
        "4 djihadistes(+28)\n",
        "3 \u00c9tat islamique(+12)\n",
        "2 Zaventem(+9)\n",
        "1 David(+18)\n",
        "3 Grand-Bassam(+5)\n",
        "2 Projet d'attentat(+1)\n",
        "4 Salah Abdeslam(+34)\n",
        "1 Sven Mary(+9)\n",
        "1 \u00c9tats-Unis(+23)\n",
        "7 Etat islamique(+31)\n",
        "1 derby(+2)\n",
        "3 voiture pi\u00e9g\u00e9e(+4)\n",
        "13 Istanbul(+1)\n",
        "5 terroriste(+44)\n",
        "2 Nigeria(+6)\n",
        "1 islamiste(+10)\n",
        "2 Europe(+105)\n",
        "4 Irak(+12)\n",
        "1 Bagdad(+6)\n",
        "3 kurde(+8)\n",
        "3 Argenteuil(+3)\n",
        "2 kurdes(+11)\n",
        "3 kamikaze(+12)\n",
        "1 interpell\u00e9es(+2)\n",
        "3 Tunis(+2)\n",
        "14 France(+223)\n",
        "4 attentat-suicide(+5)\n",
        "1 migrants(+47)\n",
        "2 bruxellois(+12)\n",
        "4 Kurdistan(+8)\n",
        "1 Reda(+4)\n",
        "4 Bardo(+1)\n",
        "2 islamistes(+5)\n",
        "1 Charlie Hebdo(+2)\n",
        "2 tu\u00e9es(+13)\n",
        "6 interpell\u00e9(+10)\n",
        "1 Boko Haram(+3)\n",
        "7 d\u00e9jou\u00e9(+5)\n",
        "2 Isra\u00ebl(+26)\n",
        "1 kamikazes(+12)\n",
        "8 Ankara(+15)\n",
        "4 terrorisme(+60)\n",
        "2 C\u00f4te d\u2019Ivoire(+5)\n",
        "2 Pays-Bas(+27)\n",
        "3 13 novembre(+42)\n",
        "1 pi\u00e9tonne(+1)\n",
        "1 C\u00f4te d'Ivoire(+10)\n",
        "2 Syrie(+45)\n",
        "2 Tunisie(+9)\n",
        "1 jihadistes(+15)\n",
        "20 Bruxelles(+124)\n",
        "1 Fran\u00e7ois(+62)\n"
       ]
      }
     ],
     "prompt_number": 298
    },
    {
     "cell_type": "code",
     "collapsed": false,
     "input": [
      "print ', '.join( sorted( co_dict[u'Blatter'].keys() ) )"
     ],
     "language": "python",
     "metadata": {},
     "outputs": [
      {
       "output_type": "stream",
       "stream": "stdout",
       "text": [
        "AFP, Cruyff, FIFA, Fifa, J\u00e9r\u00f4me, Michel, Platini, Poutine, controvers\u00e9, ex-pr\u00e9sident, perquisitions\n"
       ]
      }
     ],
     "prompt_number": 271
    },
    {
     "cell_type": "code",
     "collapsed": false,
     "input": [
      "sorted( co_dict.iteritems(), key= lambda x:len(x[1]) )[:30]"
     ],
     "language": "python",
     "metadata": {},
     "outputs": [
      {
       "metadata": {},
       "output_type": "pyout",
       "prompt_number": 269,
       "text": [
        "[(u'pl\\xe9biscitent', {u'France': 1}),\n",
        " (u'trisomie', {u'France': 1}),\n",
        " (u'sponsoring', {u'd\\xe9noncent': 1}),\n",
        " (u'photovolta\\xefque', {u'France': 1}),\n",
        " (u'banalise', {u'Los Angeles': 1}),\n",
        " (u'd\\xe9poussi\\xe8re', {u'Avignon': 1}),\n",
        " (u'plombent', {u'Allemagne': 1}),\n",
        " (u'Bayonne', {u'mardi': 1}),\n",
        " (u'capteurs', {u'start-up': 1}),\n",
        " (u'chroniqueuse', {u'Instagram': 1}),\n",
        " (u'b\\xe9n\\xe9volat', {u'associatif': 1}),\n",
        " (u'cumulable', {u'S\\xe9gol\\xe8ne Royal': 1}),\n",
        " (u'sexe neutre', {u'Bruxelles': 1}),\n",
        " (u'b\\xe9atifi\\xe9e', {u'Vatican': 1}),\n",
        " (u'violent\\xe9', {u'lyc\\xe9en': 1}),\n",
        " (u'entamera', {u\"auteurs d'actes terroristes\": 1}),\n",
        " (u'th\\xe9matiques', {u'French Tech': 1}),\n",
        " (u'lifting', {u'France': 1}),\n",
        " (u'plafonnement', {u'Manuel Valls': 1}),\n",
        " (u'remisent', {u'Floride': 1}),\n",
        " (u'polluante', {u'France': 1}),\n",
        " (u'caricaturant', {u'Malaisie': 2}),\n",
        " (u'cop', {u'France': 1}),\n",
        " (u'\\xe9pinglent', {u'ONG': 1}),\n",
        " (u'Biathlon', {u'start': 1}),\n",
        " (u'sponsor', {u'Fifa': 2}),\n",
        " (u'surclass\\xe9e', {u'Miami': 1}),\n",
        " (u'shows', {u'James': 1}),\n",
        " (u'mon\\xe9gasque', {u'PSG': 2}),\n",
        " (u'd\\xe9stabilis\\xe9', {u'streaming': 1})]"
       ]
      }
     ],
     "prompt_number": 269
    },
    {
     "cell_type": "code",
     "collapsed": false,
     "input": [
      "n = len( signifiantsList )\n",
      "co_M = np.zeros( (n, n) ) \n",
      "co_dict = {}\n",
      "for post in alldata:\n",
      "    mots = post['count'].keys()\n",
      "    for k, motA in  enumerate( mots ):\n",
      "        if motA not in signifiantsList: continue\n",
      "        i = signifiantsList.index(motA)\n",
      "        \n",
      "        for  motB in mots[:k]:\n",
      "            if motB not in signifiantsList: continue\n",
      "            j = signifiantsList.index(motB)\n",
      "                \n",
      "            co_M[min(i, j), max(i, j)] += 1\n",
      "            \n",
      "            if motA in co_dict:\n",
      "                if motB in co_dict[motA]:\n",
      "                    co_dict[motA][motB] +=1\n",
      "                else:\n",
      "                    co_dict[motA][motB] = 1\n",
      "            else:\n",
      "                co_dict[motA] = {motB:1}"
     ],
     "language": "python",
     "metadata": {},
     "outputs": []
    },
    {
     "cell_type": "code",
     "collapsed": false,
     "input": [
      "co_M"
     ],
     "language": "python",
     "metadata": {},
     "outputs": [
      {
       "metadata": {},
       "output_type": "pyout",
       "prompt_number": 145,
       "text": [
        "array([[ 0.,  0.,  3., ...,  0.,  0.,  0.],\n",
        "       [ 0.,  0.,  0., ...,  0.,  0.,  0.],\n",
        "       [ 0.,  0.,  0., ...,  0.,  0.,  0.],\n",
        "       ..., \n",
        "       [ 0.,  0.,  0., ...,  0.,  0.,  0.],\n",
        "       [ 0.,  0.,  0., ...,  0.,  0.,  0.],\n",
        "       [ 0.,  0.,  0., ...,  0.,  0.,  0.]])"
       ]
      }
     ],
     "prompt_number": 145
    },
    {
     "cell_type": "code",
     "collapsed": false,
     "input": [
      "countX, countY = np.meshgrid( signifiantsCount ,signifiantsCount  )\n",
      "\n",
      "nMots = np.sum(signifiantsCount)\n",
      "print nMots"
     ],
     "language": "python",
     "metadata": {},
     "outputs": [
      {
       "output_type": "stream",
       "stream": "stdout",
       "text": [
        "18097.9617877\n"
       ]
      }
     ],
     "prompt_number": 195
    },
    {
     "cell_type": "code",
     "collapsed": false,
     "input": [
      "norm = countX*countY/nMots"
     ],
     "language": "python",
     "metadata": {},
     "outputs": [],
     "prompt_number": 196
    },
    {
     "cell_type": "code",
     "collapsed": false,
     "input": [
      "plt.matshow( np.sqrt( co_M ) , cmap=plt.cm.gray)\n",
      "plt.show()"
     ],
     "language": "python",
     "metadata": {},
     "outputs": [],
     "prompt_number": 200
    },
    {
     "cell_type": "code",
     "collapsed": false,
     "input": [
      "Y = sch.linkage(norm/( 1 + co_M ), method='single')\n",
      "Z = sch.dendrogram(Y, orientation='right')\n",
      "index = Z['leaves']"
     ],
     "language": "python",
     "metadata": {},
     "outputs": [],
     "prompt_number": 201
    },
    {
     "cell_type": "code",
     "collapsed": false,
     "input": [
      "for i in index[:300]:\n",
      "    print signifiantsList[i]+',', "
     ],
     "language": "python",
     "metadata": {},
     "outputs": [
      {
       "output_type": "stream",
       "stream": "stdout",
       "text": [
        "France, Bruxelles, dopage, crash, Europe, Salah Abdeslam, Syrie, airbus, partenariat, Turquie, 13 novembre, quinquennat, extradition, Etats-Unis, migratoire, Fran\u00e7ois, d\u00e9crypte, islamistes, attentats, migrants, Russie, Sarkozy, antiterroriste, Allemagne, El Khomri, piratage, Euro, Twitter, Molenbeek, attractivit\u00e9, Abdeslam, radicalisation, interpell\u00e9es, Manuel Valls, djihadistes, Royaume-Uni, Valls, Michel, Apple, centriste, technologies, start-up, djihadiste, Palmyre, centristes, p\u00e9dophilie, volatilit\u00e9, trisomie, Philippe, fragilis\u00e9, Espagne, r\u00e9seaux sociaux, logiciel, Germanwings, Nicolas, Donald Trump, \u00e9cosyst\u00e8me, Lyon, Pen, Barack Obama, Obama, Volkswagen, Lula, spiegel, Gr\u00e8ce, Etat islamique, palpations, microc\u00e9phalie, antiraciste, kurdes, loi El Khomri, \u00c9tats-Unis, CAC 40, Brexit, Istanbul, cannabis, questionnements, Google, PSG, ivoirienne, exemplarit\u00e9, majoritairement, internautes, Facebook, Trump, Washington, c\u0153ur, AFP, Macron, sponsors, Jupp\u00e9, Khalid, Gen\u00e8ve, terrorisme, islamiste, Ardennes, New York, Marseille, Barcelone, Pologne, bruxellois, chiffrement, Top 14, r\u00e9\u00e9criture, y\u00e9m\u00e9nites, chiite, revivez, bruxelloise, buralistes, b\u00e9n\u00e9volat, dysfonctionnements, \u00e9mergents, Rio, enc\u00e9phalopathie, cubains, PDG, ONU, Afrique, fustige, Daech, Cor\u00e9e, Ankara, Fifa, s\u00e9lectionneur, attentat, extr\u00eame droite, Merah, connectent, Alg\u00e9rie, Renault, blanchiment, UDI, EDF, Montpellier, recentrer, Foll, Strasbourg, Lille, Insee, Libye, dangerosit\u00e9, CGT, Zika, Hand, UE-Turquie, SNCF, Dilma Rousseff, Toulouse, syriens, a\u00e9roport, Miami, soignants, Tunisie, \u00e9tat d\u2019urgence, jihadistes, vid\u00e9o, Reda Kriket, Bernard Cazeneuve, Sven Mary, suspect-cl\u00e9, El Bakraoui, Emmanuel Macron, Benzema, Bruno, revendiqu\u00e9, Deschamps, comp\u00e9titivit\u00e9, logisticiens, Clinton, meldonium, terroristes, pr\u00e9sum\u00e9s, investisseurs, PNR, Eiffel, Hillary Clinton, Am\u00e9rique, a\u00e9rogares, JDD, 13 Novembre, Fr\u00e9d\u00e9ric, perp\u00e9tuit\u00e9 r\u00e9elle, palestiniens, remportent, Colombie, pr\u00e9sidente, Xavier Bertrand, digitale, controvers\u00e9, Abaaoud, Asie, Duba\u00ef, chiffre d'affaires, mandat d'arr\u00eat europ\u00e9en, Patrick Kanner, t\u00e9l\u00e9visuels, g\u00e9n\u00e9rer, NBA, interceptions, isra\u00e9liennes, Ile-de-France, sexistes, d\u00e9sengagement, r\u00e9\u00e9crite, castriste, chroniqueuse, shows, chutent, affronteront, mon\u00e9gasque, opposante, hypothermie, sponsoring, kiwi, plafonnement, event, f\u00e9miniser, qu\u00e9b\u00e9cois, aiguilleurs, pl\u00e9biscitent, chrismale, bi\u00e8vres, r\u00e9silience, Poutine, #Baselworld, Y\u00e9men, d\u00e9cryptage, Pakistan, congolais, plate-forme, iPhone, pesticides, Sivens, Ukraine, vache folle, kurde, \u00eeles grecques, mercredi, supporteurs, touareg, revendiqu\u00e9es, rejouant, habilitations, Uber, Patrice Talon, CFDT, Bamako, vice-pr\u00e9sident, commission d'enqu\u00eate parlementaire, Haye, sexe neutre, tu\u00e9es, bataclan, perquisitions, d\u00e9noncent, Payet, Mathieu, Michael, Serge Dassault, d\u00e9butera, R\u00e9publique dominicaine, cop, est \u00e9pargn\u00e9, made in, innovants, assureur, Ecosse, Jean-Marc Rouillan, Marion Mar\u00e9chal-Le Pen, S\u00e9gol\u00e8ne Royal, auteurs d'actes terroristes, Forest, antidopage, flydubai, Bagdad, Saint-Denis, herbicide, astrophysicien, immatriculations, spongiforme bovine, zone euro, popularit\u00e9s, emboutissage, Barbarin, Erdogan, irakiens, impuls\u00e9, pi\u00e9tonne, agressions sexuelles, d\u00e9jou\u00e9, \u00e9cologiste, contact\u00e9s, informatiques, billettes, obsol\u00e8te, Instagram, r\u00e9cusent, flingueur, iraniens, booster,\n"
       ]
      }
     ],
     "prompt_number": 202
    },
    {
     "cell_type": "code",
     "collapsed": false,
     "input": [
      "n"
     ],
     "language": "python",
     "metadata": {},
     "outputs": [
      {
       "metadata": {},
       "output_type": "pyout",
       "prompt_number": 138,
       "text": [
        "375"
       ]
      }
     ],
     "prompt_number": 138
    },
    {
     "cell_type": "code",
     "collapsed": false,
     "input": [],
     "language": "python",
     "metadata": {},
     "outputs": [],
     "prompt_number": 138
    }
   ],
   "metadata": {}
  }
 ]
}