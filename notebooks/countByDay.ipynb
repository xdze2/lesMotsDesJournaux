{
 "metadata": {
  "name": "",
  "signature": "sha256:3a5f0c866169d80bbfee4c1b506e89e40f2431b9f7819f7bffa18a8f0964239c"
 },
 "nbformat": 3,
 "nbformat_minor": 0,
 "worksheets": [
  {
   "cells": [
    {
     "cell_type": "code",
     "collapsed": false,
     "input": [
      "import json"
     ],
     "language": "python",
     "metadata": {},
     "outputs": [],
     "prompt_number": 1
    },
    {
     "cell_type": "code",
     "collapsed": false,
     "input": [
      "# -- save JSON --\n",
      "json_file = './data4countByDay.json'\n",
      "\n",
      "alldata = json.loads(open(json_file).read())\n",
      "print 'nombre de news: %i' % len(alldata)"
     ],
     "language": "python",
     "metadata": {},
     "outputs": [
      {
       "output_type": "stream",
       "stream": "stdout",
       "text": [
        "nombre de news: 5104\n"
       ]
      }
     ],
     "prompt_number": 9
    },
    {
     "cell_type": "code",
     "collapsed": false,
     "input": [
      "alldata[40 ]"
     ],
     "language": "python",
     "metadata": {},
     "outputs": [
      {
       "metadata": {},
       "output_type": "pyout",
       "prompt_number": 13,
       "text": [
        "{u'count': {u'AlphaGo': 1,\n",
        "  u'Lee Sedol': 1,\n",
        "  u'classements': 1,\n",
        "  u'cohabiter': 1,\n",
        "  u'devoir': 1,\n",
        "  u'd\\xe9but': 1,\n",
        "  u'd\\xe9sormais': 1,\n",
        "  u'ex-n\\xb0': 1,\n",
        "  u'intelligence artificielle': 1,\n",
        "  u'machine': 1,\n",
        "  u'monde': 2,\n",
        "  u'mondial': 1,\n",
        "  u'page': 1,\n",
        "  u'tactiques': 1,\n",
        "  u'tourne': 1,\n",
        "  u'triche': 1,\n",
        "  u'victoire': 1,\n",
        "  u'\\xe9checs': 1},\n",
        " u'date': u'2016-03-16T13:52:49',\n",
        " u'description': u'La victoire de l\\u2019intelligence artificielle AlphaGo contre l\\u2019ex-n\\xb0\\xa01 mondial Lee Sedol n\\u2019est qu\\u2019un d\\xe9but\\xa0: comme les \\xe9checs, le monde du go va d\\xe9sormais devoir cohabiter avec la machine.',\n",
        " u'formatedtext': u'Triche tactiques classements Pour le monde du go une page se tourne La victoire de l\\u2019 AlphaGo contre l\\u2019ex-n\\xb0 1 mondial  n\\u2019est qu\\u2019un d\\xe9but comme les \\xe9checs le monde du go va d\\xe9sormais devoir cohabiter avec la machine',\n",
        " u'source': u'leMonde',\n",
        " u'title': u'Triche, tactiques, classements\\u2026 Pour le monde du go, une page se tourne'}"
       ]
      }
     ],
     "prompt_number": 13
    },
    {
     "cell_type": "code",
     "collapsed": false,
     "input": [],
     "language": "python",
     "metadata": {},
     "outputs": []
    }
   ],
   "metadata": {}
  }
 ]
}