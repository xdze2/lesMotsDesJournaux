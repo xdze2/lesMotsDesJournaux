{
 "metadata": {
  "name": "",
  "signature": "sha256:ddf4b65b483b6cf555add6df30ced4e7330cda4de568c5f7cc38490ea91d6a29"
 },
 "nbformat": 3,
 "nbformat_minor": 0,
 "worksheets": [
  {
   "cells": [
    {
     "cell_type": "code",
     "collapsed": false,
     "input": [
      "import json\n",
      "import re"
     ],
     "language": "python",
     "metadata": {},
     "outputs": [],
     "prompt_number": 255
    },
    {
     "cell_type": "code",
     "collapsed": false,
     "input": [
      "blacklist = [u'LE SCAN SPORT', u'EN IMAGES', u'LE SCAN POLITIQUE', u'LE SCAN T\u00c9L\u00c9', u'LIRE AUSSI' ]\n",
      "blacklist.extend( [u'LE SCAN T\u00c9L\u00c9', u'LE SCAN \u00c9CO', u'LE SCAN ECO' , u\"Toute l'actualit\u00e9\", u\"Le Point\", u'INFO LE FIGARO'] )\n",
      "blacklist.extend( ['Le Monde', 'EN DIRECT', 'CARTE INTERACTIVE', 'FIGAROVOX TRIBUNE', u'VID\u00c9OS'] )\n",
      "blacklist.extend( ['MILLIONS DE DOLLARS', 'INTERVIEW', 'ENTRETIEN', u'VID\u00c9O', 'INFOGRAPHIE'] )\n",
      "blacklist.extend( ['FIGAROVOX', 'TRIBUNE', 'REPORTAGE'] )\n",
      "blacklist.extend( ['entre eux', 'Top 14', 'Zapping du Point'] )\n",
      "\n",
      "\n",
      "def cleanIt( texte ):\n",
      "    #\u00a0Rq: l'ordre est important ...\n",
      "    \n",
      "    texte = texte.replace(u'\\xa0', u' ') # espace ins\u00e9cable \n",
      "    \n",
      "    # Ponctuation:\n",
      "    myRe = u'[,;:\u00ab\u00bb\"?!\\n\\r\u2026\u00a9]' # r\"[:;,.'\u00ab\u00bb?!()\\[\\]\u2026\u201d\\\"\\n\\r\\\\]+\"\n",
      "    texte = re.sub(myRe, u' ', texte)\n",
      "    \n",
      "    texte = re.sub(r'(?<![A-Z])\\.', u'', texte)  # enleve les points en gardant ceux des initiales \n",
      "    \n",
      "    texte = re.sub(r'([0-9]+)\\s([0-9]+)', r'\\1\\2', texte) # pour les chiffres 10 000->10000\n",
      "       \n",
      "    for mot in blacklist:\n",
      "         texte = texte.replace( mot, u'')\n",
      "    \n",
      "    texte = re.sub(r'\\s[.\\-]\\s', u' ', texte) \n",
      "    texte = re.sub(r'\\s', u' ', texte) #\u00a0remove tab and other strange space\n",
      "    texte = re.sub(r'\\s+', u' ', texte) #\u00a0remove double space\n",
      "        \n",
      "    return texte"
     ],
     "language": "python",
     "metadata": {},
     "outputs": [],
     "prompt_number": 257
    },
    {
     "cell_type": "code",
     "collapsed": false,
     "input": [
      "# load\n",
      "filename = './data_rss/all_title.json'\n",
      "\n",
      "alldata = json.loads(open(filename).read())\n",
      "\n",
      "print 'nombre de news: %i' % len(alldata)"
     ],
     "language": "python",
     "metadata": {},
     "outputs": [
      {
       "output_type": "stream",
       "stream": "stdout",
       "text": [
        "nombre de news: 5799\n"
       ]
      }
     ],
     "prompt_number": 258
    },
    {
     "cell_type": "code",
     "collapsed": false,
     "input": [
      "data = []\n",
      "for post in alldata:\n",
      "    \n",
      "    texte = ''\n",
      "    \n",
      "    if 'title' in post:\n",
      "        title = post['title']\n",
      "        if title:\n",
      "            texte += title\n",
      "\n",
      "    if 'description' in post:\n",
      "        description = post['description']\n",
      "        if description:\n",
      "            texte +=  ' ' + description\n",
      "            \n",
      "    if texte:\n",
      "        post['formatedtext'] = cleanIt( texte )\n",
      "        data.append( post ) \n",
      "    else:\n",
      "        print post\n",
      "        \n",
      "print 'nbr phrases/posts: ', len( data )"
     ],
     "language": "python",
     "metadata": {},
     "outputs": [],
     "prompt_number": 259
    },
    {
     "cell_type": "code",
     "collapsed": false,
     "input": [
      "for foo in range( 10 ):\n",
      "    i =  random.randint(4500, len(data)) \n",
      "    k = data[i]\n",
      "    print '%i> '%i +k['formatedtext']"
     ],
     "language": "python",
     "metadata": {},
     "outputs": [
      {
       "output_type": "stream",
       "stream": "stdout",
       "text": [
        "4724> Litt\u00e9rature le grand \u00e9crivain am\u00e9ricain Jim Harrison est d\u00e9c\u00e9d\u00e9 \u00e0 78 ans\n",
        "4608> Vuarnet part \u00e0 la conqu\u00eate d'Hollywood Alain Delon Romy Schneider Mick Jagger Daniel Craig Les plus grands ont succomb\u00e9 au charme des solaires Vuarnet \u00c0 l'aube de ses 60 ans le lunetier regarde devant lui\n",
        "5791> USA Volkswagen obtient 4 semaines de plus pour une remise aux normes La n\u00e9gociation tr\u00e8s serr\u00e9e entre le constructeur allemand et les plaignants am\u00e9ricains devra d\u00e9boucher imp\u00e9rativement avant le 22 avril\n",
        "5692> Perche Lavillenie encore en or Renaud Lavillenie a remport\u00e9 pour la deuxi\u00e8me fois de sa carri\u00e8re le titre de champion du monde en salle de saut \u00e0 la perche jeudi \u00e0 Portland\n",
        "5686> Natation aux JO-2016 \u00e7a commence mal aux Championnats de France avant le jour J d'Agnel\n",
        "5501> ATP Goffin met fin \u00e0 l'inattendu parcours de Zeballos \u00e0 Miami\n",
        "4666> Attentats de Bruxelles qui est Najim Laachraoui le 2e kamikaze de l'a\u00e9roport L'homme \u00e9tait soup\u00e7onn\u00e9 d'\u00eatre l'artificier des attaques du 13 novembre Il a \u00e9t\u00e9 identifi\u00e9 comme \u00e9tant le deuxi\u00e8me kamikaze de l'a\u00e9roport\n",
        "5056> \u00c0 la une ce jeudi 24 mars Pr\u00e9sentation de la loi travail en conseil des ministres nouveau pic de pollution \u00e0 Paris et sortie du nouveau Guillaume Musso du jour\n",
        "4889> Guerre d'Alg\u00e9rie Sarkozy critique la date de la comm\u00e9moration Fran\u00e7ois Hollande a choisi le 19 mars jour du cessez-le-feu pour la c\u00e9r\u00e9monie une date au coeur d'un d\u00e9bat douloureux \u00e9crit l'ancien chef de l'\u00c9tat\n",
        "5084> Ligue des champions le Bayern finit par renverser la Juve Men\u00e9 0-2 virtuellement \u00e9limin\u00e9 jusqu\u2019\u00e0 la 90e minute le Bayern a fini par arracher son ticket pour les quarts de finale (4-2) apr\u00e8s prolongations\n"
       ]
      }
     ],
     "prompt_number": 261
    },
    {
     "cell_type": "code",
     "collapsed": false,
     "input": [
      "# -- save JSON --\n",
      "json_file = './Eleve/data4eleve.json'\n",
      "with open(json_file, 'w') as outfile:\n",
      "    json.dump(data, outfile)"
     ],
     "language": "python",
     "metadata": {},
     "outputs": [],
     "prompt_number": 262
    },
    {
     "cell_type": "code",
     "collapsed": false,
     "input": [
      "print data[0].keys()"
     ],
     "language": "python",
     "metadata": {},
     "outputs": [
      {
       "output_type": "stream",
       "stream": "stdout",
       "text": [
        "[u'date', u'source', 'formatedtext', u'description', u'title']\n"
       ]
      }
     ],
     "prompt_number": 263
    },
    {
     "cell_type": "code",
     "collapsed": false,
     "input": [],
     "language": "python",
     "metadata": {},
     "outputs": [],
     "prompt_number": 263
    }
   ],
   "metadata": {}
  }
 ]
}