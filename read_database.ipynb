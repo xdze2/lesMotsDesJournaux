{
 "metadata": {
  "name": "",
  "signature": "sha256:7faa6b6a1171bdd5ecfd5ba27593d24867464a2302b78613059146b789fe6451"
 },
 "nbformat": 3,
 "nbformat_minor": 0,
 "worksheets": [
  {
   "cells": [
    {
     "cell_type": "code",
     "collapsed": false,
     "input": [
      "import dataset\n",
      "\n",
      "from matplotlib import pyplot as plt\n",
      "%matplotlib inline  \n",
      "\n",
      "import pandas as pd\n",
      "from datetime import datetime"
     ],
     "language": "python",
     "metadata": {},
     "outputs": [],
     "prompt_number": 372
    },
    {
     "cell_type": "code",
     "collapsed": false,
     "input": [
      "#\u00a0Load DB\n",
      "db_file = 'database_occurences.db'\n",
      "db = dataset.connect('sqlite:///%s'%db_file)\n",
      "occurences = db['occurences']"
     ],
     "language": "python",
     "metadata": {},
     "outputs": [],
     "prompt_number": 373
    },
    {
     "cell_type": "code",
     "collapsed": false,
     "input": [
      "def getDate( day ):\n",
      "    date = datetime.strptime(day, '%d-%m-%Y')\n",
      "    return date"
     ],
     "language": "python",
     "metadata": {},
     "outputs": [],
     "prompt_number": 374
    },
    {
     "cell_type": "code",
     "collapsed": false,
     "input": [
      "result = db.query('SELECT source, COUNT(*) c FROM occurences GROUP BY source')\n",
      "for row in result:\n",
      "   print(row['source'], row['c'])"
     ],
     "language": "python",
     "metadata": {},
     "outputs": [
      {
       "output_type": "stream",
       "stream": "stdout",
       "text": [
        "(u'LeFigaro', 15544)\n",
        "(u'Liberation', 7732)\n",
        "(u'leMonde', 15126)\n",
        "(u'lepoint', 23169)\n",
        "(u'lesechos', 21000)\n"
       ]
      }
     ],
     "prompt_number": 376
    },
    {
     "cell_type": "code",
     "collapsed": false,
     "input": [
      "# Nombre_tot_mots_par_jour\n",
      "dates_v = []\n",
      "nMots_v = []\n",
      "\n",
      "result = db.query(\" SELECT day, COUNT(*) c FROM occurences GROUP BY day \")\n",
      "for row in result:\n",
      "    dates_v.append( getDate( row['day'] ) )\n",
      "    nMots_v.append( row['c'] )\n",
      "    \n",
      "nMots_serie = pd.Series( nMots_v, index=dates_v )\n",
      "\n",
      "#\u00a0-- Config. start date:\n",
      "start_date  = getDate(u'16-03-2016')\n",
      "end_date = datetime.now()\n",
      "\n",
      "#\u00a0Plot\n",
      "nMots_serie.plot(figsize=(12, 4) )\n",
      "plt.xlim(xmin=start_date)\n",
      "plt.show()"
     ],
     "language": "python",
     "metadata": {},
     "outputs": [
      {
       "metadata": {},
       "output_type": "display_data",
       "png": "[encoded data removed]",
       "text": [
        "<matplotlib.figure.Figure at 0x7f792814f250>"
       ]
      }
     ],
     "prompt_number": 377
    },
    {
     "cell_type": "code",
     "collapsed": false,
     "input": [
      "def seriecount(mot):\n",
      "    dates_v = []\n",
      "    values_v = []\n",
      "    \n",
      "    result = db.query(\" SELECT day, COUNT(*) c FROM occurences WHERE mot='%s' GROUP BY day \" % mot )\n",
      "    \n",
      "    for row  in result:\n",
      "        day, c = row.values()\n",
      "        dates_v.append( getDate( day ) )\n",
      "        values_v.append( c )\n",
      "\n",
      "    mot_serie = pd.Series( values_v, index=dates_v )\n",
      "\n",
      "    s = mot_serie / nMots_serie * 1000\n",
      "    s = s[ s.index > start_date ]\n",
      "    s =  s.fillna(0)\n",
      "    \n",
      "    return s"
     ],
     "language": "python",
     "metadata": {},
     "outputs": [],
     "prompt_number": 378
    },
    {
     "cell_type": "code",
     "collapsed": false,
     "input": [
      "from matplotlib.dates import DateFormatter\n",
      "formatter = DateFormatter('%d/%m')\n",
      "\n",
      "def plotTimeLine( mot ):\n",
      "    \n",
      "    s = seriecount( mot )\n",
      "    \n",
      "    plt.figure(figsize=(10,2.5))\n",
      "    plt.plot( s.index, s , linewidth=2 )\n",
      "    plt.title(mot)\n",
      "    plt.axhline(y=s.mean(), color='r', linestyle='--',  linewidth=1.2 )\n",
      "    plt.axhline(y=s.mean()+s.std(), color='r', linestyle=':')\n",
      "    \n",
      "    if s.min() < s.mean()-s.std():\n",
      "        plt.axhline(y=s.mean()-s.std(), color='r', linestyle=':')\n",
      "    if s.max() > s.mean()+2*s.std():\n",
      "        plt.axhline(y=s.mean()+2*s.std(), color='r', linestyle=':')\n",
      "    if s.max() > s.mean()+3*s.std():\n",
      "        plt.axhline(y=s.mean()+3*s.std(), color='r', linestyle=':')\n",
      "        \n",
      "    plt.axhline(y=s.median(), color='k', linestyle=':')    \n",
      "    plt.ylim(ymin=0)\n",
      "    plt.gcf().axes[0].xaxis.set_major_formatter(formatter)\n",
      "    plt.show()"
     ],
     "language": "python",
     "metadata": {},
     "outputs": [],
     "prompt_number": 379
    },
    {
     "cell_type": "code",
     "collapsed": false,
     "input": [
      "mot  = 'deux'\n",
      "plotTimeLine( mot )"
     ],
     "language": "python",
     "metadata": {},
     "outputs": [
      {
       "metadata": {},
       "output_type": "display_data",
       "png": "[encoded data removed]",
       "text": [
        "<matplotlib.figure.Figure at 0x7f79287e9dd0>"
       ]
      }
     ],
     "prompt_number": 380
    },
    {
     "cell_type": "code",
     "collapsed": false,
     "input": [
      "# Liste mots:\n",
      "liste_mots = []\n",
      "seuil = 10\n",
      "result = db.query(\" SELECT mot, COUNT(*) c FROM occurences GROUP BY mot HAVING c>%i ORDER BY -c\" % seuil  )\n",
      "for row in result:\n",
      "    liste_mots.append(row['mot'])\n",
      "    \n",
      "print ', '.join( liste_mots[:10] ) + '...' , len( liste_mots )"
     ],
     "language": "python",
     "metadata": {},
     "outputs": [
      {
       "output_type": "stream",
       "stream": "stdout",
       "text": [
        "France, attentats, ans, Bruxelles, Paris, deux, fran\u00e7ais, loi, mars, travail... 2110\n"
       ]
      }
     ],
     "prompt_number": 408
    },
    {
     "cell_type": "code",
     "collapsed": false,
     "input": [
      "import re\n",
      "print re.escape(\"'\")"
     ],
     "language": "python",
     "metadata": {},
     "outputs": [
      {
       "output_type": "stream",
       "stream": "stdout",
       "text": [
        "\\'\n"
       ]
      }
     ],
     "prompt_number": 402
    },
    {
     "cell_type": "code",
     "collapsed": false,
     "input": [
      "def getserie(mot):\n",
      "    dates_v = []\n",
      "    values_v = []\n",
      "    #mot = repr(mot)\n",
      "    result = db.query(\"\"\" SELECT day, COUNT(*) c FROM occurences WHERE mot=\"%s\" GROUP BY day \"\"\" % mot )\n",
      "    \n",
      "    for row  in result:\n",
      "        day, c = row.values()\n",
      "        dates_v.append( getDate( day ) )\n",
      "        values_v.append( c )\n",
      "\n",
      "    s = pd.Series( values_v, index=dates_v )\n",
      "    s.name = mot\n",
      "    return s"
     ],
     "language": "python",
     "metadata": {},
     "outputs": [],
     "prompt_number": 415
    },
    {
     "cell_type": "code",
     "collapsed": false,
     "input": [
      "time_serie = []\n",
      "for mot in liste_mots:\n",
      "    s = getserie( mot )\n",
      "    time_serie.append(  s )"
     ],
     "language": "python",
     "metadata": {},
     "outputs": [],
     "prompt_number": 416
    },
    {
     "cell_type": "code",
     "collapsed": false,
     "input": [
      "bigdataframe = pd.concat( time_serie, axis=1)\n",
      "bigdataframe = bigdataframe[ bigdataframe.index > start_date ]\n",
      "bigdataframe = bigdataframe.fillna(0)\n",
      "\n",
      "bigdataframe = bigdataframe.divide( nMots_serie[ bigdataframe.index ], axis=0 )*1000\n",
      "bigdataframe = (bigdataframe - bigdataframe.mean()).divide( bigdataframe.mean() )"
     ],
     "language": "python",
     "metadata": {},
     "outputs": [],
     "prompt_number": 417
    },
    {
     "cell_type": "code",
     "collapsed": false,
     "input": [
      "L = bigdataframe.irow( 5 )\n",
      "print L.name\n",
      "vector = zip(  L.index,  L.tolist() )\n",
      "vector = sorted( vector, key=lambda x:x[1], reverse=True )\n",
      "\n",
      "print ', '.join( ['%s (%.2f)'% x for x in vector if x[1]>1 ][:30] )"
     ],
     "language": "python",
     "metadata": {},
     "outputs": [
      {
       "output_type": "stream",
       "stream": "stdout",
       "text": [
        "2016-03-22 00:00:00\n",
        "explosions (7.86), \u00e9coutes (7.57), laboratoire (6.83), Zika (6.15), d\u00e9missionne (5.73), Ardennes (5.54), Castries (5.47), PIB (5.24), thomas (5.23), suppl\u00e9mentaires (4.99), consommateur (4.96), eau (4.92), vache (4.61), gestion (4.57), racontent (4.55), f\u00e9minin (4.49), r\u00e9sultat (4.39), cassation (4.34), vache folle (4.29), m\u00e9tro (4.26), d\u00e9bloquer (4.18), solidarit\u00e9 (4.17), Ford (4.10), cr\u00e9dit (4.10), fabricant (4.10), quinze (4.05), couleurs (4.03), ukrainienne (3.98), explosion (3.97), gares (3.90)\n"
       ]
      }
     ],
     "prompt_number": 452
    },
    {
     "cell_type": "code",
     "collapsed": false,
     "input": [
      "plotTimeLine( u'Jean-Pierre Coffe' )\n",
      "plotTimeLine( u'vache folle' )"
     ],
     "language": "python",
     "metadata": {},
     "outputs": [
      {
       "metadata": {},
       "output_type": "display_data",
       "png": "[encoded data removed]",
       "text": [
        "<matplotlib.figure.Figure at 0x7f792867d750>"
       ]
      },
      {
       "metadata": {},
       "output_type": "display_data",
       "png": "[encoded data removed]",
       "text": [
        "<matplotlib.figure.Figure at 0x7f79276dbd50>"
       ]
      }
     ],
     "prompt_number": 454
    },
    {
     "cell_type": "code",
     "collapsed": false,
     "input": [
      "mot = u'cavale'\n",
      "day = '19-03-2016'\n",
      "result = db.query(\" SELECT DISTINCT postid FROM occurences WHERE mot='%s' and day='%s' \" % (mot, day) )"
     ],
     "language": "python",
     "metadata": {},
     "outputs": [],
     "prompt_number": 448
    },
    {
     "cell_type": "code",
     "collapsed": false,
     "input": [
      "import json\n",
      "filename = './data_rss/all_title.json'\n",
      "data = json.loads(open(filename).read())"
     ],
     "language": "python",
     "metadata": {},
     "outputs": [],
     "prompt_number": 449
    },
    {
     "cell_type": "code",
     "collapsed": false,
     "input": [
      "for r in result:\n",
      "    postid = r['postid']\n",
      "    print data[postid]['title']\n"
     ],
     "language": "python",
     "metadata": {},
     "outputs": [
      {
       "output_type": "stream",
       "stream": "stdout",
       "text": [
        "La presse belge partag\u00e9e entre soulagement et questionnements\n",
        "Cavale, extradition, proc\u00e8s... Les questions apr\u00e8s l'arrestation de Salah Abdeslam\n",
        "Salah\u00a0Abdeslam : l'arrestation n'efface pas les questions pour la presse\n",
        "Salah Abdeslam a-t-il voulu voir l'enterrement de son fr\u00e8re ?\n"
       ]
      }
     ],
     "prompt_number": 450
    },
    {
     "cell_type": "code",
     "collapsed": false,
     "input": [
      "result = db.query(\" SELECT mot FROM occurences GROUP BY mot \" )"
     ],
     "language": "python",
     "metadata": {},
     "outputs": [],
     "prompt_number": 345
    },
    {
     "cell_type": "code",
     "collapsed": false,
     "input": [
      "# Liste mots long:\n",
      "liste_mots_long = []\n",
      "result = db.query(\" SELECT mot, COUNT(*) c FROM occurences GROUP BY mot\" )\n",
      "\n",
      "\n",
      "for row in result:\n",
      "    liste_mots_long.append( (row['mot'], row['c']) )\n",
      "\n",
      "liste_mots_long = sorted( liste_mots_long,  key = lambda x:len(x[0]) , reverse=True)\n",
      "\n",
      "for item in liste_mots_long[:80]:\n",
      "    print '%.2i %s'%item[::-1]"
     ],
     "language": "python",
     "metadata": {},
     "outputs": [
      {
       "output_type": "stream",
       "stream": "stdout",
       "text": [
        "11 La dessinatrice Lisa Mandel\n",
        "30 la d\u00e9ch\u00e9ance de nationalit\u00e9\n",
        "31 r\u00e9vision constitutionnelle\n",
        "10 R\u00e9forme constitutionnelle\n",
        "11 Projet d'attentat d\u00e9jou\u00e9\n",
        "16 conseil d'administration\n",
        "13 \u00e9lection pr\u00e9sidentielle\n",
        "11 Notre-Dame-des-Landes\n",
        "10 agressions sexuelles\n",
        "12 d\u00e9tention provisoire\n",
        "11 Affaires \u00e9trang\u00e8res\n",
        "09 Bruxelles-Zaventem\n",
        "19 chiffre d'affaires\n",
        "10 t\u00e9l\u00e9communications\n",
        "16 Batman v Superman\n",
        "11 Corey Lewandowski\n",
        "13 Florence Hartmann\n",
        "14 Jean-Pierre Coffe\n",
        "47 LE SCAN POLITIQUE\n",
        "12 Projet d'attentat\n",
        "18 cardinal Barbarin\n",
        "22 constitutionnelle\n",
        "13 perp\u00e9tuit\u00e9 r\u00e9elle\n",
        "14 projet d'attentat\n",
        "09 vraisemblablement\n",
        "06 Bouches-du-Rh\u00f4ne\n",
        "21 Bouygues Telecom\n",
        "06 Loire-Atlantique\n",
        "17 Myriam El Khomri\n",
        "13 Najim Laachraoui\n",
        "50 Premier ministre\n",
        "10 Radovan Karadzic\n",
        "23 Union europ\u00e9enne\n",
        "07 attentat-suicide\n",
        "26 la loi El Khomri\n",
        "16 particuli\u00e8rement\n",
        "07 sapeurs-pompiers\n",
        "10 Bachar el-Assad\n",
        "15 Emmanuel Macron\n",
        "10 Fran\u00e7ois Molins\n",
        "14 Grande-Bretagne\n",
        "06 Hauts-de-France\n",
        "17 Hillary Clinton\n",
        "10 Jean-Christophe\n",
        "12 Manchester City\n",
        "12 Xavier Bertrand\n",
        "08 antiterroristes\n",
        "08 communautarisme\n",
        "09 constitutionnel\n",
        "06 infrastructures\n",
        "08 internationales\n",
        "11 interpellations\n",
        "24 investissements\n",
        "09 n\u00e9onicotino\u00efdes\n",
        "07 personnellement\n",
        "35 r\u00e9seaux sociaux\n",
        "16 suppl\u00e9mentaires\n",
        "08 Antiterrorisme\n",
        "20 Carlos Tavares\n",
        "30 Dilma Rousseff\n",
        "08 Dupond-Moretti\n",
        "14 Etat islamique\n",
        "13 Front national\n",
        "13 GP d'Australie\n",
        "15 LE SCAN T\u00c9L\u00c9 /\n",
        "10 Maison Blanche\n",
        "06 Maison-Blanche\n",
        "15 Rolling Stones\n",
        "01 SCAN POLITIQUE\n",
        "129 Salah Abdeslam\n",
        "14 San Bernardino\n",
        "08 Sassou-Nguesso\n",
        "13 Tribunal p\u00e9nal\n",
        "09 administration\n",
        "28 antiterroriste\n",
        "20 arrondissement\n",
        "11 bande dessin\u00e9e\n",
        "06 conditionnelle\n",
        "07 d\u00e9finitivement\n",
        "11 ex-Yougoslavie\n"
       ]
      }
     ],
     "prompt_number": 388
    },
    {
     "cell_type": "code",
     "collapsed": false,
     "input": [
      "longueur = [len( x[0]) for x in liste_mots_long]\n",
      "freq = [x[1] for x in liste_mots_long]\n",
      "plt.plot(range( len(freq) ), freq )"
     ],
     "language": "python",
     "metadata": {},
     "outputs": [
      {
       "metadata": {},
       "output_type": "pyout",
       "prompt_number": 389,
       "text": [
        "[<matplotlib.lines.Line2D at 0x7f79277e9350>]"
       ]
      },
      {
       "metadata": {},
       "output_type": "display_data",
       "png": "[encoded data removed]",
       "text": [
        "<matplotlib.figure.Figure at 0x7f79278f0d10>"
       ]
      }
     ],
     "prompt_number": 389
    },
    {
     "cell_type": "code",
     "collapsed": false,
     "input": [],
     "language": "python",
     "metadata": {},
     "outputs": []
    }
   ],
   "metadata": {}
  }
 ]
}