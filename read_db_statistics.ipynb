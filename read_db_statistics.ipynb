{
 "metadata": {
  "name": "",
  "signature": "sha256:4da6c01238fdc396d05436563fd2a6f4e2cbf9cab3e0d0fae6fe37e91424c7b2"
 },
 "nbformat": 3,
 "nbformat_minor": 0,
 "worksheets": [
  {
   "cells": [
    {
     "cell_type": "code",
     "collapsed": false,
     "input": [
      "import pandas as pd\n",
      "from datetime import datetime\n",
      "\n",
      "from matplotlib import pyplot as plt\n",
      "%matplotlib inline  "
     ],
     "language": "python",
     "metadata": {},
     "outputs": [],
     "prompt_number": 295
    },
    {
     "cell_type": "code",
     "collapsed": false,
     "input": [
      "# coding: utf-8\n",
      "import sqlite3\n",
      "import re\n",
      "\n",
      "#\u00a0load DB and create table\n",
      "database_filename = './data/data_lmdjx.db'\n",
      "\n",
      "database_connection = sqlite3.connect(database_filename)\n",
      "cursor = database_connection.cursor()"
     ],
     "language": "python",
     "metadata": {},
     "outputs": [],
     "prompt_number": 296
    },
    {
     "cell_type": "code",
     "collapsed": false,
     "input": [
      "def getDate( day ):\n",
      "    date = datetime.strptime(day, '%Y-%m-%d')\n",
      "    return date"
     ],
     "language": "python",
     "metadata": {},
     "outputs": [],
     "prompt_number": 297
    },
    {
     "cell_type": "code",
     "collapsed": false,
     "input": [
      "# Listes des jours:\n",
      "cursor.execute( '''SELECT  date, COUNT(*) as c\\\n",
      "                    FROM occurences\\\n",
      "                    GROUP BY date\\\n",
      "                    ORDER BY date ''' )\n",
      "\n",
      "dates_v = []\n",
      "nMots_v = []\n",
      "\n",
      "for line in cursor.fetchall():\n",
      "    dates_v.append( getDate( line[0] ) )\n",
      "    nMots_v.append( line[1] )\n",
      "    \n",
      "nMots_serie = pd.Series( nMots_v, index=dates_v )\n",
      "\n",
      "# -- Config. start date:\n",
      "start_date  = getDate(u'2016-03-01')\n",
      "end_date = datetime.now()\n",
      "\n",
      "# Plot\n",
      "nMots_serie.plot(figsize=(12, 4) )\n",
      "plt.xlim(xmin=start_date)\n",
      "plt.show()"
     ],
     "language": "python",
     "metadata": {},
     "outputs": [
      {
       "metadata": {},
       "output_type": "display_data",
       "png": "[encoded data removed]",
       "text": [
        "<matplotlib.figure.Figure at 0x7f0bc8a67290>"
       ]
      }
     ],
     "prompt_number": 298
    },
    {
     "cell_type": "code",
     "collapsed": false,
     "input": [
      "from datetime import datetime\n",
      "\n",
      "# Calcul le nombre de jours total:\n",
      "\n",
      "cursor.execute( ''' SELECT MIN(date) FROM stats ''')\n",
      "first_date_txt = cursor.fetchone()[0]\n",
      "first_date = datetime.strptime(first_date_txt, '%Y-%m-%d' )\n",
      "\n",
      "cursor.execute( ''' SELECT MAX(date) FROM stats ''')\n",
      "last_date_txt = cursor.fetchone()[0]\n",
      "last_date = datetime.strptime(last_date_txt, '%Y-%m-%d' )\n",
      "\n",
      "print( first_date, last_date )\n",
      "\n",
      "delta = last_date - first_date\n",
      "nbr_jours = delta.days\n",
      "\n",
      "print( nbr_jours )\n",
      "\n",
      "time_range = pd.date_range(start=first_date, end=last_date,  freq='D')\n",
      "print len( time_range )"
     ],
     "language": "python",
     "metadata": {},
     "outputs": [
      {
       "output_type": "stream",
       "stream": "stdout",
       "text": [
        "(datetime.datetime(2016, 3, 7, 0, 0), datetime.datetime(2016, 4, 10, 0, 0))\n",
        "34\n",
        "35\n"
       ]
      }
     ],
     "prompt_number": 289
    },
    {
     "cell_type": "code",
     "collapsed": false,
     "input": [
      "time_range[-1]"
     ],
     "language": "python",
     "metadata": {},
     "outputs": [
      {
       "metadata": {},
       "output_type": "pyout",
       "prompt_number": 290,
       "text": [
        "Timestamp('2016-04-10 00:00:00', offset='D')"
       ]
      }
     ],
     "prompt_number": 290
    },
    {
     "cell_type": "code",
     "collapsed": false,
     "input": [
      "# listes des source:\n",
      "cursor.execute( '''SELECT  source, COUNT(*) as c\\\n",
      "                    FROM occurences\\\n",
      "                    GROUP BY source\\\n",
      "                    ORDER BY -c ''' )\n",
      "\n",
      "#                 CAST( COUNT(*) AS FLOAT)/CAST( cDay AS FLOAT) as freq\n",
      "for line in cursor.fetchall():\n",
      "    print(line)"
     ],
     "language": "python",
     "metadata": {},
     "outputs": [
      {
       "output_type": "stream",
       "stream": "stdout",
       "text": [
        "(u'lePoint_24hinfo', 15389)\n",
        "(u'lesEchos_journaldujour', 5281)\n",
        "(u'leMonde_laUne', 5070)\n",
        "(u'leFigaro_laUne', 3575)\n",
        "(u'Liberation_laUne', 2931)\n",
        "(u'leParisien', 839)\n",
        "(u'courrierinternational', 449)\n",
        "(u'FranceSoir', 287)\n",
        "(u'humanite', 78)\n",
        "(u'leMonde_Idees', 65)\n",
        "(u'mediapart', 52)\n",
        "(u'rue89', 42)\n",
        "(u'leMonde_Actu', 40)\n",
        "(u'Liberation_chroniques', 33)\n",
        "(u'lePoint_chroniques', 22)\n"
       ]
      }
     ],
     "prompt_number": 291
    },
    {
     "cell_type": "code",
     "collapsed": false,
     "input": [
      "#\u00a0TOP 10 mots:\n",
      "cursor.execute( '''SELECT  ngram, COUNT(*) as c\\\n",
      "                    FROM occurences\\\n",
      "                    GROUP BY ngram\n",
      "                    ORDER BY -c\\\n",
      "                    LIMIT 40   ''' )\n",
      "\n",
      "for line in cursor.fetchall():\n",
      "    print line[0]+'(%i)'%line[1], \n",
      "    "
     ],
     "language": "python",
     "metadata": {},
     "outputs": [
      {
       "output_type": "stream",
       "stream": "stdout",
       "text": [
        "les(526) France(460) attentats(393) Bruxelles(383) Paris(338) loi(334) travail(309) fran\u00e7ais(244) hollande(207) veut(201) Panama Papers(191) ans(165) nouveau(161) deux(146) face(129) Europe(127) ligue(127) gouvernement(126) migrants(121) nouvelle(120) monde(118) Syrie(114) trois(114) mort(109) Turquie(103) Valls(103) une(98) Salah Abdeslam(95) politique(94) comment(93) des(93) primaire(93) Etats-Unis(92) sous(87) justice(86) attentat(85) gauche(85) pr\u00e9sident(85) homme(84) enqu\u00eate(83)\n"
       ]
      }
     ],
     "prompt_number": 299
    },
    {
     "cell_type": "code",
     "collapsed": false,
     "input": [
      "print( '\\n' )\n",
      "# TOP 10 mots:\n",
      "cursor.execute( '''SELECT  ngram, count, max(score) as c\\\n",
      "                    FROM stats\n",
      "                    WHERE count>20\n",
      "                    GROUP BY ngram\n",
      "                    ORDER BY -c\\\n",
      "                    LIMIT 10   ''' )\n",
      "\n",
      "for line in cursor.fetchall():\n",
      "    print line #line[0]+'(%i)'%line[1], "
     ],
     "language": "python",
     "metadata": {},
     "outputs": [
      {
       "output_type": "stream",
       "stream": "stdout",
       "text": [
        "\n",
        "\n",
        "(u'Panama Papers', 45, 5.631986744843026)\n",
        "(u'Bruxelles', 79, 4.412577946333644)\n",
        "(u'primaire', 21, 3.2445912582526333)\n",
        "(u'attentats', 61, 3.191915082655556)\n",
        "(u'hollande', 28, 2.0995378672536433)\n",
        "(u'loi', 33, 1.427389001148371)\n",
        "(u'Paris', 30, 1.3835598811682153)\n",
        "(u'France', 37, 1.1797596883991064)\n",
        "(u'travail', 29, 0.9265791331583144)\n",
        "(u'les', 38, 0.6165091200347101)\n"
       ]
      }
     ],
     "prompt_number": 304
    },
    {
     "cell_type": "code",
     "collapsed": false,
     "input": [
      "# count mot\n",
      "ngram = '2013'\n",
      "cursor.execute( '''SELECT  COUNT(*) as c\\\n",
      "                    FROM occurences\\\n",
      "                    WHERE ngram=? ''' , (ngram, ) )\n",
      "\n",
      "for line in cursor.fetchall():\n",
      "    print line"
     ],
     "language": "python",
     "metadata": {},
     "outputs": [
      {
       "output_type": "stream",
       "stream": "stdout",
       "text": [
        "(1,)\n"
       ]
      }
     ],
     "prompt_number": 294
    },
    {
     "cell_type": "code",
     "collapsed": false,
     "input": [
      "#\u00a0freq. Timeline\n",
      "ngram = u'Paris'\n",
      "\n",
      "cursor.execute( ''' SELECT date, freq \\\n",
      "                    FROM stats \\\n",
      "                    WHERE ngram=? ORDER BY date(date) DESC''' , (ngram, ) )\n",
      "\n",
      "print('Data for ngram=%s :'%ngram)\n",
      "\n",
      "\n",
      "nMots_v = []\n",
      "date_v = []\n",
      "\n",
      "for line in cursor.fetchall():\n",
      "    print( line )\n",
      "    date_v.append(  getDate( line[0] )  )\n",
      "    nMots_v.append( line[1] )\n",
      "    \n",
      "mySerie = pd.Series( nMots_v, index=date_v )\n",
      "mySerie.reindex( time_range, fill_value=10 )\n",
      "\n",
      "# Plot\n",
      "mySerie.plot(figsize=(12, 4),  style='o-')\n",
      "plt.show()\n"
     ],
     "language": "python",
     "metadata": {},
     "outputs": [
      {
       "ename": "OperationalError",
       "evalue": "no such table: stats",
       "output_type": "pyerr",
       "traceback": [
        "\u001b[1;31m---------------------------------------------------------------------------\u001b[0m\n\u001b[1;31mOperationalError\u001b[0m                          Traceback (most recent call last)",
        "\u001b[1;32m<ipython-input-270-65d5db8b0118>\u001b[0m in \u001b[0;36m<module>\u001b[1;34m()\u001b[0m\n\u001b[0;32m      2\u001b[0m \u001b[0mngram\u001b[0m \u001b[1;33m=\u001b[0m \u001b[1;34mu'Paris'\u001b[0m\u001b[1;33m\u001b[0m\u001b[0m\n\u001b[0;32m      3\u001b[0m \u001b[1;33m\u001b[0m\u001b[0m\n\u001b[1;32m----> 4\u001b[1;33m \u001b[0mcursor\u001b[0m\u001b[1;33m.\u001b[0m\u001b[0mexecute\u001b[0m\u001b[1;33m(\u001b[0m \u001b[1;34m''' SELECT date, freq                     FROM stats                     WHERE ngram=? ORDER BY date(date) DESC'''\u001b[0m \u001b[1;33m,\u001b[0m \u001b[1;33m(\u001b[0m\u001b[0mngram\u001b[0m\u001b[1;33m,\u001b[0m \u001b[1;33m)\u001b[0m \u001b[1;33m)\u001b[0m\u001b[1;33m\u001b[0m\u001b[0m\n\u001b[0m\u001b[0;32m      5\u001b[0m \u001b[1;33m\u001b[0m\u001b[0m\n\u001b[0;32m      6\u001b[0m \u001b[1;32mprint\u001b[0m\u001b[1;33m(\u001b[0m\u001b[1;34m'Data for ngram=%s :'\u001b[0m\u001b[1;33m%\u001b[0m\u001b[0mngram\u001b[0m\u001b[1;33m)\u001b[0m\u001b[1;33m\u001b[0m\u001b[0m\n",
        "\u001b[1;31mOperationalError\u001b[0m: no such table: stats"
       ]
      }
     ],
     "prompt_number": 270
    },
    {
     "cell_type": "code",
     "collapsed": false,
     "input": [
      "date_v"
     ],
     "language": "python",
     "metadata": {},
     "outputs": [
      {
       "metadata": {},
       "output_type": "pyout",
       "prompt_number": 208,
       "text": [
        "[datetime.datetime(2016, 4, 10, 0, 0),\n",
        " datetime.datetime(2016, 4, 9, 0, 0),\n",
        " datetime.datetime(2016, 4, 8, 0, 0),\n",
        " datetime.datetime(2016, 4, 7, 0, 0),\n",
        " datetime.datetime(2016, 4, 6, 0, 0),\n",
        " datetime.datetime(2016, 4, 5, 0, 0),\n",
        " datetime.datetime(2016, 4, 4, 0, 0),\n",
        " datetime.datetime(2016, 4, 3, 0, 0),\n",
        " datetime.datetime(2016, 4, 2, 0, 0),\n",
        " datetime.datetime(2016, 4, 1, 0, 0),\n",
        " datetime.datetime(2016, 3, 31, 0, 0),\n",
        " datetime.datetime(2016, 3, 30, 0, 0),\n",
        " datetime.datetime(2016, 3, 29, 0, 0),\n",
        " datetime.datetime(2016, 3, 28, 0, 0),\n",
        " datetime.datetime(2016, 3, 27, 0, 0),\n",
        " datetime.datetime(2016, 3, 26, 0, 0),\n",
        " datetime.datetime(2016, 3, 25, 0, 0),\n",
        " datetime.datetime(2016, 3, 24, 0, 0),\n",
        " datetime.datetime(2016, 3, 23, 0, 0),\n",
        " datetime.datetime(2016, 3, 22, 0, 0),\n",
        " datetime.datetime(2016, 3, 21, 0, 0),\n",
        " datetime.datetime(2016, 3, 20, 0, 0),\n",
        " datetime.datetime(2016, 3, 19, 0, 0),\n",
        " datetime.datetime(2016, 3, 18, 0, 0),\n",
        " datetime.datetime(2016, 3, 17, 0, 0),\n",
        " datetime.datetime(2016, 3, 16, 0, 0)]"
       ]
      }
     ],
     "prompt_number": 208
    },
    {
     "cell_type": "code",
     "collapsed": false,
     "input": [],
     "language": "python",
     "metadata": {},
     "outputs": [
      {
       "output_type": "stream",
       "stream": "stdout",
       "text": [
        "(1,)\n"
       ]
      }
     ],
     "prompt_number": 94
    },
    {
     "cell_type": "code",
     "collapsed": false,
     "input": [
      "type( u'''e''' )"
     ],
     "language": "python",
     "metadata": {},
     "outputs": [
      {
       "metadata": {},
       "output_type": "pyout",
       "prompt_number": 258,
       "text": [
        "unicode"
       ]
      }
     ],
     "prompt_number": 258
    },
    {
     "cell_type": "code",
     "collapsed": false,
     "input": [
      "cursor.execute( u'''SELECT *\n",
      "                    FROM occurences\\\n",
      "                    WHERE ngram = 'Anne' \\\n",
      "                    LIMIT 30  ''' )\n",
      "\n",
      "i = 0\n",
      "for line in cursor.fetchall():\n",
      "    print( i, line )\n",
      "    i += 1"
     ],
     "language": "python",
     "metadata": {},
     "outputs": [],
     "prompt_number": 275
    },
    {
     "cell_type": "code",
     "collapsed": false,
     "input": [
      "cursor.execute( u'''SELECT title||' '||summary\\\n",
      "                    FROM posts\\\n",
      "                    WHERE title like '% adopt\u00e9 %' OR summary like '% adopt\u00e9 %' \\\n",
      "                    LIMIT 30  ''' )\n",
      "\n",
      "#                 CAST( COUNT(*) AS FLOAT)/CAST( cDay AS FLOAT) as freq\n",
      "for line in cursor.fetchall():\n",
      "    print( line )"
     ],
     "language": "python",
     "metadata": {},
     "outputs": [
      {
       "output_type": "stream",
       "stream": "stdout",
       "text": [
        "(u'Ile-de-France : Val\\xe9rie P\\xe9cresse fait adopter son premier budget Quarante et une heures de d\\xe9bats sur trois jours. Les \\xe9lus du conseil r\\xe9gional d\\u2019Ile-de-France ont adopt\\xe9 ce vendredi soir le premier budget de l\\u2019\\xe8re P\\xe9cresse (LR) par 119 voix contre 86.\\nVoici les chiffres...',)\n",
        "(u'Pour une d\\xe9sescalade des tensions autour des supporters de football Le texte adopt\\xe9 par l\\u2019Assembl\\xe9e ouvre la voie \\xe0 une politique de gestion des supporters qui ne soit plus seulement s\\xe9curitaire mais qui combine r\\xe9pression et pr\\xe9vention. Au S\\xe9nat de l\\u2019assouplir, insistent trois sociologues',)\n",
        "(u\"Biodiversit\\xe9 : les d\\xe9put\\xe9s votent l'interdiction des n\\xe9onicotino\\xefdes Au terme d'un d\\xe9bat intense, un amendement en ce sens a \\xe9t\\xe9 adopt\\xe9 de justesse, sans d\\xe9rogation, mais avec une entr\\xe9e en vigueur repouss\\xe9e \\xe0 septembre 2018.\",)\n",
        "(u\"L'Argentine r\\xe8gle son conflit avec les fonds vautours Le Parlement a adopt\\xe9 une loi autorisant l'\\xc9tat \\xe0 solder avec des fonds sp\\xe9culatifs le contentieux sur la dette h\\xe9rit\\xe9e de la crise \\xe9conomique de 2001.\",)\n",
        "(u'L\\'Assembl\\xe9e a adopt\\xe9 le projet de loi sur la cr\\xe9ation et le patrimoine Le texte doit repasser au S\\xe9nat.\\xa0Pour son rapporteur Patrick Bloche (PS), il s\\'agit d\\'une \"grande loi culturelle\" \\xe0 venir, qui \"marquera le quinquennat\".',)\n",
        "(u'Le Parlement adopte la r\\xe9forme des parrainages et du temps de parole \\xc0 un an de la pr\\xe9sidentielle, les d\\xe9put\\xe9s ont adopt\\xe9 d\\xe9finitivement mardi une r\\xe9forme des r\\xe8gles de l\\'\\xe9lection supr\\xeame, principalement du syst\\xe8me des parrainages et du temps de parole des candidats, vivement contest\\xe9e par les \"petits partis\".\\xa0Cette proposition de loi \"organique\" (d\\xe9di\\xe9e \\xe0 l\\'organisation des pouvoirs publics) a \\xe9t\\xe9 vot\\xe9e par 299 d\\xe9put\\xe9s, soit plus que la majorit\\xe9 requise de 287 voix. Si 266 d\\xe9put\\xe9s PS ont vot\\xe9 pour, elle n\\'a pu \\xeatre adopt\\xe9e que gr\\xe2ce \\xe0 l\\'appui de 22 d\\xe9put\\xe9s LR, alors que leur groupe avait appel\\xe9 \\xe0 l\\'abstention. L\\'UDI, les radicaux de gauche, le Front de gauche et la majorit\\xe9 des \\xe9cologistes ont vot\\xe9 contre ce texte qu\\'ils ont d\\xe9nonc\\xe9 comme une \"tentative de verrouillage\" des grands partis.  Les critiques se focalisent principalement sur la substitution du \"principe d\\'\\xe9quit\\xe9\" \\xe0 l\\'actuelle \"r\\xe8gle d\\'\\xe9galit\\xe9\" des temps de parole des candidats pendant la p\\xe9riode dite \"interm\\xe9diaire\" (trois semaines en 2012), allant de la publication de la liste des candidats au d\\xe9marrage de la campagne officielle. Les deux semaines avant le premier tour, l\\'\\xe9galit\\xe9 continuerait \\xe0 s\\'appliquer.\\xa0L\\'auteur du texte, devenu depuis ministre de la Justice, Jean-Jacques Urvoas, avait expliqu\\xe9 que le nombre important de candidats rendait difficile l\\'application d\\'une stricte \\xe9galit\\xe9 et dissuadait certaines cha\\xeenes d\\'organiser des d\\xe9bats.  Il reviendrait au CSA de veiller \\xe0 ce \"traitement \\xe9quitable\" tenant compte notamment de la \"repr\\xe9sentativit\\xe9\" de chaque candidat (par les sondages et r\\xe9sultats aux pr\\xe9c\\xe9dentes \\xe9lections) et de sa \"contribution \\xe0 l\\'animation du d\\xe9bat \\xe9lectoral\".  Autre critique des \"petits\" candidats, comme Nicolas Dupont-Aignan, la r\\xe9forme du syst\\xe8me des parrainages dont chaque candidat a besoin pour se pr\\xe9senter.\\xa0Le texte pr\\xe9voit que, dans un souci de transparence, la liste int\\xe9grale des \\xe9lus ayant parrain\\xe9 un candidat soit publi\\xe9e (au lieu d\\'un extrait de 500 noms tir\\xe9s au sort). Et les parrainages seront rendus publics deux fois par semaine par le Conseil constitutionnel pour \\xe9viter tout faux suspense des candidats sur leur qu\\xeate des 500 signatures. Les \\xe9lus devront d\\xe9sormais transmettre leur parrainage au Conseil Constitutionnel, alors qu\\'auparavant ils pouvaient le remettre au candidat.\\xa0Pour \\xe9viter les divulgations des estimations de r\\xe9sultats avant l\\'heure, les d\\xe9put\\xe9s ont repouss\\xe9 la fermeture des bureaux de vote de 18 \\xe0 19 heures, avec une possibilit\\xe9 comme aujourd\\'hui jusque 20 heures pour les villes le souhaitant.   LIRE AUSSI: \\xbb\\xa0La r\\xe9forme de l\\'\\xe9lection pr\\xe9sidentielle f\\xe2che les petits partis\\n      \\n',)\n",
        "(u\"Abeilles : l'Assembl\\xe9e vote l'interdiction des insecticides n\\xe9onicotino\\xefdes Dans le cadre de la deuxi\\xe8me lecture \\xe0 l'Assembl\\xe9e de la loi biodiversit\\xe9, les d\\xe9put\\xe9s ont adopt\\xe9 un amendement pr\\xe9voyant l'interdiction de ces pesticides, accus\\xe9s de menacer la survie des abeilles. Mais son application est repouss\\xe9e au 1er septembre 2018.\\n      \\n\",)\n",
        "(u\"Pr\\xe9sidentielle\\xa0: les r\\xe8gles vont changer L'Assembl\\xe9e a adopt\\xe9 les principes applicables d\\xe8s 2017 concernant notamment parrainages et temps de parole.\\n      \\n\",)\n",
        "(u'Dix ans de Twitter : cinq tweets qui ont marqu\\xe9 la vie politique LE SCAN POLITIQUE - En dix ans, les hommes et femmes politiques ont adopt\\xe9 Twitter, pour le meilleur comme pour le pire.\\n      \\n',)\n",
        "(u\"Punir la consultation des sites jihadistes, quatre\\xa0ans d'obsession de la droite D\\xe9fendu sans succ\\xe8s par les d\\xe9put\\xe9s LR, un amendement au projet de loi antiterroriste visant \\xe0 cr\\xe9er un d\\xe9lit de \\xabconsultation habituelle\\xbb des sites d'apologie du terrorisme a \\xe9t\\xe9 adopt\\xe9 au S\\xe9nat. Un d\\xe9bat r\\xe9current depuis l'affaire Merah.\",)\n",
        "(u\"A l'Assembl\\xe9e, la loi cr\\xe9ation en \\xe9quilibre L'Assembl\\xe9e nationale a adopt\\xe9 en deuxi\\xe8me lecture mercredi le projet de loi sur la cr\\xe9ation et le patrimoine. Ce texte touche un peu ou beaucoup \\xe0 tous les secteurs de la culture.\",)\n",
        "(u\"Cinq campagnes marquantes contre le racisme dans le monde L'Assembl\\xe9e nationale a adopt\\xe9 en deuxi\\xe8me lecture mercredi le projet de loi sur la cr\\xe9ation et le patrimoine. Ce texte touche un peu ou beaucoup \\xe0 tous les secteurs de la culture.\",)\n",
        "(u'Antiterrorisme : le S\\xe9nat approuve massivement le projet de r\\xe9forme p\\xe9nale Le S\\xe9nat a adopt\\xe9 mardi, \\xe0 une \\xe9crasante majorit\\xe9 de 299 voix contre 29, le projet de r\\xe9forme p\\xe9nale post-attentats, pr\\xe9vu pour prendre le relais de l\\u2019\\xe9tat d\\u2019urgence.',)\n",
        "(u'Les d\\xe9put\\xe9s votent une interdiction des pesticides tueurs d\\u2019abeilles Apr\\xe8s un d\\xe9bat intense, l\\u2019Assembl\\xe9e nationale a adopt\\xe9 le bannissement, sans d\\xe9rogation, des insecticides n\\xe9onicotino\\xefdes \\xe0 partir du 1er septembre 2018.',)\n",
        "(u'Le Conseil de s\\xe9curit\\xe9 vote l\\u2019envoi d\\u2019une police de l\\u2019ONU au Burundi Une r\\xe9solution en ce sens, pr\\xe9par\\xe9e par la France, a \\xe9t\\xe9 adopt\\xe9e \\xe0 l\\u2019unanimit\\xe9 vendredi. Le texte adopt\\xe9 ne pr\\xe9cise pas l\\u2019ampleur de la force envisag\\xe9e.',)\n",
        "(u'Projet de r\\xe9vision constitutionnelle\\xa0: le S\\xe9nat adopte sa version r\\xe9\\xe9crite La chambre haute, o\\xf9 la droite est majoritaire, a adopt\\xe9 mardi le projet de r\\xe9vision constitutionnelle. Le S\\xe9nat a r\\xe9\\xe9crit l\\u2019article\\xa02 sur la d\\xe9ch\\xe9ance de nationalit\\xe9, qui ne pourra aboutir faute d\\u2019accord entre les deux chambres.',)\n",
        "(u'Prostitution\\xa0: le Parlement adopte d\\xe9finitivement la p\\xe9nalisation des clients Le texte adopt\\xe9 sanctionne les clients des personnes prostitu\\xe9es d\\u2019une amende de 1\\xa0500\\xa0euros et supprime le d\\xe9lit de racolage.',)\n",
        "(u'Trait\\xe9 transatlantique\\xa0: le Cese pr\\xf4ne plus de transparence Le Cese, dans un avis adopt\\xe9 mardi, fixe les lignes rouges du TTIP.',)\n",
        "(u\"Ile-de-France\\xa0: P\\xe9cresse limite le financement des logements tr\\xe8s sociaux Logement : La r\\xe9gion Ile-de-France, pr\\xe9sid\\xe9e par Val\\xe9rie P\\xe9cresse (Les R\\xe9publicains), a adopt\\xe9 jeudi la suppression du financement de logements \\xab\\xa0tr\\xe8s sociaux\\xa0\\xbb dans les communes qui en ont d\\xe9j\\xe0 beaucoup, une mesure contre laquelle a vot\\xe9 la gauche. Sur 1.300 communes franciliennes, 90 d'entre...\",)\n",
        "(u\"TERRORISME\\xa0 : LE PROJET DE R\\xe9FORME P\\xe9NALE largement approuv\\xe9 par le S\\xe9nat Le S\\xe9nat a adopt\\xe9 mardi, \\xe0 une \\xe9crasante majorit\\xe9 de 299\\xa0voix contre 29, le projet de r\\xe9forme p\\xe9nale postattentats, pr\\xe9vu pour prendre le relais de l'\\xe9tat d'urgence, apr\\xe8s l'avoir renforc\\xe9. Seuls les communistes et les \\xe9cologistes ont vot\\xe9 contre ce texte. A pr\\xe9sent, une commission mixte paritaire...\",)\n",
        "(u\"Le succ\\xe8s in\\xe9dit d'un \\xe9lu n\\xe9onazi su\\xe9dois Un conseil municipal a adopt\\xe9 une motion d\\xe9pos\\xe9e par un militant national-socialiste.\",)\n",
        "(u\"Vers une r\\xe9forme de\\xa0la\\xa0gouvernance du foot pro Le conseil d'administration de la Ligue a adopt\\xe9 un projet de r\\xe9forme de\\xa0son pilotage. La Ligue 1 se\\xa0voit\\xa0reconna\\xeetre un\\xa0r\\xf4le moteur.\",)\n",
        "(u'Le gouvernement fait la distinction entre fibre et c\\xe2ble Un arr\\xeat\\xe9 a \\xe9t\\xe9 adopt\\xe9 pour mieux encadrer la communication des op\\xe9rateurs sur la fibre. Premier vis\\xe9, SFR pourrait \\xeatre contraint de modifier ses publicit\\xe9s.',)\n",
        "(u\"Le go\\xfbt amer de la \\xab\\xa0taxe Nutella\\xa0\\xbb Les d\\xe9put\\xe9s fran\\xe7ais ont adopt\\xe9 une taxe additionnelle sur l'huile de palme, qui fait d\\xe9bat.\",)\n",
        "(u\"PRESIDENTIELLE\\xa0 : LA REFORME DU TEMPS DE PAROLE ADOPTEE A un an de l'\\xe9lection pr\\xe9sidentielle, les d\\xe9put\\xe9s ont adopt\\xe9 d\\xe9finitivement mardi une r\\xe9forme des r\\xe8gles r\\xe9gissant ce scrutin, principalement du syst\\xe8me des parrainages et du temps de parole des candidats, vivement contest\\xe9e par les \\xab\\xa0petits partis\\xa0\\xbb (\\xab\\xa0Les Echos\\xa0\\xbb de mardi). Cette proposition de...\",)\n",
        "(u\"Le Cambodge vote une loi controvers\\xe9e sur les syndicats Social : Le Cambodge a adopt\\xe9 lundi un projet de loi controvers\\xe9 r\\xe9glementant les syndicats, d\\xe9nonc\\xe9 par ces derniers comme une \\xab\\xa0restrictions des droits\\xa0\\xbb, les employeurs pouvant d\\xe9sormais demander notamment la dissolution d'une organisation syndicale. Le gouvernement du Premier ministre Hun Sen,...\",)\n"
       ]
      }
     ],
     "prompt_number": 261
    },
    {
     "cell_type": "code",
     "collapsed": false,
     "input": [
      "cursor.execute( '''SELECT title||' '||summary\\\n",
      "                    FROM posts\\\n",
      "                    LIMIT 30  ''' )\n",
      "\n",
      "#                 CAST( COUNT(*) AS FLOAT)/CAST( cDay AS FLOAT) as freq\n",
      "alltext = ' '.join( [x[0] for x in cursor.fetchall()] )"
     ],
     "language": "python",
     "metadata": {},
     "outputs": [],
     "prompt_number": 52
    },
    {
     "cell_type": "code",
     "collapsed": false,
     "input": [
      "alltext.count( 'barge' )"
     ],
     "language": "python",
     "metadata": {},
     "outputs": [
      {
       "metadata": {},
       "output_type": "pyout",
       "prompt_number": 54,
       "text": [
        "2"
       ]
      }
     ],
     "prompt_number": 54
    },
    {
     "cell_type": "code",
     "collapsed": false,
     "input": [
      "cursor.execute( '''SELECT  rowid, date, ngram, score\n",
      "                    FROM stats\n",
      "                    WHERE score > 1 and date=?\n",
      "                    ORDER BY score DESC\n",
      "                    LIMIT 30   ''', ('2016-03-24', ) )\n",
      "\n",
      "for line in cursor.fetchall():\n",
      "    print line"
     ],
     "language": "python",
     "metadata": {},
     "outputs": [
      {
       "output_type": "stream",
       "stream": "stdout",
       "text": [
        "(5269, u'2016-03-24', u'Kamel Daoud', 24.0)\n",
        "(5347, u'2016-03-24', u'actuel', 24.0)\n",
        "(5403, u'2016-03-24', u'barre', 24.0)\n",
        "(5915, u'2016-03-24', u'r\\xe9ussi', 24.0)\n",
        "(5951, u'2016-03-24', u'subi', 24.0)\n",
        "(5955, u'2016-03-24', u'syndicat', 24.0)\n",
        "(5971, u'2016-03-24', u'tir\\xe9', 24.0)\n",
        "(5304, u'2016-03-24', u'Radovan Karadzic', 19.354026180087267)\n",
        "(5796, u'2016-03-24', u'personnellement pardon aux victimes', 18.45036721156124)\n",
        "(5270, u'2016-03-24', u'Karadzic', 16.379628415985653)\n",
        "(5686, u'2016-03-24', u'licenciement', 15.567674586033117)\n",
        "(5321, u'2016-03-24', u'S\\xe9ries Mania', 15.3973558575101)\n",
        "(5997, u'2016-03-24', u'vache folle', 14.622497998398718)\n",
        "(5666, u'2016-03-24', u'juges', 14.5391760904685)\n",
        "(5571, u'2016-03-24', u'familles', 12.689829411188466)\n",
        "(5213, u'2016-03-24', u'Ardennes', 11.795396150680212)\n",
        "(5451, u'2016-03-24', u'classement', 11.388963660834456)\n",
        "(5357, u'2016-03-24', u'am\\xe9liorer', 11.199453551912567)\n",
        "(5996, u'2016-03-24', u'utilisation', 10.854657687991022)\n",
        "(5197, u'2016-03-24', u'2000', 10.84727681078046)\n",
        "(5319, u'2016-03-24', u'Sylvie Leclerc', 10.772436022066474)\n",
        "(5952, u'2016-03-24', u'suppl\\xe9mentaires', 10.760416598003815)\n",
        "(5866, u'2016-03-24', u'quarante', 10.741762824449808)\n",
        "(5200, u'2016-03-24', u'2014', 10.675199089874857)\n",
        "(5401, u'2016-03-24', u'bancaire', 10.675199089874857)\n",
        "(5475, u'2016-03-24', u'contexte', 10.675199089874857)\n",
        "(5234, u'2016-03-24', u'Credit Suisse', 10.652421652421651)\n",
        "(5438, u'2016-03-24', u'charge', 10.652421652421651)\n",
        "(5643, u'2016-03-24', u'issue', 10.562320735335314)\n",
        "(5842, u'2016-03-24', u'probl\\xe8me', 10.553511102591997)\n"
       ]
      }
     ],
     "prompt_number": 242
    },
    {
     "cell_type": "code",
     "collapsed": false,
     "input": [],
     "language": "python",
     "metadata": {},
     "outputs": []
    }
   ],
   "metadata": {}
  }
 ]
}