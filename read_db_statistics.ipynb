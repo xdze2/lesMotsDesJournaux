{
 "metadata": {
  "name": "",
  "signature": "sha256:fadb2fe93565238ef8247d08ef86290577dff240771dc248c9aa3f614ac454e3"
 },
 "nbformat": 3,
 "nbformat_minor": 0,
 "worksheets": [
  {
   "cells": [
    {
     "cell_type": "code",
     "collapsed": false,
     "input": [
      "import pandas as pd\n",
      "from datetime import datetime\n",
      "\n",
      "from matplotlib import pyplot as plt\n",
      "%matplotlib inline  "
     ],
     "language": "python",
     "metadata": {},
     "outputs": [],
     "prompt_number": 211
    },
    {
     "cell_type": "code",
     "collapsed": false,
     "input": [
      "# coding: utf-8\n",
      "import sqlite3\n",
      "import re\n",
      "\n",
      "#\u00a0load DB and create table\n",
      "database_filename = './data/data_lmdjx.db'\n",
      "\n",
      "database_connection = sqlite3.connect(database_filename)\n",
      "cursor = database_connection.cursor()"
     ],
     "language": "python",
     "metadata": {},
     "outputs": [],
     "prompt_number": 212
    },
    {
     "cell_type": "code",
     "collapsed": false,
     "input": [
      "def getDate( day ):\n",
      "    date = datetime.strptime(day, '%Y-%m-%d')\n",
      "    return date"
     ],
     "language": "python",
     "metadata": {},
     "outputs": [],
     "prompt_number": 213
    },
    {
     "cell_type": "code",
     "collapsed": false,
     "input": [
      "# Listes des jours:\n",
      "cursor.execute( '''SELECT  date, COUNT(*) as c\\\n",
      "                    FROM occurences\\\n",
      "                    GROUP BY date\\\n",
      "                    ORDER BY date ''' )\n",
      "\n",
      "dates_v = []\n",
      "nMots_v = []\n",
      "\n",
      "for line in cursor.fetchall():\n",
      "    dates_v.append( getDate( line[0] ) )\n",
      "    nMots_v.append( line[1] )\n",
      "    \n",
      "nMots_serie = pd.Series( nMots_v, index=dates_v )\n",
      "\n",
      "# -- Config. start date:\n",
      "start_date  = getDate(u'2016-03-01')\n",
      "end_date = datetime.now()\n",
      "\n",
      "# Plot\n",
      "nMots_serie.plot(figsize=(12, 4) )\n",
      "plt.xlim(xmin=start_date)\n",
      "plt.show()"
     ],
     "language": "python",
     "metadata": {},
     "outputs": [
      {
       "metadata": {},
       "output_type": "display_data",
       "png": "[encoded data removed]",
       "text": [
        "<matplotlib.figure.Figure at 0x7f0bc8c84350>"
       ]
      }
     ],
     "prompt_number": 214
    },
    {
     "cell_type": "code",
     "collapsed": false,
     "input": [
      "from datetime import datetime\n",
      "\n",
      "# Calcul le nombre de jours total:\n",
      "\n",
      "cursor.execute( ''' SELECT MIN(date) FROM stats ''')\n",
      "first_date_txt = cursor.fetchone()[0]\n",
      "first_date = datetime.strptime(first_date_txt, '%Y-%m-%d' )\n",
      "\n",
      "cursor.execute( ''' SELECT MAX(date) FROM stats ''')\n",
      "last_date_txt = cursor.fetchone()[0]\n",
      "last_date = datetime.strptime(last_date_txt, '%Y-%m-%d' )\n",
      "\n",
      "print( first_date, last_date )\n",
      "\n",
      "delta = last_date - first_date\n",
      "nbr_jours = delta.days\n",
      "\n",
      "print( nbr_jours )\n",
      "\n",
      "time_range = pd.date_range(start=first_date, end=last_date,  freq='D')\n",
      "print len( time_range )"
     ],
     "language": "python",
     "metadata": {},
     "outputs": [
      {
       "output_type": "stream",
       "stream": "stdout",
       "text": [
        "(datetime.datetime(2016, 3, 16, 0, 0), datetime.datetime(2016, 4, 10, 0, 0))\n",
        "25\n",
        "26\n"
       ]
      }
     ],
     "prompt_number": 215
    },
    {
     "cell_type": "code",
     "collapsed": false,
     "input": [
      "time_range[-1]"
     ],
     "language": "python",
     "metadata": {},
     "outputs": [
      {
       "metadata": {},
       "output_type": "pyout",
       "prompt_number": 216,
       "text": [
        "Timestamp('2016-04-10 00:00:00', offset='D')"
       ]
      }
     ],
     "prompt_number": 216
    },
    {
     "cell_type": "code",
     "collapsed": false,
     "input": [
      "# listes des source:\n",
      "cursor.execute( '''SELECT  source, COUNT(*) as c\\\n",
      "                    FROM occurences\\\n",
      "                    GROUP BY source\\\n",
      "                    ORDER BY -c ''' )\n",
      "\n",
      "#                 CAST( COUNT(*) AS FLOAT)/CAST( cDay AS FLOAT) as freq\n",
      "for line in cursor.fetchall():\n",
      "    print(line)"
     ],
     "language": "python",
     "metadata": {},
     "outputs": [
      {
       "output_type": "stream",
       "stream": "stdout",
       "text": [
        "(u'lePoint_24hinfo', 15991)\n",
        "(u'lesEchos_journaldujour', 5597)\n",
        "(u'leMonde_laUne', 5097)\n",
        "(u'leFigaro_laUne', 3723)\n",
        "(u'Liberation_laUne', 3031)\n",
        "(u'leParisien', 864)\n",
        "(u'courrierinternational', 451)\n",
        "(u'FranceSoir', 295)\n",
        "(u'humanite', 80)\n",
        "(u'leMonde_Idees', 66)\n",
        "(u'mediapart', 52)\n",
        "(u'rue89', 42)\n",
        "(u'leMonde_Actu', 40)\n",
        "(u'Liberation_chroniques', 32)\n",
        "(u'lePoint_chroniques', 22)\n"
       ]
      }
     ],
     "prompt_number": 217
    },
    {
     "cell_type": "code",
     "collapsed": false,
     "input": [
      "#\u00a0TOP 10 mots:\n",
      "cursor.execute( '''SELECT  ngram, COUNT(*) as c\\\n",
      "                    FROM occurences\\\n",
      "                    GROUP BY ngram\n",
      "                    ORDER BY -c\\\n",
      "                    LIMIT 20   ''' )\n",
      "\n",
      "for line in cursor.fetchall():\n",
      "    print line[0]+'(%i)'%line[1], \n",
      "    \n",
      "print( '\\n' )\n",
      "# TOP 10 mots:\n",
      "cursor.execute( '''SELECT  ngram, max(score) as c\\\n",
      "                    FROM stats\n",
      "                    GROUP BY ngram\n",
      "                    ORDER BY -c\\\n",
      "                    LIMIT 40   ''' )\n",
      "\n",
      "for line in cursor.fetchall():\n",
      "    print line[0]+'(%i)'%line[1], "
     ],
     "language": "python",
     "metadata": {},
     "outputs": [
      {
       "output_type": "stream",
       "stream": "stdout",
       "text": [
        "les(517) France(460) attentats(391) Bruxelles(383) Paris(338) loi(334) travail(309) fran\u00e7ais(242) hollande(207) veut(200) Panama Papers(191) ans(164) nouveau(160) deux(146) face(129) gouvernement(125) migrants(120) nouvelle(120) monde(118) Europe(114) \n",
        "\n",
        "2013(24) Christian Eckert(24) Ibrahim El Bakraoui(24) Mar\u00e9chal-Le Pen(24) aujourd\u2019hui(24) commun(24) saoudite(24) sp\u00e9cialiste(24) tant(24) vigueur(24) voici(24) \u00e9galement(24) 150(24) 2007(24) 32e journ\u00e9e(24) 33e journ\u00e9e(24) Affaires \u00e9trang\u00e8res(24) Amnesty International(24) Anne(24) Atletico Madrid(24) Aur\u00e9lie Ch\u00e2telain(24) Bakraoui(24) Bernard Squarcini(24) Bertrand(24) Bertrand Badie(24) Charlie(24) Coffe(24) Daan Myngheer(24) Denis(24) Dominique Strauss-Kahn(24) Echos(24) Edouard Louis(24) Elon Musk(24) FC Barcelone(24) Fonseca(24) Fr\u00e9d\u00e9ric Chatillon(24) Galeries Lafayette(24) Guingamp(24) Honda N.5(24) Imre Kert\u00e9sz(24)\n"
       ]
      }
     ],
     "prompt_number": 218
    },
    {
     "cell_type": "code",
     "collapsed": false,
     "input": [
      "len( time_range )\n"
     ],
     "language": "python",
     "metadata": {},
     "outputs": [
      {
       "metadata": {},
       "output_type": "pyout",
       "prompt_number": 219,
       "text": [
        "26"
       ]
      }
     ],
     "prompt_number": 219
    },
    {
     "cell_type": "code",
     "collapsed": false,
     "input": [
      "#\u00a0freq. Timeline\n",
      "ngram = 'Elon Musk'\n",
      "\n",
      "cursor.execute( ''' SELECT date, freq\n",
      "                    FROM stats\n",
      "                    WHERE ngram=? ORDER BY date(date) DESC''' , (ngram, ) )\n",
      "\n",
      "print('Data for ngram=%s :'%ngram)\n",
      "\n",
      "\n",
      "nMots_v = []\n",
      "date_v = []\n",
      "\n",
      "for line in cursor.fetchall():\n",
      "    #print( line )\n",
      "    date_v.append(  getDate( line[0] )  )\n",
      "    nMots_v.append( line[1] )\n",
      "    \n",
      "mySerie = pd.Series( nMots_v, index=date_v )\n",
      "mySerie.reindex( time_range, fill_value=10 )\n",
      "\n",
      "# Plot\n",
      "mySerie.plot(figsize=(12, 4),  style='o-')\n",
      "plt.show()\n"
     ],
     "language": "python",
     "metadata": {},
     "outputs": [
      {
       "output_type": "stream",
       "stream": "stdout",
       "text": [
        "Data for ngram=Elon Musk :\n"
       ]
      },
      {
       "metadata": {},
       "output_type": "display_data",
       "png": "[encoded data removed]",
       "text": [
        "<matplotlib.figure.Figure at 0x7f0bc8c62910>"
       ]
      }
     ],
     "prompt_number": 239
    },
    {
     "cell_type": "code",
     "collapsed": false,
     "input": [
      "date_v"
     ],
     "language": "python",
     "metadata": {},
     "outputs": [
      {
       "metadata": {},
       "output_type": "pyout",
       "prompt_number": 208,
       "text": [
        "[datetime.datetime(2016, 4, 10, 0, 0),\n",
        " datetime.datetime(2016, 4, 9, 0, 0),\n",
        " datetime.datetime(2016, 4, 8, 0, 0),\n",
        " datetime.datetime(2016, 4, 7, 0, 0),\n",
        " datetime.datetime(2016, 4, 6, 0, 0),\n",
        " datetime.datetime(2016, 4, 5, 0, 0),\n",
        " datetime.datetime(2016, 4, 4, 0, 0),\n",
        " datetime.datetime(2016, 4, 3, 0, 0),\n",
        " datetime.datetime(2016, 4, 2, 0, 0),\n",
        " datetime.datetime(2016, 4, 1, 0, 0),\n",
        " datetime.datetime(2016, 3, 31, 0, 0),\n",
        " datetime.datetime(2016, 3, 30, 0, 0),\n",
        " datetime.datetime(2016, 3, 29, 0, 0),\n",
        " datetime.datetime(2016, 3, 28, 0, 0),\n",
        " datetime.datetime(2016, 3, 27, 0, 0),\n",
        " datetime.datetime(2016, 3, 26, 0, 0),\n",
        " datetime.datetime(2016, 3, 25, 0, 0),\n",
        " datetime.datetime(2016, 3, 24, 0, 0),\n",
        " datetime.datetime(2016, 3, 23, 0, 0),\n",
        " datetime.datetime(2016, 3, 22, 0, 0),\n",
        " datetime.datetime(2016, 3, 21, 0, 0),\n",
        " datetime.datetime(2016, 3, 20, 0, 0),\n",
        " datetime.datetime(2016, 3, 19, 0, 0),\n",
        " datetime.datetime(2016, 3, 18, 0, 0),\n",
        " datetime.datetime(2016, 3, 17, 0, 0),\n",
        " datetime.datetime(2016, 3, 16, 0, 0)]"
       ]
      }
     ],
     "prompt_number": 208
    },
    {
     "cell_type": "code",
     "collapsed": false,
     "input": [
      "#\u00a0count mot\n",
      "ngram = '2013'\n",
      "cursor.execute( '''SELECT  COUNT(*) as c\\\n",
      "                    FROM occurences\\\n",
      "                    WHERE ngram=? ''' , (ngram, ) )\n",
      "\n",
      "for line in cursor.fetchall():\n",
      "    print line"
     ],
     "language": "python",
     "metadata": {},
     "outputs": [
      {
       "output_type": "stream",
       "stream": "stdout",
       "text": [
        "(1,)\n"
       ]
      }
     ],
     "prompt_number": 94
    },
    {
     "cell_type": "code",
     "collapsed": false,
     "input": [
      "cursor.execute( '''SELECT *\n",
      "                    FROM occurences\\\n",
      "                    WHERE ngram = 'vache folle' \\\n",
      "                    LIMIT 30  ''' )\n",
      "\n",
      "#                 CAST( COUNT(*) AS FLOAT)/CAST( cDay AS FLOAT) as freq\n",
      "i = 0\n",
      "for line in cursor.fetchall():\n",
      "    print( i, line )\n",
      "    i += 1"
     ],
     "language": "python",
     "metadata": {},
     "outputs": [
      {
       "output_type": "stream",
       "stream": "stdout",
       "text": [
        "(0, (u'2016-03-24', u'vache folle', u'lePoint_24hinfo'))\n",
        "(1, (u'2016-03-24', u'vache folle', u'lePoint_24hinfo'))\n",
        "(2, (u'2016-03-24', u'vache folle', u'lePoint_24hinfo'))\n",
        "(3, (u'2016-03-24', u'vache folle', u'leFigaro_laUne'))\n",
        "(4, (u'2016-03-24', u'vache folle', u'leFigaro_laUne'))\n",
        "(5, (u'2016-03-22', u'vache folle', u'leFigaro_laUne'))\n",
        "(6, (u'2016-03-22', u'vache folle', u'Liberation_laUne'))\n",
        "(7, (u'2016-03-24', u'vache folle', u'Liberation_laUne'))\n",
        "(8, (u'2016-03-24', u'vache folle', u'Liberation_laUne'))\n",
        "(9, (u'2016-03-22', u'vache folle', u'leMonde_laUne'))\n",
        "(10, (u'2016-03-22', u'vache folle', u'leMonde_laUne'))\n",
        "(11, (u'2016-03-24', u'vache folle', u'leMonde_laUne'))\n"
       ]
      }
     ],
     "prompt_number": 59
    },
    {
     "cell_type": "code",
     "collapsed": false,
     "input": [
      "cursor.execute( '''SELECT title||' '||summary\\\n",
      "                    FROM posts\\\n",
      "                    WHERE title like '% barge %' OR summary like '% barge %' \\\n",
      "                    LIMIT 30  ''' )\n",
      "\n",
      "#                 CAST( COUNT(*) AS FLOAT)/CAST( cDay AS FLOAT) as freq\n",
      "for line in cursor.fetchall():\n",
      "    print( line )"
     ],
     "language": "python",
     "metadata": {},
     "outputs": [
      {
       "output_type": "stream",
       "stream": "stdout",
       "text": [
        "(u\"SpaceX r\\xe9ussit pour la premi\\xe8re fois \\xe0 poser le 1er \\xe9tage de sa fus\\xe9e sur une barge en mer La soci\\xe9t\\xe9 californienne SpaceX a r\\xe9ussi pour la premi\\xe8re fois vendredi \\xe0 faire poser en douceur le premier \\xe9tage de sa fus\\xe9e Falcon 9 sur une barge flottant dans l'oc\\xe9an Atlantique.L'atterrissage de l'engin...\",)\n",
        "(u\"SpaceX r\\xe9ussit pour la premi\\xe8re fois \\xe0 poser le 1er \\xe9tage de sa fus\\xe9e sur une barge en mer La soci\\xe9t\\xe9 californienne SpaceX a r\\xe9ussi pour la premi\\xe8re fois vendredi \\xe0 faire poser en douceur le premier \\xe9tage de sa fus\\xe9e Falcon 9 sur une barge flottant dans l'oc\\xe9an Atlantique.L'atterrissage de l'engin...\",)\n",
        "(u'SpaceX r\\xe9ussit \\xe0 poser le 1er \\xe9tage de sa fus\\xe9e sur une barge en mer Pour la premi\\xe8re fois, le\\xa0Falcon 9 est parvenu \\xe0 se poser sur la terre ferme en Floride apr\\xe8s un lancement, et ce d\\xe8s la premi\\xe8re tentative.',)\n",
        "(u'Le 1er \\xe9tage d\\u2019une fus\\xe9e de SpaceX se pose sur une barge en mer L\\u2019entreprise d\\xe9montre ainsi ses capacit\\xe9s \\xe0 r\\xe9cup\\xe9rer cette partie du lanceur, apr\\xe8s \\xeatre d\\xe9j\\xe0 parvenue en d\\xe9cembre \\xe0 faire poser un engin similaire sur la terre ferme.',)\n",
        "(u'Transport spatial. SpaceX pose son Falcon 9 sur une barge en pleine mer ',)\n"
       ]
      }
     ],
     "prompt_number": 48
    },
    {
     "cell_type": "code",
     "collapsed": false,
     "input": [
      "cursor.execute( '''SELECT title||' '||summary\\\n",
      "                    FROM posts\\\n",
      "                    LIMIT 30  ''' )\n",
      "\n",
      "#                 CAST( COUNT(*) AS FLOAT)/CAST( cDay AS FLOAT) as freq\n",
      "alltext = ' '.join( [x[0] for x in cursor.fetchall()] )"
     ],
     "language": "python",
     "metadata": {},
     "outputs": [],
     "prompt_number": 52
    },
    {
     "cell_type": "code",
     "collapsed": false,
     "input": [
      "alltext.count( 'barge' )"
     ],
     "language": "python",
     "metadata": {},
     "outputs": [
      {
       "metadata": {},
       "output_type": "pyout",
       "prompt_number": 54,
       "text": [
        "2"
       ]
      }
     ],
     "prompt_number": 54
    },
    {
     "cell_type": "code",
     "collapsed": false,
     "input": [
      "cursor.execute( '''SELECT  rowid, date, ngram, score\n",
      "                    FROM stats\n",
      "                    WHERE score > 1 and date=?\n",
      "                    ORDER BY score DESC\n",
      "                    LIMIT 30   ''', ('2016-03-24', ) )\n",
      "\n",
      "for line in cursor.fetchall():\n",
      "    print line"
     ],
     "language": "python",
     "metadata": {},
     "outputs": [
      {
       "output_type": "stream",
       "stream": "stdout",
       "text": [
        "(5269, u'2016-03-24', u'Kamel Daoud', 24.0)\n",
        "(5347, u'2016-03-24', u'actuel', 24.0)\n",
        "(5403, u'2016-03-24', u'barre', 24.0)\n",
        "(5915, u'2016-03-24', u'r\\xe9ussi', 24.0)\n",
        "(5951, u'2016-03-24', u'subi', 24.0)\n",
        "(5955, u'2016-03-24', u'syndicat', 24.0)\n",
        "(5971, u'2016-03-24', u'tir\\xe9', 24.0)\n",
        "(5304, u'2016-03-24', u'Radovan Karadzic', 19.354026180087267)\n",
        "(5796, u'2016-03-24', u'personnellement pardon aux victimes', 18.45036721156124)\n",
        "(5270, u'2016-03-24', u'Karadzic', 16.379628415985653)\n",
        "(5686, u'2016-03-24', u'licenciement', 15.567674586033117)\n",
        "(5321, u'2016-03-24', u'S\\xe9ries Mania', 15.3973558575101)\n",
        "(5997, u'2016-03-24', u'vache folle', 14.622497998398718)\n",
        "(5666, u'2016-03-24', u'juges', 14.5391760904685)\n",
        "(5571, u'2016-03-24', u'familles', 12.689829411188466)\n",
        "(5213, u'2016-03-24', u'Ardennes', 11.795396150680212)\n",
        "(5451, u'2016-03-24', u'classement', 11.388963660834456)\n",
        "(5357, u'2016-03-24', u'am\\xe9liorer', 11.199453551912567)\n",
        "(5996, u'2016-03-24', u'utilisation', 10.854657687991022)\n",
        "(5197, u'2016-03-24', u'2000', 10.84727681078046)\n",
        "(5319, u'2016-03-24', u'Sylvie Leclerc', 10.772436022066474)\n",
        "(5952, u'2016-03-24', u'suppl\\xe9mentaires', 10.760416598003815)\n",
        "(5866, u'2016-03-24', u'quarante', 10.741762824449808)\n",
        "(5200, u'2016-03-24', u'2014', 10.675199089874857)\n",
        "(5401, u'2016-03-24', u'bancaire', 10.675199089874857)\n",
        "(5475, u'2016-03-24', u'contexte', 10.675199089874857)\n",
        "(5234, u'2016-03-24', u'Credit Suisse', 10.652421652421651)\n",
        "(5438, u'2016-03-24', u'charge', 10.652421652421651)\n",
        "(5643, u'2016-03-24', u'issue', 10.562320735335314)\n",
        "(5842, u'2016-03-24', u'probl\\xe8me', 10.553511102591997)\n"
       ]
      }
     ],
     "prompt_number": 242
    },
    {
     "cell_type": "code",
     "collapsed": false,
     "input": [],
     "language": "python",
     "metadata": {},
     "outputs": []
    }
   ],
   "metadata": {}
  }
 ]
}